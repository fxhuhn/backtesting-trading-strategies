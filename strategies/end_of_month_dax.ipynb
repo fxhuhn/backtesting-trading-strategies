{
 "cells": [
  {
   "cell_type": "code",
   "execution_count": 1,
   "metadata": {},
   "outputs": [],
   "source": [
    "import numpy as np\n",
    "import pandas as pd\n",
    "import pandas_ta as ta\n",
    "import yfinance as yf\n",
    "from tiny_ta import atr, rsi, sma"
   ]
  },
  {
   "cell_type": "markdown",
   "metadata": {},
   "source": [
    "# End of the Month - Strategie im DAX"
   ]
  },
  {
   "cell_type": "markdown",
   "metadata": {},
   "source": [
    "Zunächst werden die Kursdaten für den DAX geladen und bereinigt"
   ]
  },
  {
   "cell_type": "code",
   "execution_count": 2,
   "metadata": {},
   "outputs": [
    {
     "name": "stderr",
     "output_type": "stream",
     "text": [
      "[*********************100%%**********************]  1 of 1 completed\n"
     ]
    }
   ],
   "source": [
    "SYMBOL = \"^GDAXI\"\n",
    "\n",
    "stock = yf.download(SYMBOL)\n",
    "\n",
    "stock = stock[~(stock.High == stock.Low) & ~(stock.Open == stock.Close)]\n",
    "stock = stock.dropna()"
   ]
  },
  {
   "cell_type": "markdown",
   "metadata": {},
   "source": [
    "Ein paar Indikatoren für spätere Auswertungen"
   ]
  },
  {
   "cell_type": "code",
   "execution_count": 3,
   "metadata": {},
   "outputs": [],
   "source": [
    "stock[\"rsi_3\"] = rsi(stock.Close, 3)\n",
    "stock[\"rsi_7\"] = rsi(stock.Close, 7)\n",
    "stock[\"rsi_10\"] = rsi(stock.Close, 10)\n",
    "\n",
    "stock[\"atr_10\"] = atr(stock, 10, smoothing=\"rma\") / stock.Close * 100\n",
    "\n",
    "adx_intervall = 21\n",
    "adx = ta.adx(stock.High, stock.Low, stock.Close, adx_intervall)\n",
    "stock[\"adx\"] = adx[f\"ADX_{adx_intervall}\"]\n",
    "stock[\"adx_direction\"] = np.where(\n",
    "    adx[f\"DMP_{adx_intervall}\"] > adx[f\"DMN_{adx_intervall}\"], 1, -1\n",
    ")\n",
    "\n",
    "stock[\"adx_10\"] = ta.adx(stock.High, stock.Low, stock.Close, 10, 10)[\"ADX_10\"]\n",
    "\n",
    "\n",
    "stock[\"sma\"] = sma(stock.Close, 20)\n",
    "stock[\"sma_20\"] = stock.Close / sma(stock.Close, 20)\n",
    "stock[\"sma_50\"] = stock.Close / sma(stock.Close, 50)\n",
    "stock[\"sma_100\"] = stock.Close / sma(stock.Close, 100)\n",
    "stock[\"sma_200\"] = stock.Close / sma(stock.Close, 200)\n",
    "\n",
    "stock[\"sma_pct\"] = (stock.Close / stock.sma).round(2)\n",
    "\n",
    "stock[\"month\"] = stock.index.month"
   ]
  },
  {
   "cell_type": "markdown",
   "metadata": {},
   "source": [
    "Markiere die letzten x Tage und ersten x Tage im Monat für die geplanten Trades. "
   ]
  },
  {
   "cell_type": "code",
   "execution_count": 4,
   "metadata": {},
   "outputs": [],
   "source": [
    "days = 5\n",
    "\n",
    "# Identify end of month\n",
    "end_of_month = stock.groupby([stock.index.year, stock.index.month]).tail(days)\n",
    "\n",
    "# Identify beginning of month\n",
    "beginning_of_month = stock.groupby([stock.index.year, stock.index.month]).head(days)\n",
    "\n",
    "# add countdown\n",
    "end_of_month[\"countdown\"] = -1\n",
    "end_of_month[\"days\"] = end_of_month[\"countdown\"].cumsum().add(1).mod(days)\n",
    "end_of_month.loc[end_of_month.days == 0, \"days\"] = days\n",
    "end_of_month[\"days\"] = end_of_month[\"days\"] * -1\n",
    "\n",
    "beginning_of_month[\"countdown\"] = 1\n",
    "beginning_of_month[\"days\"] = beginning_of_month[\"countdown\"].cumsum().mod(days)\n",
    "beginning_of_month.loc[beginning_of_month.days == 0, \"days\"] = days\n",
    "\n",
    "# Combine the results\n",
    "marked_days = pd.concat([end_of_month, beginning_of_month])\n",
    "marked_days[\"hold\"] = 1\n",
    "\n",
    "df = pd.merge(\n",
    "    left=stock,\n",
    "    right=marked_days[[\"hold\", \"days\"]],\n",
    "    left_index=True,\n",
    "    right_index=True,\n",
    "    how=\"left\",\n",
    ")\n",
    "\n",
    "df.hold = df.hold.fillna(0)\n",
    "\n",
    "df[\"buy\"] = np.where(\n",
    "    (df.hold.shift(1) == 0) & (df.hold == 1),\n",
    "    1,\n",
    "    np.where((df.hold == 1) & (df.hold.shift(-1) == 0), -1, np.nan),\n",
    ")\n",
    "\n",
    "df.hold = np.where(df.hold == 1, df.Low, np.nan)"
   ]
  },
  {
   "cell_type": "markdown",
   "metadata": {},
   "source": [
    "## Jetzt zur Strategie\n",
    "Es wird 5 Tage vor Monatsende gekauft und 5 Tage nach Monatsanfang gekauft"
   ]
  },
  {
   "cell_type": "code",
   "execution_count": 5,
   "metadata": {},
   "outputs": [],
   "source": [
    "from backtesting import Strategy\n",
    "\n",
    "\n",
    "class end_of_month(Strategy):\n",
    "    \"\"\"\n",
    "    strategy for trend_trading\n",
    "    \"\"\"\n",
    "\n",
    "    days_before = -5\n",
    "    days_after = 5\n",
    "\n",
    "    def ohlc(self, pos=-1) -> tuple:\n",
    "        \"\"\"\n",
    "        helper function for ohlc data\n",
    "        \"\"\"\n",
    "        return (\n",
    "            self.data.Open[pos],\n",
    "            self.data.High[pos],\n",
    "            self.data.Low[pos],\n",
    "            self.data.Close[pos],\n",
    "        )\n",
    "\n",
    "    def init(self):\n",
    "        super().init()\n",
    "\n",
    "        self.sma = self.I(lambda: self.data.sma, name=\"SMA\")\n",
    "\n",
    "        # self.rsi = self.I(lambda: self.data.rsi, name=\"RSI\", overlay=False)\n",
    "        self.atr_10 = self.I(lambda: self.data.atr_10, name=\"ATR\", overlay=False)\n",
    "\n",
    "    def next(self):\n",
    "        # super().next()\n",
    "\n",
    "        _open, _high, _low, _close = self.ohlc()\n",
    "\n",
    "        # trade management for an existing trade\n",
    "        for trade in self.trades:\n",
    "            if trade.is_long:\n",
    "                if self.data.days[-1] == self.days_after:\n",
    "                    trade.close()\n",
    "\n",
    "        if self.data.days[-1] == self.days_before:\n",
    "            self.buy()"
   ]
  },
  {
   "cell_type": "code",
   "execution_count": 6,
   "metadata": {},
   "outputs": [
    {
     "data": {
      "text/plain": [
       "Start                     2012-01-02 00:00:00\n",
       "End                       2024-04-17 00:00:00\n",
       "Duration                   4489 days 00:00:00\n",
       "Exposure Time [%]                   47.319422\n",
       "Equity Final [$]                111708.923732\n",
       "Equity Peak [$]                 116502.512254\n",
       "Return [%]                          11.708924\n",
       "Buy & Hold Return [%]              193.735337\n",
       "Return (Ann.) [%]                    0.899788\n",
       "Volatility (Ann.) [%]               11.445157\n",
       "Sharpe Ratio                         0.078617\n",
       "Sortino Ratio                        0.110913\n",
       "Calmar Ratio                         0.026935\n",
       "Max. Drawdown [%]                  -33.406234\n",
       "Avg. Drawdown [%]                   -5.246466\n",
       "Max. Drawdown Duration     2889 days 00:00:00\n",
       "Avg. Drawdown Duration      231 days 00:00:00\n",
       "# Trades                                  148\n",
       "Win Rate [%]                        56.756757\n",
       "Best Trade [%]                      12.313994\n",
       "Worst Trade [%]                    -12.822212\n",
       "Avg. Trade [%]                       0.070527\n",
       "Max. Trade Duration          20 days 00:00:00\n",
       "Avg. Trade Duration          14 days 00:00:00\n",
       "Profit Factor                        1.107227\n",
       "Expectancy [%]                       0.129481\n",
       "SQN                                  0.314171\n",
       "_strategy                        end_of_month\n",
       "_equity_curve                             ...\n",
       "_trades                        Size  Entry...\n",
       "dtype: object"
      ]
     },
     "execution_count": 6,
     "metadata": {},
     "output_type": "execute_result"
    }
   ],
   "source": [
    "from backtesting import Backtest\n",
    "\n",
    "bt = Backtest(\n",
    "    df[\"2012-01-01\":], end_of_month, cash=100_000, commission=0.002, trade_on_close=True\n",
    ")\n",
    "stats = bt.run()\n",
    "bt.plot(superimpose=False, open_browser=False)\n",
    "stats"
   ]
  },
  {
   "cell_type": "code",
   "execution_count": 7,
   "metadata": {},
   "outputs": [
    {
     "data": {
      "text/plain": [
       "<Axes: xlabel='EntryTime', ylabel='ReturnPct'>"
      ]
     },
     "execution_count": 7,
     "metadata": {},
     "output_type": "execute_result"
    },
    {
     "data": {
      "image/png": "[encoded data removed]",
      "text/plain": [
       "<Figure size 640x480 with 1 Axes>"
      ]
     },
     "metadata": {},
     "output_type": "display_data"
    }
   ],
   "source": [
    "trades = stats[\"_trades\"]\n",
    "trades.plot.scatter(y=\"ReturnPct\", x=\"EntryTime\")"
   ]
  },
  {
   "cell_type": "code",
   "execution_count": 8,
   "metadata": {},
   "outputs": [
    {
     "data": {
      "text/html": [
       "<div>\n",
       "<style scoped>\n",
       "    .dataframe tbody tr th:only-of-type {\n",
       "        vertical-align: middle;\n",
       "    }\n",
       "\n",
       "    .dataframe tbody tr th {\n",
       "        vertical-align: top;\n",
       "    }\n",
       "\n",
       "    .dataframe thead th {\n",
       "        text-align: right;\n",
       "    }\n",
       "</style>\n",
       "<table border=\"1\" class=\"dataframe\">\n",
       "  <thead>\n",
       "    <tr style=\"text-align: right;\">\n",
       "      <th></th>\n",
       "      <th>Size</th>\n",
       "      <th>EntryBar</th>\n",
       "      <th>ExitBar</th>\n",
       "      <th>EntryPrice</th>\n",
       "      <th>ExitPrice</th>\n",
       "      <th>PnL</th>\n",
       "      <th>ReturnPct</th>\n",
       "      <th>EntryTime</th>\n",
       "      <th>ExitTime</th>\n",
       "      <th>Duration</th>\n",
       "    </tr>\n",
       "  </thead>\n",
       "  <tbody>\n",
       "    <tr>\n",
       "      <th>2</th>\n",
       "      <td>14</td>\n",
       "      <td>60</td>\n",
       "      <td>69</td>\n",
       "      <td>7093.388440</td>\n",
       "      <td>6606.430176</td>\n",
       "      <td>-6817.415705</td>\n",
       "      <td>-0.068650</td>\n",
       "      <td>2012-03-26</td>\n",
       "      <td>2012-04-10</td>\n",
       "      <td>15 days</td>\n",
       "    </tr>\n",
       "    <tr>\n",
       "      <th>30</th>\n",
       "      <td>10</td>\n",
       "      <td>648</td>\n",
       "      <td>657</td>\n",
       "      <td>9663.297785</td>\n",
       "      <td>9038.969727</td>\n",
       "      <td>-6243.280586</td>\n",
       "      <td>-0.064608</td>\n",
       "      <td>2014-07-25</td>\n",
       "      <td>2014-08-07</td>\n",
       "      <td>13 days</td>\n",
       "    </tr>\n",
       "    <tr>\n",
       "      <th>32</th>\n",
       "      <td>10</td>\n",
       "      <td>691</td>\n",
       "      <td>700</td>\n",
       "      <td>9681.293666</td>\n",
       "      <td>8995.330078</td>\n",
       "      <td>-6859.635879</td>\n",
       "      <td>-0.070855</td>\n",
       "      <td>2014-09-24</td>\n",
       "      <td>2014-10-08</td>\n",
       "      <td>14 days</td>\n",
       "    </tr>\n",
       "    <tr>\n",
       "      <th>40</th>\n",
       "      <td>8</td>\n",
       "      <td>854</td>\n",
       "      <td>863</td>\n",
       "      <td>11838.639785</td>\n",
       "      <td>11197.150391</td>\n",
       "      <td>-5131.915156</td>\n",
       "      <td>-0.054186</td>\n",
       "      <td>2015-05-22</td>\n",
       "      <td>2015-06-05</td>\n",
       "      <td>14 days</td>\n",
       "    </tr>\n",
       "    <tr>\n",
       "      <th>41</th>\n",
       "      <td>8</td>\n",
       "      <td>876</td>\n",
       "      <td>885</td>\n",
       "      <td>11494.202285</td>\n",
       "      <td>10676.780273</td>\n",
       "      <td>-6539.376094</td>\n",
       "      <td>-0.071116</td>\n",
       "      <td>2015-06-24</td>\n",
       "      <td>2015-07-07</td>\n",
       "      <td>13 days</td>\n",
       "    </tr>\n",
       "    <tr>\n",
       "      <th>47</th>\n",
       "      <td>9</td>\n",
       "      <td>1005</td>\n",
       "      <td>1014</td>\n",
       "      <td>10509.727500</td>\n",
       "      <td>9849.339844</td>\n",
       "      <td>-5943.488906</td>\n",
       "      <td>-0.062836</td>\n",
       "      <td>2015-12-22</td>\n",
       "      <td>2016-01-08</td>\n",
       "      <td>17 days</td>\n",
       "    </tr>\n",
       "    <tr>\n",
       "      <th>50</th>\n",
       "      <td>9</td>\n",
       "      <td>1067</td>\n",
       "      <td>1076</td>\n",
       "      <td>10042.975547</td>\n",
       "      <td>9530.620117</td>\n",
       "      <td>-4611.198867</td>\n",
       "      <td>-0.051016</td>\n",
       "      <td>2016-03-23</td>\n",
       "      <td>2016-04-07</td>\n",
       "      <td>15 days</td>\n",
       "    </tr>\n",
       "    <tr>\n",
       "      <th>72</th>\n",
       "      <td>6</td>\n",
       "      <td>1534</td>\n",
       "      <td>1543</td>\n",
       "      <td>13324.957072</td>\n",
       "      <td>12590.429688</td>\n",
       "      <td>-4407.164309</td>\n",
       "      <td>-0.055124</td>\n",
       "      <td>2018-01-25</td>\n",
       "      <td>2018-02-07</td>\n",
       "      <td>13 days</td>\n",
       "    </tr>\n",
       "    <tr>\n",
       "      <th>82</th>\n",
       "      <td>7</td>\n",
       "      <td>1746</td>\n",
       "      <td>1755</td>\n",
       "      <td>11377.429166</td>\n",
       "      <td>10788.089844</td>\n",
       "      <td>-4125.375256</td>\n",
       "      <td>-0.051799</td>\n",
       "      <td>2018-11-26</td>\n",
       "      <td>2018-12-07</td>\n",
       "      <td>11 days</td>\n",
       "    </tr>\n",
       "    <tr>\n",
       "      <th>90</th>\n",
       "      <td>6</td>\n",
       "      <td>1910</td>\n",
       "      <td>1919</td>\n",
       "      <td>12386.823809</td>\n",
       "      <td>11650.150391</td>\n",
       "      <td>-4420.040508</td>\n",
       "      <td>-0.059472</td>\n",
       "      <td>2019-07-25</td>\n",
       "      <td>2019-08-07</td>\n",
       "      <td>13 days</td>\n",
       "    </tr>\n",
       "    <tr>\n",
       "      <th>97</th>\n",
       "      <td>6</td>\n",
       "      <td>2056</td>\n",
       "      <td>2065</td>\n",
       "      <td>13061.310715</td>\n",
       "      <td>11541.870117</td>\n",
       "      <td>-9116.643586</td>\n",
       "      <td>-0.116331</td>\n",
       "      <td>2020-02-24</td>\n",
       "      <td>2020-03-06</td>\n",
       "      <td>11 days</td>\n",
       "    </tr>\n",
       "    <tr>\n",
       "      <th>121</th>\n",
       "      <td>7</td>\n",
       "      <td>2564</td>\n",
       "      <td>2573</td>\n",
       "      <td>14722.386000</td>\n",
       "      <td>12834.650391</td>\n",
       "      <td>-13214.149266</td>\n",
       "      <td>-0.128222</td>\n",
       "      <td>2022-02-22</td>\n",
       "      <td>2022-03-07</td>\n",
       "      <td>13 days</td>\n",
       "    </tr>\n",
       "  </tbody>\n",
       "</table>\n",
       "</div>"
      ],
      "text/plain": [
       "     Size  EntryBar  ExitBar    EntryPrice     ExitPrice           PnL  \\\n",
       "2      14        60       69   7093.388440   6606.430176  -6817.415705   \n",
       "30     10       648      657   9663.297785   9038.969727  -6243.280586   \n",
       "32     10       691      700   9681.293666   8995.330078  -6859.635879   \n",
       "40      8       854      863  11838.639785  11197.150391  -5131.915156   \n",
       "41      8       876      885  11494.202285  10676.780273  -6539.376094   \n",
       "47      9      1005     1014  10509.727500   9849.339844  -5943.488906   \n",
       "50      9      1067     1076  10042.975547   9530.620117  -4611.198867   \n",
       "72      6      1534     1543  13324.957072  12590.429688  -4407.164309   \n",
       "82      7      1746     1755  11377.429166  10788.089844  -4125.375256   \n",
       "90      6      1910     1919  12386.823809  11650.150391  -4420.040508   \n",
       "97      6      2056     2065  13061.310715  11541.870117  -9116.643586   \n",
       "121     7      2564     2573  14722.386000  12834.650391 -13214.149266   \n",
       "\n",
       "     ReturnPct  EntryTime   ExitTime Duration  \n",
       "2    -0.068650 2012-03-26 2012-04-10  15 days  \n",
       "30   -0.064608 2014-07-25 2014-08-07  13 days  \n",
       "32   -0.070855 2014-09-24 2014-10-08  14 days  \n",
       "40   -0.054186 2015-05-22 2015-06-05  14 days  \n",
       "41   -0.071116 2015-06-24 2015-07-07  13 days  \n",
       "47   -0.062836 2015-12-22 2016-01-08  17 days  \n",
       "50   -0.051016 2016-03-23 2016-04-07  15 days  \n",
       "72   -0.055124 2018-01-25 2018-02-07  13 days  \n",
       "82   -0.051799 2018-11-26 2018-12-07  11 days  \n",
       "90   -0.059472 2019-07-25 2019-08-07  13 days  \n",
       "97   -0.116331 2020-02-24 2020-03-06  11 days  \n",
       "121  -0.128222 2022-02-22 2022-03-07  13 days  "
      ]
     },
     "execution_count": 8,
     "metadata": {},
     "output_type": "execute_result"
    }
   ],
   "source": [
    "trades[trades.ReturnPct < -0.05]"
   ]
  },
  {
   "cell_type": "markdown",
   "metadata": {},
   "source": [
    "Vielleicht wäre ein Stopp doch hilfreich"
   ]
  },
  {
   "cell_type": "code",
   "execution_count": 9,
   "metadata": {},
   "outputs": [],
   "source": [
    "class end_of_month_with_SL(end_of_month):\n",
    "    \"\"\"\n",
    "    strategy for trend_trading\n",
    "    \"\"\"\n",
    "\n",
    "    skip_month = []\n",
    "\n",
    "    def next(self):\n",
    "        _open, _high, _low, _close = self.ohlc()\n",
    "\n",
    "        # trade management for an existing trade\n",
    "        for trade in self.trades:\n",
    "            if trade.is_long:\n",
    "                if trade.pl_pct < -0.06:\n",
    "                    trade.close()\n",
    "\n",
    "                if self.data.days[-1] == self.days_after:\n",
    "                    trade.close()\n",
    "\n",
    "        if (\n",
    "            self.data.days[-1] == self.days_before\n",
    "            and self.data.month[-1] not in self.skip_month\n",
    "        ):\n",
    "            self.buy()"
   ]
  },
  {
   "cell_type": "code",
   "execution_count": 10,
   "metadata": {},
   "outputs": [
    {
     "data": {
      "text/plain": [
       "Start                     2012-01-02 00:00:00\n",
       "End                       2024-04-17 00:00:00\n",
       "Duration                   4489 days 00:00:00\n",
       "Exposure Time [%]                   46.934189\n",
       "Equity Final [$]                 116554.24023\n",
       "Equity Peak [$]                 118940.311184\n",
       "Return [%]                           16.55424\n",
       "Buy & Hold Return [%]              193.735337\n",
       "Return (Ann.) [%]                    1.246973\n",
       "Volatility (Ann.) [%]                11.35941\n",
       "Sharpe Ratio                         0.109774\n",
       "Sortino Ratio                        0.156574\n",
       "Calmar Ratio                         0.037918\n",
       "Max. Drawdown [%]                  -32.886439\n",
       "Avg. Drawdown [%]                   -3.803056\n",
       "Max. Drawdown Duration     2833 days 00:00:00\n",
       "Avg. Drawdown Duration      175 days 00:00:00\n",
       "# Trades                                  148\n",
       "Win Rate [%]                        56.756757\n",
       "Best Trade [%]                      12.313994\n",
       "Worst Trade [%]                     -8.965112\n",
       "Avg. Trade [%]                       0.106471\n",
       "Max. Trade Duration          20 days 00:00:00\n",
       "Avg. Trade Duration          13 days 00:00:00\n",
       "Profit Factor                         1.13631\n",
       "Expectancy [%]                       0.160386\n",
       "SQN                                  0.472556\n",
       "_strategy                 end_of_month_wit...\n",
       "_equity_curve                             ...\n",
       "_trades                        Size  Entry...\n",
       "dtype: object"
      ]
     },
     "execution_count": 10,
     "metadata": {},
     "output_type": "execute_result"
    }
   ],
   "source": [
    "from backtesting import Backtest\n",
    "\n",
    "bt = Backtest(\n",
    "    df[\"2012-01-01\":],\n",
    "    end_of_month_with_SL,\n",
    "    cash=100_000,\n",
    "    commission=0.002,\n",
    "    trade_on_close=True,\n",
    ")\n",
    "stats = bt.run()\n",
    "bt.plot(superimpose=False, open_browser=False)\n",
    "stats"
   ]
  },
  {
   "cell_type": "code",
   "execution_count": 11,
   "metadata": {},
   "outputs": [
    {
     "data": {
      "text/plain": [
       "<Axes: xlabel='EntryTime', ylabel='ReturnPct'>"
      ]
     },
     "execution_count": 11,
     "metadata": {},
     "output_type": "execute_result"
    },
    {
     "data": {
      "image/png": "[encoded data removed]",
      "text/plain": [
       "<Figure size 640x480 with 1 Axes>"
      ]
     },
     "metadata": {},
     "output_type": "display_data"
    }
   ],
   "source": [
    "trades = stats[\"_trades\"]\n",
    "trades.plot.scatter(y=\"ReturnPct\", x=\"EntryTime\")"
   ]
  },
  {
   "cell_type": "markdown",
   "metadata": {},
   "source": [
    "jetzt wird überprüft welche Tage für die Ein- und Ausstiege besser sein könnten."
   ]
  },
  {
   "cell_type": "code",
   "execution_count": 12,
   "metadata": {},
   "outputs": [
    {
     "name": "stderr",
     "output_type": "stream",
     "text": [
      "/Users/produktmanagement/Python/github/backtesting-trading-strategies/.venv/lib/python3.12/site-packages/backtesting/backtesting.py:1375: UserWarning: For multiprocessing support in `Backtest.optimize()` set multiprocessing start method to 'fork'.\n",
      "  warnings.warn(\"For multiprocessing support in `Backtest.optimize()` \"\n"
     ]
    }
   ],
   "source": [
    "stats, heatmap = bt.optimize(\n",
    "    days_before=range(-5, 0, 1),\n",
    "    days_after=range(1, 6),\n",
    "    maximize=\"Profit Factor\",  # \"Equity Final [$]\",\n",
    "    max_tries=200,\n",
    "    random_state=0,\n",
    "    return_heatmap=True,\n",
    ")"
   ]
  },
  {
   "cell_type": "code",
   "execution_count": 13,
   "metadata": {},
   "outputs": [
    {
     "data": {
      "text/plain": [
       "days_before  days_after\n",
       "-5           4             1.040466\n",
       "-1           5             1.057679\n",
       "-5           5             1.136310\n",
       "Name: Profit Factor, dtype: float64"
      ]
     },
     "execution_count": 13,
     "metadata": {},
     "output_type": "execute_result"
    }
   ],
   "source": [
    "# heatmap\n",
    "heatmap.sort_values().iloc[-3:]"
   ]
  },
  {
   "cell_type": "code",
   "execution_count": 14,
   "metadata": {},
   "outputs": [
    {
     "data": {
      "text/html": [
       "<div>\n",
       "<style scoped>\n",
       "    .dataframe tbody tr th:only-of-type {\n",
       "        vertical-align: middle;\n",
       "    }\n",
       "\n",
       "    .dataframe tbody tr th {\n",
       "        vertical-align: top;\n",
       "    }\n",
       "\n",
       "    .dataframe thead th {\n",
       "        text-align: right;\n",
       "    }\n",
       "</style>\n",
       "<table border=\"1\" class=\"dataframe\">\n",
       "  <thead>\n",
       "    <tr style=\"text-align: right;\">\n",
       "      <th>days_after</th>\n",
       "      <th>1</th>\n",
       "      <th>2</th>\n",
       "      <th>3</th>\n",
       "      <th>4</th>\n",
       "      <th>5</th>\n",
       "    </tr>\n",
       "    <tr>\n",
       "      <th>days_before</th>\n",
       "      <th></th>\n",
       "      <th></th>\n",
       "      <th></th>\n",
       "      <th></th>\n",
       "      <th></th>\n",
       "    </tr>\n",
       "  </thead>\n",
       "  <tbody>\n",
       "    <tr>\n",
       "      <th>-5</th>\n",
       "      <td>1.011463</td>\n",
       "      <td>0.956141</td>\n",
       "      <td>1.004379</td>\n",
       "      <td>1.040466</td>\n",
       "      <td>1.136310</td>\n",
       "    </tr>\n",
       "    <tr>\n",
       "      <th>-4</th>\n",
       "      <td>0.860646</td>\n",
       "      <td>0.830825</td>\n",
       "      <td>0.892733</td>\n",
       "      <td>0.942298</td>\n",
       "      <td>1.013093</td>\n",
       "    </tr>\n",
       "    <tr>\n",
       "      <th>-3</th>\n",
       "      <td>0.777191</td>\n",
       "      <td>0.772892</td>\n",
       "      <td>0.845988</td>\n",
       "      <td>0.880151</td>\n",
       "      <td>0.956669</td>\n",
       "    </tr>\n",
       "    <tr>\n",
       "      <th>-2</th>\n",
       "      <td>0.748299</td>\n",
       "      <td>0.740655</td>\n",
       "      <td>0.831834</td>\n",
       "      <td>0.908277</td>\n",
       "      <td>0.997168</td>\n",
       "    </tr>\n",
       "    <tr>\n",
       "      <th>-1</th>\n",
       "      <td>0.868793</td>\n",
       "      <td>0.844279</td>\n",
       "      <td>0.927980</td>\n",
       "      <td>0.956968</td>\n",
       "      <td>1.057679</td>\n",
       "    </tr>\n",
       "  </tbody>\n",
       "</table>\n",
       "</div>"
      ],
      "text/plain": [
       "days_after          1         2         3         4         5\n",
       "days_before                                                  \n",
       "-5           1.011463  0.956141  1.004379  1.040466  1.136310\n",
       "-4           0.860646  0.830825  0.892733  0.942298  1.013093\n",
       "-3           0.777191  0.772892  0.845988  0.880151  0.956669\n",
       "-2           0.748299  0.740655  0.831834  0.908277  0.997168\n",
       "-1           0.868793  0.844279  0.927980  0.956968  1.057679"
      ]
     },
     "execution_count": 14,
     "metadata": {},
     "output_type": "execute_result"
    }
   ],
   "source": [
    "heatmap.groupby([\"days_before\", \"days_after\"]).mean().unstack()"
   ]
  },
  {
   "cell_type": "code",
   "execution_count": 15,
   "metadata": {},
   "outputs": [
    {
     "data": {
      "text/plain": [
       "Start                     2012-01-02 00:00:00\n",
       "End                       2024-04-17 00:00:00\n",
       "Duration                   4489 days 00:00:00\n",
       "Exposure Time [%]                   46.934189\n",
       "Equity Final [$]                 116554.24023\n",
       "Equity Peak [$]                 118940.311184\n",
       "Return [%]                           16.55424\n",
       "Buy & Hold Return [%]              193.735337\n",
       "Return (Ann.) [%]                    1.246973\n",
       "Volatility (Ann.) [%]                11.35941\n",
       "Sharpe Ratio                         0.109774\n",
       "Sortino Ratio                        0.156574\n",
       "Calmar Ratio                         0.037918\n",
       "Max. Drawdown [%]                  -32.886439\n",
       "Avg. Drawdown [%]                   -3.803056\n",
       "Max. Drawdown Duration     2833 days 00:00:00\n",
       "Avg. Drawdown Duration      175 days 00:00:00\n",
       "# Trades                                  148\n",
       "Win Rate [%]                        56.756757\n",
       "Best Trade [%]                      12.313994\n",
       "Worst Trade [%]                     -8.965112\n",
       "Avg. Trade [%]                       0.106471\n",
       "Max. Trade Duration          20 days 00:00:00\n",
       "Avg. Trade Duration          13 days 00:00:00\n",
       "Profit Factor                         1.13631\n",
       "Expectancy [%]                       0.160386\n",
       "SQN                                  0.472556\n",
       "_strategy                 end_of_month_wit...\n",
       "_equity_curve                             ...\n",
       "_trades                        Size  Entry...\n",
       "dtype: object"
      ]
     },
     "execution_count": 15,
     "metadata": {},
     "output_type": "execute_result"
    }
   ],
   "source": [
    "stats"
   ]
  },
  {
   "cell_type": "markdown",
   "metadata": {},
   "source": [
    "## The Winner is ..."
   ]
  },
  {
   "cell_type": "code",
   "execution_count": 16,
   "metadata": {},
   "outputs": [
    {
     "data": {
      "text/plain": [
       "<Strategy end_of_month_with_SL(days_before=-5,days_after=5)>"
      ]
     },
     "execution_count": 16,
     "metadata": {},
     "output_type": "execute_result"
    }
   ],
   "source": [
    "stats[\"_strategy\"]"
   ]
  },
  {
   "cell_type": "code",
   "execution_count": 17,
   "metadata": {},
   "outputs": [
    {
     "data": {
      "text/html": [
       "<div style=\"display: table;\"><div style=\"display: table-row;\"><div style=\"display: table-cell;\"><b title=\"bokeh.models.layouts.Row\">Row</b>(</div><div style=\"display: table-cell;\">id&nbsp;=&nbsp;'3829', <span id=\"4534\" style=\"cursor: pointer;\">&hellip;)</span></div></div><div class=\"4533\" style=\"display: none;\"><div style=\"display: table-cell;\"></div><div style=\"display: table-cell;\">align&nbsp;=&nbsp;'start',</div></div><div class=\"4533\" style=\"display: none;\"><div style=\"display: table-cell;\"></div><div style=\"display: table-cell;\">aspect_ratio&nbsp;=&nbsp;None,</div></div><div class=\"4533\" style=\"display: none;\"><div style=\"display: table-cell;\"></div><div style=\"display: table-cell;\">background&nbsp;=&nbsp;None,</div></div><div class=\"4533\" style=\"display: none;\"><div style=\"display: table-cell;\"></div><div style=\"display: table-cell;\">children&nbsp;=&nbsp;[GridBox(id='3826', ...), ToolbarBox(id='3828', ...)],</div></div><div class=\"4533\" style=\"display: none;\"><div style=\"display: table-cell;\"></div><div style=\"display: table-cell;\">cols&nbsp;=&nbsp;'auto',</div></div><div class=\"4533\" style=\"display: none;\"><div style=\"display: table-cell;\"></div><div style=\"display: table-cell;\">css_classes&nbsp;=&nbsp;[],</div></div><div class=\"4533\" style=\"display: none;\"><div style=\"display: table-cell;\"></div><div style=\"display: table-cell;\">disabled&nbsp;=&nbsp;False,</div></div><div class=\"4533\" style=\"display: none;\"><div style=\"display: table-cell;\"></div><div style=\"display: table-cell;\">height&nbsp;=&nbsp;None,</div></div><div class=\"4533\" style=\"display: none;\"><div style=\"display: table-cell;\"></div><div style=\"display: table-cell;\">height_policy&nbsp;=&nbsp;'auto',</div></div><div class=\"4533\" style=\"display: none;\"><div style=\"display: table-cell;\"></div><div style=\"display: table-cell;\">js_event_callbacks&nbsp;=&nbsp;{},</div></div><div class=\"4533\" style=\"display: none;\"><div style=\"display: table-cell;\"></div><div style=\"display: table-cell;\">js_property_callbacks&nbsp;=&nbsp;{},</div></div><div class=\"4533\" style=\"display: none;\"><div style=\"display: table-cell;\"></div><div style=\"display: table-cell;\">margin&nbsp;=&nbsp;(0, 0, 0, 0),</div></div><div class=\"4533\" style=\"display: none;\"><div style=\"display: table-cell;\"></div><div style=\"display: table-cell;\">max_height&nbsp;=&nbsp;None,</div></div><div class=\"4533\" style=\"display: none;\"><div style=\"display: table-cell;\"></div><div style=\"display: table-cell;\">max_width&nbsp;=&nbsp;None,</div></div><div class=\"4533\" style=\"display: none;\"><div style=\"display: table-cell;\"></div><div style=\"display: table-cell;\">min_height&nbsp;=&nbsp;None,</div></div><div class=\"4533\" style=\"display: none;\"><div style=\"display: table-cell;\"></div><div style=\"display: table-cell;\">min_width&nbsp;=&nbsp;None,</div></div><div class=\"4533\" style=\"display: none;\"><div style=\"display: table-cell;\"></div><div style=\"display: table-cell;\">name&nbsp;=&nbsp;None,</div></div><div class=\"4533\" style=\"display: none;\"><div style=\"display: table-cell;\"></div><div style=\"display: table-cell;\">sizing_mode&nbsp;=&nbsp;'stretch_width',</div></div><div class=\"4533\" style=\"display: none;\"><div style=\"display: table-cell;\"></div><div style=\"display: table-cell;\">spacing&nbsp;=&nbsp;0,</div></div><div class=\"4533\" style=\"display: none;\"><div style=\"display: table-cell;\"></div><div style=\"display: table-cell;\">subscribed_events&nbsp;=&nbsp;[],</div></div><div class=\"4533\" style=\"display: none;\"><div style=\"display: table-cell;\"></div><div style=\"display: table-cell;\">syncable&nbsp;=&nbsp;True,</div></div><div class=\"4533\" style=\"display: none;\"><div style=\"display: table-cell;\"></div><div style=\"display: table-cell;\">tags&nbsp;=&nbsp;[],</div></div><div class=\"4533\" style=\"display: none;\"><div style=\"display: table-cell;\"></div><div style=\"display: table-cell;\">visible&nbsp;=&nbsp;True,</div></div><div class=\"4533\" style=\"display: none;\"><div style=\"display: table-cell;\"></div><div style=\"display: table-cell;\">width&nbsp;=&nbsp;None,</div></div><div class=\"4533\" style=\"display: none;\"><div style=\"display: table-cell;\"></div><div style=\"display: table-cell;\">width_policy&nbsp;=&nbsp;'auto')</div></div></div>\n",
       "<script>\n",
       "(function() {\n",
       "  let expanded = false;\n",
       "  const ellipsis = document.getElementById(\"4534\");\n",
       "  ellipsis.addEventListener(\"click\", function() {\n",
       "    const rows = document.getElementsByClassName(\"4533\");\n",
       "    for (let i = 0; i < rows.length; i++) {\n",
       "      const el = rows[i];\n",
       "      el.style.display = expanded ? \"none\" : \"table-row\";\n",
       "    }\n",
       "    ellipsis.innerHTML = expanded ? \"&hellip;)\" : \"&lsaquo;&lsaquo;&lsaquo;\";\n",
       "    expanded = !expanded;\n",
       "  });\n",
       "})();\n",
       "</script>\n"
      ],
      "text/plain": [
       "Row(id='3829', ...)"
      ]
     },
     "execution_count": 17,
     "metadata": {},
     "output_type": "execute_result"
    }
   ],
   "source": [
    "# bt = Backtest(df[\"2012-01-01\":], end_of_month, cash=100_000, commission=0.002)\n",
    "stats = bt.run(days_before=-4, days_after=5)\n",
    "bt.plot(superimpose=False, open_browser=False)"
   ]
  },
  {
   "cell_type": "code",
   "execution_count": 18,
   "metadata": {},
   "outputs": [
    {
     "data": {
      "text/plain": [
       "Start                     2012-01-02 00:00:00\n",
       "End                       2024-04-17 00:00:00\n",
       "Duration                   4489 days 00:00:00\n",
       "Exposure Time [%]                   42.054575\n",
       "Equity Final [$]                 97475.617395\n",
       "Equity Peak [$]                 103909.609729\n",
       "Return [%]                          -2.524383\n",
       "Buy & Hold Return [%]              193.735337\n",
       "Return (Ann.) [%]                   -0.206628\n",
       "Volatility (Ann.) [%]               10.647225\n",
       "Sharpe Ratio                              0.0\n",
       "Sortino Ratio                             0.0\n",
       "Calmar Ratio                              0.0\n",
       "Max. Drawdown [%]                  -34.733468\n",
       "Avg. Drawdown [%]                  -12.309767\n",
       "Max. Drawdown Duration     4430 days 00:00:00\n",
       "Avg. Drawdown Duration     1488 days 00:00:00\n",
       "# Trades                                  148\n",
       "Win Rate [%]                        54.054054\n",
       "Best Trade [%]                       11.20722\n",
       "Worst Trade [%]                     -7.288105\n",
       "Avg. Trade [%]                      -0.032235\n",
       "Max. Trade Duration          19 days 00:00:00\n",
       "Avg. Trade Duration          12 days 00:00:00\n",
       "Profit Factor                        1.013093\n",
       "Expectancy [%]                       0.015395\n",
       "SQN                                 -0.083976\n",
       "_strategy                 end_of_month_wit...\n",
       "_equity_curve                             ...\n",
       "_trades                        Size  Entry...\n",
       "dtype: object"
      ]
     },
     "execution_count": 18,
     "metadata": {},
     "output_type": "execute_result"
    }
   ],
   "source": [
    "stats"
   ]
  },
  {
   "cell_type": "markdown",
   "metadata": {},
   "source": [
    "Die Win Rate beim Trading bezieht sich auf das Verhältnis der Anzahl der gewonnenen Trades zur Gesamtanzahl der Trades. \n",
    "Wenn jemand beispielsweise 70% seiner Trades gewinnt, beträgt seine Win Rate 70%."
   ]
  },
  {
   "cell_type": "code",
   "execution_count": 19,
   "metadata": {},
   "outputs": [
    {
     "data": {
      "text/plain": [
       "54.054054054054056"
      ]
     },
     "execution_count": 19,
     "metadata": {},
     "output_type": "execute_result"
    }
   ],
   "source": [
    "stats[\"Win Rate [%]\"]"
   ]
  },
  {
   "cell_type": "markdown",
   "metadata": {},
   "source": [
    "Durchschnittlicher Gewinn in Prozent. \n",
    "Wie viel Gewinn oder Verlust wurden im Durchschnitt pro Trade erzielt."
   ]
  },
  {
   "cell_type": "code",
   "execution_count": 20,
   "metadata": {},
   "outputs": [
    {
     "data": {
      "text/plain": [
       "-0.032234840631084616"
      ]
     },
     "execution_count": 20,
     "metadata": {},
     "output_type": "execute_result"
    }
   ],
   "source": [
    "stats[\"Avg. Trade [%]\"]"
   ]
  },
  {
   "cell_type": "markdown",
   "metadata": {},
   "source": [
    "Der Profit-Faktor stellt die Verhältnisse zwischen Gewinnen und Verlusten dar.\n",
    "Der Profit-Faktor wird berechnet, indem die Summe aller Profite (Gewinne) durch die Summe aller Verluste (einschließlich Gebühren und Kommissionen) für den gesamten Handelszeitraum geteilt wird.\n",
    "Ein Profit-Faktor größer als 1 zeigt an, dass die Strategie profitabel ist. Je höher der Wert, desto besser.\n",
    "\n",
    "Ein guter Profit-Faktor liegt normalerweise zwischen 1,75 und 41.\n",
    "Ein Wert über 1,75 zeigt eine solide Strategie an, während Werte über 4 außergewöhnlich gut sind."
   ]
  },
  {
   "cell_type": "code",
   "execution_count": 21,
   "metadata": {},
   "outputs": [
    {
     "data": {
      "text/plain": [
       "1.0130933982122647"
      ]
     },
     "execution_count": 21,
     "metadata": {},
     "output_type": "execute_result"
    }
   ],
   "source": [
    "stats[\"Profit Factor\"]"
   ]
  },
  {
   "cell_type": "code",
   "execution_count": 22,
   "metadata": {},
   "outputs": [],
   "source": [
    "trades = stats[\"_trades\"]\n",
    "\n",
    "for index, row in trades.iterrows():\n",
    "    start_range = stock[: row[\"EntryTime\"]]\n",
    "    trades.loc[index, \"SignalTime\"] = start_range.index.values[-2]\n",
    "\n",
    "merged = pd.merge(\n",
    "    trades,\n",
    "    df[\n",
    "        [\n",
    "            \"adx_10\",\n",
    "            \"adx_direction\",\n",
    "            \"rsi_3\",\n",
    "            \"rsi_7\",\n",
    "            \"rsi_10\",\n",
    "            \"sma_20\",\n",
    "            \"sma_50\",\n",
    "            \"sma_100\",\n",
    "            \"sma_200\",\n",
    "        ]\n",
    "    ],\n",
    "    left_on=\"SignalTime\",\n",
    "    right_index=True,\n",
    ")\n",
    "# merged[\"win\"] = np.where(merged.PnL > 0, 1, -1)\n",
    "# merged[\"win\"] = np.where(merged.PnL > 0, 1, -1)"
   ]
  },
  {
   "cell_type": "code",
   "execution_count": 23,
   "metadata": {},
   "outputs": [
    {
     "data": {
      "text/html": [
       "<div>\n",
       "<style scoped>\n",
       "    .dataframe tbody tr th:only-of-type {\n",
       "        vertical-align: middle;\n",
       "    }\n",
       "\n",
       "    .dataframe tbody tr th {\n",
       "        vertical-align: top;\n",
       "    }\n",
       "\n",
       "    .dataframe thead th {\n",
       "        text-align: right;\n",
       "    }\n",
       "</style>\n",
       "<table border=\"1\" class=\"dataframe\">\n",
       "  <thead>\n",
       "    <tr style=\"text-align: right;\">\n",
       "      <th></th>\n",
       "      <th>ReturnPct</th>\n",
       "    </tr>\n",
       "    <tr>\n",
       "      <th>ExitTime</th>\n",
       "      <th></th>\n",
       "    </tr>\n",
       "  </thead>\n",
       "  <tbody>\n",
       "    <tr>\n",
       "      <th>1</th>\n",
       "      <td>0.0544</td>\n",
       "    </tr>\n",
       "    <tr>\n",
       "      <th>2</th>\n",
       "      <td>-0.2330</td>\n",
       "    </tr>\n",
       "    <tr>\n",
       "      <th>3</th>\n",
       "      <td>-0.0159</td>\n",
       "    </tr>\n",
       "    <tr>\n",
       "      <th>4</th>\n",
       "      <td>0.0510</td>\n",
       "    </tr>\n",
       "    <tr>\n",
       "      <th>5</th>\n",
       "      <td>-0.0035</td>\n",
       "    </tr>\n",
       "    <tr>\n",
       "      <th>6</th>\n",
       "      <td>0.0469</td>\n",
       "    </tr>\n",
       "    <tr>\n",
       "      <th>7</th>\n",
       "      <td>-0.0359</td>\n",
       "    </tr>\n",
       "    <tr>\n",
       "      <th>8</th>\n",
       "      <td>-0.0312</td>\n",
       "    </tr>\n",
       "    <tr>\n",
       "      <th>9</th>\n",
       "      <td>0.0491</td>\n",
       "    </tr>\n",
       "    <tr>\n",
       "      <th>10</th>\n",
       "      <td>-0.0556</td>\n",
       "    </tr>\n",
       "    <tr>\n",
       "      <th>11</th>\n",
       "      <td>0.2170</td>\n",
       "    </tr>\n",
       "    <tr>\n",
       "      <th>12</th>\n",
       "      <td>-0.0205</td>\n",
       "    </tr>\n",
       "  </tbody>\n",
       "</table>\n",
       "</div>"
      ],
      "text/plain": [
       "          ReturnPct\n",
       "ExitTime           \n",
       "1            0.0544\n",
       "2           -0.2330\n",
       "3           -0.0159\n",
       "4            0.0510\n",
       "5           -0.0035\n",
       "6            0.0469\n",
       "7           -0.0359\n",
       "8           -0.0312\n",
       "9            0.0491\n",
       "10          -0.0556\n",
       "11           0.2170\n",
       "12          -0.0205"
      ]
     },
     "execution_count": 23,
     "metadata": {},
     "output_type": "execute_result"
    }
   ],
   "source": [
    "# merged.set_index('EntryTime')\n",
    "monthly = pd.DataFrame(merged.groupby(merged.EntryTime.dt.month).ReturnPct.sum())\n",
    "# global skip_month\n",
    "skip_month = monthly[monthly[\"ReturnPct\"] < 0.05].index.to_list()\n",
    "pd.DataFrame(merged.groupby(merged.ExitTime.dt.month).ReturnPct.sum().round(4))"
   ]
  },
  {
   "cell_type": "code",
   "execution_count": 24,
   "metadata": {},
   "outputs": [
    {
     "data": {
      "text/plain": [
       "<Axes: title={'center': 'Gewinner Trades'}>"
      ]
     },
     "execution_count": 24,
     "metadata": {},
     "output_type": "execute_result"
    },
    {
     "data": {
      "image/png": "[encoded data removed]",
      "text/plain": [
       "<Figure size 640x480 with 1 Axes>"
      ]
     },
     "metadata": {},
     "output_type": "display_data"
    }
   ],
   "source": [
    "merged[merged.PnL > 0].ReturnPct.plot(title=\"Gewinner Trades\")"
   ]
  },
  {
   "cell_type": "code",
   "execution_count": 25,
   "metadata": {},
   "outputs": [
    {
     "data": {
      "text/plain": [
       "<Axes: title={'center': 'Verlierer Trades'}>"
      ]
     },
     "execution_count": 25,
     "metadata": {},
     "output_type": "execute_result"
    },
    {
     "data": {
      "image/png": "[encoded data removed]",
      "text/plain": [
       "<Figure size 640x480 with 1 Axes>"
      ]
     },
     "metadata": {},
     "output_type": "display_data"
    }
   ],
   "source": [
    "merged[merged.PnL < 0].ReturnPct.plot(title=\"Verlierer Trades\")"
   ]
  },
  {
   "cell_type": "code",
   "execution_count": 26,
   "metadata": {},
   "outputs": [],
   "source": [
    "class end_of_month_and_skip_month(end_of_month):\n",
    "    \"\"\"\n",
    "    strategy for trend_trading\n",
    "    \"\"\"\n",
    "\n",
    "    skip_month = []\n",
    "\n",
    "    def next(self):\n",
    "        _open, _high, _low, _close = self.ohlc()\n",
    "\n",
    "        # trade management for an existing trade\n",
    "        for trade in self.trades:\n",
    "            if trade.is_long:\n",
    "                if self.data.days[-1] == self.days_after:\n",
    "                    trade.close()\n",
    "\n",
    "        if (\n",
    "            self.data.days[-1] == self.days_before\n",
    "            and self.data.month[-1] not in self.skip_month\n",
    "        ):\n",
    "            self.buy()"
   ]
  },
  {
   "cell_type": "code",
   "execution_count": 27,
   "metadata": {},
   "outputs": [
    {
     "data": {
      "text/html": [
       "<div style=\"display: table;\"><div style=\"display: table-row;\"><div style=\"display: table-cell;\"><b title=\"bokeh.models.layouts.Row\">Row</b>(</div><div style=\"display: table-cell;\">id&nbsp;=&nbsp;'5008', <span id=\"5713\" style=\"cursor: pointer;\">&hellip;)</span></div></div><div class=\"5712\" style=\"display: none;\"><div style=\"display: table-cell;\"></div><div style=\"display: table-cell;\">align&nbsp;=&nbsp;'start',</div></div><div class=\"5712\" style=\"display: none;\"><div style=\"display: table-cell;\"></div><div style=\"display: table-cell;\">aspect_ratio&nbsp;=&nbsp;None,</div></div><div class=\"5712\" style=\"display: none;\"><div style=\"display: table-cell;\"></div><div style=\"display: table-cell;\">background&nbsp;=&nbsp;None,</div></div><div class=\"5712\" style=\"display: none;\"><div style=\"display: table-cell;\"></div><div style=\"display: table-cell;\">children&nbsp;=&nbsp;[GridBox(id='5005', ...), ToolbarBox(id='5007', ...)],</div></div><div class=\"5712\" style=\"display: none;\"><div style=\"display: table-cell;\"></div><div style=\"display: table-cell;\">cols&nbsp;=&nbsp;'auto',</div></div><div class=\"5712\" style=\"display: none;\"><div style=\"display: table-cell;\"></div><div style=\"display: table-cell;\">css_classes&nbsp;=&nbsp;[],</div></div><div class=\"5712\" style=\"display: none;\"><div style=\"display: table-cell;\"></div><div style=\"display: table-cell;\">disabled&nbsp;=&nbsp;False,</div></div><div class=\"5712\" style=\"display: none;\"><div style=\"display: table-cell;\"></div><div style=\"display: table-cell;\">height&nbsp;=&nbsp;None,</div></div><div class=\"5712\" style=\"display: none;\"><div style=\"display: table-cell;\"></div><div style=\"display: table-cell;\">height_policy&nbsp;=&nbsp;'auto',</div></div><div class=\"5712\" style=\"display: none;\"><div style=\"display: table-cell;\"></div><div style=\"display: table-cell;\">js_event_callbacks&nbsp;=&nbsp;{},</div></div><div class=\"5712\" style=\"display: none;\"><div style=\"display: table-cell;\"></div><div style=\"display: table-cell;\">js_property_callbacks&nbsp;=&nbsp;{},</div></div><div class=\"5712\" style=\"display: none;\"><div style=\"display: table-cell;\"></div><div style=\"display: table-cell;\">margin&nbsp;=&nbsp;(0, 0, 0, 0),</div></div><div class=\"5712\" style=\"display: none;\"><div style=\"display: table-cell;\"></div><div style=\"display: table-cell;\">max_height&nbsp;=&nbsp;None,</div></div><div class=\"5712\" style=\"display: none;\"><div style=\"display: table-cell;\"></div><div style=\"display: table-cell;\">max_width&nbsp;=&nbsp;None,</div></div><div class=\"5712\" style=\"display: none;\"><div style=\"display: table-cell;\"></div><div style=\"display: table-cell;\">min_height&nbsp;=&nbsp;None,</div></div><div class=\"5712\" style=\"display: none;\"><div style=\"display: table-cell;\"></div><div style=\"display: table-cell;\">min_width&nbsp;=&nbsp;None,</div></div><div class=\"5712\" style=\"display: none;\"><div style=\"display: table-cell;\"></div><div style=\"display: table-cell;\">name&nbsp;=&nbsp;None,</div></div><div class=\"5712\" style=\"display: none;\"><div style=\"display: table-cell;\"></div><div style=\"display: table-cell;\">sizing_mode&nbsp;=&nbsp;'stretch_width',</div></div><div class=\"5712\" style=\"display: none;\"><div style=\"display: table-cell;\"></div><div style=\"display: table-cell;\">spacing&nbsp;=&nbsp;0,</div></div><div class=\"5712\" style=\"display: none;\"><div style=\"display: table-cell;\"></div><div style=\"display: table-cell;\">subscribed_events&nbsp;=&nbsp;[],</div></div><div class=\"5712\" style=\"display: none;\"><div style=\"display: table-cell;\"></div><div style=\"display: table-cell;\">syncable&nbsp;=&nbsp;True,</div></div><div class=\"5712\" style=\"display: none;\"><div style=\"display: table-cell;\"></div><div style=\"display: table-cell;\">tags&nbsp;=&nbsp;[],</div></div><div class=\"5712\" style=\"display: none;\"><div style=\"display: table-cell;\"></div><div style=\"display: table-cell;\">visible&nbsp;=&nbsp;True,</div></div><div class=\"5712\" style=\"display: none;\"><div style=\"display: table-cell;\"></div><div style=\"display: table-cell;\">width&nbsp;=&nbsp;None,</div></div><div class=\"5712\" style=\"display: none;\"><div style=\"display: table-cell;\"></div><div style=\"display: table-cell;\">width_policy&nbsp;=&nbsp;'auto')</div></div></div>\n",
       "<script>\n",
       "(function() {\n",
       "  let expanded = false;\n",
       "  const ellipsis = document.getElementById(\"5713\");\n",
       "  ellipsis.addEventListener(\"click\", function() {\n",
       "    const rows = document.getElementsByClassName(\"5712\");\n",
       "    for (let i = 0; i < rows.length; i++) {\n",
       "      const el = rows[i];\n",
       "      el.style.display = expanded ? \"none\" : \"table-row\";\n",
       "    }\n",
       "    ellipsis.innerHTML = expanded ? \"&hellip;)\" : \"&lsaquo;&lsaquo;&lsaquo;\";\n",
       "    expanded = !expanded;\n",
       "  });\n",
       "})();\n",
       "</script>\n"
      ],
      "text/plain": [
       "Row(id='5008', ...)"
      ]
     },
     "execution_count": 27,
     "metadata": {},
     "output_type": "execute_result"
    }
   ],
   "source": [
    "bt = Backtest(\n",
    "    df[\"2012-01-01\":],\n",
    "    end_of_month_and_skip_month,\n",
    "    cash=100_000,\n",
    "    commission=0.002,\n",
    "    trade_on_close=True,\n",
    ")\n",
    "stats = bt.run(days_before=-5, days_after=5, skip_month=skip_month)\n",
    "bt.plot(superimpose=False)  # , open_browser=False)"
   ]
  },
  {
   "cell_type": "code",
   "execution_count": 28,
   "metadata": {},
   "outputs": [
    {
     "data": {
      "text/plain": [
       "Start                     2012-01-02 00:00:00\n",
       "End                       2024-04-17 00:00:00\n",
       "Duration                   4489 days 00:00:00\n",
       "Exposure Time [%]                    11.87801\n",
       "Equity Final [$]                143716.438675\n",
       "Equity Peak [$]                 144931.075394\n",
       "Return [%]                          43.716439\n",
       "Buy & Hold Return [%]              193.735337\n",
       "Return (Ann.) [%]                    2.977441\n",
       "Volatility (Ann.) [%]                5.763222\n",
       "Sharpe Ratio                         0.516628\n",
       "Sortino Ratio                        0.797452\n",
       "Calmar Ratio                          0.17488\n",
       "Max. Drawdown [%]                  -17.025654\n",
       "Avg. Drawdown [%]                   -2.195166\n",
       "Max. Drawdown Duration     1406 days 00:00:00\n",
       "Avg. Drawdown Duration      126 days 00:00:00\n",
       "# Trades                                   37\n",
       "Win Rate [%]                        81.081081\n",
       "Best Trade [%]                       5.632746\n",
       "Worst Trade [%]                      -6.86496\n",
       "Avg. Trade [%]                       1.051343\n",
       "Max. Trade Duration          20 days 00:00:00\n",
       "Avg. Trade Duration          15 days 00:00:00\n",
       "Profit Factor                        2.533393\n",
       "Expectancy [%]                       1.093545\n",
       "SQN                                  2.452952\n",
       "_strategy                 end_of_month_and...\n",
       "_equity_curve                             ...\n",
       "_trades                       Size  EntryB...\n",
       "dtype: object"
      ]
     },
     "execution_count": 28,
     "metadata": {},
     "output_type": "execute_result"
    }
   ],
   "source": [
    "stats"
   ]
  },
  {
   "cell_type": "code",
   "execution_count": 29,
   "metadata": {},
   "outputs": [],
   "source": [
    "trades = stats[\"_trades\"]\n",
    "\n",
    "for index, row in trades.iterrows():\n",
    "    start_range = stock[: row[\"EntryTime\"]]\n",
    "    trades.loc[index, \"SignalTime\"] = start_range.index.values[-2]\n",
    "\n",
    "merged = pd.merge(\n",
    "    trades,\n",
    "    df[\n",
    "        [\n",
    "            \"adx_10\",\n",
    "            \"adx_direction\",\n",
    "            \"rsi_3\",\n",
    "            \"rsi_7\",\n",
    "            \"rsi_10\",\n",
    "            \"sma_20\",\n",
    "            \"sma_50\",\n",
    "            \"sma_100\",\n",
    "            \"sma_200\",\n",
    "        ]\n",
    "    ],\n",
    "    left_on=\"SignalTime\",\n",
    "    right_index=True,\n",
    ")"
   ]
  },
  {
   "cell_type": "code",
   "execution_count": 30,
   "metadata": {},
   "outputs": [
    {
     "data": {
      "text/html": [
       "<div>\n",
       "<style scoped>\n",
       "    .dataframe tbody tr th:only-of-type {\n",
       "        vertical-align: middle;\n",
       "    }\n",
       "\n",
       "    .dataframe tbody tr th {\n",
       "        vertical-align: top;\n",
       "    }\n",
       "\n",
       "    .dataframe thead th {\n",
       "        text-align: right;\n",
       "    }\n",
       "</style>\n",
       "<table border=\"1\" class=\"dataframe\">\n",
       "  <thead>\n",
       "    <tr style=\"text-align: right;\">\n",
       "      <th></th>\n",
       "      <th>ReturnPct</th>\n",
       "    </tr>\n",
       "    <tr>\n",
       "      <th>ExitTime</th>\n",
       "      <th></th>\n",
       "    </tr>\n",
       "  </thead>\n",
       "  <tbody>\n",
       "    <tr>\n",
       "      <th>1</th>\n",
       "      <td>0.0943</td>\n",
       "    </tr>\n",
       "    <tr>\n",
       "      <th>4</th>\n",
       "      <td>0.0954</td>\n",
       "    </tr>\n",
       "    <tr>\n",
       "      <th>11</th>\n",
       "      <td>0.2150</td>\n",
       "    </tr>\n",
       "  </tbody>\n",
       "</table>\n",
       "</div>"
      ],
      "text/plain": [
       "          ReturnPct\n",
       "ExitTime           \n",
       "1            0.0943\n",
       "4            0.0954\n",
       "11           0.2150"
      ]
     },
     "execution_count": 30,
     "metadata": {},
     "output_type": "execute_result"
    }
   ],
   "source": [
    "pd.DataFrame(merged.groupby(merged.ExitTime.dt.month).ReturnPct.sum().round(4))"
   ]
  },
  {
   "cell_type": "code",
   "execution_count": 31,
   "metadata": {},
   "outputs": [
    {
     "data": {
      "text/html": [
       "<div>\n",
       "<style scoped>\n",
       "    .dataframe tbody tr th:only-of-type {\n",
       "        vertical-align: middle;\n",
       "    }\n",
       "\n",
       "    .dataframe tbody tr th {\n",
       "        vertical-align: top;\n",
       "    }\n",
       "\n",
       "    .dataframe thead th {\n",
       "        text-align: right;\n",
       "    }\n",
       "</style>\n",
       "<table border=\"1\" class=\"dataframe\">\n",
       "  <thead>\n",
       "    <tr style=\"text-align: right;\">\n",
       "      <th></th>\n",
       "      <th>PnL</th>\n",
       "    </tr>\n",
       "    <tr>\n",
       "      <th>ExitTime</th>\n",
       "      <th></th>\n",
       "    </tr>\n",
       "  </thead>\n",
       "  <tbody>\n",
       "    <tr>\n",
       "      <th>2012</th>\n",
       "      <td>-6599.0</td>\n",
       "    </tr>\n",
       "    <tr>\n",
       "      <th>2013</th>\n",
       "      <td>-1992.8</td>\n",
       "    </tr>\n",
       "    <tr>\n",
       "      <th>2014</th>\n",
       "      <td>6388.9</td>\n",
       "    </tr>\n",
       "    <tr>\n",
       "      <th>2015</th>\n",
       "      <td>3984.6</td>\n",
       "    </tr>\n",
       "    <tr>\n",
       "      <th>2016</th>\n",
       "      <td>-13129.7</td>\n",
       "    </tr>\n",
       "    <tr>\n",
       "      <th>2017</th>\n",
       "      <td>4358.6</td>\n",
       "    </tr>\n",
       "    <tr>\n",
       "      <th>2018</th>\n",
       "      <td>6079.3</td>\n",
       "    </tr>\n",
       "    <tr>\n",
       "      <th>2019</th>\n",
       "      <td>8222.7</td>\n",
       "    </tr>\n",
       "    <tr>\n",
       "      <th>2020</th>\n",
       "      <td>7787.7</td>\n",
       "    </tr>\n",
       "    <tr>\n",
       "      <th>2021</th>\n",
       "      <td>12472.6</td>\n",
       "    </tr>\n",
       "    <tr>\n",
       "      <th>2022</th>\n",
       "      <td>3319.7</td>\n",
       "    </tr>\n",
       "    <tr>\n",
       "      <th>2023</th>\n",
       "      <td>12322.1</td>\n",
       "    </tr>\n",
       "    <tr>\n",
       "      <th>2024</th>\n",
       "      <td>501.7</td>\n",
       "    </tr>\n",
       "  </tbody>\n",
       "</table>\n",
       "</div>"
      ],
      "text/plain": [
       "              PnL\n",
       "ExitTime         \n",
       "2012      -6599.0\n",
       "2013      -1992.8\n",
       "2014       6388.9\n",
       "2015       3984.6\n",
       "2016     -13129.7\n",
       "2017       4358.6\n",
       "2018       6079.3\n",
       "2019       8222.7\n",
       "2020       7787.7\n",
       "2021      12472.6\n",
       "2022       3319.7\n",
       "2023      12322.1\n",
       "2024        501.7"
      ]
     },
     "execution_count": 31,
     "metadata": {},
     "output_type": "execute_result"
    }
   ],
   "source": [
    "pd.DataFrame(merged.groupby(merged.ExitTime.dt.year).PnL.sum().round(1))"
   ]
  },
  {
   "cell_type": "code",
   "execution_count": 32,
   "metadata": {},
   "outputs": [
    {
     "data": {
      "text/plain": [
       "2012     92543.6\n",
       "2013     93188.0\n",
       "2014     97788.3\n",
       "2015    103881.3\n",
       "2016     88709.7\n",
       "2017     91482.4\n",
       "2018     97030.9\n",
       "2019    107397.7\n",
       "2020    117291.0\n",
       "2021    128349.3\n",
       "2022    130485.6\n",
       "2023    143461.5\n",
       "2024    143716.4\n",
       "Name: Equity, dtype: float64"
      ]
     },
     "execution_count": 32,
     "metadata": {},
     "output_type": "execute_result"
    }
   ],
   "source": [
    "equity = stats[\"_equity_curve\"]\n",
    "equity.groupby(equity.index.year).Equity.last().round(1)"
   ]
  }
 ],
 "metadata": {
  "kernelspec": {
   "display_name": "Python 3",
   "language": "python",
   "name": "python3"
  },
  "language_info": {
   "codemirror_mode": {
    "name": "ipython",
    "version": 3
   },
   "file_extension": ".py",
   "mimetype": "text/x-python",
   "name": "python",
   "nbconvert_exporter": "python",
   "pygments_lexer": "ipython3",
   "version": "3.12.0"
  }
 },
 "nbformat": 4,
 "nbformat_minor": 2
}
