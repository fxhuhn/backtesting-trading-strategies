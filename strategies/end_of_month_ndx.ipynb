{
 "cells": [
  {
   "cell_type": "code",
   "execution_count": 187,
   "metadata": {},
   "outputs": [],
   "source": [
    "import numpy as np\n",
    "import pandas as pd\n",
    "import pandas_ta as ta\n",
    "import yfinance as yf\n",
    "from tiny_ta import atr, rsi, sma"
   ]
  },
  {
   "cell_type": "markdown",
   "metadata": {},
   "source": [
    "# End of the Month - Strategie im NASDAQ 100"
   ]
  },
  {
   "cell_type": "markdown",
   "metadata": {},
   "source": [
    "Zunächst werden die Kursdaten für den NASDAQ 100 geladen und bereinigt"
   ]
  },
  {
   "cell_type": "code",
   "execution_count": 188,
   "metadata": {},
   "outputs": [
    {
     "name": "stderr",
     "output_type": "stream",
     "text": [
      "[*********************100%%**********************]  1 of 1 completed\n"
     ]
    }
   ],
   "source": [
    "SYMBOL = \"^NDX\"\n",
    "SYMBOL = \"QQQ\"\n",
    "\n",
    "stock = yf.download(SYMBOL)\n",
    "\n",
    "stock = stock[~(stock.High == stock.Low) & ~(stock.Open == stock.Close)]\n",
    "stock = stock.dropna()"
   ]
  },
  {
   "cell_type": "markdown",
   "metadata": {},
   "source": [
    "Der VIX für die Volatilität wird als externer Indikator mit betrachtet"
   ]
  },
  {
   "cell_type": "code",
   "execution_count": 189,
   "metadata": {},
   "outputs": [
    {
     "name": "stderr",
     "output_type": "stream",
     "text": [
      "[*********************100%%**********************]  1 of 1 completed\n"
     ]
    }
   ],
   "source": [
    "vix = yf.download(\"^VIX\")\n",
    "vix[\"vix\"] = vix[\"Close\"]\n",
    "stock = pd.merge(\n",
    "    stock,\n",
    "    vix[\n",
    "        [\n",
    "            \"vix\",\n",
    "        ]\n",
    "    ],\n",
    "    left_index=True,\n",
    "    right_index=True,\n",
    "    how=\"left\",\n",
    ")"
   ]
  },
  {
   "cell_type": "markdown",
   "metadata": {},
   "source": [
    "Die 5 jährigen Staatsanleihen werden ebenfalls mit betrachtet"
   ]
  },
  {
   "cell_type": "code",
   "execution_count": 190,
   "metadata": {},
   "outputs": [
    {
     "name": "stderr",
     "output_type": "stream",
     "text": [
      "[*********************100%%**********************]  1 of 1 completed\n"
     ]
    }
   ],
   "source": [
    "yield_5_years = yf.download(\"^FVX\")\n",
    "\n",
    "yield_5_years[\"yield_5yr\"] = yield_5_years[\"Close\"]\n",
    "stock = pd.merge(\n",
    "    stock,\n",
    "    yield_5_years[\n",
    "        [\n",
    "            \"yield_5yr\",\n",
    "        ]\n",
    "    ],\n",
    "    left_index=True,\n",
    "    right_index=True,\n",
    "    how=\"left\",\n",
    ")"
   ]
  },
  {
   "cell_type": "markdown",
   "metadata": {},
   "source": [
    "Ein paar Indikatoren für spätere Auswertungen"
   ]
  },
  {
   "cell_type": "code",
   "execution_count": 191,
   "metadata": {},
   "outputs": [],
   "source": [
    "stock[\"rsi_3\"] = rsi(stock.Close, 3)\n",
    "stock[\"rsi_7\"] = rsi(stock.Close, 7)\n",
    "stock[\"rsi_10\"] = rsi(stock.Close, 10)\n",
    "\n",
    "stock[\"atr_10\"] = atr(stock, 10, smoothing=\"rma\") / stock.Close * 100\n",
    "\n",
    "adx_intervall = 21\n",
    "adx = ta.adx(stock.High, stock.Low, stock.Close, adx_intervall)\n",
    "stock[\"adx\"] = adx[f\"ADX_{adx_intervall}\"]\n",
    "stock[\"adx_direction\"] = np.where(\n",
    "    adx[f\"DMP_{adx_intervall}\"] > adx[f\"DMN_{adx_intervall}\"], 1, -1\n",
    ")\n",
    "\n",
    "stock[\"adx_10\"] = ta.adx(stock.High, stock.Low, stock.Close, 10, 10)[\"ADX_10\"]\n",
    "\n",
    "\n",
    "stock[\"sma\"] = sma(stock.Close, 20)\n",
    "stock[\"sma_20\"] = stock.Close / sma(stock.Close, 20)\n",
    "stock[\"sma_50\"] = stock.Close / sma(stock.Close, 50)\n",
    "stock[\"sma_100\"] = stock.Close / sma(stock.Close, 100)\n",
    "stock[\"sma_200\"] = stock.Close / sma(stock.Close, 200)\n",
    "\n",
    "stock[\"sma_pct\"] = (stock.Close / stock.sma).round(2)\n",
    "\n",
    "stock[\"month\"] = stock.index.month"
   ]
  },
  {
   "cell_type": "markdown",
   "metadata": {},
   "source": [
    "Markiere die letzten x Tage und ersten x Tage im Monat für die geplanten Trades. "
   ]
  },
  {
   "cell_type": "code",
   "execution_count": 192,
   "metadata": {},
   "outputs": [],
   "source": [
    "days = 5\n",
    "\n",
    "# Identify end of month\n",
    "end_of_month = stock.groupby([stock.index.year, stock.index.month]).tail(days)\n",
    "\n",
    "# Identify beginning of month\n",
    "beginning_of_month = stock.groupby([stock.index.year, stock.index.month]).head(days)\n",
    "\n",
    "# add countdown\n",
    "end_of_month[\"countdown\"] = -1\n",
    "end_of_month[\"days\"] = end_of_month[\"countdown\"].cumsum().add(1).mod(days)\n",
    "end_of_month.loc[end_of_month.days == 0, \"days\"] = days\n",
    "end_of_month[\"days\"] = end_of_month[\"days\"] * -1\n",
    "\n",
    "beginning_of_month[\"countdown\"] = 1\n",
    "beginning_of_month[\"days\"] = beginning_of_month[\"countdown\"].cumsum().mod(days)\n",
    "beginning_of_month.loc[beginning_of_month.days == 0, \"days\"] = days\n",
    "\n",
    "# Combine the results\n",
    "marked_days = pd.concat([end_of_month, beginning_of_month])\n",
    "marked_days[\"hold\"] = 1\n",
    "\n",
    "df = pd.merge(\n",
    "    left=stock,\n",
    "    right=marked_days[[\"hold\", \"days\"]],\n",
    "    left_index=True,\n",
    "    right_index=True,\n",
    "    how=\"left\",\n",
    ")\n",
    "\n",
    "df.hold = df.hold.fillna(0)\n",
    "\n",
    "df[\"buy\"] = np.where(\n",
    "    (df.hold.shift(1) == 0) & (df.hold == 1),\n",
    "    1,\n",
    "    np.where((df.hold == 1) & (df.hold.shift(-1) == 0), -1, np.nan),\n",
    ")\n",
    "\n",
    "df.hold = np.where(df.hold == 1, df.Low, np.nan)"
   ]
  },
  {
   "cell_type": "markdown",
   "metadata": {},
   "source": [
    "## Jetzt zur Strategie\n",
    "Es wird 5 Tage vor Monatsende gekauft und 5 Tage nach Monatsanfang gekauft"
   ]
  },
  {
   "cell_type": "code",
   "execution_count": 193,
   "metadata": {},
   "outputs": [],
   "source": [
    "from backtesting import Strategy\n",
    "\n",
    "\n",
    "class end_of_month(Strategy):\n",
    "    \"\"\"\n",
    "    strategy for trend_trading\n",
    "    \"\"\"\n",
    "\n",
    "    days_before = -5\n",
    "    days_after = 5\n",
    "\n",
    "    def ohlc(self, pos=-1) -> tuple:\n",
    "        \"\"\"\n",
    "        helper function for ohlc data\n",
    "        \"\"\"\n",
    "        return (\n",
    "            self.data.Open[pos],\n",
    "            self.data.High[pos],\n",
    "            self.data.Low[pos],\n",
    "            self.data.Close[pos],\n",
    "        )\n",
    "\n",
    "    def init(self):\n",
    "        super().init()\n",
    "\n",
    "        self.sma = self.I(lambda: self.data.sma, name=\"SMA\")\n",
    "\n",
    "        # self.rsi = self.I(lambda: self.data.rsi, name=\"RSI\", overlay=False)\n",
    "        self.atr_10 = self.I(lambda: self.data.atr_10, name=\"ATR\", overlay=False)\n",
    "\n",
    "        self.vix = self.I(lambda: self.data.vix, name=\"VIX\", overlay=False)\n",
    "        self.yield_5yr = self.I(\n",
    "            lambda: self.data.yield_5yr, name=\"Yield 5\", overlay=False\n",
    "        )\n",
    "\n",
    "    def next(self):\n",
    "        # super().next()\n",
    "\n",
    "        _open, _high, _low, _close = self.ohlc()\n",
    "\n",
    "        # trade management for an existing trade\n",
    "        for trade in self.trades:\n",
    "            if trade.is_long:\n",
    "                if self.data.days[-1] == self.days_after:\n",
    "                    trade.close()\n",
    "\n",
    "        if self.data.days[-1] == self.days_before:\n",
    "            self.buy()"
   ]
  },
  {
   "cell_type": "code",
   "execution_count": 194,
   "metadata": {},
   "outputs": [
    {
     "data": {
      "text/plain": [
       "Start                     2012-01-03 00:00:00\n",
       "End                       2024-04-16 00:00:00\n",
       "Duration                   4487 days 00:00:00\n",
       "Exposure Time [%]                   48.013029\n",
       "Equity Final [$]                284214.017173\n",
       "Equity Peak [$]                 294184.075225\n",
       "Return [%]                         184.214017\n",
       "Buy & Hold Return [%]              657.644982\n",
       "Return (Ann.) [%]                    8.952538\n",
       "Volatility (Ann.) [%]               14.789905\n",
       "Sharpe Ratio                         0.605314\n",
       "Sortino Ratio                        0.973753\n",
       "Calmar Ratio                         0.429178\n",
       "Max. Drawdown [%]                  -20.859709\n",
       "Avg. Drawdown [%]                   -2.795179\n",
       "Max. Drawdown Duration     1184 days 00:00:00\n",
       "Avg. Drawdown Duration       51 days 00:00:00\n",
       "# Trades                                  148\n",
       "Win Rate [%]                        58.783784\n",
       "Best Trade [%]                      10.941882\n",
       "Worst Trade [%]                     -7.804955\n",
       "Avg. Trade [%]                       0.708559\n",
       "Max. Trade Duration          17 days 00:00:00\n",
       "Avg. Trade Duration          14 days 00:00:00\n",
       "Profit Factor                        1.820476\n",
       "Expectancy [%]                       0.761812\n",
       "SQN                                  2.407586\n",
       "_strategy                        end_of_month\n",
       "_equity_curve                             ...\n",
       "_trades                        Size  Entry...\n",
       "dtype: object"
      ]
     },
     "execution_count": 194,
     "metadata": {},
     "output_type": "execute_result"
    }
   ],
   "source": [
    "from backtesting import Backtest\n",
    "\n",
    "bt = Backtest(\n",
    "    df[\"2012-01-01\":], end_of_month, cash=100_000, commission=0.002, trade_on_close=True\n",
    ")\n",
    "stats = bt.run()\n",
    "bt.plot(superimpose=False, open_browser=False)\n",
    "stats"
   ]
  },
  {
   "cell_type": "code",
   "execution_count": 195,
   "metadata": {},
   "outputs": [
    {
     "data": {
      "text/plain": [
       "<Axes: xlabel='EntryTime', ylabel='ReturnPct'>"
      ]
     },
     "execution_count": 195,
     "metadata": {},
     "output_type": "execute_result"
    },
    {
     "data": {
      "image/png": "[encoded data removed]",
      "text/plain": [
       "<Figure size 640x480 with 1 Axes>"
      ]
     },
     "metadata": {},
     "output_type": "display_data"
    }
   ],
   "source": [
    "trades = stats[\"_trades\"]\n",
    "trades.plot.scatter(y=\"ReturnPct\", x=\"EntryTime\")"
   ]
  },
  {
   "cell_type": "code",
   "execution_count": 196,
   "metadata": {},
   "outputs": [
    {
     "data": {
      "text/html": [
       "<div>\n",
       "<style scoped>\n",
       "    .dataframe tbody tr th:only-of-type {\n",
       "        vertical-align: middle;\n",
       "    }\n",
       "\n",
       "    .dataframe tbody tr th {\n",
       "        vertical-align: top;\n",
       "    }\n",
       "\n",
       "    .dataframe thead th {\n",
       "        text-align: right;\n",
       "    }\n",
       "</style>\n",
       "<table border=\"1\" class=\"dataframe\">\n",
       "  <thead>\n",
       "    <tr style=\"text-align: right;\">\n",
       "      <th></th>\n",
       "      <th>Size</th>\n",
       "      <th>EntryBar</th>\n",
       "      <th>ExitBar</th>\n",
       "      <th>EntryPrice</th>\n",
       "      <th>ExitPrice</th>\n",
       "      <th>PnL</th>\n",
       "      <th>ReturnPct</th>\n",
       "      <th>EntryTime</th>\n",
       "      <th>ExitTime</th>\n",
       "      <th>Duration</th>\n",
       "    </tr>\n",
       "  </thead>\n",
       "  <tbody>\n",
       "    <tr>\n",
       "      <th>47</th>\n",
       "      <td>1075</td>\n",
       "      <td>986</td>\n",
       "      <td>995</td>\n",
       "      <td>112.815176</td>\n",
       "      <td>104.010002</td>\n",
       "      <td>-9465.562259</td>\n",
       "      <td>-0.078050</td>\n",
       "      <td>2015-12-24</td>\n",
       "      <td>2016-01-08</td>\n",
       "      <td>15 days</td>\n",
       "    </tr>\n",
       "    <tr>\n",
       "      <th>72</th>\n",
       "      <td>809</td>\n",
       "      <td>1508</td>\n",
       "      <td>1517</td>\n",
       "      <td>168.686706</td>\n",
       "      <td>160.210007</td>\n",
       "      <td>-6857.649816</td>\n",
       "      <td>-0.050251</td>\n",
       "      <td>2018-01-25</td>\n",
       "      <td>2018-02-07</td>\n",
       "      <td>13 days</td>\n",
       "    </tr>\n",
       "    <tr>\n",
       "      <th>97</th>\n",
       "      <td>803</td>\n",
       "      <td>2027</td>\n",
       "      <td>2036</td>\n",
       "      <td>221.832779</td>\n",
       "      <td>208.020004</td>\n",
       "      <td>-11091.658418</td>\n",
       "      <td>-0.062267</td>\n",
       "      <td>2020-02-24</td>\n",
       "      <td>2020-03-06</td>\n",
       "      <td>11 days</td>\n",
       "    </tr>\n",
       "    <tr>\n",
       "      <th>103</th>\n",
       "      <td>760</td>\n",
       "      <td>2154</td>\n",
       "      <td>2163</td>\n",
       "      <td>286.431705</td>\n",
       "      <td>269.950012</td>\n",
       "      <td>-12526.086768</td>\n",
       "      <td>-0.057541</td>\n",
       "      <td>2020-08-25</td>\n",
       "      <td>2020-09-08</td>\n",
       "      <td>14 days</td>\n",
       "    </tr>\n",
       "    <tr>\n",
       "      <th>119</th>\n",
       "      <td>655</td>\n",
       "      <td>2491</td>\n",
       "      <td>2500</td>\n",
       "      <td>404.286971</td>\n",
       "      <td>379.859985</td>\n",
       "      <td>-15999.675605</td>\n",
       "      <td>-0.060420</td>\n",
       "      <td>2021-12-27</td>\n",
       "      <td>2022-01-07</td>\n",
       "      <td>11 days</td>\n",
       "    </tr>\n",
       "    <tr>\n",
       "      <th>123</th>\n",
       "      <td>729</td>\n",
       "      <td>2573</td>\n",
       "      <td>2582</td>\n",
       "      <td>330.239147</td>\n",
       "      <td>309.250000</td>\n",
       "      <td>-15301.087832</td>\n",
       "      <td>-0.063557</td>\n",
       "      <td>2022-04-25</td>\n",
       "      <td>2022-05-06</td>\n",
       "      <td>11 days</td>\n",
       "    </tr>\n",
       "    <tr>\n",
       "      <th>127</th>\n",
       "      <td>809</td>\n",
       "      <td>2658</td>\n",
       "      <td>2667</td>\n",
       "      <td>321.221147</td>\n",
       "      <td>300.519989</td>\n",
       "      <td>-16747.236443</td>\n",
       "      <td>-0.064445</td>\n",
       "      <td>2022-08-25</td>\n",
       "      <td>2022-09-08</td>\n",
       "      <td>14 days</td>\n",
       "    </tr>\n",
       "    <tr>\n",
       "      <th>129</th>\n",
       "      <td>836</td>\n",
       "      <td>2700</td>\n",
       "      <td>2709</td>\n",
       "      <td>284.778411</td>\n",
       "      <td>267.589996</td>\n",
       "      <td>-14369.515024</td>\n",
       "      <td>-0.060357</td>\n",
       "      <td>2022-10-25</td>\n",
       "      <td>2022-11-07</td>\n",
       "      <td>13 days</td>\n",
       "    </tr>\n",
       "  </tbody>\n",
       "</table>\n",
       "</div>"
      ],
      "text/plain": [
       "     Size  EntryBar  ExitBar  EntryPrice   ExitPrice           PnL  ReturnPct  \\\n",
       "47   1075       986      995  112.815176  104.010002  -9465.562259  -0.078050   \n",
       "72    809      1508     1517  168.686706  160.210007  -6857.649816  -0.050251   \n",
       "97    803      2027     2036  221.832779  208.020004 -11091.658418  -0.062267   \n",
       "103   760      2154     2163  286.431705  269.950012 -12526.086768  -0.057541   \n",
       "119   655      2491     2500  404.286971  379.859985 -15999.675605  -0.060420   \n",
       "123   729      2573     2582  330.239147  309.250000 -15301.087832  -0.063557   \n",
       "127   809      2658     2667  321.221147  300.519989 -16747.236443  -0.064445   \n",
       "129   836      2700     2709  284.778411  267.589996 -14369.515024  -0.060357   \n",
       "\n",
       "     EntryTime   ExitTime Duration  \n",
       "47  2015-12-24 2016-01-08  15 days  \n",
       "72  2018-01-25 2018-02-07  13 days  \n",
       "97  2020-02-24 2020-03-06  11 days  \n",
       "103 2020-08-25 2020-09-08  14 days  \n",
       "119 2021-12-27 2022-01-07  11 days  \n",
       "123 2022-04-25 2022-05-06  11 days  \n",
       "127 2022-08-25 2022-09-08  14 days  \n",
       "129 2022-10-25 2022-11-07  13 days  "
      ]
     },
     "execution_count": 196,
     "metadata": {},
     "output_type": "execute_result"
    }
   ],
   "source": [
    "trades[trades.ReturnPct < -0.05]"
   ]
  },
  {
   "cell_type": "markdown",
   "metadata": {},
   "source": [
    "Vielleicht wäre ein Stopp doch hilfreich"
   ]
  },
  {
   "cell_type": "code",
   "execution_count": 197,
   "metadata": {},
   "outputs": [],
   "source": [
    "class end_of_month_with_SL(end_of_month):\n",
    "    \"\"\"\n",
    "    strategy for trend_trading\n",
    "    \"\"\"\n",
    "\n",
    "    skip_month = []\n",
    "\n",
    "    def next(self):\n",
    "        _open, _high, _low, _close = self.ohlc()\n",
    "\n",
    "        # trade management for an existing trade\n",
    "        for trade in self.trades:\n",
    "            if trade.is_long:\n",
    "                if trade.pl_pct < -0.05:\n",
    "                    trade.close()\n",
    "\n",
    "                if self.data.days[-1] == self.days_after:\n",
    "                    trade.close()\n",
    "\n",
    "        if (\n",
    "            self.data.days[-1] == self.days_before\n",
    "            and self.data.month[-1] not in self.skip_month\n",
    "        ):\n",
    "            self.buy()"
   ]
  },
  {
   "cell_type": "code",
   "execution_count": 198,
   "metadata": {},
   "outputs": [
    {
     "data": {
      "text/plain": [
       "Start                     2012-01-03 00:00:00\n",
       "End                       2024-04-16 00:00:00\n",
       "Duration                   4487 days 00:00:00\n",
       "Exposure Time [%]                   46.840391\n",
       "Equity Final [$]                256533.806001\n",
       "Equity Peak [$]                 265534.137721\n",
       "Return [%]                         156.533806\n",
       "Buy & Hold Return [%]              657.644982\n",
       "Return (Ann.) [%]                    8.039983\n",
       "Volatility (Ann.) [%]               14.161055\n",
       "Sharpe Ratio                         0.567753\n",
       "Sortino Ratio                        0.901441\n",
       "Calmar Ratio                         0.345937\n",
       "Max. Drawdown [%]                  -23.241195\n",
       "Avg. Drawdown [%]                   -2.955897\n",
       "Max. Drawdown Duration     1155 days 00:00:00\n",
       "Avg. Drawdown Duration       59 days 00:00:00\n",
       "# Trades                                  148\n",
       "Win Rate [%]                        58.108108\n",
       "Best Trade [%]                      10.941882\n",
       "Worst Trade [%]                     -7.299543\n",
       "Avg. Trade [%]                       0.638835\n",
       "Max. Trade Duration          17 days 00:00:00\n",
       "Avg. Trade Duration          13 days 00:00:00\n",
       "Profit Factor                        1.698658\n",
       "Expectancy [%]                       0.695084\n",
       "SQN                                  2.094038\n",
       "_strategy                 end_of_month_wit...\n",
       "_equity_curve                             ...\n",
       "_trades                        Size  Entry...\n",
       "dtype: object"
      ]
     },
     "execution_count": 198,
     "metadata": {},
     "output_type": "execute_result"
    }
   ],
   "source": [
    "from backtesting import Backtest\n",
    "\n",
    "bt = Backtest(\n",
    "    df[\"2012-01-01\":],\n",
    "    end_of_month_with_SL,\n",
    "    cash=100_000,\n",
    "    commission=0.002,\n",
    "    trade_on_close=True,\n",
    ")\n",
    "stats = bt.run()\n",
    "bt.plot(superimpose=False, open_browser=False)\n",
    "stats"
   ]
  },
  {
   "cell_type": "code",
   "execution_count": 199,
   "metadata": {},
   "outputs": [
    {
     "data": {
      "text/plain": [
       "<Axes: xlabel='EntryTime', ylabel='ReturnPct'>"
      ]
     },
     "execution_count": 199,
     "metadata": {},
     "output_type": "execute_result"
    },
    {
     "data": {
      "image/png": "[encoded data removed]",
      "text/plain": [
       "<Figure size 640x480 with 1 Axes>"
      ]
     },
     "metadata": {},
     "output_type": "display_data"
    }
   ],
   "source": [
    "trades = stats[\"_trades\"]\n",
    "trades.plot.scatter(y=\"ReturnPct\", x=\"EntryTime\")"
   ]
  },
  {
   "cell_type": "markdown",
   "metadata": {},
   "source": [
    "jetzt wird überprüft welche Tage für die Ein- und Ausstiege besser sein könnten."
   ]
  },
  {
   "cell_type": "code",
   "execution_count": 200,
   "metadata": {},
   "outputs": [
    {
     "name": "stderr",
     "output_type": "stream",
     "text": [
      "/Users/produktmanagement/Python/github/backtesting-trading-strategies/.venv/lib/python3.12/site-packages/backtesting/backtesting.py:1375: UserWarning: For multiprocessing support in `Backtest.optimize()` set multiprocessing start method to 'fork'.\n",
      "  warnings.warn(\"For multiprocessing support in `Backtest.optimize()` \"\n"
     ]
    }
   ],
   "source": [
    "stats, heatmap = bt.optimize(\n",
    "    days_before=range(-5, 0, 1),\n",
    "    days_after=range(1, 6),\n",
    "    maximize=\"Profit Factor\",  # \"Equity Final [$]\",\n",
    "    max_tries=200,\n",
    "    random_state=0,\n",
    "    return_heatmap=True,\n",
    ")"
   ]
  },
  {
   "cell_type": "code",
   "execution_count": 201,
   "metadata": {},
   "outputs": [
    {
     "data": {
      "text/plain": [
       "days_before  days_after\n",
       "-5           4             1.643891\n",
       "             2             1.662736\n",
       "             5             1.698658\n",
       "Name: Profit Factor, dtype: float64"
      ]
     },
     "execution_count": 201,
     "metadata": {},
     "output_type": "execute_result"
    }
   ],
   "source": [
    "# heatmap\n",
    "heatmap.sort_values().iloc[-3:]"
   ]
  },
  {
   "cell_type": "code",
   "execution_count": 202,
   "metadata": {},
   "outputs": [
    {
     "data": {
      "text/html": [
       "<div>\n",
       "<style scoped>\n",
       "    .dataframe tbody tr th:only-of-type {\n",
       "        vertical-align: middle;\n",
       "    }\n",
       "\n",
       "    .dataframe tbody tr th {\n",
       "        vertical-align: top;\n",
       "    }\n",
       "\n",
       "    .dataframe thead th {\n",
       "        text-align: right;\n",
       "    }\n",
       "</style>\n",
       "<table border=\"1\" class=\"dataframe\">\n",
       "  <thead>\n",
       "    <tr style=\"text-align: right;\">\n",
       "      <th>days_after</th>\n",
       "      <th>1</th>\n",
       "      <th>2</th>\n",
       "      <th>3</th>\n",
       "      <th>4</th>\n",
       "      <th>5</th>\n",
       "    </tr>\n",
       "    <tr>\n",
       "      <th>days_before</th>\n",
       "      <th></th>\n",
       "      <th></th>\n",
       "      <th></th>\n",
       "      <th></th>\n",
       "      <th></th>\n",
       "    </tr>\n",
       "  </thead>\n",
       "  <tbody>\n",
       "    <tr>\n",
       "      <th>-5</th>\n",
       "      <td>1.616865</td>\n",
       "      <td>1.662736</td>\n",
       "      <td>1.510898</td>\n",
       "      <td>1.643891</td>\n",
       "      <td>1.698658</td>\n",
       "    </tr>\n",
       "    <tr>\n",
       "      <th>-4</th>\n",
       "      <td>1.599565</td>\n",
       "      <td>1.573967</td>\n",
       "      <td>1.491809</td>\n",
       "      <td>1.530184</td>\n",
       "      <td>1.607998</td>\n",
       "    </tr>\n",
       "    <tr>\n",
       "      <th>-3</th>\n",
       "      <td>1.459339</td>\n",
       "      <td>1.519721</td>\n",
       "      <td>1.374460</td>\n",
       "      <td>1.547403</td>\n",
       "      <td>1.619404</td>\n",
       "    </tr>\n",
       "    <tr>\n",
       "      <th>-2</th>\n",
       "      <td>1.128409</td>\n",
       "      <td>1.168292</td>\n",
       "      <td>1.160322</td>\n",
       "      <td>1.205277</td>\n",
       "      <td>1.306228</td>\n",
       "    </tr>\n",
       "    <tr>\n",
       "      <th>-1</th>\n",
       "      <td>1.082690</td>\n",
       "      <td>1.149773</td>\n",
       "      <td>1.106277</td>\n",
       "      <td>1.225685</td>\n",
       "      <td>1.329716</td>\n",
       "    </tr>\n",
       "  </tbody>\n",
       "</table>\n",
       "</div>"
      ],
      "text/plain": [
       "days_after          1         2         3         4         5\n",
       "days_before                                                  \n",
       "-5           1.616865  1.662736  1.510898  1.643891  1.698658\n",
       "-4           1.599565  1.573967  1.491809  1.530184  1.607998\n",
       "-3           1.459339  1.519721  1.374460  1.547403  1.619404\n",
       "-2           1.128409  1.168292  1.160322  1.205277  1.306228\n",
       "-1           1.082690  1.149773  1.106277  1.225685  1.329716"
      ]
     },
     "execution_count": 202,
     "metadata": {},
     "output_type": "execute_result"
    }
   ],
   "source": [
    "heatmap.groupby([\"days_before\", \"days_after\"]).mean().unstack()"
   ]
  },
  {
   "cell_type": "code",
   "execution_count": 203,
   "metadata": {},
   "outputs": [
    {
     "data": {
      "text/plain": [
       "Start                     2012-01-03 00:00:00\n",
       "End                       2024-04-16 00:00:00\n",
       "Duration                   4487 days 00:00:00\n",
       "Exposure Time [%]                   46.840391\n",
       "Equity Final [$]                256533.806001\n",
       "Equity Peak [$]                 265534.137721\n",
       "Return [%]                         156.533806\n",
       "Buy & Hold Return [%]              657.644982\n",
       "Return (Ann.) [%]                    8.039983\n",
       "Volatility (Ann.) [%]               14.161055\n",
       "Sharpe Ratio                         0.567753\n",
       "Sortino Ratio                        0.901441\n",
       "Calmar Ratio                         0.345937\n",
       "Max. Drawdown [%]                  -23.241195\n",
       "Avg. Drawdown [%]                   -2.955897\n",
       "Max. Drawdown Duration     1155 days 00:00:00\n",
       "Avg. Drawdown Duration       59 days 00:00:00\n",
       "# Trades                                  148\n",
       "Win Rate [%]                        58.108108\n",
       "Best Trade [%]                      10.941882\n",
       "Worst Trade [%]                     -7.299543\n",
       "Avg. Trade [%]                       0.638835\n",
       "Max. Trade Duration          17 days 00:00:00\n",
       "Avg. Trade Duration          13 days 00:00:00\n",
       "Profit Factor                        1.698658\n",
       "Expectancy [%]                       0.695084\n",
       "SQN                                  2.094038\n",
       "_strategy                 end_of_month_wit...\n",
       "_equity_curve                             ...\n",
       "_trades                        Size  Entry...\n",
       "dtype: object"
      ]
     },
     "execution_count": 203,
     "metadata": {},
     "output_type": "execute_result"
    }
   ],
   "source": [
    "stats"
   ]
  },
  {
   "cell_type": "markdown",
   "metadata": {},
   "source": [
    "The Winner is ..."
   ]
  },
  {
   "cell_type": "code",
   "execution_count": 204,
   "metadata": {},
   "outputs": [
    {
     "data": {
      "text/plain": [
       "<Strategy end_of_month_with_SL(days_before=-5,days_after=5)>"
      ]
     },
     "execution_count": 204,
     "metadata": {},
     "output_type": "execute_result"
    }
   ],
   "source": [
    "stats[\"_strategy\"]"
   ]
  },
  {
   "cell_type": "code",
   "execution_count": 205,
   "metadata": {},
   "outputs": [
    {
     "data": {
      "text/html": [
       "<div style=\"display: table;\"><div style=\"display: table-row;\"><div style=\"display: table-cell;\"><b title=\"bokeh.models.layouts.Row\">Row</b>(</div><div style=\"display: table-cell;\">id&nbsp;=&nbsp;'35623', <span id=\"36562\" style=\"cursor: pointer;\">&hellip;)</span></div></div><div class=\"36561\" style=\"display: none;\"><div style=\"display: table-cell;\"></div><div style=\"display: table-cell;\">align&nbsp;=&nbsp;'start',</div></div><div class=\"36561\" style=\"display: none;\"><div style=\"display: table-cell;\"></div><div style=\"display: table-cell;\">aspect_ratio&nbsp;=&nbsp;None,</div></div><div class=\"36561\" style=\"display: none;\"><div style=\"display: table-cell;\"></div><div style=\"display: table-cell;\">background&nbsp;=&nbsp;None,</div></div><div class=\"36561\" style=\"display: none;\"><div style=\"display: table-cell;\"></div><div style=\"display: table-cell;\">children&nbsp;=&nbsp;[GridBox(id='35620', ...), ToolbarBox(id='35622', ...)],</div></div><div class=\"36561\" style=\"display: none;\"><div style=\"display: table-cell;\"></div><div style=\"display: table-cell;\">cols&nbsp;=&nbsp;'auto',</div></div><div class=\"36561\" style=\"display: none;\"><div style=\"display: table-cell;\"></div><div style=\"display: table-cell;\">css_classes&nbsp;=&nbsp;[],</div></div><div class=\"36561\" style=\"display: none;\"><div style=\"display: table-cell;\"></div><div style=\"display: table-cell;\">disabled&nbsp;=&nbsp;False,</div></div><div class=\"36561\" style=\"display: none;\"><div style=\"display: table-cell;\"></div><div style=\"display: table-cell;\">height&nbsp;=&nbsp;None,</div></div><div class=\"36561\" style=\"display: none;\"><div style=\"display: table-cell;\"></div><div style=\"display: table-cell;\">height_policy&nbsp;=&nbsp;'auto',</div></div><div class=\"36561\" style=\"display: none;\"><div style=\"display: table-cell;\"></div><div style=\"display: table-cell;\">js_event_callbacks&nbsp;=&nbsp;{},</div></div><div class=\"36561\" style=\"display: none;\"><div style=\"display: table-cell;\"></div><div style=\"display: table-cell;\">js_property_callbacks&nbsp;=&nbsp;{},</div></div><div class=\"36561\" style=\"display: none;\"><div style=\"display: table-cell;\"></div><div style=\"display: table-cell;\">margin&nbsp;=&nbsp;(0, 0, 0, 0),</div></div><div class=\"36561\" style=\"display: none;\"><div style=\"display: table-cell;\"></div><div style=\"display: table-cell;\">max_height&nbsp;=&nbsp;None,</div></div><div class=\"36561\" style=\"display: none;\"><div style=\"display: table-cell;\"></div><div style=\"display: table-cell;\">max_width&nbsp;=&nbsp;None,</div></div><div class=\"36561\" style=\"display: none;\"><div style=\"display: table-cell;\"></div><div style=\"display: table-cell;\">min_height&nbsp;=&nbsp;None,</div></div><div class=\"36561\" style=\"display: none;\"><div style=\"display: table-cell;\"></div><div style=\"display: table-cell;\">min_width&nbsp;=&nbsp;None,</div></div><div class=\"36561\" style=\"display: none;\"><div style=\"display: table-cell;\"></div><div style=\"display: table-cell;\">name&nbsp;=&nbsp;None,</div></div><div class=\"36561\" style=\"display: none;\"><div style=\"display: table-cell;\"></div><div style=\"display: table-cell;\">sizing_mode&nbsp;=&nbsp;'stretch_width',</div></div><div class=\"36561\" style=\"display: none;\"><div style=\"display: table-cell;\"></div><div style=\"display: table-cell;\">spacing&nbsp;=&nbsp;0,</div></div><div class=\"36561\" style=\"display: none;\"><div style=\"display: table-cell;\"></div><div style=\"display: table-cell;\">subscribed_events&nbsp;=&nbsp;[],</div></div><div class=\"36561\" style=\"display: none;\"><div style=\"display: table-cell;\"></div><div style=\"display: table-cell;\">syncable&nbsp;=&nbsp;True,</div></div><div class=\"36561\" style=\"display: none;\"><div style=\"display: table-cell;\"></div><div style=\"display: table-cell;\">tags&nbsp;=&nbsp;[],</div></div><div class=\"36561\" style=\"display: none;\"><div style=\"display: table-cell;\"></div><div style=\"display: table-cell;\">visible&nbsp;=&nbsp;True,</div></div><div class=\"36561\" style=\"display: none;\"><div style=\"display: table-cell;\"></div><div style=\"display: table-cell;\">width&nbsp;=&nbsp;None,</div></div><div class=\"36561\" style=\"display: none;\"><div style=\"display: table-cell;\"></div><div style=\"display: table-cell;\">width_policy&nbsp;=&nbsp;'auto')</div></div></div>\n",
       "<script>\n",
       "(function() {\n",
       "  let expanded = false;\n",
       "  const ellipsis = document.getElementById(\"36562\");\n",
       "  ellipsis.addEventListener(\"click\", function() {\n",
       "    const rows = document.getElementsByClassName(\"36561\");\n",
       "    for (let i = 0; i < rows.length; i++) {\n",
       "      const el = rows[i];\n",
       "      el.style.display = expanded ? \"none\" : \"table-row\";\n",
       "    }\n",
       "    ellipsis.innerHTML = expanded ? \"&hellip;)\" : \"&lsaquo;&lsaquo;&lsaquo;\";\n",
       "    expanded = !expanded;\n",
       "  });\n",
       "})();\n",
       "</script>\n"
      ],
      "text/plain": [
       "Row(id='35623', ...)"
      ]
     },
     "execution_count": 205,
     "metadata": {},
     "output_type": "execute_result"
    }
   ],
   "source": [
    "# bt = Backtest(df[\"2012-01-01\":], end_of_month, cash=100_000, commission=0.002)\n",
    "stats = bt.run(days_before=-5, days_after=5)\n",
    "bt.plot(superimpose=False, open_browser=False)"
   ]
  },
  {
   "cell_type": "code",
   "execution_count": 206,
   "metadata": {},
   "outputs": [
    {
     "data": {
      "text/plain": [
       "Start                     2012-01-03 00:00:00\n",
       "End                       2024-04-16 00:00:00\n",
       "Duration                   4487 days 00:00:00\n",
       "Exposure Time [%]                   46.840391\n",
       "Equity Final [$]                256533.806001\n",
       "Equity Peak [$]                 265534.137721\n",
       "Return [%]                         156.533806\n",
       "Buy & Hold Return [%]              657.644982\n",
       "Return (Ann.) [%]                    8.039983\n",
       "Volatility (Ann.) [%]               14.161055\n",
       "Sharpe Ratio                         0.567753\n",
       "Sortino Ratio                        0.901441\n",
       "Calmar Ratio                         0.345937\n",
       "Max. Drawdown [%]                  -23.241195\n",
       "Avg. Drawdown [%]                   -2.955897\n",
       "Max. Drawdown Duration     1155 days 00:00:00\n",
       "Avg. Drawdown Duration       59 days 00:00:00\n",
       "# Trades                                  148\n",
       "Win Rate [%]                        58.108108\n",
       "Best Trade [%]                      10.941882\n",
       "Worst Trade [%]                     -7.299543\n",
       "Avg. Trade [%]                       0.638835\n",
       "Max. Trade Duration          17 days 00:00:00\n",
       "Avg. Trade Duration          13 days 00:00:00\n",
       "Profit Factor                        1.698658\n",
       "Expectancy [%]                       0.695084\n",
       "SQN                                  2.094038\n",
       "_strategy                 end_of_month_wit...\n",
       "_equity_curve                             ...\n",
       "_trades                        Size  Entry...\n",
       "dtype: object"
      ]
     },
     "execution_count": 206,
     "metadata": {},
     "output_type": "execute_result"
    }
   ],
   "source": [
    "stats"
   ]
  },
  {
   "cell_type": "markdown",
   "metadata": {},
   "source": [
    "Die Win Rate beim Trading bezieht sich auf das Verhältnis der Anzahl der gewonnenen Trades zur Gesamtanzahl der Trades. \n",
    "Wenn jemand beispielsweise 70% seiner Trades gewinnt, beträgt seine Win Rate 70%."
   ]
  },
  {
   "cell_type": "code",
   "execution_count": 207,
   "metadata": {},
   "outputs": [
    {
     "data": {
      "text/plain": [
       "58.108108108108105"
      ]
     },
     "execution_count": 207,
     "metadata": {},
     "output_type": "execute_result"
    }
   ],
   "source": [
    "stats[\"Win Rate [%]\"]"
   ]
  },
  {
   "cell_type": "markdown",
   "metadata": {},
   "source": [
    "Durchschnittlicher Gewinn in Prozent. \n",
    "Wie viel Gewinn oder Verlust wurden im Durchschnitt pro Trade erzielt."
   ]
  },
  {
   "cell_type": "code",
   "execution_count": 208,
   "metadata": {},
   "outputs": [
    {
     "data": {
      "text/plain": [
       "0.6388346215241647"
      ]
     },
     "execution_count": 208,
     "metadata": {},
     "output_type": "execute_result"
    }
   ],
   "source": [
    "stats[\"Avg. Trade [%]\"]"
   ]
  },
  {
   "cell_type": "markdown",
   "metadata": {},
   "source": [
    "Der Profit-Faktor stellt die Verhältnisse zwischen Gewinnen und Verlusten dar.\n",
    "Der Profit-Faktor wird berechnet, indem die Summe aller Profite (Gewinne) durch die Summe aller Verluste (einschließlich Gebühren und Kommissionen) für den gesamten Handelszeitraum geteilt wird.\n",
    "Ein Profit-Faktor größer als 1 zeigt an, dass die Strategie profitabel ist. Je höher der Wert, desto besser.\n",
    "\n",
    "Ein guter Profit-Faktor liegt normalerweise zwischen 1,75 und 41.\n",
    "Ein Wert über 1,75 zeigt eine solide Strategie an, während Werte über 4 außergewöhnlich gut sind."
   ]
  },
  {
   "cell_type": "code",
   "execution_count": 209,
   "metadata": {},
   "outputs": [
    {
     "data": {
      "text/plain": [
       "1.6986577862880257"
      ]
     },
     "execution_count": 209,
     "metadata": {},
     "output_type": "execute_result"
    }
   ],
   "source": [
    "stats[\"Profit Factor\"]"
   ]
  },
  {
   "cell_type": "code",
   "execution_count": 210,
   "metadata": {},
   "outputs": [],
   "source": [
    "trades = stats[\"_trades\"]\n",
    "\n",
    "for index, row in trades.iterrows():\n",
    "    start_range = stock[: row[\"EntryTime\"]]\n",
    "    trades.loc[index, \"SignalTime\"] = start_range.index.values[-2]\n",
    "\n",
    "merged = pd.merge(\n",
    "    trades,\n",
    "    df[\n",
    "        [\n",
    "            \"adx_10\",\n",
    "            \"adx_direction\",\n",
    "            \"rsi_3\",\n",
    "            \"rsi_7\",\n",
    "            \"rsi_10\",\n",
    "            \"sma_20\",\n",
    "            \"sma_50\",\n",
    "            \"sma_100\",\n",
    "            \"sma_200\",\n",
    "        ]\n",
    "    ],\n",
    "    left_on=\"SignalTime\",\n",
    "    right_index=True,\n",
    ")\n",
    "# merged[\"win\"] = np.where(merged.PnL > 0, 1, -1)\n",
    "# merged[\"win\"] = np.where(merged.PnL > 0, 1, -1)"
   ]
  },
  {
   "cell_type": "code",
   "execution_count": 211,
   "metadata": {},
   "outputs": [
    {
     "name": "stdout",
     "output_type": "stream",
     "text": [
      "Month to skip [2, 4, 8, 9]\n"
     ]
    },
    {
     "data": {
      "text/html": [
       "<div>\n",
       "<style scoped>\n",
       "    .dataframe tbody tr th:only-of-type {\n",
       "        vertical-align: middle;\n",
       "    }\n",
       "\n",
       "    .dataframe tbody tr th {\n",
       "        vertical-align: top;\n",
       "    }\n",
       "\n",
       "    .dataframe thead th {\n",
       "        text-align: right;\n",
       "    }\n",
       "</style>\n",
       "<table border=\"1\" class=\"dataframe\">\n",
       "  <thead>\n",
       "    <tr style=\"text-align: right;\">\n",
       "      <th></th>\n",
       "      <th>ReturnPct</th>\n",
       "    </tr>\n",
       "    <tr>\n",
       "      <th>ExitTime</th>\n",
       "      <th></th>\n",
       "    </tr>\n",
       "  </thead>\n",
       "  <tbody>\n",
       "    <tr>\n",
       "      <th>1</th>\n",
       "      <td>0.0916</td>\n",
       "    </tr>\n",
       "    <tr>\n",
       "      <th>2</th>\n",
       "      <td>0.0537</td>\n",
       "    </tr>\n",
       "    <tr>\n",
       "      <th>3</th>\n",
       "      <td>-0.0139</td>\n",
       "    </tr>\n",
       "    <tr>\n",
       "      <th>4</th>\n",
       "      <td>0.0627</td>\n",
       "    </tr>\n",
       "    <tr>\n",
       "      <th>5</th>\n",
       "      <td>0.0566</td>\n",
       "    </tr>\n",
       "    <tr>\n",
       "      <th>6</th>\n",
       "      <td>0.2218</td>\n",
       "    </tr>\n",
       "    <tr>\n",
       "      <th>7</th>\n",
       "      <td>0.2315</td>\n",
       "    </tr>\n",
       "    <tr>\n",
       "      <th>8</th>\n",
       "      <td>0.0461</td>\n",
       "    </tr>\n",
       "    <tr>\n",
       "      <th>9</th>\n",
       "      <td>0.0989</td>\n",
       "    </tr>\n",
       "    <tr>\n",
       "      <th>10</th>\n",
       "      <td>-0.0321</td>\n",
       "    </tr>\n",
       "    <tr>\n",
       "      <th>11</th>\n",
       "      <td>0.1606</td>\n",
       "    </tr>\n",
       "    <tr>\n",
       "      <th>12</th>\n",
       "      <td>0.0512</td>\n",
       "    </tr>\n",
       "  </tbody>\n",
       "</table>\n",
       "</div>"
      ],
      "text/plain": [
       "          ReturnPct\n",
       "ExitTime           \n",
       "1            0.0916\n",
       "2            0.0537\n",
       "3           -0.0139\n",
       "4            0.0627\n",
       "5            0.0566\n",
       "6            0.2218\n",
       "7            0.2315\n",
       "8            0.0461\n",
       "9            0.0989\n",
       "10          -0.0321\n",
       "11           0.1606\n",
       "12           0.0512"
      ]
     },
     "execution_count": 211,
     "metadata": {},
     "output_type": "execute_result"
    }
   ],
   "source": [
    "# merged.set_index('EntryTime')\n",
    "monthly = pd.DataFrame(merged.groupby(merged.EntryTime.dt.month).ReturnPct.sum())\n",
    "# global skip_month\n",
    "skip_month = monthly[monthly[\"ReturnPct\"] < 0.05].index.to_list()\n",
    "print(\"Month to skip\", skip_month)\n",
    "pd.DataFrame(merged.groupby(merged.ExitTime.dt.month).ReturnPct.sum().round(4))"
   ]
  },
  {
   "cell_type": "code",
   "execution_count": 212,
   "metadata": {},
   "outputs": [
    {
     "data": {
      "text/plain": [
       "<Axes: title={'center': 'Gewinner Trades'}>"
      ]
     },
     "execution_count": 212,
     "metadata": {},
     "output_type": "execute_result"
    },
    {
     "data": {
      "image/png": "[encoded data removed]",
      "text/plain": [
       "<Figure size 640x480 with 1 Axes>"
      ]
     },
     "metadata": {},
     "output_type": "display_data"
    }
   ],
   "source": [
    "merged[merged.PnL > 0].ReturnPct.plot(title=\"Gewinner Trades\")"
   ]
  },
  {
   "cell_type": "code",
   "execution_count": 213,
   "metadata": {},
   "outputs": [
    {
     "data": {
      "text/plain": [
       "<Axes: title={'center': 'Verlierer Trades'}>"
      ]
     },
     "execution_count": 213,
     "metadata": {},
     "output_type": "execute_result"
    },
    {
     "data": {
      "image/png": "[encoded data removed]",
      "text/plain": [
       "<Figure size 640x480 with 1 Axes>"
      ]
     },
     "metadata": {},
     "output_type": "display_data"
    }
   ],
   "source": [
    "merged[merged.PnL < 0].ReturnPct.plot(title=\"Verlierer Trades\")"
   ]
  },
  {
   "cell_type": "code",
   "execution_count": 214,
   "metadata": {},
   "outputs": [],
   "source": [
    "class end_of_month_and_skip_month(end_of_month):\n",
    "    \"\"\"\n",
    "    strategy for trend_trading\n",
    "    \"\"\"\n",
    "\n",
    "    skip_month = []\n",
    "\n",
    "    def next(self):\n",
    "        _open, _high, _low, _close = self.ohlc()\n",
    "\n",
    "        # trade management for an existing trade\n",
    "        for trade in self.trades:\n",
    "            if trade.is_long:\n",
    "                if self.data.days[-1] == self.days_after:\n",
    "                    trade.close()\n",
    "\n",
    "        if (\n",
    "            self.data.days[-1] == self.days_before\n",
    "            and self.data.month[-1] not in self.skip_month\n",
    "        ):\n",
    "            self.buy()"
   ]
  },
  {
   "cell_type": "code",
   "execution_count": 215,
   "metadata": {},
   "outputs": [
    {
     "data": {
      "text/html": [
       "<div>\n",
       "<style scoped>\n",
       "    .dataframe tbody tr th:only-of-type {\n",
       "        vertical-align: middle;\n",
       "    }\n",
       "\n",
       "    .dataframe tbody tr th {\n",
       "        vertical-align: top;\n",
       "    }\n",
       "\n",
       "    .dataframe thead th {\n",
       "        text-align: right;\n",
       "    }\n",
       "</style>\n",
       "<table border=\"1\" class=\"dataframe\">\n",
       "  <thead>\n",
       "    <tr style=\"text-align: right;\">\n",
       "      <th></th>\n",
       "      <th>Open</th>\n",
       "      <th>High</th>\n",
       "      <th>Low</th>\n",
       "      <th>Close</th>\n",
       "      <th>Adj Close</th>\n",
       "      <th>Volume</th>\n",
       "      <th>vix</th>\n",
       "      <th>yield_5yr</th>\n",
       "      <th>rsi_3</th>\n",
       "      <th>rsi_7</th>\n",
       "      <th>...</th>\n",
       "      <th>sma</th>\n",
       "      <th>sma_20</th>\n",
       "      <th>sma_50</th>\n",
       "      <th>sma_100</th>\n",
       "      <th>sma_200</th>\n",
       "      <th>sma_pct</th>\n",
       "      <th>month</th>\n",
       "      <th>hold</th>\n",
       "      <th>days</th>\n",
       "      <th>buy</th>\n",
       "    </tr>\n",
       "    <tr>\n",
       "      <th>Date</th>\n",
       "      <th></th>\n",
       "      <th></th>\n",
       "      <th></th>\n",
       "      <th></th>\n",
       "      <th></th>\n",
       "      <th></th>\n",
       "      <th></th>\n",
       "      <th></th>\n",
       "      <th></th>\n",
       "      <th></th>\n",
       "      <th></th>\n",
       "      <th></th>\n",
       "      <th></th>\n",
       "      <th></th>\n",
       "      <th></th>\n",
       "      <th></th>\n",
       "      <th></th>\n",
       "      <th></th>\n",
       "      <th></th>\n",
       "      <th></th>\n",
       "      <th></th>\n",
       "    </tr>\n",
       "  </thead>\n",
       "  <tbody>\n",
       "    <tr>\n",
       "      <th>1999-03-10</th>\n",
       "      <td>51.125000</td>\n",
       "      <td>51.156250</td>\n",
       "      <td>50.281250</td>\n",
       "      <td>51.062500</td>\n",
       "      <td>43.547424</td>\n",
       "      <td>5232000</td>\n",
       "      <td>24.790001</td>\n",
       "      <td>5.112</td>\n",
       "      <td>NaN</td>\n",
       "      <td>NaN</td>\n",
       "      <td>...</td>\n",
       "      <td>NaN</td>\n",
       "      <td>NaN</td>\n",
       "      <td>NaN</td>\n",
       "      <td>NaN</td>\n",
       "      <td>NaN</td>\n",
       "      <td>NaN</td>\n",
       "      <td>3</td>\n",
       "      <td>50.281250</td>\n",
       "      <td>1.0</td>\n",
       "      <td>NaN</td>\n",
       "    </tr>\n",
       "    <tr>\n",
       "      <th>1999-03-11</th>\n",
       "      <td>51.437500</td>\n",
       "      <td>51.734375</td>\n",
       "      <td>50.312500</td>\n",
       "      <td>51.312500</td>\n",
       "      <td>43.760605</td>\n",
       "      <td>9688600</td>\n",
       "      <td>24.370001</td>\n",
       "      <td>5.126</td>\n",
       "      <td>NaN</td>\n",
       "      <td>NaN</td>\n",
       "      <td>...</td>\n",
       "      <td>NaN</td>\n",
       "      <td>NaN</td>\n",
       "      <td>NaN</td>\n",
       "      <td>NaN</td>\n",
       "      <td>NaN</td>\n",
       "      <td>NaN</td>\n",
       "      <td>3</td>\n",
       "      <td>50.312500</td>\n",
       "      <td>2.0</td>\n",
       "      <td>NaN</td>\n",
       "    </tr>\n",
       "    <tr>\n",
       "      <th>1999-03-12</th>\n",
       "      <td>51.125000</td>\n",
       "      <td>51.156250</td>\n",
       "      <td>49.656250</td>\n",
       "      <td>50.062500</td>\n",
       "      <td>42.694595</td>\n",
       "      <td>8743600</td>\n",
       "      <td>24.840000</td>\n",
       "      <td>5.061</td>\n",
       "      <td>12.0</td>\n",
       "      <td>NaN</td>\n",
       "      <td>...</td>\n",
       "      <td>NaN</td>\n",
       "      <td>NaN</td>\n",
       "      <td>NaN</td>\n",
       "      <td>NaN</td>\n",
       "      <td>NaN</td>\n",
       "      <td>NaN</td>\n",
       "      <td>3</td>\n",
       "      <td>49.656250</td>\n",
       "      <td>3.0</td>\n",
       "      <td>NaN</td>\n",
       "    </tr>\n",
       "    <tr>\n",
       "      <th>1999-03-15</th>\n",
       "      <td>50.437500</td>\n",
       "      <td>51.562500</td>\n",
       "      <td>49.906250</td>\n",
       "      <td>51.500000</td>\n",
       "      <td>43.920502</td>\n",
       "      <td>6369000</td>\n",
       "      <td>25.240000</td>\n",
       "      <td>5.046</td>\n",
       "      <td>65.0</td>\n",
       "      <td>NaN</td>\n",
       "      <td>...</td>\n",
       "      <td>NaN</td>\n",
       "      <td>NaN</td>\n",
       "      <td>NaN</td>\n",
       "      <td>NaN</td>\n",
       "      <td>NaN</td>\n",
       "      <td>NaN</td>\n",
       "      <td>3</td>\n",
       "      <td>49.906250</td>\n",
       "      <td>4.0</td>\n",
       "      <td>NaN</td>\n",
       "    </tr>\n",
       "    <tr>\n",
       "      <th>1999-03-16</th>\n",
       "      <td>51.718750</td>\n",
       "      <td>52.156250</td>\n",
       "      <td>51.156250</td>\n",
       "      <td>51.937500</td>\n",
       "      <td>44.293629</td>\n",
       "      <td>4905800</td>\n",
       "      <td>25.150000</td>\n",
       "      <td>5.017</td>\n",
       "      <td>73.0</td>\n",
       "      <td>NaN</td>\n",
       "      <td>...</td>\n",
       "      <td>NaN</td>\n",
       "      <td>NaN</td>\n",
       "      <td>NaN</td>\n",
       "      <td>NaN</td>\n",
       "      <td>NaN</td>\n",
       "      <td>NaN</td>\n",
       "      <td>3</td>\n",
       "      <td>51.156250</td>\n",
       "      <td>5.0</td>\n",
       "      <td>-1.0</td>\n",
       "    </tr>\n",
       "    <tr>\n",
       "      <th>...</th>\n",
       "      <td>...</td>\n",
       "      <td>...</td>\n",
       "      <td>...</td>\n",
       "      <td>...</td>\n",
       "      <td>...</td>\n",
       "      <td>...</td>\n",
       "      <td>...</td>\n",
       "      <td>...</td>\n",
       "      <td>...</td>\n",
       "      <td>...</td>\n",
       "      <td>...</td>\n",
       "      <td>...</td>\n",
       "      <td>...</td>\n",
       "      <td>...</td>\n",
       "      <td>...</td>\n",
       "      <td>...</td>\n",
       "      <td>...</td>\n",
       "      <td>...</td>\n",
       "      <td>...</td>\n",
       "      <td>...</td>\n",
       "      <td>...</td>\n",
       "    </tr>\n",
       "    <tr>\n",
       "      <th>2024-04-10</th>\n",
       "      <td>437.000000</td>\n",
       "      <td>439.239990</td>\n",
       "      <td>436.279999</td>\n",
       "      <td>438.369995</td>\n",
       "      <td>438.369995</td>\n",
       "      <td>61502200</td>\n",
       "      <td>15.800000</td>\n",
       "      <td>4.615</td>\n",
       "      <td>34.0</td>\n",
       "      <td>42.0</td>\n",
       "      <td>...</td>\n",
       "      <td>441.37</td>\n",
       "      <td>0.993203</td>\n",
       "      <td>1.003273</td>\n",
       "      <td>1.044484</td>\n",
       "      <td>1.112953</td>\n",
       "      <td>0.99</td>\n",
       "      <td>4</td>\n",
       "      <td>436.279999</td>\n",
       "      <td>-5.0</td>\n",
       "      <td>1.0</td>\n",
       "    </tr>\n",
       "    <tr>\n",
       "      <th>2024-04-11</th>\n",
       "      <td>440.260010</td>\n",
       "      <td>446.329987</td>\n",
       "      <td>437.959991</td>\n",
       "      <td>445.369995</td>\n",
       "      <td>445.369995</td>\n",
       "      <td>45474600</td>\n",
       "      <td>14.910000</td>\n",
       "      <td>4.623</td>\n",
       "      <td>71.0</td>\n",
       "      <td>59.0</td>\n",
       "      <td>...</td>\n",
       "      <td>441.63</td>\n",
       "      <td>1.008469</td>\n",
       "      <td>1.018361</td>\n",
       "      <td>1.059648</td>\n",
       "      <td>1.129463</td>\n",
       "      <td>1.01</td>\n",
       "      <td>4</td>\n",
       "      <td>437.959991</td>\n",
       "      <td>-4.0</td>\n",
       "      <td>NaN</td>\n",
       "    </tr>\n",
       "    <tr>\n",
       "      <th>2024-04-12</th>\n",
       "      <td>441.100006</td>\n",
       "      <td>442.239990</td>\n",
       "      <td>436.880005</td>\n",
       "      <td>438.269989</td>\n",
       "      <td>438.269989</td>\n",
       "      <td>53602600</td>\n",
       "      <td>17.309999</td>\n",
       "      <td>4.533</td>\n",
       "      <td>38.0</td>\n",
       "      <td>44.0</td>\n",
       "      <td>...</td>\n",
       "      <td>441.59</td>\n",
       "      <td>0.992482</td>\n",
       "      <td>1.001142</td>\n",
       "      <td>1.041467</td>\n",
       "      <td>1.110416</td>\n",
       "      <td>0.99</td>\n",
       "      <td>4</td>\n",
       "      <td>436.880005</td>\n",
       "      <td>-3.0</td>\n",
       "      <td>NaN</td>\n",
       "    </tr>\n",
       "    <tr>\n",
       "      <th>2024-04-15</th>\n",
       "      <td>442.059998</td>\n",
       "      <td>442.149994</td>\n",
       "      <td>430.209991</td>\n",
       "      <td>431.059998</td>\n",
       "      <td>431.059998</td>\n",
       "      <td>63453600</td>\n",
       "      <td>19.230000</td>\n",
       "      <td>4.645</td>\n",
       "      <td>23.0</td>\n",
       "      <td>34.0</td>\n",
       "      <td>...</td>\n",
       "      <td>441.44</td>\n",
       "      <td>0.976486</td>\n",
       "      <td>0.984268</td>\n",
       "      <td>1.023239</td>\n",
       "      <td>1.091208</td>\n",
       "      <td>0.98</td>\n",
       "      <td>4</td>\n",
       "      <td>430.209991</td>\n",
       "      <td>-2.0</td>\n",
       "      <td>NaN</td>\n",
       "    </tr>\n",
       "    <tr>\n",
       "      <th>2024-04-16</th>\n",
       "      <td>430.899994</td>\n",
       "      <td>433.760010</td>\n",
       "      <td>429.700012</td>\n",
       "      <td>431.100006</td>\n",
       "      <td>431.100006</td>\n",
       "      <td>47487700</td>\n",
       "      <td>18.400000</td>\n",
       "      <td>4.682</td>\n",
       "      <td>23.0</td>\n",
       "      <td>34.0</td>\n",
       "      <td>...</td>\n",
       "      <td>441.12</td>\n",
       "      <td>0.977285</td>\n",
       "      <td>0.984269</td>\n",
       "      <td>1.022339</td>\n",
       "      <td>1.090399</td>\n",
       "      <td>0.98</td>\n",
       "      <td>4</td>\n",
       "      <td>429.700012</td>\n",
       "      <td>-1.0</td>\n",
       "      <td>NaN</td>\n",
       "    </tr>\n",
       "  </tbody>\n",
       "</table>\n",
       "<p>6263 rows × 25 columns</p>\n",
       "</div>"
      ],
      "text/plain": [
       "                  Open        High         Low       Close   Adj Close  \\\n",
       "Date                                                                     \n",
       "1999-03-10   51.125000   51.156250   50.281250   51.062500   43.547424   \n",
       "1999-03-11   51.437500   51.734375   50.312500   51.312500   43.760605   \n",
       "1999-03-12   51.125000   51.156250   49.656250   50.062500   42.694595   \n",
       "1999-03-15   50.437500   51.562500   49.906250   51.500000   43.920502   \n",
       "1999-03-16   51.718750   52.156250   51.156250   51.937500   44.293629   \n",
       "...                ...         ...         ...         ...         ...   \n",
       "2024-04-10  437.000000  439.239990  436.279999  438.369995  438.369995   \n",
       "2024-04-11  440.260010  446.329987  437.959991  445.369995  445.369995   \n",
       "2024-04-12  441.100006  442.239990  436.880005  438.269989  438.269989   \n",
       "2024-04-15  442.059998  442.149994  430.209991  431.059998  431.059998   \n",
       "2024-04-16  430.899994  433.760010  429.700012  431.100006  431.100006   \n",
       "\n",
       "              Volume        vix  yield_5yr  rsi_3  rsi_7  ...     sma  \\\n",
       "Date                                                      ...           \n",
       "1999-03-10   5232000  24.790001      5.112    NaN    NaN  ...     NaN   \n",
       "1999-03-11   9688600  24.370001      5.126    NaN    NaN  ...     NaN   \n",
       "1999-03-12   8743600  24.840000      5.061   12.0    NaN  ...     NaN   \n",
       "1999-03-15   6369000  25.240000      5.046   65.0    NaN  ...     NaN   \n",
       "1999-03-16   4905800  25.150000      5.017   73.0    NaN  ...     NaN   \n",
       "...              ...        ...        ...    ...    ...  ...     ...   \n",
       "2024-04-10  61502200  15.800000      4.615   34.0   42.0  ...  441.37   \n",
       "2024-04-11  45474600  14.910000      4.623   71.0   59.0  ...  441.63   \n",
       "2024-04-12  53602600  17.309999      4.533   38.0   44.0  ...  441.59   \n",
       "2024-04-15  63453600  19.230000      4.645   23.0   34.0  ...  441.44   \n",
       "2024-04-16  47487700  18.400000      4.682   23.0   34.0  ...  441.12   \n",
       "\n",
       "              sma_20    sma_50   sma_100   sma_200  sma_pct  month  \\\n",
       "Date                                                                 \n",
       "1999-03-10       NaN       NaN       NaN       NaN      NaN      3   \n",
       "1999-03-11       NaN       NaN       NaN       NaN      NaN      3   \n",
       "1999-03-12       NaN       NaN       NaN       NaN      NaN      3   \n",
       "1999-03-15       NaN       NaN       NaN       NaN      NaN      3   \n",
       "1999-03-16       NaN       NaN       NaN       NaN      NaN      3   \n",
       "...              ...       ...       ...       ...      ...    ...   \n",
       "2024-04-10  0.993203  1.003273  1.044484  1.112953     0.99      4   \n",
       "2024-04-11  1.008469  1.018361  1.059648  1.129463     1.01      4   \n",
       "2024-04-12  0.992482  1.001142  1.041467  1.110416     0.99      4   \n",
       "2024-04-15  0.976486  0.984268  1.023239  1.091208     0.98      4   \n",
       "2024-04-16  0.977285  0.984269  1.022339  1.090399     0.98      4   \n",
       "\n",
       "                  hold  days  buy  \n",
       "Date                               \n",
       "1999-03-10   50.281250   1.0  NaN  \n",
       "1999-03-11   50.312500   2.0  NaN  \n",
       "1999-03-12   49.656250   3.0  NaN  \n",
       "1999-03-15   49.906250   4.0  NaN  \n",
       "1999-03-16   51.156250   5.0 -1.0  \n",
       "...                ...   ...  ...  \n",
       "2024-04-10  436.279999  -5.0  1.0  \n",
       "2024-04-11  437.959991  -4.0  NaN  \n",
       "2024-04-12  436.880005  -3.0  NaN  \n",
       "2024-04-15  430.209991  -2.0  NaN  \n",
       "2024-04-16  429.700012  -1.0  NaN  \n",
       "\n",
       "[6263 rows x 25 columns]"
      ]
     },
     "execution_count": 215,
     "metadata": {},
     "output_type": "execute_result"
    }
   ],
   "source": [
    "df"
   ]
  },
  {
   "cell_type": "code",
   "execution_count": 216,
   "metadata": {},
   "outputs": [
    {
     "data": {
      "text/html": [
       "<div style=\"display: table;\"><div style=\"display: table-row;\"><div style=\"display: table-cell;\"><b title=\"bokeh.models.layouts.Row\">Row</b>(</div><div style=\"display: table-cell;\">id&nbsp;=&nbsp;'37170', <span id=\"38109\" style=\"cursor: pointer;\">&hellip;)</span></div></div><div class=\"38108\" style=\"display: none;\"><div style=\"display: table-cell;\"></div><div style=\"display: table-cell;\">align&nbsp;=&nbsp;'start',</div></div><div class=\"38108\" style=\"display: none;\"><div style=\"display: table-cell;\"></div><div style=\"display: table-cell;\">aspect_ratio&nbsp;=&nbsp;None,</div></div><div class=\"38108\" style=\"display: none;\"><div style=\"display: table-cell;\"></div><div style=\"display: table-cell;\">background&nbsp;=&nbsp;None,</div></div><div class=\"38108\" style=\"display: none;\"><div style=\"display: table-cell;\"></div><div style=\"display: table-cell;\">children&nbsp;=&nbsp;[GridBox(id='37167', ...), ToolbarBox(id='37169', ...)],</div></div><div class=\"38108\" style=\"display: none;\"><div style=\"display: table-cell;\"></div><div style=\"display: table-cell;\">cols&nbsp;=&nbsp;'auto',</div></div><div class=\"38108\" style=\"display: none;\"><div style=\"display: table-cell;\"></div><div style=\"display: table-cell;\">css_classes&nbsp;=&nbsp;[],</div></div><div class=\"38108\" style=\"display: none;\"><div style=\"display: table-cell;\"></div><div style=\"display: table-cell;\">disabled&nbsp;=&nbsp;False,</div></div><div class=\"38108\" style=\"display: none;\"><div style=\"display: table-cell;\"></div><div style=\"display: table-cell;\">height&nbsp;=&nbsp;None,</div></div><div class=\"38108\" style=\"display: none;\"><div style=\"display: table-cell;\"></div><div style=\"display: table-cell;\">height_policy&nbsp;=&nbsp;'auto',</div></div><div class=\"38108\" style=\"display: none;\"><div style=\"display: table-cell;\"></div><div style=\"display: table-cell;\">js_event_callbacks&nbsp;=&nbsp;{},</div></div><div class=\"38108\" style=\"display: none;\"><div style=\"display: table-cell;\"></div><div style=\"display: table-cell;\">js_property_callbacks&nbsp;=&nbsp;{},</div></div><div class=\"38108\" style=\"display: none;\"><div style=\"display: table-cell;\"></div><div style=\"display: table-cell;\">margin&nbsp;=&nbsp;(0, 0, 0, 0),</div></div><div class=\"38108\" style=\"display: none;\"><div style=\"display: table-cell;\"></div><div style=\"display: table-cell;\">max_height&nbsp;=&nbsp;None,</div></div><div class=\"38108\" style=\"display: none;\"><div style=\"display: table-cell;\"></div><div style=\"display: table-cell;\">max_width&nbsp;=&nbsp;None,</div></div><div class=\"38108\" style=\"display: none;\"><div style=\"display: table-cell;\"></div><div style=\"display: table-cell;\">min_height&nbsp;=&nbsp;None,</div></div><div class=\"38108\" style=\"display: none;\"><div style=\"display: table-cell;\"></div><div style=\"display: table-cell;\">min_width&nbsp;=&nbsp;None,</div></div><div class=\"38108\" style=\"display: none;\"><div style=\"display: table-cell;\"></div><div style=\"display: table-cell;\">name&nbsp;=&nbsp;None,</div></div><div class=\"38108\" style=\"display: none;\"><div style=\"display: table-cell;\"></div><div style=\"display: table-cell;\">sizing_mode&nbsp;=&nbsp;'stretch_width',</div></div><div class=\"38108\" style=\"display: none;\"><div style=\"display: table-cell;\"></div><div style=\"display: table-cell;\">spacing&nbsp;=&nbsp;0,</div></div><div class=\"38108\" style=\"display: none;\"><div style=\"display: table-cell;\"></div><div style=\"display: table-cell;\">subscribed_events&nbsp;=&nbsp;[],</div></div><div class=\"38108\" style=\"display: none;\"><div style=\"display: table-cell;\"></div><div style=\"display: table-cell;\">syncable&nbsp;=&nbsp;True,</div></div><div class=\"38108\" style=\"display: none;\"><div style=\"display: table-cell;\"></div><div style=\"display: table-cell;\">tags&nbsp;=&nbsp;[],</div></div><div class=\"38108\" style=\"display: none;\"><div style=\"display: table-cell;\"></div><div style=\"display: table-cell;\">visible&nbsp;=&nbsp;True,</div></div><div class=\"38108\" style=\"display: none;\"><div style=\"display: table-cell;\"></div><div style=\"display: table-cell;\">width&nbsp;=&nbsp;None,</div></div><div class=\"38108\" style=\"display: none;\"><div style=\"display: table-cell;\"></div><div style=\"display: table-cell;\">width_policy&nbsp;=&nbsp;'auto')</div></div></div>\n",
       "<script>\n",
       "(function() {\n",
       "  let expanded = false;\n",
       "  const ellipsis = document.getElementById(\"38109\");\n",
       "  ellipsis.addEventListener(\"click\", function() {\n",
       "    const rows = document.getElementsByClassName(\"38108\");\n",
       "    for (let i = 0; i < rows.length; i++) {\n",
       "      const el = rows[i];\n",
       "      el.style.display = expanded ? \"none\" : \"table-row\";\n",
       "    }\n",
       "    ellipsis.innerHTML = expanded ? \"&hellip;)\" : \"&lsaquo;&lsaquo;&lsaquo;\";\n",
       "    expanded = !expanded;\n",
       "  });\n",
       "})();\n",
       "</script>\n"
      ],
      "text/plain": [
       "Row(id='37170', ...)"
      ]
     },
     "execution_count": 216,
     "metadata": {},
     "output_type": "execute_result"
    }
   ],
   "source": [
    "bt = Backtest(\n",
    "    df[\"2012-01-01\":],\n",
    "    end_of_month_and_skip_month,\n",
    "    cash=100_000,\n",
    "    commission=0.002,\n",
    "    trade_on_close=True,\n",
    ")\n",
    "stats = bt.run(days_before=-5, days_after=5, skip_month=skip_month)\n",
    "bt.plot(superimpose=False)  # , open_browser=False)"
   ]
  },
  {
   "cell_type": "code",
   "execution_count": 217,
   "metadata": {},
   "outputs": [
    {
     "data": {
      "text/plain": [
       "Start                     2012-01-03 00:00:00\n",
       "End                       2024-04-16 00:00:00\n",
       "Duration                   4487 days 00:00:00\n",
       "Exposure Time [%]                   31.921824\n",
       "Equity Final [$]                308160.288015\n",
       "Equity Peak [$]                 314453.616793\n",
       "Return [%]                         208.160288\n",
       "Buy & Hold Return [%]              657.644982\n",
       "Return (Ann.) [%]                    9.678394\n",
       "Volatility (Ann.) [%]                11.78274\n",
       "Sharpe Ratio                         0.821404\n",
       "Sortino Ratio                        1.403771\n",
       "Calmar Ratio                         0.571788\n",
       "Max. Drawdown [%]                  -16.926535\n",
       "Avg. Drawdown [%]                   -2.560054\n",
       "Max. Drawdown Duration     1461 days 00:00:00\n",
       "Avg. Drawdown Duration       62 days 00:00:00\n",
       "# Trades                                   98\n",
       "Win Rate [%]                        63.265306\n",
       "Best Trade [%]                      10.941882\n",
       "Worst Trade [%]                     -7.804955\n",
       "Avg. Trade [%]                       1.155851\n",
       "Max. Trade Duration          17 days 00:00:00\n",
       "Avg. Trade Duration          14 days 00:00:00\n",
       "Profit Factor                        2.619594\n",
       "Expectancy [%]                       1.209204\n",
       "SQN                                   3.41329\n",
       "_strategy                 end_of_month_and...\n",
       "_equity_curve                             ...\n",
       "_trades                       Size  EntryB...\n",
       "dtype: object"
      ]
     },
     "execution_count": 217,
     "metadata": {},
     "output_type": "execute_result"
    }
   ],
   "source": [
    "stats"
   ]
  },
  {
   "cell_type": "code",
   "execution_count": 218,
   "metadata": {},
   "outputs": [],
   "source": [
    "trades = stats[\"_trades\"]\n",
    "\n",
    "for index, row in trades.iterrows():\n",
    "    start_range = stock[: row[\"EntryTime\"]]\n",
    "    trades.loc[index, \"SignalTime\"] = start_range.index.values[-2]\n",
    "\n",
    "merged = pd.merge(\n",
    "    trades,\n",
    "    df[\n",
    "        [\n",
    "            \"adx_10\",\n",
    "            \"adx_direction\",\n",
    "            \"rsi_3\",\n",
    "            \"rsi_7\",\n",
    "            \"rsi_10\",\n",
    "            \"sma_20\",\n",
    "            \"sma_50\",\n",
    "            \"sma_100\",\n",
    "            \"sma_200\",\n",
    "        ]\n",
    "    ],\n",
    "    left_on=\"SignalTime\",\n",
    "    right_index=True,\n",
    ")"
   ]
  },
  {
   "cell_type": "code",
   "execution_count": 219,
   "metadata": {},
   "outputs": [
    {
     "data": {
      "text/html": [
       "<div>\n",
       "<style scoped>\n",
       "    .dataframe tbody tr th:only-of-type {\n",
       "        vertical-align: middle;\n",
       "    }\n",
       "\n",
       "    .dataframe tbody tr th {\n",
       "        vertical-align: top;\n",
       "    }\n",
       "\n",
       "    .dataframe thead th {\n",
       "        text-align: right;\n",
       "    }\n",
       "</style>\n",
       "<table border=\"1\" class=\"dataframe\">\n",
       "  <thead>\n",
       "    <tr style=\"text-align: right;\">\n",
       "      <th></th>\n",
       "      <th>ReturnPct</th>\n",
       "    </tr>\n",
       "    <tr>\n",
       "      <th>ExitTime</th>\n",
       "      <th></th>\n",
       "    </tr>\n",
       "  </thead>\n",
       "  <tbody>\n",
       "    <tr>\n",
       "      <th>1</th>\n",
       "      <td>0.0737</td>\n",
       "    </tr>\n",
       "    <tr>\n",
       "      <th>2</th>\n",
       "      <td>0.1391</td>\n",
       "    </tr>\n",
       "    <tr>\n",
       "      <th>4</th>\n",
       "      <td>0.1328</td>\n",
       "    </tr>\n",
       "    <tr>\n",
       "      <th>6</th>\n",
       "      <td>0.2723</td>\n",
       "    </tr>\n",
       "    <tr>\n",
       "      <th>7</th>\n",
       "      <td>0.2320</td>\n",
       "    </tr>\n",
       "    <tr>\n",
       "      <th>8</th>\n",
       "      <td>0.1166</td>\n",
       "    </tr>\n",
       "    <tr>\n",
       "      <th>11</th>\n",
       "      <td>0.1674</td>\n",
       "    </tr>\n",
       "    <tr>\n",
       "      <th>12</th>\n",
       "      <td>0.0512</td>\n",
       "    </tr>\n",
       "  </tbody>\n",
       "</table>\n",
       "</div>"
      ],
      "text/plain": [
       "          ReturnPct\n",
       "ExitTime           \n",
       "1            0.0737\n",
       "2            0.1391\n",
       "4            0.1328\n",
       "6            0.2723\n",
       "7            0.2320\n",
       "8            0.1166\n",
       "11           0.1674\n",
       "12           0.0512"
      ]
     },
     "execution_count": 219,
     "metadata": {},
     "output_type": "execute_result"
    }
   ],
   "source": [
    "pd.DataFrame(merged.groupby(merged.ExitTime.dt.month).ReturnPct.sum().round(4))"
   ]
  },
  {
   "cell_type": "code",
   "execution_count": 220,
   "metadata": {},
   "outputs": [
    {
     "data": {
      "text/html": [
       "<div>\n",
       "<style scoped>\n",
       "    .dataframe tbody tr th:only-of-type {\n",
       "        vertical-align: middle;\n",
       "    }\n",
       "\n",
       "    .dataframe tbody tr th {\n",
       "        vertical-align: top;\n",
       "    }\n",
       "\n",
       "    .dataframe thead th {\n",
       "        text-align: right;\n",
       "    }\n",
       "</style>\n",
       "<table border=\"1\" class=\"dataframe\">\n",
       "  <thead>\n",
       "    <tr style=\"text-align: right;\">\n",
       "      <th></th>\n",
       "      <th>PnL</th>\n",
       "    </tr>\n",
       "    <tr>\n",
       "      <th>ExitTime</th>\n",
       "      <th></th>\n",
       "    </tr>\n",
       "  </thead>\n",
       "  <tbody>\n",
       "    <tr>\n",
       "      <th>2012</th>\n",
       "      <td>7571.8</td>\n",
       "    </tr>\n",
       "    <tr>\n",
       "      <th>2013</th>\n",
       "      <td>8469.4</td>\n",
       "    </tr>\n",
       "    <tr>\n",
       "      <th>2014</th>\n",
       "      <td>3882.1</td>\n",
       "    </tr>\n",
       "    <tr>\n",
       "      <th>2015</th>\n",
       "      <td>-6060.0</td>\n",
       "    </tr>\n",
       "    <tr>\n",
       "      <th>2016</th>\n",
       "      <td>-5032.6</td>\n",
       "    </tr>\n",
       "    <tr>\n",
       "      <th>2017</th>\n",
       "      <td>6549.7</td>\n",
       "    </tr>\n",
       "    <tr>\n",
       "      <th>2018</th>\n",
       "      <td>4456.4</td>\n",
       "    </tr>\n",
       "    <tr>\n",
       "      <th>2019</th>\n",
       "      <td>20761.2</td>\n",
       "    </tr>\n",
       "    <tr>\n",
       "      <th>2020</th>\n",
       "      <td>66647.4</td>\n",
       "    </tr>\n",
       "    <tr>\n",
       "      <th>2021</th>\n",
       "      <td>42752.9</td>\n",
       "    </tr>\n",
       "    <tr>\n",
       "      <th>2022</th>\n",
       "      <td>-1072.4</td>\n",
       "    </tr>\n",
       "    <tr>\n",
       "      <th>2023</th>\n",
       "      <td>63768.0</td>\n",
       "    </tr>\n",
       "    <tr>\n",
       "      <th>2024</th>\n",
       "      <td>-4533.7</td>\n",
       "    </tr>\n",
       "  </tbody>\n",
       "</table>\n",
       "</div>"
      ],
      "text/plain": [
       "              PnL\n",
       "ExitTime         \n",
       "2012       7571.8\n",
       "2013       8469.4\n",
       "2014       3882.1\n",
       "2015      -6060.0\n",
       "2016      -5032.6\n",
       "2017       6549.7\n",
       "2018       4456.4\n",
       "2019      20761.2\n",
       "2020      66647.4\n",
       "2021      42752.9\n",
       "2022      -1072.4\n",
       "2023      63768.0\n",
       "2024      -4533.7"
      ]
     },
     "execution_count": 220,
     "metadata": {},
     "output_type": "execute_result"
    }
   ],
   "source": [
    "pd.DataFrame(merged.groupby(merged.ExitTime.dt.year).PnL.sum().round(1))"
   ]
  },
  {
   "cell_type": "code",
   "execution_count": 221,
   "metadata": {},
   "outputs": [
    {
     "data": {
      "text/plain": [
       "2012    107456.1\n",
       "2013    116537.9\n",
       "2014    118479.7\n",
       "2015    112899.5\n",
       "2016    107060.5\n",
       "2017    113973.4\n",
       "2018    128560.8\n",
       "2019    140774.2\n",
       "2020    209624.1\n",
       "2021    246020.3\n",
       "2022    247425.9\n",
       "2023    312940.9\n",
       "2024    308160.3\n",
       "Name: Equity, dtype: float64"
      ]
     },
     "execution_count": 221,
     "metadata": {},
     "output_type": "execute_result"
    }
   ],
   "source": [
    "equity = stats[\"_equity_curve\"]\n",
    "equity.groupby(equity.index.year).Equity.last().round(1)"
   ]
  }
 ],
 "metadata": {
  "kernelspec": {
   "display_name": "Python 3",
   "language": "python",
   "name": "python3"
  },
  "language_info": {
   "codemirror_mode": {
    "name": "ipython",
    "version": 3
   },
   "file_extension": ".py",
   "mimetype": "text/x-python",
   "name": "python",
   "nbconvert_exporter": "python",
   "pygments_lexer": "ipython3",
   "version": "3.12.0"
  }
 },
 "nbformat": 4,
 "nbformat_minor": 2
}
