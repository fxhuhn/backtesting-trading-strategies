{
 "cells": [
  {
   "cell_type": "code",
   "execution_count": 99,
   "metadata": {},
   "outputs": [],
   "source": [
    "import numpy as np\n",
    "import pandas as pd\n",
    "import pandas_ta as ta\n",
    "import yfinance as yf\n",
    "from tiny_ta import atr, rsi, sma"
   ]
  },
  {
   "cell_type": "markdown",
   "metadata": {},
   "source": [
    "# End of the Month - Strategie im NASDAQ 100"
   ]
  },
  {
   "cell_type": "markdown",
   "metadata": {},
   "source": [
    "Zunächst werden die Kursdaten für den NASDAQ 100 geladen und bereinigt"
   ]
  },
  {
   "cell_type": "code",
   "execution_count": 100,
   "metadata": {},
   "outputs": [
    {
     "name": "stderr",
     "output_type": "stream",
     "text": [
      "[*********************100%%**********************]  1 of 1 completed\n"
     ]
    }
   ],
   "source": [
    "SYMBOL = \"^NDX\"\n",
    "SYMBOL = \"QQQ\"\n",
    "\n",
    "stock = yf.download(SYMBOL)\n",
    "\n",
    "stock = stock[~(stock.High == stock.Low) & ~(stock.Open == stock.Close)]\n",
    "stock = stock.dropna()"
   ]
  },
  {
   "cell_type": "markdown",
   "metadata": {},
   "source": [
    "Der VIX für die Volatilität wird als externer Indikator mit betrachtet"
   ]
  },
  {
   "cell_type": "code",
   "execution_count": 101,
   "metadata": {},
   "outputs": [
    {
     "name": "stderr",
     "output_type": "stream",
     "text": [
      "[*********************100%%**********************]  1 of 1 completed\n"
     ]
    }
   ],
   "source": [
    "vix = yf.download(\"^VIX\")\n",
    "vix[\"vix\"] = vix[\"Close\"]\n",
    "stock = pd.merge(\n",
    "    stock,\n",
    "    vix[\n",
    "        [\n",
    "            \"vix\",\n",
    "        ]\n",
    "    ],\n",
    "    left_index=True,\n",
    "    right_index=True,\n",
    "    how=\"left\",\n",
    ")"
   ]
  },
  {
   "cell_type": "markdown",
   "metadata": {},
   "source": [
    "Die 5 jährigen Staatsanleihen werden ebenfalls mit betrachtet"
   ]
  },
  {
   "cell_type": "code",
   "execution_count": 102,
   "metadata": {},
   "outputs": [
    {
     "name": "stderr",
     "output_type": "stream",
     "text": [
      "[*********************100%%**********************]  1 of 1 completed\n"
     ]
    }
   ],
   "source": [
    "yield_5_years = yf.download(\"^FVX\")\n",
    "\n",
    "yield_5_years[\"yield_5yr\"] = yield_5_years[\"Close\"]\n",
    "stock = pd.merge(\n",
    "    stock,\n",
    "    yield_5_years[\n",
    "        [\n",
    "            \"yield_5yr\",\n",
    "        ]\n",
    "    ],\n",
    "    left_index=True,\n",
    "    right_index=True,\n",
    "    how=\"left\",\n",
    ")"
   ]
  },
  {
   "cell_type": "markdown",
   "metadata": {},
   "source": [
    "Ein paar Indikatoren für spätere Auswertungen"
   ]
  },
  {
   "cell_type": "code",
   "execution_count": 103,
   "metadata": {},
   "outputs": [],
   "source": [
    "stock[\"rsi_3\"] = rsi(stock.Close, 3)\n",
    "stock[\"rsi_7\"] = rsi(stock.Close, 7)\n",
    "stock[\"rsi_10\"] = rsi(stock.Close, 10)\n",
    "\n",
    "stock[\"atr_10\"] = atr(stock, 10, smoothing=\"rma\") / stock.Close * 100\n",
    "\n",
    "adx_intervall = 21\n",
    "adx = ta.adx(stock.High, stock.Low, stock.Close, adx_intervall)\n",
    "stock[\"adx\"] = adx[f\"ADX_{adx_intervall}\"]\n",
    "stock[\"adx_direction\"] = np.where(\n",
    "    adx[f\"DMP_{adx_intervall}\"] > adx[f\"DMN_{adx_intervall}\"], 1, -1\n",
    ")\n",
    "\n",
    "stock[\"adx_10\"] = ta.adx(stock.High, stock.Low, stock.Close, 10, 10)[\"ADX_10\"]\n",
    "\n",
    "\n",
    "stock[\"sma\"] = sma(stock.Close, 20)\n",
    "stock[\"sma_20\"] = stock.Close / sma(stock.Close, 20)\n",
    "stock[\"sma_50\"] = stock.Close / sma(stock.Close, 50)\n",
    "stock[\"sma_100\"] = stock.Close / sma(stock.Close, 100)\n",
    "stock[\"sma_200\"] = stock.Close / sma(stock.Close, 200)\n",
    "\n",
    "stock[\"sma_pct\"] = (stock.Close / stock.sma).round(2)\n",
    "\n",
    "stock[\"month\"] = stock.index.month"
   ]
  },
  {
   "cell_type": "markdown",
   "metadata": {},
   "source": [
    "Markiere die letzten x Tage und ersten x Tage im Monat für die geplanten Trades. "
   ]
  },
  {
   "cell_type": "code",
   "execution_count": 104,
   "metadata": {},
   "outputs": [],
   "source": [
    "days = 5\n",
    "\n",
    "# Identify end of month\n",
    "end_of_month = stock.groupby([stock.index.year, stock.index.month]).tail(days)\n",
    "\n",
    "# Identify beginning of month\n",
    "beginning_of_month = stock.groupby([stock.index.year, stock.index.month]).head(days)\n",
    "\n",
    "# add countdown\n",
    "end_of_month[\"countdown\"] = -1\n",
    "end_of_month[\"days\"] = end_of_month[\"countdown\"].cumsum().add(1).mod(days)\n",
    "end_of_month.loc[end_of_month.days == days, \"days\"] = 0\n",
    "end_of_month[\"days\"] = (end_of_month[\"days\"].add(1)) * -1\n",
    "\n",
    "beginning_of_month[\"countdown\"] = 1\n",
    "beginning_of_month[\"days\"] = beginning_of_month[\"countdown\"].cumsum().sub(1).mod(days)\n",
    "beginning_of_month.loc[beginning_of_month.days == 0, \"days\"] = days\n",
    "\n",
    "# Combine the results\n",
    "marked_days = pd.concat([end_of_month, beginning_of_month])\n",
    "marked_days[\"hold\"] = 1\n",
    "\n",
    "df = pd.merge(\n",
    "    left=stock,\n",
    "    right=marked_days[[\"hold\", \"days\"]],\n",
    "    left_index=True,\n",
    "    right_index=True,\n",
    "    how=\"left\",\n",
    ")\n",
    "\n",
    "df.hold = df.hold.fillna(0)\n",
    "\n",
    "df[\"buy\"] = np.where(\n",
    "    (df.hold.shift(1) == 0) & (df.hold == 1),\n",
    "    1,\n",
    "    np.where((df.hold == 1) & (df.hold.shift(-1) == 0), -1, np.nan),\n",
    ")\n",
    "\n",
    "df.hold = np.where(df.hold == 1, df.Low, np.nan)"
   ]
  },
  {
   "cell_type": "markdown",
   "metadata": {},
   "source": [
    "## Jetzt zur Strategie\n",
    "Es wird 5 Tage vor Monatsende gekauft und 5 Tage nach Monatsanfang gekauft"
   ]
  },
  {
   "cell_type": "code",
   "execution_count": 105,
   "metadata": {},
   "outputs": [],
   "source": [
    "from backtesting import Strategy\n",
    "\n",
    "\n",
    "class end_of_month(Strategy):\n",
    "    \"\"\"\n",
    "    strategy for trend_trading\n",
    "    \"\"\"\n",
    "\n",
    "    days_before = -5\n",
    "    days_after = 5\n",
    "\n",
    "    def ohlc(self, pos=-1) -> tuple:\n",
    "        \"\"\"\n",
    "        helper function for ohlc data\n",
    "        \"\"\"\n",
    "        return (\n",
    "            self.data.Open[pos],\n",
    "            self.data.High[pos],\n",
    "            self.data.Low[pos],\n",
    "            self.data.Close[pos],\n",
    "        )\n",
    "\n",
    "    def init(self):\n",
    "        super().init()\n",
    "\n",
    "        self.sma = self.I(lambda: self.data.sma, name=\"SMA\")\n",
    "\n",
    "        # self.rsi = self.I(lambda: self.data.rsi, name=\"RSI\", overlay=False)\n",
    "        self.atr_10 = self.I(lambda: self.data.atr_10, name=\"ATR\", overlay=False)\n",
    "\n",
    "        self.vix = self.I(lambda: self.data.vix, name=\"VIX\", overlay=False)\n",
    "        self.yield_5yr = self.I(\n",
    "            lambda: self.data.yield_5yr, name=\"Yield 5\", overlay=False\n",
    "        )\n",
    "\n",
    "    def next(self):\n",
    "        # super().next()\n",
    "\n",
    "        _open, _high, _low, _close = self.ohlc()\n",
    "\n",
    "        # trade management for an existing trade\n",
    "        for trade in self.trades:\n",
    "            if trade.is_long:\n",
    "                if self.data.days[-1] == self.days_after:\n",
    "                    trade.close()\n",
    "\n",
    "        if self.data.days[-1] == self.days_before:\n",
    "            self.buy()"
   ]
  },
  {
   "cell_type": "code",
   "execution_count": 106,
   "metadata": {},
   "outputs": [
    {
     "data": {
      "text/plain": [
       "Start                     2012-01-03 00:00:00\n",
       "End                       2024-04-16 00:00:00\n",
       "Duration                   4487 days 00:00:00\n",
       "Exposure Time [%]                   24.039088\n",
       "Equity Final [$]                174848.775701\n",
       "Equity Peak [$]                 183297.448299\n",
       "Return [%]                          74.848776\n",
       "Buy & Hold Return [%]              657.644982\n",
       "Return (Ann.) [%]                    4.693299\n",
       "Volatility (Ann.) [%]                9.069807\n",
       "Sharpe Ratio                         0.517464\n",
       "Sortino Ratio                        0.811339\n",
       "Calmar Ratio                         0.361475\n",
       "Max. Drawdown [%]                  -12.983751\n",
       "Avg. Drawdown [%]                   -2.497168\n",
       "Max. Drawdown Duration      579 days 00:00:00\n",
       "Avg. Drawdown Duration       96 days 00:00:00\n",
       "# Trades                                  148\n",
       "Win Rate [%]                        60.135135\n",
       "Best Trade [%]                       6.886134\n",
       "Worst Trade [%]                      -5.59635\n",
       "Avg. Trade [%]                       0.378621\n",
       "Max. Trade Duration          10 days 00:00:00\n",
       "Avg. Trade Duration           6 days 00:00:00\n",
       "Profit Factor                        1.599565\n",
       "Expectancy [%]                       0.402539\n",
       "SQN                                  2.127807\n",
       "_strategy                        end_of_month\n",
       "_equity_curve                             ...\n",
       "_trades                        Size  Entry...\n",
       "dtype: object"
      ]
     },
     "execution_count": 106,
     "metadata": {},
     "output_type": "execute_result"
    }
   ],
   "source": [
    "from backtesting import Backtest\n",
    "\n",
    "bt = Backtest(\n",
    "    df[\"2012-01-01\":], end_of_month, cash=100_000, commission=0.002, trade_on_close=True\n",
    ")\n",
    "stats = bt.run()\n",
    "bt.plot(superimpose=False, open_browser=False)\n",
    "stats"
   ]
  },
  {
   "cell_type": "code",
   "execution_count": 107,
   "metadata": {},
   "outputs": [
    {
     "data": {
      "text/plain": [
       "<Axes: xlabel='EntryTime', ylabel='ReturnPct'>"
      ]
     },
     "execution_count": 107,
     "metadata": {},
     "output_type": "execute_result"
    },
    {
     "data": {
      "image/png": "[encoded data removed]",
      "text/plain": [
       "<Figure size 640x480 with 1 Axes>"
      ]
     },
     "metadata": {},
     "output_type": "display_data"
    }
   ],
   "source": [
    "trades = stats[\"_trades\"]\n",
    "trades.plot.scatter(y=\"ReturnPct\", x=\"EntryTime\")"
   ]
  },
  {
   "cell_type": "code",
   "execution_count": 108,
   "metadata": {},
   "outputs": [
    {
     "data": {
      "text/html": [
       "<div>\n",
       "<style scoped>\n",
       "    .dataframe tbody tr th:only-of-type {\n",
       "        vertical-align: middle;\n",
       "    }\n",
       "\n",
       "    .dataframe tbody tr th {\n",
       "        vertical-align: top;\n",
       "    }\n",
       "\n",
       "    .dataframe thead th {\n",
       "        text-align: right;\n",
       "    }\n",
       "</style>\n",
       "<table border=\"1\" class=\"dataframe\">\n",
       "  <thead>\n",
       "    <tr style=\"text-align: right;\">\n",
       "      <th></th>\n",
       "      <th>Size</th>\n",
       "      <th>EntryBar</th>\n",
       "      <th>ExitBar</th>\n",
       "      <th>EntryPrice</th>\n",
       "      <th>ExitPrice</th>\n",
       "      <th>PnL</th>\n",
       "      <th>ReturnPct</th>\n",
       "      <th>EntryTime</th>\n",
       "      <th>ExitTime</th>\n",
       "      <th>Duration</th>\n",
       "    </tr>\n",
       "  </thead>\n",
       "  <tbody>\n",
       "    <tr>\n",
       "      <th>74</th>\n",
       "      <td>724</td>\n",
       "      <td>1549</td>\n",
       "      <td>1553</td>\n",
       "      <td>164.728794</td>\n",
       "      <td>155.509995</td>\n",
       "      <td>-6674.410749</td>\n",
       "      <td>-0.055963</td>\n",
       "      <td>2018-03-26</td>\n",
       "      <td>2018-04-02</td>\n",
       "      <td>7 days</td>\n",
       "    </tr>\n",
       "    <tr>\n",
       "      <th>98</th>\n",
       "      <td>653</td>\n",
       "      <td>2050</td>\n",
       "      <td>2054</td>\n",
       "      <td>192.283794</td>\n",
       "      <td>182.309998</td>\n",
       "      <td>-6512.889001</td>\n",
       "      <td>-0.051870</td>\n",
       "      <td>2020-03-26</td>\n",
       "      <td>2020-04-01</td>\n",
       "      <td>6 days</td>\n",
       "    </tr>\n",
       "  </tbody>\n",
       "</table>\n",
       "</div>"
      ],
      "text/plain": [
       "    Size  EntryBar  ExitBar  EntryPrice   ExitPrice          PnL  ReturnPct  \\\n",
       "74   724      1549     1553  164.728794  155.509995 -6674.410749  -0.055963   \n",
       "98   653      2050     2054  192.283794  182.309998 -6512.889001  -0.051870   \n",
       "\n",
       "    EntryTime   ExitTime Duration  \n",
       "74 2018-03-26 2018-04-02   7 days  \n",
       "98 2020-03-26 2020-04-01   6 days  "
      ]
     },
     "execution_count": 108,
     "metadata": {},
     "output_type": "execute_result"
    }
   ],
   "source": [
    "trades[trades.ReturnPct < -0.05]"
   ]
  },
  {
   "cell_type": "markdown",
   "metadata": {},
   "source": [
    "Vielleicht wäre ein Stopp doch hilfreich"
   ]
  },
  {
   "cell_type": "code",
   "execution_count": 109,
   "metadata": {},
   "outputs": [],
   "source": [
    "class end_of_month_with_SL(end_of_month):\n",
    "    \"\"\"\n",
    "    strategy for trend_trading\n",
    "    \"\"\"\n",
    "\n",
    "    skip_month = []\n",
    "\n",
    "    def next(self):\n",
    "        _open, _high, _low, _close = self.ohlc()\n",
    "\n",
    "        # trade management for an existing trade\n",
    "        for trade in self.trades:\n",
    "            if trade.is_long:\n",
    "                if trade.pl_pct < -0.05:\n",
    "                    trade.close()\n",
    "\n",
    "                if self.data.days[-1] == self.days_after:\n",
    "                    trade.close()\n",
    "\n",
    "        if (\n",
    "            self.data.days[-1] == self.days_before\n",
    "            and self.data.month[-1] not in self.skip_month\n",
    "        ):\n",
    "            self.buy()"
   ]
  },
  {
   "cell_type": "code",
   "execution_count": 110,
   "metadata": {},
   "outputs": [
    {
     "data": {
      "text/plain": [
       "Start                     2012-01-03 00:00:00\n",
       "End                       2024-04-16 00:00:00\n",
       "Duration                   4487 days 00:00:00\n",
       "Exposure Time [%]                   24.039088\n",
       "Equity Final [$]                174848.775701\n",
       "Equity Peak [$]                 183297.448299\n",
       "Return [%]                          74.848776\n",
       "Buy & Hold Return [%]              657.644982\n",
       "Return (Ann.) [%]                    4.693299\n",
       "Volatility (Ann.) [%]                9.069807\n",
       "Sharpe Ratio                         0.517464\n",
       "Sortino Ratio                        0.811339\n",
       "Calmar Ratio                         0.361475\n",
       "Max. Drawdown [%]                  -12.983751\n",
       "Avg. Drawdown [%]                   -2.497168\n",
       "Max. Drawdown Duration      579 days 00:00:00\n",
       "Avg. Drawdown Duration       96 days 00:00:00\n",
       "# Trades                                  148\n",
       "Win Rate [%]                        60.135135\n",
       "Best Trade [%]                       6.886134\n",
       "Worst Trade [%]                      -5.59635\n",
       "Avg. Trade [%]                       0.378621\n",
       "Max. Trade Duration          10 days 00:00:00\n",
       "Avg. Trade Duration           6 days 00:00:00\n",
       "Profit Factor                        1.599565\n",
       "Expectancy [%]                       0.402539\n",
       "SQN                                  2.127807\n",
       "_strategy                 end_of_month_wit...\n",
       "_equity_curve                             ...\n",
       "_trades                        Size  Entry...\n",
       "dtype: object"
      ]
     },
     "execution_count": 110,
     "metadata": {},
     "output_type": "execute_result"
    }
   ],
   "source": [
    "from backtesting import Backtest\n",
    "\n",
    "bt = Backtest(\n",
    "    df[\"2012-01-01\":],\n",
    "    end_of_month_with_SL,\n",
    "    cash=100_000,\n",
    "    commission=0.002,\n",
    "    trade_on_close=True,\n",
    ")\n",
    "stats = bt.run()\n",
    "bt.plot(superimpose=False, open_browser=False)\n",
    "stats"
   ]
  },
  {
   "cell_type": "code",
   "execution_count": 111,
   "metadata": {},
   "outputs": [
    {
     "data": {
      "text/plain": [
       "<Axes: xlabel='EntryTime', ylabel='ReturnPct'>"
      ]
     },
     "execution_count": 111,
     "metadata": {},
     "output_type": "execute_result"
    },
    {
     "data": {
      "image/png": "[encoded data removed]",
      "text/plain": [
       "<Figure size 640x480 with 1 Axes>"
      ]
     },
     "metadata": {},
     "output_type": "display_data"
    }
   ],
   "source": [
    "trades = stats[\"_trades\"]\n",
    "trades.plot.scatter(y=\"ReturnPct\", x=\"EntryTime\")"
   ]
  },
  {
   "cell_type": "markdown",
   "metadata": {},
   "source": [
    "jetzt wird überprüft welche Tage für die Ein- und Ausstiege besser sein könnten."
   ]
  },
  {
   "cell_type": "code",
   "execution_count": 112,
   "metadata": {},
   "outputs": [
    {
     "name": "stderr",
     "output_type": "stream",
     "text": [
      "/Users/produktmanagement/Python/github/backtesting-trading-strategies/.venv/lib/python3.12/site-packages/backtesting/backtesting.py:1375: UserWarning: For multiprocessing support in `Backtest.optimize()` set multiprocessing start method to 'fork'.\n",
      "  warnings.warn(\"For multiprocessing support in `Backtest.optimize()` \"\n"
     ]
    }
   ],
   "source": [
    "stats, heatmap = bt.optimize(\n",
    "    days_before=range(-5, 0, 1),\n",
    "    days_after=range(1, 6),\n",
    "    maximize=\"Profit Factor\",  # \"Equity Final [$]\",\n",
    "    max_tries=200,\n",
    "    random_state=0,\n",
    "    return_heatmap=True,\n",
    ")"
   ]
  },
  {
   "cell_type": "code",
   "execution_count": 113,
   "metadata": {},
   "outputs": [
    {
     "data": {
      "text/plain": [
       "days_before  days_after\n",
       "-1           3             1.643891\n",
       "             1             1.662736\n",
       "             4             1.698658\n",
       "Name: Profit Factor, dtype: float64"
      ]
     },
     "execution_count": 113,
     "metadata": {},
     "output_type": "execute_result"
    }
   ],
   "source": [
    "# heatmap\n",
    "heatmap.sort_values().iloc[-3:]"
   ]
  },
  {
   "cell_type": "code",
   "execution_count": 114,
   "metadata": {},
   "outputs": [
    {
     "data": {
      "text/html": [
       "<div>\n",
       "<style scoped>\n",
       "    .dataframe tbody tr th:only-of-type {\n",
       "        vertical-align: middle;\n",
       "    }\n",
       "\n",
       "    .dataframe tbody tr th {\n",
       "        vertical-align: top;\n",
       "    }\n",
       "\n",
       "    .dataframe thead th {\n",
       "        text-align: right;\n",
       "    }\n",
       "</style>\n",
       "<table border=\"1\" class=\"dataframe\">\n",
       "  <thead>\n",
       "    <tr style=\"text-align: right;\">\n",
       "      <th>days_after</th>\n",
       "      <th>1</th>\n",
       "      <th>2</th>\n",
       "      <th>3</th>\n",
       "      <th>4</th>\n",
       "      <th>5</th>\n",
       "    </tr>\n",
       "    <tr>\n",
       "      <th>days_before</th>\n",
       "      <th></th>\n",
       "      <th></th>\n",
       "      <th></th>\n",
       "      <th></th>\n",
       "      <th></th>\n",
       "    </tr>\n",
       "  </thead>\n",
       "  <tbody>\n",
       "    <tr>\n",
       "      <th>-5</th>\n",
       "      <td>1.573967</td>\n",
       "      <td>1.491809</td>\n",
       "      <td>1.530184</td>\n",
       "      <td>1.607998</td>\n",
       "      <td>1.599565</td>\n",
       "    </tr>\n",
       "    <tr>\n",
       "      <th>-4</th>\n",
       "      <td>1.519721</td>\n",
       "      <td>1.374460</td>\n",
       "      <td>1.547403</td>\n",
       "      <td>1.619404</td>\n",
       "      <td>1.459339</td>\n",
       "    </tr>\n",
       "    <tr>\n",
       "      <th>-3</th>\n",
       "      <td>1.168292</td>\n",
       "      <td>1.160322</td>\n",
       "      <td>1.205277</td>\n",
       "      <td>1.306228</td>\n",
       "      <td>1.128409</td>\n",
       "    </tr>\n",
       "    <tr>\n",
       "      <th>-2</th>\n",
       "      <td>1.149773</td>\n",
       "      <td>1.106277</td>\n",
       "      <td>1.225685</td>\n",
       "      <td>1.329716</td>\n",
       "      <td>1.082690</td>\n",
       "    </tr>\n",
       "    <tr>\n",
       "      <th>-1</th>\n",
       "      <td>1.662736</td>\n",
       "      <td>1.510898</td>\n",
       "      <td>1.643891</td>\n",
       "      <td>1.698658</td>\n",
       "      <td>1.616865</td>\n",
       "    </tr>\n",
       "  </tbody>\n",
       "</table>\n",
       "</div>"
      ],
      "text/plain": [
       "days_after          1         2         3         4         5\n",
       "days_before                                                  \n",
       "-5           1.573967  1.491809  1.530184  1.607998  1.599565\n",
       "-4           1.519721  1.374460  1.547403  1.619404  1.459339\n",
       "-3           1.168292  1.160322  1.205277  1.306228  1.128409\n",
       "-2           1.149773  1.106277  1.225685  1.329716  1.082690\n",
       "-1           1.662736  1.510898  1.643891  1.698658  1.616865"
      ]
     },
     "execution_count": 114,
     "metadata": {},
     "output_type": "execute_result"
    }
   ],
   "source": [
    "heatmap.groupby([\"days_before\", \"days_after\"]).mean().unstack()"
   ]
  },
  {
   "cell_type": "code",
   "execution_count": 115,
   "metadata": {},
   "outputs": [
    {
     "data": {
      "text/plain": [
       "Start                     2012-01-03 00:00:00\n",
       "End                       2024-04-16 00:00:00\n",
       "Duration                   4487 days 00:00:00\n",
       "Exposure Time [%]                   46.840391\n",
       "Equity Final [$]                256533.806001\n",
       "Equity Peak [$]                 265534.137721\n",
       "Return [%]                         156.533806\n",
       "Buy & Hold Return [%]              657.644982\n",
       "Return (Ann.) [%]                    8.039983\n",
       "Volatility (Ann.) [%]               14.161055\n",
       "Sharpe Ratio                         0.567753\n",
       "Sortino Ratio                        0.901441\n",
       "Calmar Ratio                         0.345937\n",
       "Max. Drawdown [%]                  -23.241195\n",
       "Avg. Drawdown [%]                   -2.955897\n",
       "Max. Drawdown Duration     1155 days 00:00:00\n",
       "Avg. Drawdown Duration       59 days 00:00:00\n",
       "# Trades                                  148\n",
       "Win Rate [%]                        58.108108\n",
       "Best Trade [%]                      10.941882\n",
       "Worst Trade [%]                     -7.299543\n",
       "Avg. Trade [%]                       0.638835\n",
       "Max. Trade Duration          17 days 00:00:00\n",
       "Avg. Trade Duration          13 days 00:00:00\n",
       "Profit Factor                        1.698658\n",
       "Expectancy [%]                       0.695084\n",
       "SQN                                  2.094038\n",
       "_strategy                 end_of_month_wit...\n",
       "_equity_curve                             ...\n",
       "_trades                        Size  Entry...\n",
       "dtype: object"
      ]
     },
     "execution_count": 115,
     "metadata": {},
     "output_type": "execute_result"
    }
   ],
   "source": [
    "stats"
   ]
  },
  {
   "cell_type": "markdown",
   "metadata": {},
   "source": [
    "The Winner is ..."
   ]
  },
  {
   "cell_type": "code",
   "execution_count": 116,
   "metadata": {},
   "outputs": [
    {
     "data": {
      "text/plain": [
       "<Strategy end_of_month_with_SL(days_before=-1,days_after=4)>"
      ]
     },
     "execution_count": 116,
     "metadata": {},
     "output_type": "execute_result"
    }
   ],
   "source": [
    "stats[\"_strategy\"]"
   ]
  },
  {
   "cell_type": "code",
   "execution_count": 117,
   "metadata": {},
   "outputs": [
    {
     "data": {
      "text/html": [
       "<div style=\"display: table;\"><div style=\"display: table-row;\"><div style=\"display: table-cell;\"><b title=\"bokeh.models.layouts.Row\">Row</b>(</div><div style=\"display: table-cell;\">id&nbsp;=&nbsp;'21708', <span id=\"22647\" style=\"cursor: pointer;\">&hellip;)</span></div></div><div class=\"22646\" style=\"display: none;\"><div style=\"display: table-cell;\"></div><div style=\"display: table-cell;\">align&nbsp;=&nbsp;'start',</div></div><div class=\"22646\" style=\"display: none;\"><div style=\"display: table-cell;\"></div><div style=\"display: table-cell;\">aspect_ratio&nbsp;=&nbsp;None,</div></div><div class=\"22646\" style=\"display: none;\"><div style=\"display: table-cell;\"></div><div style=\"display: table-cell;\">background&nbsp;=&nbsp;None,</div></div><div class=\"22646\" style=\"display: none;\"><div style=\"display: table-cell;\"></div><div style=\"display: table-cell;\">children&nbsp;=&nbsp;[GridBox(id='21705', ...), ToolbarBox(id='21707', ...)],</div></div><div class=\"22646\" style=\"display: none;\"><div style=\"display: table-cell;\"></div><div style=\"display: table-cell;\">cols&nbsp;=&nbsp;'auto',</div></div><div class=\"22646\" style=\"display: none;\"><div style=\"display: table-cell;\"></div><div style=\"display: table-cell;\">css_classes&nbsp;=&nbsp;[],</div></div><div class=\"22646\" style=\"display: none;\"><div style=\"display: table-cell;\"></div><div style=\"display: table-cell;\">disabled&nbsp;=&nbsp;False,</div></div><div class=\"22646\" style=\"display: none;\"><div style=\"display: table-cell;\"></div><div style=\"display: table-cell;\">height&nbsp;=&nbsp;None,</div></div><div class=\"22646\" style=\"display: none;\"><div style=\"display: table-cell;\"></div><div style=\"display: table-cell;\">height_policy&nbsp;=&nbsp;'auto',</div></div><div class=\"22646\" style=\"display: none;\"><div style=\"display: table-cell;\"></div><div style=\"display: table-cell;\">js_event_callbacks&nbsp;=&nbsp;{},</div></div><div class=\"22646\" style=\"display: none;\"><div style=\"display: table-cell;\"></div><div style=\"display: table-cell;\">js_property_callbacks&nbsp;=&nbsp;{},</div></div><div class=\"22646\" style=\"display: none;\"><div style=\"display: table-cell;\"></div><div style=\"display: table-cell;\">margin&nbsp;=&nbsp;(0, 0, 0, 0),</div></div><div class=\"22646\" style=\"display: none;\"><div style=\"display: table-cell;\"></div><div style=\"display: table-cell;\">max_height&nbsp;=&nbsp;None,</div></div><div class=\"22646\" style=\"display: none;\"><div style=\"display: table-cell;\"></div><div style=\"display: table-cell;\">max_width&nbsp;=&nbsp;None,</div></div><div class=\"22646\" style=\"display: none;\"><div style=\"display: table-cell;\"></div><div style=\"display: table-cell;\">min_height&nbsp;=&nbsp;None,</div></div><div class=\"22646\" style=\"display: none;\"><div style=\"display: table-cell;\"></div><div style=\"display: table-cell;\">min_width&nbsp;=&nbsp;None,</div></div><div class=\"22646\" style=\"display: none;\"><div style=\"display: table-cell;\"></div><div style=\"display: table-cell;\">name&nbsp;=&nbsp;None,</div></div><div class=\"22646\" style=\"display: none;\"><div style=\"display: table-cell;\"></div><div style=\"display: table-cell;\">sizing_mode&nbsp;=&nbsp;'stretch_width',</div></div><div class=\"22646\" style=\"display: none;\"><div style=\"display: table-cell;\"></div><div style=\"display: table-cell;\">spacing&nbsp;=&nbsp;0,</div></div><div class=\"22646\" style=\"display: none;\"><div style=\"display: table-cell;\"></div><div style=\"display: table-cell;\">subscribed_events&nbsp;=&nbsp;[],</div></div><div class=\"22646\" style=\"display: none;\"><div style=\"display: table-cell;\"></div><div style=\"display: table-cell;\">syncable&nbsp;=&nbsp;True,</div></div><div class=\"22646\" style=\"display: none;\"><div style=\"display: table-cell;\"></div><div style=\"display: table-cell;\">tags&nbsp;=&nbsp;[],</div></div><div class=\"22646\" style=\"display: none;\"><div style=\"display: table-cell;\"></div><div style=\"display: table-cell;\">visible&nbsp;=&nbsp;True,</div></div><div class=\"22646\" style=\"display: none;\"><div style=\"display: table-cell;\"></div><div style=\"display: table-cell;\">width&nbsp;=&nbsp;None,</div></div><div class=\"22646\" style=\"display: none;\"><div style=\"display: table-cell;\"></div><div style=\"display: table-cell;\">width_policy&nbsp;=&nbsp;'auto')</div></div></div>\n",
       "<script>\n",
       "(function() {\n",
       "  let expanded = false;\n",
       "  const ellipsis = document.getElementById(\"22647\");\n",
       "  ellipsis.addEventListener(\"click\", function() {\n",
       "    const rows = document.getElementsByClassName(\"22646\");\n",
       "    for (let i = 0; i < rows.length; i++) {\n",
       "      const el = rows[i];\n",
       "      el.style.display = expanded ? \"none\" : \"table-row\";\n",
       "    }\n",
       "    ellipsis.innerHTML = expanded ? \"&hellip;)\" : \"&lsaquo;&lsaquo;&lsaquo;\";\n",
       "    expanded = !expanded;\n",
       "  });\n",
       "})();\n",
       "</script>\n"
      ],
      "text/plain": [
       "Row(id='21708', ...)"
      ]
     },
     "execution_count": 117,
     "metadata": {},
     "output_type": "execute_result"
    }
   ],
   "source": [
    "# bt = Backtest(df[\"2012-01-01\":], end_of_month, cash=100_000, commission=0.002)\n",
    "stats = bt.run(days_before=-1, days_after=1)\n",
    "bt.plot(superimpose=False, open_browser=False)"
   ]
  },
  {
   "cell_type": "code",
   "execution_count": 118,
   "metadata": {},
   "outputs": [
    {
     "data": {
      "text/plain": [
       "Start                     2012-01-03 00:00:00\n",
       "End                       2024-04-16 00:00:00\n",
       "Duration                   4487 days 00:00:00\n",
       "Exposure Time [%]                   33.289902\n",
       "Equity Final [$]                205964.270461\n",
       "Equity Peak [$]                 216762.179595\n",
       "Return [%]                          105.96427\n",
       "Buy & Hold Return [%]              657.644982\n",
       "Return (Ann.) [%]                    6.110292\n",
       "Volatility (Ann.) [%]               11.398308\n",
       "Sharpe Ratio                          0.53607\n",
       "Sortino Ratio                        0.847991\n",
       "Calmar Ratio                         0.479945\n",
       "Max. Drawdown [%]                  -12.731239\n",
       "Avg. Drawdown [%]                   -2.849217\n",
       "Max. Drawdown Duration      609 days 00:00:00\n",
       "Avg. Drawdown Duration       75 days 00:00:00\n",
       "# Trades                                  148\n",
       "Win Rate [%]                        57.432432\n",
       "Best Trade [%]                        9.23009\n",
       "Worst Trade [%]                     -7.299543\n",
       "Avg. Trade [%]                       0.489688\n",
       "Max. Trade Duration          12 days 00:00:00\n",
       "Avg. Trade Duration           9 days 00:00:00\n",
       "Profit Factor                        1.662736\n",
       "Expectancy [%]                       0.525798\n",
       "SQN                                  2.046793\n",
       "_strategy                 end_of_month_wit...\n",
       "_equity_curve                             ...\n",
       "_trades                        Size  Entry...\n",
       "dtype: object"
      ]
     },
     "execution_count": 118,
     "metadata": {},
     "output_type": "execute_result"
    }
   ],
   "source": [
    "stats"
   ]
  },
  {
   "cell_type": "markdown",
   "metadata": {},
   "source": [
    "Die Win Rate beim Trading bezieht sich auf das Verhältnis der Anzahl der gewonnenen Trades zur Gesamtanzahl der Trades. \n",
    "Wenn jemand beispielsweise 70% seiner Trades gewinnt, beträgt seine Win Rate 70%."
   ]
  },
  {
   "cell_type": "code",
   "execution_count": 119,
   "metadata": {},
   "outputs": [
    {
     "data": {
      "text/plain": [
       "57.432432432432435"
      ]
     },
     "execution_count": 119,
     "metadata": {},
     "output_type": "execute_result"
    }
   ],
   "source": [
    "stats[\"Win Rate [%]\"]"
   ]
  },
  {
   "cell_type": "markdown",
   "metadata": {},
   "source": [
    "Durchschnittlicher Gewinn in Prozent. \n",
    "Wie viel Gewinn oder Verlust wurden im Durchschnitt pro Trade erzielt."
   ]
  },
  {
   "cell_type": "code",
   "execution_count": 120,
   "metadata": {},
   "outputs": [
    {
     "data": {
      "text/plain": [
       "0.4896882076812936"
      ]
     },
     "execution_count": 120,
     "metadata": {},
     "output_type": "execute_result"
    }
   ],
   "source": [
    "stats[\"Avg. Trade [%]\"]"
   ]
  },
  {
   "cell_type": "markdown",
   "metadata": {},
   "source": [
    "Der Profit-Faktor stellt die Verhältnisse zwischen Gewinnen und Verlusten dar.\n",
    "Der Profit-Faktor wird berechnet, indem die Summe aller Profite (Gewinne) durch die Summe aller Verluste (einschließlich Gebühren und Kommissionen) für den gesamten Handelszeitraum geteilt wird.\n",
    "Ein Profit-Faktor größer als 1 zeigt an, dass die Strategie profitabel ist. Je höher der Wert, desto besser.\n",
    "\n",
    "Ein guter Profit-Faktor liegt normalerweise zwischen 1,75 und 41.\n",
    "Ein Wert über 1,75 zeigt eine solide Strategie an, während Werte über 4 außergewöhnlich gut sind."
   ]
  },
  {
   "cell_type": "code",
   "execution_count": 121,
   "metadata": {},
   "outputs": [
    {
     "data": {
      "text/plain": [
       "1.6627358275670794"
      ]
     },
     "execution_count": 121,
     "metadata": {},
     "output_type": "execute_result"
    }
   ],
   "source": [
    "stats[\"Profit Factor\"]"
   ]
  },
  {
   "cell_type": "code",
   "execution_count": 122,
   "metadata": {},
   "outputs": [],
   "source": [
    "trades = stats[\"_trades\"]\n",
    "\n",
    "for index, row in trades.iterrows():\n",
    "    start_range = stock[: row[\"EntryTime\"]]\n",
    "    trades.loc[index, \"SignalTime\"] = start_range.index.values[-2]\n",
    "\n",
    "merged = pd.merge(\n",
    "    trades,\n",
    "    df[\n",
    "        [\n",
    "            \"adx_10\",\n",
    "            \"adx_direction\",\n",
    "            \"rsi_3\",\n",
    "            \"rsi_7\",\n",
    "            \"rsi_10\",\n",
    "            \"sma_20\",\n",
    "            \"sma_50\",\n",
    "            \"sma_100\",\n",
    "            \"sma_200\",\n",
    "        ]\n",
    "    ],\n",
    "    left_on=\"SignalTime\",\n",
    "    right_index=True,\n",
    ")\n",
    "# merged[\"win\"] = np.where(merged.PnL > 0, 1, -1)\n",
    "# merged[\"win\"] = np.where(merged.PnL > 0, 1, -1)"
   ]
  },
  {
   "cell_type": "code",
   "execution_count": 123,
   "metadata": {},
   "outputs": [
    {
     "name": "stdout",
     "output_type": "stream",
     "text": [
      "Month to skip [2, 4, 9, 10, 11, 12]\n"
     ]
    },
    {
     "data": {
      "text/html": [
       "<div>\n",
       "<style scoped>\n",
       "    .dataframe tbody tr th:only-of-type {\n",
       "        vertical-align: middle;\n",
       "    }\n",
       "\n",
       "    .dataframe tbody tr th {\n",
       "        vertical-align: top;\n",
       "    }\n",
       "\n",
       "    .dataframe thead th {\n",
       "        text-align: right;\n",
       "    }\n",
       "</style>\n",
       "<table border=\"1\" class=\"dataframe\">\n",
       "  <thead>\n",
       "    <tr style=\"text-align: right;\">\n",
       "      <th></th>\n",
       "      <th>ReturnPct</th>\n",
       "    </tr>\n",
       "    <tr>\n",
       "      <th>ExitTime</th>\n",
       "      <th></th>\n",
       "    </tr>\n",
       "  </thead>\n",
       "  <tbody>\n",
       "    <tr>\n",
       "      <th>1</th>\n",
       "      <td>-0.0311</td>\n",
       "    </tr>\n",
       "    <tr>\n",
       "      <th>2</th>\n",
       "      <td>0.0835</td>\n",
       "    </tr>\n",
       "    <tr>\n",
       "      <th>3</th>\n",
       "      <td>0.0982</td>\n",
       "    </tr>\n",
       "    <tr>\n",
       "      <th>4</th>\n",
       "      <td>0.1073</td>\n",
       "    </tr>\n",
       "    <tr>\n",
       "      <th>5</th>\n",
       "      <td>0.0188</td>\n",
       "    </tr>\n",
       "    <tr>\n",
       "      <th>6</th>\n",
       "      <td>0.1578</td>\n",
       "    </tr>\n",
       "    <tr>\n",
       "      <th>7</th>\n",
       "      <td>0.1661</td>\n",
       "    </tr>\n",
       "    <tr>\n",
       "      <th>8</th>\n",
       "      <td>0.0056</td>\n",
       "    </tr>\n",
       "    <tr>\n",
       "      <th>9</th>\n",
       "      <td>0.1841</td>\n",
       "    </tr>\n",
       "    <tr>\n",
       "      <th>10</th>\n",
       "      <td>-0.0401</td>\n",
       "    </tr>\n",
       "    <tr>\n",
       "      <th>11</th>\n",
       "      <td>0.0091</td>\n",
       "    </tr>\n",
       "    <tr>\n",
       "      <th>12</th>\n",
       "      <td>0.0191</td>\n",
       "    </tr>\n",
       "  </tbody>\n",
       "</table>\n",
       "</div>"
      ],
      "text/plain": [
       "          ReturnPct\n",
       "ExitTime           \n",
       "1           -0.0311\n",
       "2            0.0835\n",
       "3            0.0982\n",
       "4            0.1073\n",
       "5            0.0188\n",
       "6            0.1578\n",
       "7            0.1661\n",
       "8            0.0056\n",
       "9            0.1841\n",
       "10          -0.0401\n",
       "11           0.0091\n",
       "12           0.0191"
      ]
     },
     "execution_count": 123,
     "metadata": {},
     "output_type": "execute_result"
    }
   ],
   "source": [
    "# merged.set_index('EntryTime')\n",
    "monthly = pd.DataFrame(merged.groupby(merged.EntryTime.dt.month).ReturnPct.sum())\n",
    "# global skip_month\n",
    "skip_month = monthly[monthly[\"ReturnPct\"] < 0.05].index.to_list()\n",
    "print(\"Month to skip\", skip_month)\n",
    "pd.DataFrame(merged.groupby(merged.ExitTime.dt.month).ReturnPct.sum().round(4))"
   ]
  },
  {
   "cell_type": "code",
   "execution_count": 124,
   "metadata": {},
   "outputs": [
    {
     "data": {
      "text/plain": [
       "<Axes: title={'center': 'Gewinner Trades'}>"
      ]
     },
     "execution_count": 124,
     "metadata": {},
     "output_type": "execute_result"
    },
    {
     "data": {
      "image/png": "[encoded data removed]",
      "text/plain": [
       "<Figure size 640x480 with 1 Axes>"
      ]
     },
     "metadata": {},
     "output_type": "display_data"
    }
   ],
   "source": [
    "merged[merged.PnL > 0].ReturnPct.plot(title=\"Gewinner Trades\")"
   ]
  },
  {
   "cell_type": "code",
   "execution_count": 125,
   "metadata": {},
   "outputs": [
    {
     "data": {
      "text/plain": [
       "<Axes: title={'center': 'Verlierer Trades'}>"
      ]
     },
     "execution_count": 125,
     "metadata": {},
     "output_type": "execute_result"
    },
    {
     "data": {
      "image/png": "[encoded data removed]",
      "text/plain": [
       "<Figure size 640x480 with 1 Axes>"
      ]
     },
     "metadata": {},
     "output_type": "display_data"
    }
   ],
   "source": [
    "merged[merged.PnL < 0].ReturnPct.plot(title=\"Verlierer Trades\")"
   ]
  },
  {
   "cell_type": "code",
   "execution_count": 126,
   "metadata": {},
   "outputs": [],
   "source": [
    "class end_of_month_and_skip_month(end_of_month):\n",
    "    \"\"\"\n",
    "    strategy for trend_trading\n",
    "    \"\"\"\n",
    "\n",
    "    skip_month = []\n",
    "\n",
    "    def next(self):\n",
    "        _open, _high, _low, _close = self.ohlc()\n",
    "\n",
    "        # trade management for an existing trade\n",
    "        for trade in self.trades:\n",
    "            if trade.is_long:\n",
    "                if self.data.days[-1] == self.days_after:\n",
    "                    trade.close()\n",
    "\n",
    "        if (\n",
    "            self.data.days[-1] == self.days_before\n",
    "            and self.data.month[-1] not in self.skip_month\n",
    "        ):\n",
    "            self.buy()"
   ]
  },
  {
   "cell_type": "code",
   "execution_count": 127,
   "metadata": {},
   "outputs": [
    {
     "data": {
      "text/html": [
       "<div>\n",
       "<style scoped>\n",
       "    .dataframe tbody tr th:only-of-type {\n",
       "        vertical-align: middle;\n",
       "    }\n",
       "\n",
       "    .dataframe tbody tr th {\n",
       "        vertical-align: top;\n",
       "    }\n",
       "\n",
       "    .dataframe thead th {\n",
       "        text-align: right;\n",
       "    }\n",
       "</style>\n",
       "<table border=\"1\" class=\"dataframe\">\n",
       "  <thead>\n",
       "    <tr style=\"text-align: right;\">\n",
       "      <th></th>\n",
       "      <th>Open</th>\n",
       "      <th>High</th>\n",
       "      <th>Low</th>\n",
       "      <th>Close</th>\n",
       "      <th>Adj Close</th>\n",
       "      <th>Volume</th>\n",
       "      <th>vix</th>\n",
       "      <th>yield_5yr</th>\n",
       "      <th>rsi_3</th>\n",
       "      <th>rsi_7</th>\n",
       "      <th>...</th>\n",
       "      <th>sma</th>\n",
       "      <th>sma_20</th>\n",
       "      <th>sma_50</th>\n",
       "      <th>sma_100</th>\n",
       "      <th>sma_200</th>\n",
       "      <th>sma_pct</th>\n",
       "      <th>month</th>\n",
       "      <th>hold</th>\n",
       "      <th>days</th>\n",
       "      <th>buy</th>\n",
       "    </tr>\n",
       "    <tr>\n",
       "      <th>Date</th>\n",
       "      <th></th>\n",
       "      <th></th>\n",
       "      <th></th>\n",
       "      <th></th>\n",
       "      <th></th>\n",
       "      <th></th>\n",
       "      <th></th>\n",
       "      <th></th>\n",
       "      <th></th>\n",
       "      <th></th>\n",
       "      <th></th>\n",
       "      <th></th>\n",
       "      <th></th>\n",
       "      <th></th>\n",
       "      <th></th>\n",
       "      <th></th>\n",
       "      <th></th>\n",
       "      <th></th>\n",
       "      <th></th>\n",
       "      <th></th>\n",
       "      <th></th>\n",
       "    </tr>\n",
       "  </thead>\n",
       "  <tbody>\n",
       "    <tr>\n",
       "      <th>1999-03-10</th>\n",
       "      <td>51.125000</td>\n",
       "      <td>51.156250</td>\n",
       "      <td>50.281250</td>\n",
       "      <td>51.062500</td>\n",
       "      <td>43.547405</td>\n",
       "      <td>5232000</td>\n",
       "      <td>24.790001</td>\n",
       "      <td>5.112</td>\n",
       "      <td>NaN</td>\n",
       "      <td>NaN</td>\n",
       "      <td>...</td>\n",
       "      <td>NaN</td>\n",
       "      <td>NaN</td>\n",
       "      <td>NaN</td>\n",
       "      <td>NaN</td>\n",
       "      <td>NaN</td>\n",
       "      <td>NaN</td>\n",
       "      <td>3</td>\n",
       "      <td>50.281250</td>\n",
       "      <td>5.0</td>\n",
       "      <td>NaN</td>\n",
       "    </tr>\n",
       "    <tr>\n",
       "      <th>1999-03-11</th>\n",
       "      <td>51.437500</td>\n",
       "      <td>51.734375</td>\n",
       "      <td>50.312500</td>\n",
       "      <td>51.312500</td>\n",
       "      <td>43.760616</td>\n",
       "      <td>9688600</td>\n",
       "      <td>24.370001</td>\n",
       "      <td>5.126</td>\n",
       "      <td>NaN</td>\n",
       "      <td>NaN</td>\n",
       "      <td>...</td>\n",
       "      <td>NaN</td>\n",
       "      <td>NaN</td>\n",
       "      <td>NaN</td>\n",
       "      <td>NaN</td>\n",
       "      <td>NaN</td>\n",
       "      <td>NaN</td>\n",
       "      <td>3</td>\n",
       "      <td>50.312500</td>\n",
       "      <td>1.0</td>\n",
       "      <td>NaN</td>\n",
       "    </tr>\n",
       "    <tr>\n",
       "      <th>1999-03-12</th>\n",
       "      <td>51.125000</td>\n",
       "      <td>51.156250</td>\n",
       "      <td>49.656250</td>\n",
       "      <td>50.062500</td>\n",
       "      <td>42.694584</td>\n",
       "      <td>8743600</td>\n",
       "      <td>24.840000</td>\n",
       "      <td>5.061</td>\n",
       "      <td>12.0</td>\n",
       "      <td>NaN</td>\n",
       "      <td>...</td>\n",
       "      <td>NaN</td>\n",
       "      <td>NaN</td>\n",
       "      <td>NaN</td>\n",
       "      <td>NaN</td>\n",
       "      <td>NaN</td>\n",
       "      <td>NaN</td>\n",
       "      <td>3</td>\n",
       "      <td>49.656250</td>\n",
       "      <td>2.0</td>\n",
       "      <td>NaN</td>\n",
       "    </tr>\n",
       "    <tr>\n",
       "      <th>1999-03-15</th>\n",
       "      <td>50.437500</td>\n",
       "      <td>51.562500</td>\n",
       "      <td>49.906250</td>\n",
       "      <td>51.500000</td>\n",
       "      <td>43.920506</td>\n",
       "      <td>6369000</td>\n",
       "      <td>25.240000</td>\n",
       "      <td>5.046</td>\n",
       "      <td>65.0</td>\n",
       "      <td>NaN</td>\n",
       "      <td>...</td>\n",
       "      <td>NaN</td>\n",
       "      <td>NaN</td>\n",
       "      <td>NaN</td>\n",
       "      <td>NaN</td>\n",
       "      <td>NaN</td>\n",
       "      <td>NaN</td>\n",
       "      <td>3</td>\n",
       "      <td>49.906250</td>\n",
       "      <td>3.0</td>\n",
       "      <td>NaN</td>\n",
       "    </tr>\n",
       "    <tr>\n",
       "      <th>1999-03-16</th>\n",
       "      <td>51.718750</td>\n",
       "      <td>52.156250</td>\n",
       "      <td>51.156250</td>\n",
       "      <td>51.937500</td>\n",
       "      <td>44.293629</td>\n",
       "      <td>4905800</td>\n",
       "      <td>25.150000</td>\n",
       "      <td>5.017</td>\n",
       "      <td>73.0</td>\n",
       "      <td>NaN</td>\n",
       "      <td>...</td>\n",
       "      <td>NaN</td>\n",
       "      <td>NaN</td>\n",
       "      <td>NaN</td>\n",
       "      <td>NaN</td>\n",
       "      <td>NaN</td>\n",
       "      <td>NaN</td>\n",
       "      <td>3</td>\n",
       "      <td>51.156250</td>\n",
       "      <td>4.0</td>\n",
       "      <td>-1.0</td>\n",
       "    </tr>\n",
       "    <tr>\n",
       "      <th>...</th>\n",
       "      <td>...</td>\n",
       "      <td>...</td>\n",
       "      <td>...</td>\n",
       "      <td>...</td>\n",
       "      <td>...</td>\n",
       "      <td>...</td>\n",
       "      <td>...</td>\n",
       "      <td>...</td>\n",
       "      <td>...</td>\n",
       "      <td>...</td>\n",
       "      <td>...</td>\n",
       "      <td>...</td>\n",
       "      <td>...</td>\n",
       "      <td>...</td>\n",
       "      <td>...</td>\n",
       "      <td>...</td>\n",
       "      <td>...</td>\n",
       "      <td>...</td>\n",
       "      <td>...</td>\n",
       "      <td>...</td>\n",
       "      <td>...</td>\n",
       "    </tr>\n",
       "    <tr>\n",
       "      <th>2024-04-10</th>\n",
       "      <td>437.000000</td>\n",
       "      <td>439.239990</td>\n",
       "      <td>436.279999</td>\n",
       "      <td>438.369995</td>\n",
       "      <td>438.369995</td>\n",
       "      <td>61502200</td>\n",
       "      <td>15.800000</td>\n",
       "      <td>4.615</td>\n",
       "      <td>34.0</td>\n",
       "      <td>42.0</td>\n",
       "      <td>...</td>\n",
       "      <td>441.37</td>\n",
       "      <td>0.993203</td>\n",
       "      <td>1.003273</td>\n",
       "      <td>1.044484</td>\n",
       "      <td>1.112953</td>\n",
       "      <td>0.99</td>\n",
       "      <td>4</td>\n",
       "      <td>436.279999</td>\n",
       "      <td>-1.0</td>\n",
       "      <td>1.0</td>\n",
       "    </tr>\n",
       "    <tr>\n",
       "      <th>2024-04-11</th>\n",
       "      <td>440.260010</td>\n",
       "      <td>446.329987</td>\n",
       "      <td>437.959991</td>\n",
       "      <td>445.369995</td>\n",
       "      <td>445.369995</td>\n",
       "      <td>45474600</td>\n",
       "      <td>14.910000</td>\n",
       "      <td>4.623</td>\n",
       "      <td>71.0</td>\n",
       "      <td>59.0</td>\n",
       "      <td>...</td>\n",
       "      <td>441.63</td>\n",
       "      <td>1.008469</td>\n",
       "      <td>1.018361</td>\n",
       "      <td>1.059648</td>\n",
       "      <td>1.129463</td>\n",
       "      <td>1.01</td>\n",
       "      <td>4</td>\n",
       "      <td>437.959991</td>\n",
       "      <td>-5.0</td>\n",
       "      <td>NaN</td>\n",
       "    </tr>\n",
       "    <tr>\n",
       "      <th>2024-04-12</th>\n",
       "      <td>441.100006</td>\n",
       "      <td>442.239990</td>\n",
       "      <td>436.880005</td>\n",
       "      <td>438.269989</td>\n",
       "      <td>438.269989</td>\n",
       "      <td>53602600</td>\n",
       "      <td>17.309999</td>\n",
       "      <td>4.533</td>\n",
       "      <td>38.0</td>\n",
       "      <td>44.0</td>\n",
       "      <td>...</td>\n",
       "      <td>441.59</td>\n",
       "      <td>0.992482</td>\n",
       "      <td>1.001142</td>\n",
       "      <td>1.041467</td>\n",
       "      <td>1.110416</td>\n",
       "      <td>0.99</td>\n",
       "      <td>4</td>\n",
       "      <td>436.880005</td>\n",
       "      <td>-4.0</td>\n",
       "      <td>NaN</td>\n",
       "    </tr>\n",
       "    <tr>\n",
       "      <th>2024-04-15</th>\n",
       "      <td>442.059998</td>\n",
       "      <td>442.149994</td>\n",
       "      <td>430.209991</td>\n",
       "      <td>431.059998</td>\n",
       "      <td>431.059998</td>\n",
       "      <td>63453600</td>\n",
       "      <td>19.230000</td>\n",
       "      <td>4.645</td>\n",
       "      <td>23.0</td>\n",
       "      <td>34.0</td>\n",
       "      <td>...</td>\n",
       "      <td>441.44</td>\n",
       "      <td>0.976486</td>\n",
       "      <td>0.984268</td>\n",
       "      <td>1.023239</td>\n",
       "      <td>1.091208</td>\n",
       "      <td>0.98</td>\n",
       "      <td>4</td>\n",
       "      <td>430.209991</td>\n",
       "      <td>-3.0</td>\n",
       "      <td>NaN</td>\n",
       "    </tr>\n",
       "    <tr>\n",
       "      <th>2024-04-16</th>\n",
       "      <td>430.899994</td>\n",
       "      <td>433.760010</td>\n",
       "      <td>429.700012</td>\n",
       "      <td>431.100006</td>\n",
       "      <td>431.100006</td>\n",
       "      <td>47487700</td>\n",
       "      <td>18.400000</td>\n",
       "      <td>4.682</td>\n",
       "      <td>23.0</td>\n",
       "      <td>34.0</td>\n",
       "      <td>...</td>\n",
       "      <td>441.12</td>\n",
       "      <td>0.977285</td>\n",
       "      <td>0.984269</td>\n",
       "      <td>1.022339</td>\n",
       "      <td>1.090399</td>\n",
       "      <td>0.98</td>\n",
       "      <td>4</td>\n",
       "      <td>429.700012</td>\n",
       "      <td>-2.0</td>\n",
       "      <td>NaN</td>\n",
       "    </tr>\n",
       "  </tbody>\n",
       "</table>\n",
       "<p>6263 rows × 25 columns</p>\n",
       "</div>"
      ],
      "text/plain": [
       "                  Open        High         Low       Close   Adj Close  \\\n",
       "Date                                                                     \n",
       "1999-03-10   51.125000   51.156250   50.281250   51.062500   43.547405   \n",
       "1999-03-11   51.437500   51.734375   50.312500   51.312500   43.760616   \n",
       "1999-03-12   51.125000   51.156250   49.656250   50.062500   42.694584   \n",
       "1999-03-15   50.437500   51.562500   49.906250   51.500000   43.920506   \n",
       "1999-03-16   51.718750   52.156250   51.156250   51.937500   44.293629   \n",
       "...                ...         ...         ...         ...         ...   \n",
       "2024-04-10  437.000000  439.239990  436.279999  438.369995  438.369995   \n",
       "2024-04-11  440.260010  446.329987  437.959991  445.369995  445.369995   \n",
       "2024-04-12  441.100006  442.239990  436.880005  438.269989  438.269989   \n",
       "2024-04-15  442.059998  442.149994  430.209991  431.059998  431.059998   \n",
       "2024-04-16  430.899994  433.760010  429.700012  431.100006  431.100006   \n",
       "\n",
       "              Volume        vix  yield_5yr  rsi_3  rsi_7  ...     sma  \\\n",
       "Date                                                      ...           \n",
       "1999-03-10   5232000  24.790001      5.112    NaN    NaN  ...     NaN   \n",
       "1999-03-11   9688600  24.370001      5.126    NaN    NaN  ...     NaN   \n",
       "1999-03-12   8743600  24.840000      5.061   12.0    NaN  ...     NaN   \n",
       "1999-03-15   6369000  25.240000      5.046   65.0    NaN  ...     NaN   \n",
       "1999-03-16   4905800  25.150000      5.017   73.0    NaN  ...     NaN   \n",
       "...              ...        ...        ...    ...    ...  ...     ...   \n",
       "2024-04-10  61502200  15.800000      4.615   34.0   42.0  ...  441.37   \n",
       "2024-04-11  45474600  14.910000      4.623   71.0   59.0  ...  441.63   \n",
       "2024-04-12  53602600  17.309999      4.533   38.0   44.0  ...  441.59   \n",
       "2024-04-15  63453600  19.230000      4.645   23.0   34.0  ...  441.44   \n",
       "2024-04-16  47487700  18.400000      4.682   23.0   34.0  ...  441.12   \n",
       "\n",
       "              sma_20    sma_50   sma_100   sma_200  sma_pct  month  \\\n",
       "Date                                                                 \n",
       "1999-03-10       NaN       NaN       NaN       NaN      NaN      3   \n",
       "1999-03-11       NaN       NaN       NaN       NaN      NaN      3   \n",
       "1999-03-12       NaN       NaN       NaN       NaN      NaN      3   \n",
       "1999-03-15       NaN       NaN       NaN       NaN      NaN      3   \n",
       "1999-03-16       NaN       NaN       NaN       NaN      NaN      3   \n",
       "...              ...       ...       ...       ...      ...    ...   \n",
       "2024-04-10  0.993203  1.003273  1.044484  1.112953     0.99      4   \n",
       "2024-04-11  1.008469  1.018361  1.059648  1.129463     1.01      4   \n",
       "2024-04-12  0.992482  1.001142  1.041467  1.110416     0.99      4   \n",
       "2024-04-15  0.976486  0.984268  1.023239  1.091208     0.98      4   \n",
       "2024-04-16  0.977285  0.984269  1.022339  1.090399     0.98      4   \n",
       "\n",
       "                  hold  days  buy  \n",
       "Date                               \n",
       "1999-03-10   50.281250   5.0  NaN  \n",
       "1999-03-11   50.312500   1.0  NaN  \n",
       "1999-03-12   49.656250   2.0  NaN  \n",
       "1999-03-15   49.906250   3.0  NaN  \n",
       "1999-03-16   51.156250   4.0 -1.0  \n",
       "...                ...   ...  ...  \n",
       "2024-04-10  436.279999  -1.0  1.0  \n",
       "2024-04-11  437.959991  -5.0  NaN  \n",
       "2024-04-12  436.880005  -4.0  NaN  \n",
       "2024-04-15  430.209991  -3.0  NaN  \n",
       "2024-04-16  429.700012  -2.0  NaN  \n",
       "\n",
       "[6263 rows x 25 columns]"
      ]
     },
     "execution_count": 127,
     "metadata": {},
     "output_type": "execute_result"
    }
   ],
   "source": [
    "df"
   ]
  },
  {
   "cell_type": "code",
   "execution_count": 134,
   "metadata": {},
   "outputs": [
    {
     "data": {
      "text/html": [
       "<div style=\"display: table;\"><div style=\"display: table-row;\"><div style=\"display: table-cell;\"><b title=\"bokeh.models.layouts.Row\">Row</b>(</div><div style=\"display: table-cell;\">id&nbsp;=&nbsp;'24802', <span id=\"25741\" style=\"cursor: pointer;\">&hellip;)</span></div></div><div class=\"25740\" style=\"display: none;\"><div style=\"display: table-cell;\"></div><div style=\"display: table-cell;\">align&nbsp;=&nbsp;'start',</div></div><div class=\"25740\" style=\"display: none;\"><div style=\"display: table-cell;\"></div><div style=\"display: table-cell;\">aspect_ratio&nbsp;=&nbsp;None,</div></div><div class=\"25740\" style=\"display: none;\"><div style=\"display: table-cell;\"></div><div style=\"display: table-cell;\">background&nbsp;=&nbsp;None,</div></div><div class=\"25740\" style=\"display: none;\"><div style=\"display: table-cell;\"></div><div style=\"display: table-cell;\">children&nbsp;=&nbsp;[GridBox(id='24799', ...), ToolbarBox(id='24801', ...)],</div></div><div class=\"25740\" style=\"display: none;\"><div style=\"display: table-cell;\"></div><div style=\"display: table-cell;\">cols&nbsp;=&nbsp;'auto',</div></div><div class=\"25740\" style=\"display: none;\"><div style=\"display: table-cell;\"></div><div style=\"display: table-cell;\">css_classes&nbsp;=&nbsp;[],</div></div><div class=\"25740\" style=\"display: none;\"><div style=\"display: table-cell;\"></div><div style=\"display: table-cell;\">disabled&nbsp;=&nbsp;False,</div></div><div class=\"25740\" style=\"display: none;\"><div style=\"display: table-cell;\"></div><div style=\"display: table-cell;\">height&nbsp;=&nbsp;None,</div></div><div class=\"25740\" style=\"display: none;\"><div style=\"display: table-cell;\"></div><div style=\"display: table-cell;\">height_policy&nbsp;=&nbsp;'auto',</div></div><div class=\"25740\" style=\"display: none;\"><div style=\"display: table-cell;\"></div><div style=\"display: table-cell;\">js_event_callbacks&nbsp;=&nbsp;{},</div></div><div class=\"25740\" style=\"display: none;\"><div style=\"display: table-cell;\"></div><div style=\"display: table-cell;\">js_property_callbacks&nbsp;=&nbsp;{},</div></div><div class=\"25740\" style=\"display: none;\"><div style=\"display: table-cell;\"></div><div style=\"display: table-cell;\">margin&nbsp;=&nbsp;(0, 0, 0, 0),</div></div><div class=\"25740\" style=\"display: none;\"><div style=\"display: table-cell;\"></div><div style=\"display: table-cell;\">max_height&nbsp;=&nbsp;None,</div></div><div class=\"25740\" style=\"display: none;\"><div style=\"display: table-cell;\"></div><div style=\"display: table-cell;\">max_width&nbsp;=&nbsp;None,</div></div><div class=\"25740\" style=\"display: none;\"><div style=\"display: table-cell;\"></div><div style=\"display: table-cell;\">min_height&nbsp;=&nbsp;None,</div></div><div class=\"25740\" style=\"display: none;\"><div style=\"display: table-cell;\"></div><div style=\"display: table-cell;\">min_width&nbsp;=&nbsp;None,</div></div><div class=\"25740\" style=\"display: none;\"><div style=\"display: table-cell;\"></div><div style=\"display: table-cell;\">name&nbsp;=&nbsp;None,</div></div><div class=\"25740\" style=\"display: none;\"><div style=\"display: table-cell;\"></div><div style=\"display: table-cell;\">sizing_mode&nbsp;=&nbsp;'stretch_width',</div></div><div class=\"25740\" style=\"display: none;\"><div style=\"display: table-cell;\"></div><div style=\"display: table-cell;\">spacing&nbsp;=&nbsp;0,</div></div><div class=\"25740\" style=\"display: none;\"><div style=\"display: table-cell;\"></div><div style=\"display: table-cell;\">subscribed_events&nbsp;=&nbsp;[],</div></div><div class=\"25740\" style=\"display: none;\"><div style=\"display: table-cell;\"></div><div style=\"display: table-cell;\">syncable&nbsp;=&nbsp;True,</div></div><div class=\"25740\" style=\"display: none;\"><div style=\"display: table-cell;\"></div><div style=\"display: table-cell;\">tags&nbsp;=&nbsp;[],</div></div><div class=\"25740\" style=\"display: none;\"><div style=\"display: table-cell;\"></div><div style=\"display: table-cell;\">visible&nbsp;=&nbsp;True,</div></div><div class=\"25740\" style=\"display: none;\"><div style=\"display: table-cell;\"></div><div style=\"display: table-cell;\">width&nbsp;=&nbsp;None,</div></div><div class=\"25740\" style=\"display: none;\"><div style=\"display: table-cell;\"></div><div style=\"display: table-cell;\">width_policy&nbsp;=&nbsp;'auto')</div></div></div>\n",
       "<script>\n",
       "(function() {\n",
       "  let expanded = false;\n",
       "  const ellipsis = document.getElementById(\"25741\");\n",
       "  ellipsis.addEventListener(\"click\", function() {\n",
       "    const rows = document.getElementsByClassName(\"25740\");\n",
       "    for (let i = 0; i < rows.length; i++) {\n",
       "      const el = rows[i];\n",
       "      el.style.display = expanded ? \"none\" : \"table-row\";\n",
       "    }\n",
       "    ellipsis.innerHTML = expanded ? \"&hellip;)\" : \"&lsaquo;&lsaquo;&lsaquo;\";\n",
       "    expanded = !expanded;\n",
       "  });\n",
       "})();\n",
       "</script>\n"
      ],
      "text/plain": [
       "Row(id='24802', ...)"
      ]
     },
     "execution_count": 134,
     "metadata": {},
     "output_type": "execute_result"
    }
   ],
   "source": [
    "bt = Backtest(\n",
    "    df[\"2012-01-01\":], end_of_month_and_skip_month, cash=100_000, commission=0.002\n",
    ")\n",
    "stats = bt.run(days_before=-1, days_after=1, skip_month=skip_month)\n",
    "bt.plot(superimpose=False)  # , open_browser=False)"
   ]
  },
  {
   "cell_type": "code",
   "execution_count": 135,
   "metadata": {},
   "outputs": [
    {
     "data": {
      "text/plain": [
       "Start                     2012-01-03 00:00:00\n",
       "End                       2024-04-16 00:00:00\n",
       "Duration                   4487 days 00:00:00\n",
       "Exposure Time [%]                   16.872964\n",
       "Equity Final [$]                 172350.40301\n",
       "Equity Peak [$]                 174698.491144\n",
       "Return [%]                          72.350403\n",
       "Buy & Hold Return [%]              657.644982\n",
       "Return (Ann.) [%]                    4.569692\n",
       "Volatility (Ann.) [%]                7.817054\n",
       "Sharpe Ratio                          0.58458\n",
       "Sortino Ratio                        0.928173\n",
       "Calmar Ratio                           0.4287\n",
       "Max. Drawdown [%]                  -10.659409\n",
       "Avg. Drawdown [%]                   -2.306386\n",
       "Max. Drawdown Duration     1028 days 00:00:00\n",
       "Avg. Drawdown Duration       95 days 00:00:00\n",
       "# Trades                                   74\n",
       "Win Rate [%]                        62.162162\n",
       "Best Trade [%]                       7.946233\n",
       "Worst Trade [%]                      -7.87128\n",
       "Avg. Trade [%]                       0.739015\n",
       "Max. Trade Duration          11 days 00:00:00\n",
       "Avg. Trade Duration           9 days 00:00:00\n",
       "Profit Factor                        2.126396\n",
       "Expectancy [%]                       0.775344\n",
       "SQN                                  2.322086\n",
       "_strategy                 end_of_month_and...\n",
       "_equity_curve                             ...\n",
       "_trades                       Size  EntryB...\n",
       "dtype: object"
      ]
     },
     "execution_count": 135,
     "metadata": {},
     "output_type": "execute_result"
    }
   ],
   "source": [
    "stats"
   ]
  },
  {
   "cell_type": "code",
   "execution_count": 136,
   "metadata": {},
   "outputs": [],
   "source": [
    "trades = stats[\"_trades\"]\n",
    "\n",
    "for index, row in trades.iterrows():\n",
    "    start_range = stock[: row[\"EntryTime\"]]\n",
    "    trades.loc[index, \"SignalTime\"] = start_range.index.values[-2]\n",
    "\n",
    "merged = pd.merge(\n",
    "    trades,\n",
    "    df[\n",
    "        [\n",
    "            \"adx_10\",\n",
    "            \"adx_direction\",\n",
    "            \"rsi_3\",\n",
    "            \"rsi_7\",\n",
    "            \"rsi_10\",\n",
    "            \"sma_20\",\n",
    "            \"sma_50\",\n",
    "            \"sma_100\",\n",
    "            \"sma_200\",\n",
    "        ]\n",
    "    ],\n",
    "    left_on=\"SignalTime\",\n",
    "    right_index=True,\n",
    ")"
   ]
  },
  {
   "cell_type": "code",
   "execution_count": 137,
   "metadata": {},
   "outputs": [
    {
     "data": {
      "text/html": [
       "<div>\n",
       "<style scoped>\n",
       "    .dataframe tbody tr th:only-of-type {\n",
       "        vertical-align: middle;\n",
       "    }\n",
       "\n",
       "    .dataframe tbody tr th {\n",
       "        vertical-align: top;\n",
       "    }\n",
       "\n",
       "    .dataframe thead th {\n",
       "        text-align: right;\n",
       "    }\n",
       "</style>\n",
       "<table border=\"1\" class=\"dataframe\">\n",
       "  <thead>\n",
       "    <tr style=\"text-align: right;\">\n",
       "      <th></th>\n",
       "      <th>ReturnPct</th>\n",
       "    </tr>\n",
       "    <tr>\n",
       "      <th>ExitTime</th>\n",
       "      <th></th>\n",
       "    </tr>\n",
       "  </thead>\n",
       "  <tbody>\n",
       "    <tr>\n",
       "      <th>2</th>\n",
       "      <td>0.1085</td>\n",
       "    </tr>\n",
       "    <tr>\n",
       "      <th>4</th>\n",
       "      <td>0.0998</td>\n",
       "    </tr>\n",
       "    <tr>\n",
       "      <th>6</th>\n",
       "      <td>0.1247</td>\n",
       "    </tr>\n",
       "    <tr>\n",
       "      <th>7</th>\n",
       "      <td>0.1149</td>\n",
       "    </tr>\n",
       "    <tr>\n",
       "      <th>8</th>\n",
       "      <td>0.0606</td>\n",
       "    </tr>\n",
       "    <tr>\n",
       "      <th>9</th>\n",
       "      <td>0.0653</td>\n",
       "    </tr>\n",
       "  </tbody>\n",
       "</table>\n",
       "</div>"
      ],
      "text/plain": [
       "          ReturnPct\n",
       "ExitTime           \n",
       "2            0.1085\n",
       "4            0.0998\n",
       "6            0.1247\n",
       "7            0.1149\n",
       "8            0.0606\n",
       "9            0.0653"
      ]
     },
     "execution_count": 137,
     "metadata": {},
     "output_type": "execute_result"
    }
   ],
   "source": [
    "pd.DataFrame(merged.groupby(merged.ExitTime.dt.month).ReturnPct.sum().round(4))"
   ]
  },
  {
   "cell_type": "code",
   "execution_count": 138,
   "metadata": {},
   "outputs": [
    {
     "data": {
      "text/html": [
       "<div>\n",
       "<style scoped>\n",
       "    .dataframe tbody tr th:only-of-type {\n",
       "        vertical-align: middle;\n",
       "    }\n",
       "\n",
       "    .dataframe tbody tr th {\n",
       "        vertical-align: top;\n",
       "    }\n",
       "\n",
       "    .dataframe thead th {\n",
       "        text-align: right;\n",
       "    }\n",
       "</style>\n",
       "<table border=\"1\" class=\"dataframe\">\n",
       "  <thead>\n",
       "    <tr style=\"text-align: right;\">\n",
       "      <th></th>\n",
       "      <th>PnL</th>\n",
       "    </tr>\n",
       "    <tr>\n",
       "      <th>ExitTime</th>\n",
       "      <th></th>\n",
       "    </tr>\n",
       "  </thead>\n",
       "  <tbody>\n",
       "    <tr>\n",
       "      <th>2012</th>\n",
       "      <td>4283.6</td>\n",
       "    </tr>\n",
       "    <tr>\n",
       "      <th>2013</th>\n",
       "      <td>2683.6</td>\n",
       "    </tr>\n",
       "    <tr>\n",
       "      <th>2014</th>\n",
       "      <td>487.3</td>\n",
       "    </tr>\n",
       "    <tr>\n",
       "      <th>2015</th>\n",
       "      <td>461.8</td>\n",
       "    </tr>\n",
       "    <tr>\n",
       "      <th>2016</th>\n",
       "      <td>7312.0</td>\n",
       "    </tr>\n",
       "    <tr>\n",
       "      <th>2017</th>\n",
       "      <td>1286.0</td>\n",
       "    </tr>\n",
       "    <tr>\n",
       "      <th>2018</th>\n",
       "      <td>-8628.6</td>\n",
       "    </tr>\n",
       "    <tr>\n",
       "      <th>2019</th>\n",
       "      <td>1833.2</td>\n",
       "    </tr>\n",
       "    <tr>\n",
       "      <th>2020</th>\n",
       "      <td>22168.2</td>\n",
       "    </tr>\n",
       "    <tr>\n",
       "      <th>2021</th>\n",
       "      <td>10459.0</td>\n",
       "    </tr>\n",
       "    <tr>\n",
       "      <th>2022</th>\n",
       "      <td>7723.3</td>\n",
       "    </tr>\n",
       "    <tr>\n",
       "      <th>2023</th>\n",
       "      <td>22892.8</td>\n",
       "    </tr>\n",
       "    <tr>\n",
       "      <th>2024</th>\n",
       "      <td>-611.9</td>\n",
       "    </tr>\n",
       "  </tbody>\n",
       "</table>\n",
       "</div>"
      ],
      "text/plain": [
       "              PnL\n",
       "ExitTime         \n",
       "2012       4283.6\n",
       "2013       2683.6\n",
       "2014        487.3\n",
       "2015        461.8\n",
       "2016       7312.0\n",
       "2017       1286.0\n",
       "2018      -8628.6\n",
       "2019       1833.2\n",
       "2020      22168.2\n",
       "2021      10459.0\n",
       "2022       7723.3\n",
       "2023      22892.8\n",
       "2024       -611.9"
      ]
     },
     "execution_count": 138,
     "metadata": {},
     "output_type": "execute_result"
    }
   ],
   "source": [
    "pd.DataFrame(merged.groupby(merged.ExitTime.dt.year).PnL.sum().round(1))"
   ]
  },
  {
   "cell_type": "code",
   "execution_count": 139,
   "metadata": {},
   "outputs": [
    {
     "data": {
      "text/plain": [
       "2012    104283.6\n",
       "2013    106967.3\n",
       "2014    107454.6\n",
       "2015    107916.3\n",
       "2016    115228.4\n",
       "2017    116514.4\n",
       "2018    107885.8\n",
       "2019    109719.0\n",
       "2020    131887.2\n",
       "2021    142346.2\n",
       "2022    150069.5\n",
       "2023    172962.3\n",
       "2024    172350.4\n",
       "Name: Equity, dtype: float64"
      ]
     },
     "execution_count": 139,
     "metadata": {},
     "output_type": "execute_result"
    }
   ],
   "source": [
    "equity = stats[\"_equity_curve\"]\n",
    "equity.groupby(equity.index.year).Equity.last().round(1)"
   ]
  }
 ],
 "metadata": {
  "kernelspec": {
   "display_name": "Python 3",
   "language": "python",
   "name": "python3"
  },
  "language_info": {
   "codemirror_mode": {
    "name": "ipython",
    "version": 3
   },
   "file_extension": ".py",
   "mimetype": "text/x-python",
   "name": "python",
   "nbconvert_exporter": "python",
   "pygments_lexer": "ipython3",
   "version": "3.12.0"
  }
 },
 "nbformat": 4,
 "nbformat_minor": 2
}
