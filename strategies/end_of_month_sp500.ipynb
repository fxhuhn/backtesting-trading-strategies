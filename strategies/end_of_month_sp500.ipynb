{
 "cells": [
  {
   "cell_type": "code",
   "execution_count": 36,
   "metadata": {},
   "outputs": [],
   "source": [
    "import numpy as np\n",
    "import pandas as pd\n",
    "import pandas_ta as ta\n",
    "import yfinance as yf\n",
    "from tiny_ta import atr, rsi, sma"
   ]
  },
  {
   "cell_type": "markdown",
   "metadata": {},
   "source": [
    "# End of the Month - Strategie im S&P 500"
   ]
  },
  {
   "cell_type": "markdown",
   "metadata": {},
   "source": [
    "Zunächst werden die Kursdaten für den S&P 500 geladen und bereinigt"
   ]
  },
  {
   "cell_type": "code",
   "execution_count": 37,
   "metadata": {},
   "outputs": [
    {
     "name": "stderr",
     "output_type": "stream",
     "text": [
      "[*********************100%%**********************]  1 of 1 completed\n"
     ]
    }
   ],
   "source": [
    "SYMBOL = \"^GSPC\"\n",
    "SYMBOL = \"SPY\"\n",
    "\n",
    "stock = yf.download(SYMBOL)\n",
    "\n",
    "stock = stock[~(stock.High == stock.Low) & ~(stock.Open == stock.Close)]\n",
    "stock = stock.dropna()"
   ]
  },
  {
   "cell_type": "markdown",
   "metadata": {},
   "source": [
    "Der VIX für die Volatilität wird als externer Indikator mit betrachtet"
   ]
  },
  {
   "cell_type": "code",
   "execution_count": 38,
   "metadata": {},
   "outputs": [
    {
     "name": "stderr",
     "output_type": "stream",
     "text": [
      "[*********************100%%**********************]  1 of 1 completed\n"
     ]
    }
   ],
   "source": [
    "vix = yf.download(\"^VIX\")\n",
    "vix[\"vix\"] = vix[\"Close\"]\n",
    "stock = pd.merge(\n",
    "    stock,\n",
    "    vix[\n",
    "        [\n",
    "            \"vix\",\n",
    "        ]\n",
    "    ],\n",
    "    left_index=True,\n",
    "    right_index=True,\n",
    "    how=\"left\",\n",
    ")"
   ]
  },
  {
   "cell_type": "markdown",
   "metadata": {},
   "source": [
    "Die 5 jährigen Staatsanleihen werden ebenfalls mit betrachtet"
   ]
  },
  {
   "cell_type": "code",
   "execution_count": 39,
   "metadata": {},
   "outputs": [
    {
     "name": "stderr",
     "output_type": "stream",
     "text": [
      "[*********************100%%**********************]  1 of 1 completed\n"
     ]
    }
   ],
   "source": [
    "yield_5_years = yf.download(\"^FVX\")\n",
    "\n",
    "yield_5_years[\"yield_5yr\"] = yield_5_years[\"Close\"]\n",
    "stock = pd.merge(\n",
    "    stock,\n",
    "    yield_5_years[\n",
    "        [\n",
    "            \"yield_5yr\",\n",
    "        ]\n",
    "    ],\n",
    "    left_index=True,\n",
    "    right_index=True,\n",
    "    how=\"left\",\n",
    ")"
   ]
  },
  {
   "cell_type": "markdown",
   "metadata": {},
   "source": [
    "Ein paar Indikatoren für spätere Auswertungen"
   ]
  },
  {
   "cell_type": "code",
   "execution_count": 40,
   "metadata": {},
   "outputs": [],
   "source": [
    "stock[\"rsi_3\"] = rsi(stock.Close, 3)\n",
    "stock[\"rsi_7\"] = rsi(stock.Close, 7)\n",
    "stock[\"rsi_10\"] = rsi(stock.Close, 10)\n",
    "\n",
    "stock[\"atr_10\"] = atr(stock, 10, smoothing=\"rma\") / stock.Close * 100\n",
    "\n",
    "adx_intervall = 21\n",
    "adx = ta.adx(stock.High, stock.Low, stock.Close, adx_intervall)\n",
    "stock[\"adx\"] = adx[f\"ADX_{adx_intervall}\"]\n",
    "stock[\"adx_direction\"] = np.where(\n",
    "    adx[f\"DMP_{adx_intervall}\"] > adx[f\"DMN_{adx_intervall}\"], 1, -1\n",
    ")\n",
    "\n",
    "stock[\"adx_10\"] = ta.adx(stock.High, stock.Low, stock.Close, 10, 10)[\"ADX_10\"]\n",
    "\n",
    "\n",
    "stock[\"sma\"] = sma(stock.Close, 20)\n",
    "stock[\"sma_20\"] = stock.Close / sma(stock.Close, 20)\n",
    "stock[\"sma_50\"] = stock.Close / sma(stock.Close, 50)\n",
    "stock[\"sma_100\"] = stock.Close / sma(stock.Close, 100)\n",
    "stock[\"sma_200\"] = stock.Close / sma(stock.Close, 200)\n",
    "\n",
    "stock[\"sma_pct\"] = (stock.Close / stock.sma).round(2)\n",
    "\n",
    "stock[\"month\"] = stock.index.month"
   ]
  },
  {
   "cell_type": "markdown",
   "metadata": {},
   "source": [
    "Markiere die letzten x Tage und ersten x Tage im Monat für die geplanten Trades. "
   ]
  },
  {
   "cell_type": "code",
   "execution_count": 41,
   "metadata": {},
   "outputs": [],
   "source": [
    "days = 5\n",
    "\n",
    "# Identify end of month\n",
    "end_of_month = stock.groupby([stock.index.year, stock.index.month]).tail(days)\n",
    "\n",
    "# Identify beginning of month\n",
    "beginning_of_month = stock.groupby([stock.index.year, stock.index.month]).head(days)\n",
    "\n",
    "# add countdown\n",
    "end_of_month[\"countdown\"] = -1\n",
    "end_of_month[\"days\"] = end_of_month[\"countdown\"].cumsum().add(1).mod(days)\n",
    "end_of_month.loc[end_of_month.days == days, \"days\"] = 0\n",
    "end_of_month[\"days\"] = (end_of_month[\"days\"].add(1)) * -1\n",
    "\n",
    "beginning_of_month[\"countdown\"] = 1\n",
    "beginning_of_month[\"days\"] = beginning_of_month[\"countdown\"].cumsum().sub(1).mod(days)\n",
    "beginning_of_month.loc[beginning_of_month.days == 0, \"days\"] = days\n",
    "\n",
    "# Combine the results\n",
    "marked_days = pd.concat([end_of_month, beginning_of_month])\n",
    "marked_days[\"hold\"] = 1\n",
    "\n",
    "df = pd.merge(\n",
    "    left=stock,\n",
    "    right=marked_days[[\"hold\", \"days\"]],\n",
    "    left_index=True,\n",
    "    right_index=True,\n",
    "    how=\"left\",\n",
    ")\n",
    "\n",
    "df.hold = df.hold.fillna(0)\n",
    "\n",
    "df[\"buy\"] = np.where(\n",
    "    (df.hold.shift(1) == 0) & (df.hold == 1),\n",
    "    1,\n",
    "    np.where((df.hold == 1) & (df.hold.shift(-1) == 0), -1, np.nan),\n",
    ")\n",
    "\n",
    "df.hold = np.where(df.hold == 1, df.Low, np.nan)"
   ]
  },
  {
   "cell_type": "markdown",
   "metadata": {},
   "source": [
    "## Jetzt zur Strategie\n",
    "Es wird 5 Tage vor Monatsende gekauft und 5 Tage nach Monatsanfang gekauft"
   ]
  },
  {
   "cell_type": "code",
   "execution_count": 42,
   "metadata": {},
   "outputs": [],
   "source": [
    "from backtesting import Strategy\n",
    "\n",
    "\n",
    "class end_of_month(Strategy):\n",
    "    \"\"\"\n",
    "    strategy for trend_trading\n",
    "    \"\"\"\n",
    "\n",
    "    days_before = -5\n",
    "    days_after = 5\n",
    "\n",
    "    def ohlc(self, pos=-1) -> tuple:\n",
    "        \"\"\"\n",
    "        helper function for ohlc data\n",
    "        \"\"\"\n",
    "        return (\n",
    "            self.data.Open[pos],\n",
    "            self.data.High[pos],\n",
    "            self.data.Low[pos],\n",
    "            self.data.Close[pos],\n",
    "        )\n",
    "\n",
    "    def init(self):\n",
    "        super().init()\n",
    "\n",
    "        self.sma = self.I(lambda: self.data.sma, name=\"SMA\")\n",
    "\n",
    "        # self.rsi = self.I(lambda: self.data.rsi, name=\"RSI\", overlay=False)\n",
    "        self.atr_10 = self.I(lambda: self.data.atr_10, name=\"ATR\", overlay=False)\n",
    "\n",
    "        self.vix = self.I(lambda: self.data.vix, name=\"VIX\", overlay=False)\n",
    "        self.yield_5yr = self.I(\n",
    "            lambda: self.data.yield_5yr, name=\"Yield 5\", overlay=False\n",
    "        )\n",
    "\n",
    "    def next(self):\n",
    "        # super().next()\n",
    "\n",
    "        _open, _high, _low, _close = self.ohlc()\n",
    "\n",
    "        # trade management for an existing trade\n",
    "        for trade in self.trades:\n",
    "            if trade.is_long:\n",
    "                if self.data.days[-1] == self.days_after:\n",
    "                    trade.close()\n",
    "\n",
    "        if self.data.days[-1] == self.days_before:\n",
    "            self.buy()"
   ]
  },
  {
   "cell_type": "code",
   "execution_count": 43,
   "metadata": {},
   "outputs": [
    {
     "data": {
      "text/plain": [
       "Start                     2012-01-03 00:00:00\n",
       "End                       2024-04-16 00:00:00\n",
       "Duration                   4487 days 00:00:00\n",
       "Exposure Time [%]                   47.966157\n",
       "Equity Final [$]                 240683.73813\n",
       "Equity Peak [$]                 248033.545824\n",
       "Return [%]                         140.683738\n",
       "Buy & Hold Return [%]              294.925489\n",
       "Return (Ann.) [%]                    7.468298\n",
       "Volatility (Ann.) [%]               11.545455\n",
       "Sharpe Ratio                          0.64686\n",
       "Sortino Ratio                        1.035581\n",
       "Calmar Ratio                         0.627864\n",
       "Max. Drawdown [%]                  -11.894769\n",
       "Avg. Drawdown [%]                   -1.746064\n",
       "Max. Drawdown Duration      888 days 00:00:00\n",
       "Avg. Drawdown Duration       41 days 00:00:00\n",
       "# Trades                                  148\n",
       "Win Rate [%]                        61.486486\n",
       "Best Trade [%]                       9.352854\n",
       "Worst Trade [%]                     -7.925611\n",
       "Avg. Trade [%]                        0.59561\n",
       "Max. Trade Duration          18 days 00:00:00\n",
       "Avg. Trade Duration          14 days 00:00:00\n",
       "Profit Factor                         1.97989\n",
       "Expectancy [%]                       0.627577\n",
       "SQN                                  2.834444\n",
       "_strategy                        end_of_month\n",
       "_equity_curve                             ...\n",
       "_trades                        Size  Entry...\n",
       "dtype: object"
      ]
     },
     "execution_count": 43,
     "metadata": {},
     "output_type": "execute_result"
    }
   ],
   "source": [
    "from backtesting import Backtest\n",
    "\n",
    "bt = Backtest(\n",
    "    df[\"2012-01-01\":], end_of_month, cash=100_000, commission=0.002, trade_on_close=True\n",
    ")\n",
    "stats = bt.run()\n",
    "bt.plot(superimpose=False, open_browser=False)\n",
    "stats"
   ]
  },
  {
   "cell_type": "code",
   "execution_count": 44,
   "metadata": {},
   "outputs": [
    {
     "data": {
      "text/plain": [
       "<Axes: xlabel='EntryTime', ylabel='ReturnPct'>"
      ]
     },
     "execution_count": 44,
     "metadata": {},
     "output_type": "execute_result"
    },
    {
     "data": {
      "image/png": "[encoded data removed]",
      "text/plain": [
       "<Figure size 640x480 with 1 Axes>"
      ]
     },
     "metadata": {},
     "output_type": "display_data"
    }
   ],
   "source": [
    "trades = stats[\"_trades\"]\n",
    "trades.plot.scatter(y=\"ReturnPct\", x=\"EntryTime\")"
   ]
  },
  {
   "cell_type": "code",
   "execution_count": 45,
   "metadata": {},
   "outputs": [
    {
     "data": {
      "text/html": [
       "<div>\n",
       "<style scoped>\n",
       "    .dataframe tbody tr th:only-of-type {\n",
       "        vertical-align: middle;\n",
       "    }\n",
       "\n",
       "    .dataframe tbody tr th {\n",
       "        vertical-align: top;\n",
       "    }\n",
       "\n",
       "    .dataframe thead th {\n",
       "        text-align: right;\n",
       "    }\n",
       "</style>\n",
       "<table border=\"1\" class=\"dataframe\">\n",
       "  <thead>\n",
       "    <tr style=\"text-align: right;\">\n",
       "      <th></th>\n",
       "      <th>Size</th>\n",
       "      <th>EntryBar</th>\n",
       "      <th>ExitBar</th>\n",
       "      <th>EntryPrice</th>\n",
       "      <th>ExitPrice</th>\n",
       "      <th>PnL</th>\n",
       "      <th>ReturnPct</th>\n",
       "      <th>EntryTime</th>\n",
       "      <th>ExitTime</th>\n",
       "      <th>Duration</th>\n",
       "    </tr>\n",
       "  </thead>\n",
       "  <tbody>\n",
       "    <tr>\n",
       "      <th>47</th>\n",
       "      <td>566</td>\n",
       "      <td>994</td>\n",
       "      <td>1003</td>\n",
       "      <td>206.091353</td>\n",
       "      <td>191.919998</td>\n",
       "      <td>-8020.986643</td>\n",
       "      <td>-0.068762</td>\n",
       "      <td>2015-12-24</td>\n",
       "      <td>2016-01-08</td>\n",
       "      <td>15 days</td>\n",
       "    </tr>\n",
       "    <tr>\n",
       "      <th>72</th>\n",
       "      <td>467</td>\n",
       "      <td>1513</td>\n",
       "      <td>1522</td>\n",
       "      <td>283.866588</td>\n",
       "      <td>267.670013</td>\n",
       "      <td>-7563.800217</td>\n",
       "      <td>-0.057057</td>\n",
       "      <td>2018-01-25</td>\n",
       "      <td>2018-02-07</td>\n",
       "      <td>13 days</td>\n",
       "    </tr>\n",
       "    <tr>\n",
       "      <th>97</th>\n",
       "      <td>487</td>\n",
       "      <td>2031</td>\n",
       "      <td>2040</td>\n",
       "      <td>323.064853</td>\n",
       "      <td>297.459991</td>\n",
       "      <td>-12469.567794</td>\n",
       "      <td>-0.079256</td>\n",
       "      <td>2020-02-24</td>\n",
       "      <td>2020-03-06</td>\n",
       "      <td>11 days</td>\n",
       "    </tr>\n",
       "  </tbody>\n",
       "</table>\n",
       "</div>"
      ],
      "text/plain": [
       "    Size  EntryBar  ExitBar  EntryPrice   ExitPrice           PnL  ReturnPct  \\\n",
       "47   566       994     1003  206.091353  191.919998  -8020.986643  -0.068762   \n",
       "72   467      1513     1522  283.866588  267.670013  -7563.800217  -0.057057   \n",
       "97   487      2031     2040  323.064853  297.459991 -12469.567794  -0.079256   \n",
       "\n",
       "    EntryTime   ExitTime Duration  \n",
       "47 2015-12-24 2016-01-08  15 days  \n",
       "72 2018-01-25 2018-02-07  13 days  \n",
       "97 2020-02-24 2020-03-06  11 days  "
      ]
     },
     "execution_count": 45,
     "metadata": {},
     "output_type": "execute_result"
    }
   ],
   "source": [
    "trades[trades.ReturnPct < -0.05]"
   ]
  },
  {
   "cell_type": "markdown",
   "metadata": {},
   "source": [
    "Vielleicht wäre ein Stopp doch hilfreich"
   ]
  },
  {
   "cell_type": "code",
   "execution_count": 46,
   "metadata": {},
   "outputs": [],
   "source": [
    "class end_of_month_with_SL(end_of_month):\n",
    "    \"\"\"\n",
    "    strategy for trend_trading\n",
    "    \"\"\"\n",
    "\n",
    "    skip_month = []\n",
    "\n",
    "    def next(self):\n",
    "        _open, _high, _low, _close = self.ohlc()\n",
    "\n",
    "        # trade management for an existing trade\n",
    "        for trade in self.trades:\n",
    "            if trade.is_long:\n",
    "                if trade.pl_pct < -0.06:\n",
    "                    trade.close()\n",
    "\n",
    "                if self.data.days[-1] == self.days_after:\n",
    "                    trade.close()\n",
    "\n",
    "        if (\n",
    "            self.data.days[-1] == self.days_before\n",
    "            and self.data.month[-1] not in self.skip_month\n",
    "        ):\n",
    "            self.buy()"
   ]
  },
  {
   "cell_type": "code",
   "execution_count": 47,
   "metadata": {},
   "outputs": [
    {
     "data": {
      "text/plain": [
       "Start                     2012-01-03 00:00:00\n",
       "End                       2024-04-16 00:00:00\n",
       "Duration                   4487 days 00:00:00\n",
       "Exposure Time [%]                     47.6082\n",
       "Equity Final [$]                232502.623975\n",
       "Equity Peak [$]                 239589.982047\n",
       "Return [%]                         132.502624\n",
       "Buy & Hold Return [%]              294.925489\n",
       "Return (Ann.) [%]                     7.16396\n",
       "Volatility (Ann.) [%]               11.234276\n",
       "Sharpe Ratio                         0.637688\n",
       "Sortino Ratio                        1.011577\n",
       "Calmar Ratio                         0.523896\n",
       "Max. Drawdown [%]                    -13.6744\n",
       "Avg. Drawdown [%]                   -1.807317\n",
       "Max. Drawdown Duration      888 days 00:00:00\n",
       "Avg. Drawdown Duration       42 days 00:00:00\n",
       "# Trades                                  148\n",
       "Win Rate [%]                        61.486486\n",
       "Best Trade [%]                       9.352854\n",
       "Worst Trade [%]                     -7.910128\n",
       "Avg. Trade [%]                       0.572202\n",
       "Max. Trade Duration          18 days 00:00:00\n",
       "Avg. Trade Duration          14 days 00:00:00\n",
       "Profit Factor                        1.914479\n",
       "Expectancy [%]                       0.605695\n",
       "SQN                                  2.628756\n",
       "_strategy                 end_of_month_wit...\n",
       "_equity_curve                             ...\n",
       "_trades                        Size  Entry...\n",
       "dtype: object"
      ]
     },
     "execution_count": 47,
     "metadata": {},
     "output_type": "execute_result"
    }
   ],
   "source": [
    "from backtesting import Backtest\n",
    "\n",
    "bt = Backtest(\n",
    "    df[\"2012-01-01\":],\n",
    "    end_of_month_with_SL,\n",
    "    cash=100_000,\n",
    "    commission=0.002,\n",
    "    trade_on_close=True,\n",
    ")\n",
    "stats = bt.run()\n",
    "bt.plot(superimpose=False, open_browser=False)\n",
    "stats"
   ]
  },
  {
   "cell_type": "code",
   "execution_count": 48,
   "metadata": {},
   "outputs": [
    {
     "data": {
      "text/plain": [
       "<Axes: xlabel='EntryTime', ylabel='ReturnPct'>"
      ]
     },
     "execution_count": 48,
     "metadata": {},
     "output_type": "execute_result"
    },
    {
     "data": {
      "image/png": "[encoded data removed]",
      "text/plain": [
       "<Figure size 640x480 with 1 Axes>"
      ]
     },
     "metadata": {},
     "output_type": "display_data"
    }
   ],
   "source": [
    "trades = stats[\"_trades\"]\n",
    "trades.plot.scatter(y=\"ReturnPct\", x=\"EntryTime\")"
   ]
  },
  {
   "cell_type": "markdown",
   "metadata": {},
   "source": [
    "jetzt wird überprüft welche Tage für die Ein- und Ausstiege besser sein könnten."
   ]
  },
  {
   "cell_type": "code",
   "execution_count": 49,
   "metadata": {},
   "outputs": [
    {
     "name": "stderr",
     "output_type": "stream",
     "text": [
      "/Users/produktmanagement/Python/github/backtesting-trading-strategies/.venv/lib/python3.12/site-packages/backtesting/backtesting.py:1375: UserWarning: For multiprocessing support in `Backtest.optimize()` set multiprocessing start method to 'fork'.\n",
      "  warnings.warn(\"For multiprocessing support in `Backtest.optimize()` \"\n"
     ]
    }
   ],
   "source": [
    "stats, heatmap = bt.optimize(\n",
    "    days_before=range(-5, 0, 1),\n",
    "    days_after=range(1, 6),\n",
    "    maximize=\"Profit Factor\",  # \"Equity Final [$]\",\n",
    "    max_tries=200,\n",
    "    random_state=0,\n",
    "    return_heatmap=True,\n",
    ")"
   ]
  },
  {
   "cell_type": "code",
   "execution_count": 50,
   "metadata": {},
   "outputs": [
    {
     "data": {
      "text/plain": [
       "days_before  days_after\n",
       "-5           4             1.738741\n",
       "-4           5             1.790877\n",
       "-5           5             1.914479\n",
       "Name: Profit Factor, dtype: float64"
      ]
     },
     "execution_count": 50,
     "metadata": {},
     "output_type": "execute_result"
    }
   ],
   "source": [
    "# heatmap\n",
    "heatmap.sort_values().iloc[-3:]"
   ]
  },
  {
   "cell_type": "code",
   "execution_count": 51,
   "metadata": {},
   "outputs": [
    {
     "data": {
      "text/html": [
       "<div>\n",
       "<style scoped>\n",
       "    .dataframe tbody tr th:only-of-type {\n",
       "        vertical-align: middle;\n",
       "    }\n",
       "\n",
       "    .dataframe tbody tr th {\n",
       "        vertical-align: top;\n",
       "    }\n",
       "\n",
       "    .dataframe thead th {\n",
       "        text-align: right;\n",
       "    }\n",
       "</style>\n",
       "<table border=\"1\" class=\"dataframe\">\n",
       "  <thead>\n",
       "    <tr style=\"text-align: right;\">\n",
       "      <th>days_after</th>\n",
       "      <th>1</th>\n",
       "      <th>2</th>\n",
       "      <th>3</th>\n",
       "      <th>4</th>\n",
       "      <th>5</th>\n",
       "    </tr>\n",
       "    <tr>\n",
       "      <th>days_before</th>\n",
       "      <th></th>\n",
       "      <th></th>\n",
       "      <th></th>\n",
       "      <th></th>\n",
       "      <th></th>\n",
       "    </tr>\n",
       "  </thead>\n",
       "  <tbody>\n",
       "    <tr>\n",
       "      <th>-5</th>\n",
       "      <td>1.460246</td>\n",
       "      <td>1.585968</td>\n",
       "      <td>1.521880</td>\n",
       "      <td>1.738741</td>\n",
       "      <td>1.914479</td>\n",
       "    </tr>\n",
       "    <tr>\n",
       "      <th>-4</th>\n",
       "      <td>1.317272</td>\n",
       "      <td>1.415477</td>\n",
       "      <td>1.433416</td>\n",
       "      <td>1.630773</td>\n",
       "      <td>1.790877</td>\n",
       "    </tr>\n",
       "    <tr>\n",
       "      <th>-3</th>\n",
       "      <td>1.217611</td>\n",
       "      <td>1.312510</td>\n",
       "      <td>1.340430</td>\n",
       "      <td>1.507865</td>\n",
       "      <td>1.655319</td>\n",
       "    </tr>\n",
       "    <tr>\n",
       "      <th>-2</th>\n",
       "      <td>0.862656</td>\n",
       "      <td>0.962562</td>\n",
       "      <td>1.048203</td>\n",
       "      <td>1.154826</td>\n",
       "      <td>1.324867</td>\n",
       "    </tr>\n",
       "    <tr>\n",
       "      <th>-1</th>\n",
       "      <td>0.994289</td>\n",
       "      <td>1.144525</td>\n",
       "      <td>1.193081</td>\n",
       "      <td>1.410071</td>\n",
       "      <td>1.591270</td>\n",
       "    </tr>\n",
       "  </tbody>\n",
       "</table>\n",
       "</div>"
      ],
      "text/plain": [
       "days_after          1         2         3         4         5\n",
       "days_before                                                  \n",
       "-5           1.460246  1.585968  1.521880  1.738741  1.914479\n",
       "-4           1.317272  1.415477  1.433416  1.630773  1.790877\n",
       "-3           1.217611  1.312510  1.340430  1.507865  1.655319\n",
       "-2           0.862656  0.962562  1.048203  1.154826  1.324867\n",
       "-1           0.994289  1.144525  1.193081  1.410071  1.591270"
      ]
     },
     "execution_count": 51,
     "metadata": {},
     "output_type": "execute_result"
    }
   ],
   "source": [
    "heatmap.groupby([\"days_before\", \"days_after\"]).mean().unstack()"
   ]
  },
  {
   "cell_type": "code",
   "execution_count": 52,
   "metadata": {},
   "outputs": [
    {
     "data": {
      "text/plain": [
       "Start                     2012-01-03 00:00:00\n",
       "End                       2024-04-16 00:00:00\n",
       "Duration                   4487 days 00:00:00\n",
       "Exposure Time [%]                     47.6082\n",
       "Equity Final [$]                232502.623975\n",
       "Equity Peak [$]                 239589.982047\n",
       "Return [%]                         132.502624\n",
       "Buy & Hold Return [%]              294.925489\n",
       "Return (Ann.) [%]                     7.16396\n",
       "Volatility (Ann.) [%]               11.234276\n",
       "Sharpe Ratio                         0.637688\n",
       "Sortino Ratio                        1.011577\n",
       "Calmar Ratio                         0.523896\n",
       "Max. Drawdown [%]                    -13.6744\n",
       "Avg. Drawdown [%]                   -1.807317\n",
       "Max. Drawdown Duration      888 days 00:00:00\n",
       "Avg. Drawdown Duration       42 days 00:00:00\n",
       "# Trades                                  148\n",
       "Win Rate [%]                        61.486486\n",
       "Best Trade [%]                       9.352854\n",
       "Worst Trade [%]                     -7.910128\n",
       "Avg. Trade [%]                       0.572202\n",
       "Max. Trade Duration          18 days 00:00:00\n",
       "Avg. Trade Duration          14 days 00:00:00\n",
       "Profit Factor                        1.914479\n",
       "Expectancy [%]                       0.605695\n",
       "SQN                                  2.628756\n",
       "_strategy                 end_of_month_wit...\n",
       "_equity_curve                             ...\n",
       "_trades                        Size  Entry...\n",
       "dtype: object"
      ]
     },
     "execution_count": 52,
     "metadata": {},
     "output_type": "execute_result"
    }
   ],
   "source": [
    "stats"
   ]
  },
  {
   "cell_type": "markdown",
   "metadata": {},
   "source": [
    "The Winner is ..."
   ]
  },
  {
   "cell_type": "code",
   "execution_count": 53,
   "metadata": {},
   "outputs": [
    {
     "data": {
      "text/plain": [
       "<Strategy end_of_month_with_SL(days_before=-5,days_after=5)>"
      ]
     },
     "execution_count": 53,
     "metadata": {},
     "output_type": "execute_result"
    }
   ],
   "source": [
    "stats[\"_strategy\"]"
   ]
  },
  {
   "cell_type": "code",
   "execution_count": 54,
   "metadata": {},
   "outputs": [
    {
     "data": {
      "text/html": [
       "<div style=\"display: table;\"><div style=\"display: table-row;\"><div style=\"display: table-cell;\"><b title=\"bokeh.models.layouts.Row\">Row</b>(</div><div style=\"display: table-cell;\">id&nbsp;=&nbsp;'10883', <span id=\"11822\" style=\"cursor: pointer;\">&hellip;)</span></div></div><div class=\"11821\" style=\"display: none;\"><div style=\"display: table-cell;\"></div><div style=\"display: table-cell;\">align&nbsp;=&nbsp;'start',</div></div><div class=\"11821\" style=\"display: none;\"><div style=\"display: table-cell;\"></div><div style=\"display: table-cell;\">aspect_ratio&nbsp;=&nbsp;None,</div></div><div class=\"11821\" style=\"display: none;\"><div style=\"display: table-cell;\"></div><div style=\"display: table-cell;\">background&nbsp;=&nbsp;None,</div></div><div class=\"11821\" style=\"display: none;\"><div style=\"display: table-cell;\"></div><div style=\"display: table-cell;\">children&nbsp;=&nbsp;[GridBox(id='10880', ...), ToolbarBox(id='10882', ...)],</div></div><div class=\"11821\" style=\"display: none;\"><div style=\"display: table-cell;\"></div><div style=\"display: table-cell;\">cols&nbsp;=&nbsp;'auto',</div></div><div class=\"11821\" style=\"display: none;\"><div style=\"display: table-cell;\"></div><div style=\"display: table-cell;\">css_classes&nbsp;=&nbsp;[],</div></div><div class=\"11821\" style=\"display: none;\"><div style=\"display: table-cell;\"></div><div style=\"display: table-cell;\">disabled&nbsp;=&nbsp;False,</div></div><div class=\"11821\" style=\"display: none;\"><div style=\"display: table-cell;\"></div><div style=\"display: table-cell;\">height&nbsp;=&nbsp;None,</div></div><div class=\"11821\" style=\"display: none;\"><div style=\"display: table-cell;\"></div><div style=\"display: table-cell;\">height_policy&nbsp;=&nbsp;'auto',</div></div><div class=\"11821\" style=\"display: none;\"><div style=\"display: table-cell;\"></div><div style=\"display: table-cell;\">js_event_callbacks&nbsp;=&nbsp;{},</div></div><div class=\"11821\" style=\"display: none;\"><div style=\"display: table-cell;\"></div><div style=\"display: table-cell;\">js_property_callbacks&nbsp;=&nbsp;{},</div></div><div class=\"11821\" style=\"display: none;\"><div style=\"display: table-cell;\"></div><div style=\"display: table-cell;\">margin&nbsp;=&nbsp;(0, 0, 0, 0),</div></div><div class=\"11821\" style=\"display: none;\"><div style=\"display: table-cell;\"></div><div style=\"display: table-cell;\">max_height&nbsp;=&nbsp;None,</div></div><div class=\"11821\" style=\"display: none;\"><div style=\"display: table-cell;\"></div><div style=\"display: table-cell;\">max_width&nbsp;=&nbsp;None,</div></div><div class=\"11821\" style=\"display: none;\"><div style=\"display: table-cell;\"></div><div style=\"display: table-cell;\">min_height&nbsp;=&nbsp;None,</div></div><div class=\"11821\" style=\"display: none;\"><div style=\"display: table-cell;\"></div><div style=\"display: table-cell;\">min_width&nbsp;=&nbsp;None,</div></div><div class=\"11821\" style=\"display: none;\"><div style=\"display: table-cell;\"></div><div style=\"display: table-cell;\">name&nbsp;=&nbsp;None,</div></div><div class=\"11821\" style=\"display: none;\"><div style=\"display: table-cell;\"></div><div style=\"display: table-cell;\">sizing_mode&nbsp;=&nbsp;'stretch_width',</div></div><div class=\"11821\" style=\"display: none;\"><div style=\"display: table-cell;\"></div><div style=\"display: table-cell;\">spacing&nbsp;=&nbsp;0,</div></div><div class=\"11821\" style=\"display: none;\"><div style=\"display: table-cell;\"></div><div style=\"display: table-cell;\">subscribed_events&nbsp;=&nbsp;[],</div></div><div class=\"11821\" style=\"display: none;\"><div style=\"display: table-cell;\"></div><div style=\"display: table-cell;\">syncable&nbsp;=&nbsp;True,</div></div><div class=\"11821\" style=\"display: none;\"><div style=\"display: table-cell;\"></div><div style=\"display: table-cell;\">tags&nbsp;=&nbsp;[],</div></div><div class=\"11821\" style=\"display: none;\"><div style=\"display: table-cell;\"></div><div style=\"display: table-cell;\">visible&nbsp;=&nbsp;True,</div></div><div class=\"11821\" style=\"display: none;\"><div style=\"display: table-cell;\"></div><div style=\"display: table-cell;\">width&nbsp;=&nbsp;None,</div></div><div class=\"11821\" style=\"display: none;\"><div style=\"display: table-cell;\"></div><div style=\"display: table-cell;\">width_policy&nbsp;=&nbsp;'auto')</div></div></div>\n",
       "<script>\n",
       "(function() {\n",
       "  let expanded = false;\n",
       "  const ellipsis = document.getElementById(\"11822\");\n",
       "  ellipsis.addEventListener(\"click\", function() {\n",
       "    const rows = document.getElementsByClassName(\"11821\");\n",
       "    for (let i = 0; i < rows.length; i++) {\n",
       "      const el = rows[i];\n",
       "      el.style.display = expanded ? \"none\" : \"table-row\";\n",
       "    }\n",
       "    ellipsis.innerHTML = expanded ? \"&hellip;)\" : \"&lsaquo;&lsaquo;&lsaquo;\";\n",
       "    expanded = !expanded;\n",
       "  });\n",
       "})();\n",
       "</script>\n"
      ],
      "text/plain": [
       "Row(id='10883', ...)"
      ]
     },
     "execution_count": 54,
     "metadata": {},
     "output_type": "execute_result"
    }
   ],
   "source": [
    "# bt = Backtest(df[\"2012-01-01\":], end_of_month, cash=100_000, commission=0.002)\n",
    "stats = bt.run(days_before=-4, days_after=5)\n",
    "bt.plot(superimpose=False, open_browser=False)"
   ]
  },
  {
   "cell_type": "code",
   "execution_count": 55,
   "metadata": {},
   "outputs": [
    {
     "data": {
      "text/plain": [
       "Start                     2012-01-03 00:00:00\n",
       "End                       2024-04-16 00:00:00\n",
       "Duration                   4487 days 00:00:00\n",
       "Exposure Time [%]                    43.01985\n",
       "Equity Final [$]                200057.212829\n",
       "Equity Peak [$]                 207715.040118\n",
       "Return [%]                         100.057213\n",
       "Buy & Hold Return [%]              294.925489\n",
       "Return (Ann.) [%]                    5.851256\n",
       "Volatility (Ann.) [%]               10.544373\n",
       "Sharpe Ratio                         0.554917\n",
       "Sortino Ratio                        0.858418\n",
       "Calmar Ratio                          0.45168\n",
       "Max. Drawdown [%]                  -12.954437\n",
       "Avg. Drawdown [%]                   -2.098897\n",
       "Max. Drawdown Duration     1219 days 00:00:00\n",
       "Avg. Drawdown Duration       53 days 00:00:00\n",
       "# Trades                                  148\n",
       "Win Rate [%]                        58.783784\n",
       "Best Trade [%]                       6.560989\n",
       "Worst Trade [%]                     -8.087376\n",
       "Avg. Trade [%]                       0.469872\n",
       "Max. Trade Duration          15 days 00:00:00\n",
       "Avg. Trade Duration          12 days 00:00:00\n",
       "Profit Factor                        1.790877\n",
       "Expectancy [%]                       0.496175\n",
       "SQN                                  2.624867\n",
       "_strategy                 end_of_month_wit...\n",
       "_equity_curve                             ...\n",
       "_trades                        Size  Entry...\n",
       "dtype: object"
      ]
     },
     "execution_count": 55,
     "metadata": {},
     "output_type": "execute_result"
    }
   ],
   "source": [
    "stats"
   ]
  },
  {
   "cell_type": "markdown",
   "metadata": {},
   "source": [
    "Die Win Rate beim Trading bezieht sich auf das Verhältnis der Anzahl der gewonnenen Trades zur Gesamtanzahl der Trades. \n",
    "Wenn jemand beispielsweise 70% seiner Trades gewinnt, beträgt seine Win Rate 70%."
   ]
  },
  {
   "cell_type": "code",
   "execution_count": 56,
   "metadata": {},
   "outputs": [
    {
     "data": {
      "text/plain": [
       "58.78378378378378"
      ]
     },
     "execution_count": 56,
     "metadata": {},
     "output_type": "execute_result"
    }
   ],
   "source": [
    "stats[\"Win Rate [%]\"]"
   ]
  },
  {
   "cell_type": "markdown",
   "metadata": {},
   "source": [
    "Durchschnittlicher Gewinn in Prozent. \n",
    "Wie viel Gewinn oder Verlust wurden im Durchschnitt pro Trade erzielt."
   ]
  },
  {
   "cell_type": "code",
   "execution_count": 57,
   "metadata": {},
   "outputs": [
    {
     "data": {
      "text/plain": [
       "0.46987206521527103"
      ]
     },
     "execution_count": 57,
     "metadata": {},
     "output_type": "execute_result"
    }
   ],
   "source": [
    "stats[\"Avg. Trade [%]\"]"
   ]
  },
  {
   "cell_type": "markdown",
   "metadata": {},
   "source": [
    "Der Profit-Faktor stellt die Verhältnisse zwischen Gewinnen und Verlusten dar.\n",
    "Der Profit-Faktor wird berechnet, indem die Summe aller Profite (Gewinne) durch die Summe aller Verluste (einschließlich Gebühren und Kommissionen) für den gesamten Handelszeitraum geteilt wird.\n",
    "Ein Profit-Faktor größer als 1 zeigt an, dass die Strategie profitabel ist. Je höher der Wert, desto besser.\n",
    "\n",
    "Ein guter Profit-Faktor liegt normalerweise zwischen 1,75 und 41.\n",
    "Ein Wert über 1,75 zeigt eine solide Strategie an, während Werte über 4 außergewöhnlich gut sind."
   ]
  },
  {
   "cell_type": "code",
   "execution_count": 58,
   "metadata": {},
   "outputs": [
    {
     "data": {
      "text/plain": [
       "1.7908772515213376"
      ]
     },
     "execution_count": 58,
     "metadata": {},
     "output_type": "execute_result"
    }
   ],
   "source": [
    "stats[\"Profit Factor\"]"
   ]
  },
  {
   "cell_type": "code",
   "execution_count": 59,
   "metadata": {},
   "outputs": [],
   "source": [
    "trades = stats[\"_trades\"]\n",
    "\n",
    "for index, row in trades.iterrows():\n",
    "    start_range = stock[: row[\"EntryTime\"]]\n",
    "    trades.loc[index, \"SignalTime\"] = start_range.index.values[-2]\n",
    "\n",
    "merged = pd.merge(\n",
    "    trades,\n",
    "    df[\n",
    "        [\n",
    "            \"adx_10\",\n",
    "            \"adx_direction\",\n",
    "            \"rsi_3\",\n",
    "            \"rsi_7\",\n",
    "            \"rsi_10\",\n",
    "            \"sma_20\",\n",
    "            \"sma_50\",\n",
    "            \"sma_100\",\n",
    "            \"sma_200\",\n",
    "        ]\n",
    "    ],\n",
    "    left_on=\"SignalTime\",\n",
    "    right_index=True,\n",
    ")\n",
    "# merged[\"win\"] = np.where(merged.PnL > 0, 1, -1)\n",
    "# merged[\"win\"] = np.where(merged.PnL > 0, 1, -1)"
   ]
  },
  {
   "cell_type": "code",
   "execution_count": 60,
   "metadata": {},
   "outputs": [
    {
     "data": {
      "text/html": [
       "<div>\n",
       "<style scoped>\n",
       "    .dataframe tbody tr th:only-of-type {\n",
       "        vertical-align: middle;\n",
       "    }\n",
       "\n",
       "    .dataframe tbody tr th {\n",
       "        vertical-align: top;\n",
       "    }\n",
       "\n",
       "    .dataframe thead th {\n",
       "        text-align: right;\n",
       "    }\n",
       "</style>\n",
       "<table border=\"1\" class=\"dataframe\">\n",
       "  <thead>\n",
       "    <tr style=\"text-align: right;\">\n",
       "      <th></th>\n",
       "      <th>ReturnPct</th>\n",
       "    </tr>\n",
       "    <tr>\n",
       "      <th>ExitTime</th>\n",
       "      <th></th>\n",
       "    </tr>\n",
       "  </thead>\n",
       "  <tbody>\n",
       "    <tr>\n",
       "      <th>1</th>\n",
       "      <td>0.0143</td>\n",
       "    </tr>\n",
       "    <tr>\n",
       "      <th>2</th>\n",
       "      <td>0.0570</td>\n",
       "    </tr>\n",
       "    <tr>\n",
       "      <th>3</th>\n",
       "      <td>-0.0315</td>\n",
       "    </tr>\n",
       "    <tr>\n",
       "      <th>4</th>\n",
       "      <td>0.0091</td>\n",
       "    </tr>\n",
       "    <tr>\n",
       "      <th>5</th>\n",
       "      <td>-0.0081</td>\n",
       "    </tr>\n",
       "    <tr>\n",
       "      <th>6</th>\n",
       "      <td>0.1969</td>\n",
       "    </tr>\n",
       "    <tr>\n",
       "      <th>7</th>\n",
       "      <td>0.1736</td>\n",
       "    </tr>\n",
       "    <tr>\n",
       "      <th>8</th>\n",
       "      <td>0.0190</td>\n",
       "    </tr>\n",
       "    <tr>\n",
       "      <th>9</th>\n",
       "      <td>0.0446</td>\n",
       "    </tr>\n",
       "    <tr>\n",
       "      <th>10</th>\n",
       "      <td>0.0269</td>\n",
       "    </tr>\n",
       "    <tr>\n",
       "      <th>11</th>\n",
       "      <td>0.2144</td>\n",
       "    </tr>\n",
       "    <tr>\n",
       "      <th>12</th>\n",
       "      <td>0.0182</td>\n",
       "    </tr>\n",
       "  </tbody>\n",
       "</table>\n",
       "</div>"
      ],
      "text/plain": [
       "          ReturnPct\n",
       "ExitTime           \n",
       "1            0.0143\n",
       "2            0.0570\n",
       "3           -0.0315\n",
       "4            0.0091\n",
       "5           -0.0081\n",
       "6            0.1969\n",
       "7            0.1736\n",
       "8            0.0190\n",
       "9            0.0446\n",
       "10           0.0269\n",
       "11           0.2144\n",
       "12           0.0182"
      ]
     },
     "execution_count": 60,
     "metadata": {},
     "output_type": "execute_result"
    }
   ],
   "source": [
    "# merged.set_index('EntryTime')\n",
    "monthly = pd.DataFrame(merged.groupby(merged.EntryTime.dt.month).ReturnPct.sum())\n",
    "# global skip_month\n",
    "skip_month = monthly[monthly[\"ReturnPct\"] < 0.05].index.to_list()\n",
    "pd.DataFrame(merged.groupby(merged.ExitTime.dt.month).ReturnPct.sum().round(4))"
   ]
  },
  {
   "cell_type": "code",
   "execution_count": 61,
   "metadata": {},
   "outputs": [
    {
     "data": {
      "text/plain": [
       "<Axes: title={'center': 'Gewinner Trades'}>"
      ]
     },
     "execution_count": 61,
     "metadata": {},
     "output_type": "execute_result"
    },
    {
     "data": {
      "image/png": "[encoded data removed]",
      "text/plain": [
       "<Figure size 640x480 with 1 Axes>"
      ]
     },
     "metadata": {},
     "output_type": "display_data"
    }
   ],
   "source": [
    "merged[merged.PnL > 0].ReturnPct.plot(title=\"Gewinner Trades\")"
   ]
  },
  {
   "cell_type": "code",
   "execution_count": 62,
   "metadata": {},
   "outputs": [
    {
     "data": {
      "text/plain": [
       "<Axes: title={'center': 'Verlierer Trades'}>"
      ]
     },
     "execution_count": 62,
     "metadata": {},
     "output_type": "execute_result"
    },
    {
     "data": {
      "image/png": "[encoded data removed]",
      "text/plain": [
       "<Figure size 640x480 with 1 Axes>"
      ]
     },
     "metadata": {},
     "output_type": "display_data"
    }
   ],
   "source": [
    "merged[merged.PnL < 0].ReturnPct.plot(title=\"Verlierer Trades\")"
   ]
  },
  {
   "cell_type": "code",
   "execution_count": 63,
   "metadata": {},
   "outputs": [],
   "source": [
    "class end_of_month_and_skip_month(end_of_month):\n",
    "    \"\"\"\n",
    "    strategy for trend_trading\n",
    "    \"\"\"\n",
    "\n",
    "    skip_month = []\n",
    "\n",
    "    def next(self):\n",
    "        _open, _high, _low, _close = self.ohlc()\n",
    "\n",
    "        # trade management for an existing trade\n",
    "        for trade in self.trades:\n",
    "            if trade.is_long:\n",
    "                if self.data.days[-1] == self.days_after:\n",
    "                    trade.close()\n",
    "\n",
    "        if (\n",
    "            self.data.days[-1] == self.days_before\n",
    "            and self.data.month[-1] not in self.skip_month\n",
    "        ):\n",
    "            self.buy()"
   ]
  },
  {
   "cell_type": "code",
   "execution_count": 64,
   "metadata": {},
   "outputs": [
    {
     "data": {
      "text/html": [
       "<div>\n",
       "<style scoped>\n",
       "    .dataframe tbody tr th:only-of-type {\n",
       "        vertical-align: middle;\n",
       "    }\n",
       "\n",
       "    .dataframe tbody tr th {\n",
       "        vertical-align: top;\n",
       "    }\n",
       "\n",
       "    .dataframe thead th {\n",
       "        text-align: right;\n",
       "    }\n",
       "</style>\n",
       "<table border=\"1\" class=\"dataframe\">\n",
       "  <thead>\n",
       "    <tr style=\"text-align: right;\">\n",
       "      <th></th>\n",
       "      <th>Open</th>\n",
       "      <th>High</th>\n",
       "      <th>Low</th>\n",
       "      <th>Close</th>\n",
       "      <th>Adj Close</th>\n",
       "      <th>Volume</th>\n",
       "      <th>vix</th>\n",
       "      <th>yield_5yr</th>\n",
       "      <th>rsi_3</th>\n",
       "      <th>rsi_7</th>\n",
       "      <th>...</th>\n",
       "      <th>sma</th>\n",
       "      <th>sma_20</th>\n",
       "      <th>sma_50</th>\n",
       "      <th>sma_100</th>\n",
       "      <th>sma_200</th>\n",
       "      <th>sma_pct</th>\n",
       "      <th>month</th>\n",
       "      <th>hold</th>\n",
       "      <th>days</th>\n",
       "      <th>buy</th>\n",
       "    </tr>\n",
       "    <tr>\n",
       "      <th>Date</th>\n",
       "      <th></th>\n",
       "      <th></th>\n",
       "      <th></th>\n",
       "      <th></th>\n",
       "      <th></th>\n",
       "      <th></th>\n",
       "      <th></th>\n",
       "      <th></th>\n",
       "      <th></th>\n",
       "      <th></th>\n",
       "      <th></th>\n",
       "      <th></th>\n",
       "      <th></th>\n",
       "      <th></th>\n",
       "      <th></th>\n",
       "      <th></th>\n",
       "      <th></th>\n",
       "      <th></th>\n",
       "      <th></th>\n",
       "      <th></th>\n",
       "      <th></th>\n",
       "    </tr>\n",
       "  </thead>\n",
       "  <tbody>\n",
       "    <tr>\n",
       "      <th>1993-01-29</th>\n",
       "      <td>43.968750</td>\n",
       "      <td>43.968750</td>\n",
       "      <td>43.750000</td>\n",
       "      <td>43.937500</td>\n",
       "      <td>24.763733</td>\n",
       "      <td>1003200</td>\n",
       "      <td>12.420000</td>\n",
       "      <td>5.570</td>\n",
       "      <td>NaN</td>\n",
       "      <td>NaN</td>\n",
       "      <td>...</td>\n",
       "      <td>NaN</td>\n",
       "      <td>NaN</td>\n",
       "      <td>NaN</td>\n",
       "      <td>NaN</td>\n",
       "      <td>NaN</td>\n",
       "      <td>NaN</td>\n",
       "      <td>1</td>\n",
       "      <td>43.750000</td>\n",
       "      <td>-1.0</td>\n",
       "      <td>NaN</td>\n",
       "    </tr>\n",
       "    <tr>\n",
       "      <th>1993-01-29</th>\n",
       "      <td>43.968750</td>\n",
       "      <td>43.968750</td>\n",
       "      <td>43.750000</td>\n",
       "      <td>43.937500</td>\n",
       "      <td>24.763733</td>\n",
       "      <td>1003200</td>\n",
       "      <td>12.420000</td>\n",
       "      <td>5.570</td>\n",
       "      <td>NaN</td>\n",
       "      <td>NaN</td>\n",
       "      <td>...</td>\n",
       "      <td>NaN</td>\n",
       "      <td>NaN</td>\n",
       "      <td>NaN</td>\n",
       "      <td>NaN</td>\n",
       "      <td>NaN</td>\n",
       "      <td>NaN</td>\n",
       "      <td>1</td>\n",
       "      <td>43.750000</td>\n",
       "      <td>5.0</td>\n",
       "      <td>NaN</td>\n",
       "    </tr>\n",
       "    <tr>\n",
       "      <th>1993-02-01</th>\n",
       "      <td>43.968750</td>\n",
       "      <td>44.250000</td>\n",
       "      <td>43.968750</td>\n",
       "      <td>44.250000</td>\n",
       "      <td>24.939873</td>\n",
       "      <td>480500</td>\n",
       "      <td>12.330000</td>\n",
       "      <td>5.550</td>\n",
       "      <td>NaN</td>\n",
       "      <td>NaN</td>\n",
       "      <td>...</td>\n",
       "      <td>NaN</td>\n",
       "      <td>NaN</td>\n",
       "      <td>NaN</td>\n",
       "      <td>NaN</td>\n",
       "      <td>NaN</td>\n",
       "      <td>NaN</td>\n",
       "      <td>2</td>\n",
       "      <td>43.968750</td>\n",
       "      <td>1.0</td>\n",
       "      <td>NaN</td>\n",
       "    </tr>\n",
       "    <tr>\n",
       "      <th>1993-02-02</th>\n",
       "      <td>44.218750</td>\n",
       "      <td>44.375000</td>\n",
       "      <td>44.125000</td>\n",
       "      <td>44.343750</td>\n",
       "      <td>24.992702</td>\n",
       "      <td>201300</td>\n",
       "      <td>12.250000</td>\n",
       "      <td>5.630</td>\n",
       "      <td>100.0</td>\n",
       "      <td>NaN</td>\n",
       "      <td>...</td>\n",
       "      <td>NaN</td>\n",
       "      <td>NaN</td>\n",
       "      <td>NaN</td>\n",
       "      <td>NaN</td>\n",
       "      <td>NaN</td>\n",
       "      <td>NaN</td>\n",
       "      <td>2</td>\n",
       "      <td>44.125000</td>\n",
       "      <td>2.0</td>\n",
       "      <td>NaN</td>\n",
       "    </tr>\n",
       "    <tr>\n",
       "      <th>1993-02-03</th>\n",
       "      <td>44.406250</td>\n",
       "      <td>44.843750</td>\n",
       "      <td>44.375000</td>\n",
       "      <td>44.812500</td>\n",
       "      <td>25.256893</td>\n",
       "      <td>529400</td>\n",
       "      <td>12.120000</td>\n",
       "      <td>5.620</td>\n",
       "      <td>100.0</td>\n",
       "      <td>NaN</td>\n",
       "      <td>...</td>\n",
       "      <td>NaN</td>\n",
       "      <td>NaN</td>\n",
       "      <td>NaN</td>\n",
       "      <td>NaN</td>\n",
       "      <td>NaN</td>\n",
       "      <td>NaN</td>\n",
       "      <td>2</td>\n",
       "      <td>44.375000</td>\n",
       "      <td>3.0</td>\n",
       "      <td>NaN</td>\n",
       "    </tr>\n",
       "    <tr>\n",
       "      <th>...</th>\n",
       "      <td>...</td>\n",
       "      <td>...</td>\n",
       "      <td>...</td>\n",
       "      <td>...</td>\n",
       "      <td>...</td>\n",
       "      <td>...</td>\n",
       "      <td>...</td>\n",
       "      <td>...</td>\n",
       "      <td>...</td>\n",
       "      <td>...</td>\n",
       "      <td>...</td>\n",
       "      <td>...</td>\n",
       "      <td>...</td>\n",
       "      <td>...</td>\n",
       "      <td>...</td>\n",
       "      <td>...</td>\n",
       "      <td>...</td>\n",
       "      <td>...</td>\n",
       "      <td>...</td>\n",
       "      <td>...</td>\n",
       "      <td>...</td>\n",
       "    </tr>\n",
       "    <tr>\n",
       "      <th>2024-04-10</th>\n",
       "      <td>513.479980</td>\n",
       "      <td>516.159973</td>\n",
       "      <td>512.090027</td>\n",
       "      <td>514.119995</td>\n",
       "      <td>514.119995</td>\n",
       "      <td>82652800</td>\n",
       "      <td>15.800000</td>\n",
       "      <td>4.615</td>\n",
       "      <td>25.0</td>\n",
       "      <td>39.0</td>\n",
       "      <td>...</td>\n",
       "      <td>518.10</td>\n",
       "      <td>0.992318</td>\n",
       "      <td>1.010774</td>\n",
       "      <td>1.052425</td>\n",
       "      <td>1.108208</td>\n",
       "      <td>0.99</td>\n",
       "      <td>4</td>\n",
       "      <td>512.090027</td>\n",
       "      <td>-5.0</td>\n",
       "      <td>1.0</td>\n",
       "    </tr>\n",
       "    <tr>\n",
       "      <th>2024-04-11</th>\n",
       "      <td>515.679993</td>\n",
       "      <td>519.479980</td>\n",
       "      <td>512.080017</td>\n",
       "      <td>518.000000</td>\n",
       "      <td>518.000000</td>\n",
       "      <td>70099000</td>\n",
       "      <td>14.910000</td>\n",
       "      <td>4.623</td>\n",
       "      <td>54.0</td>\n",
       "      <td>51.0</td>\n",
       "      <td>...</td>\n",
       "      <td>518.21</td>\n",
       "      <td>0.999595</td>\n",
       "      <td>1.017322</td>\n",
       "      <td>1.058872</td>\n",
       "      <td>1.115538</td>\n",
       "      <td>1.00</td>\n",
       "      <td>4</td>\n",
       "      <td>512.080017</td>\n",
       "      <td>-4.0</td>\n",
       "      <td>NaN</td>\n",
       "    </tr>\n",
       "    <tr>\n",
       "      <th>2024-04-12</th>\n",
       "      <td>514.369995</td>\n",
       "      <td>515.820007</td>\n",
       "      <td>509.079987</td>\n",
       "      <td>510.850006</td>\n",
       "      <td>510.850006</td>\n",
       "      <td>92469100</td>\n",
       "      <td>17.309999</td>\n",
       "      <td>4.533</td>\n",
       "      <td>26.0</td>\n",
       "      <td>36.0</td>\n",
       "      <td>...</td>\n",
       "      <td>518.00</td>\n",
       "      <td>0.986197</td>\n",
       "      <td>1.002178</td>\n",
       "      <td>1.042977</td>\n",
       "      <td>1.099264</td>\n",
       "      <td>0.99</td>\n",
       "      <td>4</td>\n",
       "      <td>509.079987</td>\n",
       "      <td>-3.0</td>\n",
       "      <td>NaN</td>\n",
       "    </tr>\n",
       "    <tr>\n",
       "      <th>2024-04-15</th>\n",
       "      <td>515.130005</td>\n",
       "      <td>515.299988</td>\n",
       "      <td>503.579987</td>\n",
       "      <td>504.450012</td>\n",
       "      <td>504.450012</td>\n",
       "      <td>92101400</td>\n",
       "      <td>19.230000</td>\n",
       "      <td>4.645</td>\n",
       "      <td>15.0</td>\n",
       "      <td>28.0</td>\n",
       "      <td>...</td>\n",
       "      <td>517.73</td>\n",
       "      <td>0.974350</td>\n",
       "      <td>0.989021</td>\n",
       "      <td>1.028776</td>\n",
       "      <td>1.084699</td>\n",
       "      <td>0.97</td>\n",
       "      <td>4</td>\n",
       "      <td>503.579987</td>\n",
       "      <td>-2.0</td>\n",
       "      <td>NaN</td>\n",
       "    </tr>\n",
       "    <tr>\n",
       "      <th>2024-04-16</th>\n",
       "      <td>504.940002</td>\n",
       "      <td>506.500000</td>\n",
       "      <td>502.209991</td>\n",
       "      <td>503.529999</td>\n",
       "      <td>503.529999</td>\n",
       "      <td>73320600</td>\n",
       "      <td>18.400000</td>\n",
       "      <td>4.682</td>\n",
       "      <td>14.0</td>\n",
       "      <td>26.0</td>\n",
       "      <td>...</td>\n",
       "      <td>517.27</td>\n",
       "      <td>0.973437</td>\n",
       "      <td>0.986869</td>\n",
       "      <td>1.025875</td>\n",
       "      <td>1.081953</td>\n",
       "      <td>0.97</td>\n",
       "      <td>4</td>\n",
       "      <td>502.209991</td>\n",
       "      <td>-1.0</td>\n",
       "      <td>NaN</td>\n",
       "    </tr>\n",
       "  </tbody>\n",
       "</table>\n",
       "<p>7776 rows × 25 columns</p>\n",
       "</div>"
      ],
      "text/plain": [
       "                  Open        High         Low       Close   Adj Close  \\\n",
       "Date                                                                     \n",
       "1993-01-29   43.968750   43.968750   43.750000   43.937500   24.763733   \n",
       "1993-01-29   43.968750   43.968750   43.750000   43.937500   24.763733   \n",
       "1993-02-01   43.968750   44.250000   43.968750   44.250000   24.939873   \n",
       "1993-02-02   44.218750   44.375000   44.125000   44.343750   24.992702   \n",
       "1993-02-03   44.406250   44.843750   44.375000   44.812500   25.256893   \n",
       "...                ...         ...         ...         ...         ...   \n",
       "2024-04-10  513.479980  516.159973  512.090027  514.119995  514.119995   \n",
       "2024-04-11  515.679993  519.479980  512.080017  518.000000  518.000000   \n",
       "2024-04-12  514.369995  515.820007  509.079987  510.850006  510.850006   \n",
       "2024-04-15  515.130005  515.299988  503.579987  504.450012  504.450012   \n",
       "2024-04-16  504.940002  506.500000  502.209991  503.529999  503.529999   \n",
       "\n",
       "              Volume        vix  yield_5yr  rsi_3  rsi_7  ...     sma  \\\n",
       "Date                                                      ...           \n",
       "1993-01-29   1003200  12.420000      5.570    NaN    NaN  ...     NaN   \n",
       "1993-01-29   1003200  12.420000      5.570    NaN    NaN  ...     NaN   \n",
       "1993-02-01    480500  12.330000      5.550    NaN    NaN  ...     NaN   \n",
       "1993-02-02    201300  12.250000      5.630  100.0    NaN  ...     NaN   \n",
       "1993-02-03    529400  12.120000      5.620  100.0    NaN  ...     NaN   \n",
       "...              ...        ...        ...    ...    ...  ...     ...   \n",
       "2024-04-10  82652800  15.800000      4.615   25.0   39.0  ...  518.10   \n",
       "2024-04-11  70099000  14.910000      4.623   54.0   51.0  ...  518.21   \n",
       "2024-04-12  92469100  17.309999      4.533   26.0   36.0  ...  518.00   \n",
       "2024-04-15  92101400  19.230000      4.645   15.0   28.0  ...  517.73   \n",
       "2024-04-16  73320600  18.400000      4.682   14.0   26.0  ...  517.27   \n",
       "\n",
       "              sma_20    sma_50   sma_100   sma_200  sma_pct  month  \\\n",
       "Date                                                                 \n",
       "1993-01-29       NaN       NaN       NaN       NaN      NaN      1   \n",
       "1993-01-29       NaN       NaN       NaN       NaN      NaN      1   \n",
       "1993-02-01       NaN       NaN       NaN       NaN      NaN      2   \n",
       "1993-02-02       NaN       NaN       NaN       NaN      NaN      2   \n",
       "1993-02-03       NaN       NaN       NaN       NaN      NaN      2   \n",
       "...              ...       ...       ...       ...      ...    ...   \n",
       "2024-04-10  0.992318  1.010774  1.052425  1.108208     0.99      4   \n",
       "2024-04-11  0.999595  1.017322  1.058872  1.115538     1.00      4   \n",
       "2024-04-12  0.986197  1.002178  1.042977  1.099264     0.99      4   \n",
       "2024-04-15  0.974350  0.989021  1.028776  1.084699     0.97      4   \n",
       "2024-04-16  0.973437  0.986869  1.025875  1.081953     0.97      4   \n",
       "\n",
       "                  hold  days  buy  \n",
       "Date                               \n",
       "1993-01-29   43.750000  -1.0  NaN  \n",
       "1993-01-29   43.750000   5.0  NaN  \n",
       "1993-02-01   43.968750   1.0  NaN  \n",
       "1993-02-02   44.125000   2.0  NaN  \n",
       "1993-02-03   44.375000   3.0  NaN  \n",
       "...                ...   ...  ...  \n",
       "2024-04-10  512.090027  -5.0  1.0  \n",
       "2024-04-11  512.080017  -4.0  NaN  \n",
       "2024-04-12  509.079987  -3.0  NaN  \n",
       "2024-04-15  503.579987  -2.0  NaN  \n",
       "2024-04-16  502.209991  -1.0  NaN  \n",
       "\n",
       "[7776 rows x 25 columns]"
      ]
     },
     "execution_count": 64,
     "metadata": {},
     "output_type": "execute_result"
    }
   ],
   "source": [
    "df"
   ]
  },
  {
   "cell_type": "code",
   "execution_count": 65,
   "metadata": {},
   "outputs": [
    {
     "data": {
      "text/html": [
       "<div style=\"display: table;\"><div style=\"display: table-row;\"><div style=\"display: table-cell;\"><b title=\"bokeh.models.layouts.Row\">Row</b>(</div><div style=\"display: table-cell;\">id&nbsp;=&nbsp;'12430', <span id=\"13369\" style=\"cursor: pointer;\">&hellip;)</span></div></div><div class=\"13368\" style=\"display: none;\"><div style=\"display: table-cell;\"></div><div style=\"display: table-cell;\">align&nbsp;=&nbsp;'start',</div></div><div class=\"13368\" style=\"display: none;\"><div style=\"display: table-cell;\"></div><div style=\"display: table-cell;\">aspect_ratio&nbsp;=&nbsp;None,</div></div><div class=\"13368\" style=\"display: none;\"><div style=\"display: table-cell;\"></div><div style=\"display: table-cell;\">background&nbsp;=&nbsp;None,</div></div><div class=\"13368\" style=\"display: none;\"><div style=\"display: table-cell;\"></div><div style=\"display: table-cell;\">children&nbsp;=&nbsp;[GridBox(id='12427', ...), ToolbarBox(id='12429', ...)],</div></div><div class=\"13368\" style=\"display: none;\"><div style=\"display: table-cell;\"></div><div style=\"display: table-cell;\">cols&nbsp;=&nbsp;'auto',</div></div><div class=\"13368\" style=\"display: none;\"><div style=\"display: table-cell;\"></div><div style=\"display: table-cell;\">css_classes&nbsp;=&nbsp;[],</div></div><div class=\"13368\" style=\"display: none;\"><div style=\"display: table-cell;\"></div><div style=\"display: table-cell;\">disabled&nbsp;=&nbsp;False,</div></div><div class=\"13368\" style=\"display: none;\"><div style=\"display: table-cell;\"></div><div style=\"display: table-cell;\">height&nbsp;=&nbsp;None,</div></div><div class=\"13368\" style=\"display: none;\"><div style=\"display: table-cell;\"></div><div style=\"display: table-cell;\">height_policy&nbsp;=&nbsp;'auto',</div></div><div class=\"13368\" style=\"display: none;\"><div style=\"display: table-cell;\"></div><div style=\"display: table-cell;\">js_event_callbacks&nbsp;=&nbsp;{},</div></div><div class=\"13368\" style=\"display: none;\"><div style=\"display: table-cell;\"></div><div style=\"display: table-cell;\">js_property_callbacks&nbsp;=&nbsp;{},</div></div><div class=\"13368\" style=\"display: none;\"><div style=\"display: table-cell;\"></div><div style=\"display: table-cell;\">margin&nbsp;=&nbsp;(0, 0, 0, 0),</div></div><div class=\"13368\" style=\"display: none;\"><div style=\"display: table-cell;\"></div><div style=\"display: table-cell;\">max_height&nbsp;=&nbsp;None,</div></div><div class=\"13368\" style=\"display: none;\"><div style=\"display: table-cell;\"></div><div style=\"display: table-cell;\">max_width&nbsp;=&nbsp;None,</div></div><div class=\"13368\" style=\"display: none;\"><div style=\"display: table-cell;\"></div><div style=\"display: table-cell;\">min_height&nbsp;=&nbsp;None,</div></div><div class=\"13368\" style=\"display: none;\"><div style=\"display: table-cell;\"></div><div style=\"display: table-cell;\">min_width&nbsp;=&nbsp;None,</div></div><div class=\"13368\" style=\"display: none;\"><div style=\"display: table-cell;\"></div><div style=\"display: table-cell;\">name&nbsp;=&nbsp;None,</div></div><div class=\"13368\" style=\"display: none;\"><div style=\"display: table-cell;\"></div><div style=\"display: table-cell;\">sizing_mode&nbsp;=&nbsp;'stretch_width',</div></div><div class=\"13368\" style=\"display: none;\"><div style=\"display: table-cell;\"></div><div style=\"display: table-cell;\">spacing&nbsp;=&nbsp;0,</div></div><div class=\"13368\" style=\"display: none;\"><div style=\"display: table-cell;\"></div><div style=\"display: table-cell;\">subscribed_events&nbsp;=&nbsp;[],</div></div><div class=\"13368\" style=\"display: none;\"><div style=\"display: table-cell;\"></div><div style=\"display: table-cell;\">syncable&nbsp;=&nbsp;True,</div></div><div class=\"13368\" style=\"display: none;\"><div style=\"display: table-cell;\"></div><div style=\"display: table-cell;\">tags&nbsp;=&nbsp;[],</div></div><div class=\"13368\" style=\"display: none;\"><div style=\"display: table-cell;\"></div><div style=\"display: table-cell;\">visible&nbsp;=&nbsp;True,</div></div><div class=\"13368\" style=\"display: none;\"><div style=\"display: table-cell;\"></div><div style=\"display: table-cell;\">width&nbsp;=&nbsp;None,</div></div><div class=\"13368\" style=\"display: none;\"><div style=\"display: table-cell;\"></div><div style=\"display: table-cell;\">width_policy&nbsp;=&nbsp;'auto')</div></div></div>\n",
       "<script>\n",
       "(function() {\n",
       "  let expanded = false;\n",
       "  const ellipsis = document.getElementById(\"13369\");\n",
       "  ellipsis.addEventListener(\"click\", function() {\n",
       "    const rows = document.getElementsByClassName(\"13368\");\n",
       "    for (let i = 0; i < rows.length; i++) {\n",
       "      const el = rows[i];\n",
       "      el.style.display = expanded ? \"none\" : \"table-row\";\n",
       "    }\n",
       "    ellipsis.innerHTML = expanded ? \"&hellip;)\" : \"&lsaquo;&lsaquo;&lsaquo;\";\n",
       "    expanded = !expanded;\n",
       "  });\n",
       "})();\n",
       "</script>\n"
      ],
      "text/plain": [
       "Row(id='12430', ...)"
      ]
     },
     "execution_count": 65,
     "metadata": {},
     "output_type": "execute_result"
    }
   ],
   "source": [
    "bt = Backtest(\n",
    "    df[\"2012-01-01\":], end_of_month_and_skip_month, cash=100_000, commission=0.002\n",
    ")\n",
    "stats = bt.run(days_before=-4, days_after=5, skip_month=skip_month)\n",
    "bt.plot(superimpose=False)  # , open_browser=False)"
   ]
  },
  {
   "cell_type": "code",
   "execution_count": 66,
   "metadata": {},
   "outputs": [
    {
     "data": {
      "text/plain": [
       "Start                     2012-01-03 00:00:00\n",
       "End                       2024-04-16 00:00:00\n",
       "Duration                   4487 days 00:00:00\n",
       "Exposure Time [%]                   14.350797\n",
       "Equity Final [$]                179826.990962\n",
       "Equity Peak [$]                 179826.990962\n",
       "Return [%]                          79.826991\n",
       "Buy & Hold Return [%]              294.925489\n",
       "Return (Ann.) [%]                      4.9299\n",
       "Volatility (Ann.) [%]                5.789707\n",
       "Sharpe Ratio                         0.851494\n",
       "Sortino Ratio                        1.370868\n",
       "Calmar Ratio                         0.594938\n",
       "Max. Drawdown [%]                   -8.286407\n",
       "Avg. Drawdown [%]                   -1.523055\n",
       "Max. Drawdown Duration      742 days 00:00:00\n",
       "Avg. Drawdown Duration       80 days 00:00:00\n",
       "# Trades                                   49\n",
       "Win Rate [%]                        73.469388\n",
       "Best Trade [%]                       6.228369\n",
       "Worst Trade [%]                     -6.454354\n",
       "Avg. Trade [%]                          1.206\n",
       "Max. Trade Duration          14 days 00:00:00\n",
       "Avg. Trade Duration          12 days 00:00:00\n",
       "Profit Factor                        4.062405\n",
       "Expectancy [%]                        1.23173\n",
       "SQN                                  3.917638\n",
       "_strategy                 end_of_month_and...\n",
       "_equity_curve                             ...\n",
       "_trades                       Size  EntryB...\n",
       "dtype: object"
      ]
     },
     "execution_count": 66,
     "metadata": {},
     "output_type": "execute_result"
    }
   ],
   "source": [
    "stats"
   ]
  },
  {
   "cell_type": "code",
   "execution_count": 67,
   "metadata": {},
   "outputs": [],
   "source": [
    "trades = stats[\"_trades\"]\n",
    "\n",
    "for index, row in trades.iterrows():\n",
    "    start_range = stock[: row[\"EntryTime\"]]\n",
    "    trades.loc[index, \"SignalTime\"] = start_range.index.values[-2]\n",
    "\n",
    "merged = pd.merge(\n",
    "    trades,\n",
    "    df[\n",
    "        [\n",
    "            \"adx_10\",\n",
    "            \"adx_direction\",\n",
    "            \"rsi_3\",\n",
    "            \"rsi_7\",\n",
    "            \"rsi_10\",\n",
    "            \"sma_20\",\n",
    "            \"sma_50\",\n",
    "            \"sma_100\",\n",
    "            \"sma_200\",\n",
    "        ]\n",
    "    ],\n",
    "    left_on=\"SignalTime\",\n",
    "    right_index=True,\n",
    ")"
   ]
  },
  {
   "cell_type": "code",
   "execution_count": 68,
   "metadata": {},
   "outputs": [
    {
     "data": {
      "text/html": [
       "<div>\n",
       "<style scoped>\n",
       "    .dataframe tbody tr th:only-of-type {\n",
       "        vertical-align: middle;\n",
       "    }\n",
       "\n",
       "    .dataframe tbody tr th {\n",
       "        vertical-align: top;\n",
       "    }\n",
       "\n",
       "    .dataframe thead th {\n",
       "        text-align: right;\n",
       "    }\n",
       "</style>\n",
       "<table border=\"1\" class=\"dataframe\">\n",
       "  <thead>\n",
       "    <tr style=\"text-align: right;\">\n",
       "      <th></th>\n",
       "      <th>ReturnPct</th>\n",
       "    </tr>\n",
       "    <tr>\n",
       "      <th>ExitTime</th>\n",
       "      <th></th>\n",
       "    </tr>\n",
       "  </thead>\n",
       "  <tbody>\n",
       "    <tr>\n",
       "      <th>2</th>\n",
       "      <td>0.0560</td>\n",
       "    </tr>\n",
       "    <tr>\n",
       "      <th>6</th>\n",
       "      <td>0.1943</td>\n",
       "    </tr>\n",
       "    <tr>\n",
       "      <th>7</th>\n",
       "      <td>0.1668</td>\n",
       "    </tr>\n",
       "    <tr>\n",
       "      <th>11</th>\n",
       "      <td>0.1864</td>\n",
       "    </tr>\n",
       "  </tbody>\n",
       "</table>\n",
       "</div>"
      ],
      "text/plain": [
       "          ReturnPct\n",
       "ExitTime           \n",
       "2            0.0560\n",
       "6            0.1943\n",
       "7            0.1668\n",
       "11           0.1864"
      ]
     },
     "execution_count": 68,
     "metadata": {},
     "output_type": "execute_result"
    }
   ],
   "source": [
    "pd.DataFrame(merged.groupby(merged.ExitTime.dt.month).ReturnPct.sum().round(4))"
   ]
  },
  {
   "cell_type": "code",
   "execution_count": 69,
   "metadata": {},
   "outputs": [
    {
     "data": {
      "text/html": [
       "<div>\n",
       "<style scoped>\n",
       "    .dataframe tbody tr th:only-of-type {\n",
       "        vertical-align: middle;\n",
       "    }\n",
       "\n",
       "    .dataframe tbody tr th {\n",
       "        vertical-align: top;\n",
       "    }\n",
       "\n",
       "    .dataframe thead th {\n",
       "        text-align: right;\n",
       "    }\n",
       "</style>\n",
       "<table border=\"1\" class=\"dataframe\">\n",
       "  <thead>\n",
       "    <tr style=\"text-align: right;\">\n",
       "      <th></th>\n",
       "      <th>PnL</th>\n",
       "    </tr>\n",
       "    <tr>\n",
       "      <th>ExitTime</th>\n",
       "      <th></th>\n",
       "    </tr>\n",
       "  </thead>\n",
       "  <tbody>\n",
       "    <tr>\n",
       "      <th>2012</th>\n",
       "      <td>1869.0</td>\n",
       "    </tr>\n",
       "    <tr>\n",
       "      <th>2013</th>\n",
       "      <td>2310.7</td>\n",
       "    </tr>\n",
       "    <tr>\n",
       "      <th>2014</th>\n",
       "      <td>5713.0</td>\n",
       "    </tr>\n",
       "    <tr>\n",
       "      <th>2015</th>\n",
       "      <td>-1871.3</td>\n",
       "    </tr>\n",
       "    <tr>\n",
       "      <th>2016</th>\n",
       "      <td>3374.3</td>\n",
       "    </tr>\n",
       "    <tr>\n",
       "      <th>2017</th>\n",
       "      <td>707.3</td>\n",
       "    </tr>\n",
       "    <tr>\n",
       "      <th>2018</th>\n",
       "      <td>1662.4</td>\n",
       "    </tr>\n",
       "    <tr>\n",
       "      <th>2019</th>\n",
       "      <td>8920.2</td>\n",
       "    </tr>\n",
       "    <tr>\n",
       "      <th>2020</th>\n",
       "      <td>20609.4</td>\n",
       "    </tr>\n",
       "    <tr>\n",
       "      <th>2021</th>\n",
       "      <td>9872.7</td>\n",
       "    </tr>\n",
       "    <tr>\n",
       "      <th>2022</th>\n",
       "      <td>5025.5</td>\n",
       "    </tr>\n",
       "    <tr>\n",
       "      <th>2023</th>\n",
       "      <td>18242.4</td>\n",
       "    </tr>\n",
       "    <tr>\n",
       "      <th>2024</th>\n",
       "      <td>3391.4</td>\n",
       "    </tr>\n",
       "  </tbody>\n",
       "</table>\n",
       "</div>"
      ],
      "text/plain": [
       "              PnL\n",
       "ExitTime         \n",
       "2012       1869.0\n",
       "2013       2310.7\n",
       "2014       5713.0\n",
       "2015      -1871.3\n",
       "2016       3374.3\n",
       "2017        707.3\n",
       "2018       1662.4\n",
       "2019       8920.2\n",
       "2020      20609.4\n",
       "2021       9872.7\n",
       "2022       5025.5\n",
       "2023      18242.4\n",
       "2024       3391.4"
      ]
     },
     "execution_count": 69,
     "metadata": {},
     "output_type": "execute_result"
    }
   ],
   "source": [
    "pd.DataFrame(merged.groupby(merged.ExitTime.dt.year).PnL.sum().round(1))"
   ]
  },
  {
   "cell_type": "code",
   "execution_count": 70,
   "metadata": {},
   "outputs": [
    {
     "data": {
      "text/plain": [
       "2012    101869.0\n",
       "2013    104179.7\n",
       "2014    109892.8\n",
       "2015    108021.5\n",
       "2016    111395.7\n",
       "2017    112103.0\n",
       "2018    113765.4\n",
       "2019    122685.6\n",
       "2020    143295.0\n",
       "2021    153167.7\n",
       "2022    158193.1\n",
       "2023    176435.6\n",
       "2024    179827.0\n",
       "Name: Equity, dtype: float64"
      ]
     },
     "execution_count": 70,
     "metadata": {},
     "output_type": "execute_result"
    }
   ],
   "source": [
    "equity = stats[\"_equity_curve\"]\n",
    "equity.groupby(equity.index.year).Equity.last().round(1)"
   ]
  }
 ],
 "metadata": {
  "kernelspec": {
   "display_name": "Python 3",
   "language": "python",
   "name": "python3"
  },
  "language_info": {
   "codemirror_mode": {
    "name": "ipython",
    "version": 3
   },
   "file_extension": ".py",
   "mimetype": "text/x-python",
   "name": "python",
   "nbconvert_exporter": "python",
   "pygments_lexer": "ipython3",
   "version": "3.12.0"
  }
 },
 "nbformat": 4,
 "nbformat_minor": 2
}
