{
 "cells": [
  {
   "cell_type": "code",
   "execution_count": 152,
   "metadata": {},
   "outputs": [],
   "source": [
    "import numpy as np\n",
    "import pandas as pd\n",
    "import pandas_ta as ta\n",
    "import yfinance as yf\n",
    "from tiny_ta import atr, rsi, sma"
   ]
  },
  {
   "cell_type": "markdown",
   "metadata": {},
   "source": [
    "# Five Days Reversal - Strategie im S&P 500"
   ]
  },
  {
   "cell_type": "markdown",
   "metadata": {},
   "source": [
    "Zunächst werden die Kursdaten für den S&P 500 geladen und bereinigt"
   ]
  },
  {
   "cell_type": "code",
   "execution_count": 153,
   "metadata": {},
   "outputs": [
    {
     "name": "stderr",
     "output_type": "stream",
     "text": [
      "[*********************100%%**********************]  1 of 1 completed\n"
     ]
    }
   ],
   "source": [
    "SYMBOL = \"^GSPC\"\n",
    "SYMBOL = \"SPY\"\n",
    "\n",
    "stock = yf.download(SYMBOL)\n",
    "\n",
    "stock = stock[~(stock.High == stock.Low) & ~(stock.Open == stock.Close)]\n",
    "stock = stock.dropna()"
   ]
  },
  {
   "cell_type": "markdown",
   "metadata": {},
   "source": [
    "Der VIX für die Volatilität wird als externer Indikator mit betrachtet"
   ]
  },
  {
   "cell_type": "code",
   "execution_count": 154,
   "metadata": {},
   "outputs": [
    {
     "name": "stderr",
     "output_type": "stream",
     "text": [
      "[*********************100%%**********************]  1 of 1 completed\n"
     ]
    }
   ],
   "source": [
    "vix = yf.download(\"^VIX\")\n",
    "vix[\"vix\"] = vix[\"Close\"]\n",
    "stock = pd.merge(\n",
    "    stock,\n",
    "    vix[\n",
    "        [\n",
    "            \"vix\",\n",
    "        ]\n",
    "    ],\n",
    "    left_index=True,\n",
    "    right_index=True,\n",
    "    how=\"left\",\n",
    ")"
   ]
  },
  {
   "cell_type": "markdown",
   "metadata": {},
   "source": [
    "Die 5 jährigen Staatsanleihen werden ebenfalls mit betrachtet"
   ]
  },
  {
   "cell_type": "code",
   "execution_count": 155,
   "metadata": {},
   "outputs": [
    {
     "name": "stderr",
     "output_type": "stream",
     "text": [
      "[*********************100%%**********************]  1 of 1 completed\n"
     ]
    }
   ],
   "source": [
    "yield_5_years = yf.download(\"^FVX\")\n",
    "\n",
    "yield_5_years[\"yield_5yr\"] = yield_5_years[\"Close\"]\n",
    "stock = pd.merge(\n",
    "    stock,\n",
    "    yield_5_years[\n",
    "        [\n",
    "            \"yield_5yr\",\n",
    "        ]\n",
    "    ],\n",
    "    left_index=True,\n",
    "    right_index=True,\n",
    "    how=\"left\",\n",
    ")"
   ]
  },
  {
   "cell_type": "markdown",
   "metadata": {},
   "source": [
    "Ein paar Indikatoren für spätere Auswertungen"
   ]
  },
  {
   "cell_type": "code",
   "execution_count": 156,
   "metadata": {},
   "outputs": [],
   "source": [
    "def internal_bar_strength(df: pd.DataFrame) -> pd.Series:\n",
    "    return (df.Close - df.Low) / (df.High - df.Low)\n",
    "\n",
    "\n",
    "stock[\"rsi_3\"] = rsi(stock.Close, 3)\n",
    "stock[\"rsi_7\"] = rsi(stock.Close, 7)\n",
    "stock[\"rsi_10\"] = rsi(stock.Close, 10)\n",
    "\n",
    "stock[\"atr_10\"] = atr(stock, 10, smoothing=\"rma\") / stock.Close * 100\n",
    "\n",
    "adx_intervall = 21\n",
    "adx = ta.adx(stock.High, stock.Low, stock.Close, adx_intervall)\n",
    "stock[\"adx\"] = adx[f\"ADX_{adx_intervall}\"]\n",
    "stock[\"adx_direction\"] = np.where(\n",
    "    adx[f\"DMP_{adx_intervall}\"] > adx[f\"DMN_{adx_intervall}\"], 1, -1\n",
    ")\n",
    "\n",
    "stock[\"adx_10\"] = ta.adx(stock.High, stock.Low, stock.Close, 10, 10)[\"ADX_10\"]\n",
    "\n",
    "\n",
    "stock[\"sma\"] = sma(stock.Close, 20)\n",
    "stock[\"sma_20\"] = stock.Close / sma(stock.Close, 20)\n",
    "stock[\"sma_50\"] = stock.Close / sma(stock.Close, 50)\n",
    "stock[\"sma_100\"] = stock.Close / sma(stock.Close, 100)\n",
    "stock[\"sma_200\"] = stock.Close / sma(stock.Close, 200)\n",
    "\n",
    "stock[\"sma_pct\"] = (stock.Close / stock.sma).round(2)\n",
    "\n",
    "stock[\"lower\"] = (stock.Close.shift(1) > stock.Close).astype(int)\n",
    "stock[\"ibs\"] = internal_bar_strength(stock)\n",
    "df = stock"
   ]
  },
  {
   "cell_type": "markdown",
   "metadata": {},
   "source": [
    "## Jetzt zur Strategie\n",
    "Sobald der Close x Tage in Folge gefallen ist wird gekauft. Die Position wird für x Tage gehalten."
   ]
  },
  {
   "cell_type": "code",
   "execution_count": 157,
   "metadata": {},
   "outputs": [],
   "source": [
    "from backtesting import Strategy\n",
    "\n",
    "\n",
    "class lower_days_reversal(Strategy):\n",
    "    \"\"\"\n",
    "    strategy for trend_trading\n",
    "    \"\"\"\n",
    "\n",
    "    short_days = 5\n",
    "    lower_ibs = 25\n",
    "    barsheld = 5\n",
    "\n",
    "    def ohlc(self, pos=-1) -> tuple:\n",
    "        \"\"\"\n",
    "        helper function for ohlc data\n",
    "        \"\"\"\n",
    "        return (\n",
    "            self.data.Open[pos],\n",
    "            self.data.High[pos],\n",
    "            self.data.Low[pos],\n",
    "            self.data.Close[pos],\n",
    "        )\n",
    "\n",
    "    def init(self):\n",
    "        super().init()\n",
    "\n",
    "        self.sma = self.I(lambda: self.data.sma, name=\"SMA\")\n",
    "\n",
    "        # self.rsi = self.I(lambda: self.data.rsi, name=\"RSI\", overlay=False)\n",
    "        self.ibs = self.I(lambda: self.data.ibs, name=\"IBS\", overlay=False)\n",
    "        self.atr_10 = self.I(lambda: self.data.atr_10, name=\"ATR\", overlay=False)\n",
    "\n",
    "        self.vix = self.I(lambda: self.data.vix, name=\"VIX\", overlay=False)\n",
    "        self.yield_5yr = self.I(\n",
    "            lambda: self.data.yield_5yr, name=\"Yield 5\", overlay=False\n",
    "        )\n",
    "\n",
    "    def next(self):\n",
    "        # super().next()\n",
    "\n",
    "        _open, _high, _low, _close = self.ohlc()\n",
    "\n",
    "        # trade management for an existing trade\n",
    "        for trade in self.trades:\n",
    "            if trade.is_long:\n",
    "                duration = len(self.data) - self.trades[-1].entry_bar\n",
    "\n",
    "                if duration == self.barsheld:\n",
    "                    trade.close()\n",
    "                # if self.data.lower[-1] == 0:\n",
    "                #    trade.close()\n",
    "\n",
    "        if (self.data.lower.s[-self.short_days :].sum() == self.short_days) and (\n",
    "            int((self.data.ibs[-1] * 100)) <= self.lower_ibs\n",
    "        ):\n",
    "            self.buy()"
   ]
  },
  {
   "cell_type": "code",
   "execution_count": 158,
   "metadata": {},
   "outputs": [
    {
     "data": {
      "text/plain": [
       "Start                     2012-01-03 00:00:00\n",
       "End                       2024-04-17 00:00:00\n",
       "Duration                   4488 days 00:00:00\n",
       "Exposure Time [%]                    2.927781\n",
       "Equity Final [$]                112607.339919\n",
       "Equity Peak [$]                 120532.025628\n",
       "Return [%]                           12.60734\n",
       "Buy & Hold Return [%]              296.423531\n",
       "Return (Ann.) [%]                    0.978131\n",
       "Volatility (Ann.) [%]                4.050382\n",
       "Sharpe Ratio                         0.241491\n",
       "Sortino Ratio                        0.384084\n",
       "Calmar Ratio                         0.095181\n",
       "Max. Drawdown [%]                  -10.276556\n",
       "Avg. Drawdown [%]                    -2.33423\n",
       "Max. Drawdown Duration     2224 days 00:00:00\n",
       "Avg. Drawdown Duration      376 days 00:00:00\n",
       "# Trades                                   18\n",
       "Win Rate [%]                        66.666667\n",
       "Best Trade [%]                        5.34279\n",
       "Worst Trade [%]                     -4.032198\n",
       "Avg. Trade [%]                       0.662207\n",
       "Max. Trade Duration           7 days 00:00:00\n",
       "Avg. Trade Duration           6 days 00:00:00\n",
       "Profit Factor                        1.997614\n",
       "Expectancy [%]                       0.695799\n",
       "SQN                                  0.995287\n",
       "_strategy                 lower_days_reversal\n",
       "_equity_curve                             ...\n",
       "_trades                       Size  EntryB...\n",
       "dtype: object"
      ]
     },
     "execution_count": 158,
     "metadata": {},
     "output_type": "execute_result"
    }
   ],
   "source": [
    "from backtesting import Backtest\n",
    "\n",
    "bt = Backtest(\n",
    "    df[\"2012-01-01\":],\n",
    "    lower_days_reversal,\n",
    "    cash=100_000,\n",
    "    commission=0.002,\n",
    "    trade_on_close=True,\n",
    ")\n",
    "stats = bt.run()\n",
    "bt.plot(superimpose=False)  # , open_browser=False)\n",
    "stats"
   ]
  },
  {
   "cell_type": "code",
   "execution_count": 159,
   "metadata": {},
   "outputs": [
    {
     "data": {
      "text/plain": [
       "<Axes: xlabel='EntryTime', ylabel='ReturnPct'>"
      ]
     },
     "execution_count": 159,
     "metadata": {},
     "output_type": "execute_result"
    },
    {
     "data": {
      "image/png": "[encoded data removed]",
      "text/plain": [
       "<Figure size 640x480 with 1 Axes>"
      ]
     },
     "metadata": {},
     "output_type": "display_data"
    }
   ],
   "source": [
    "trades = stats[\"_trades\"]\n",
    "trades.plot.scatter(y=\"ReturnPct\", x=\"EntryTime\")"
   ]
  },
  {
   "cell_type": "markdown",
   "metadata": {},
   "source": [
    "jetzt wird überprüft welche Tage für die Ein- und Ausstiege besser sein könnten."
   ]
  },
  {
   "cell_type": "code",
   "execution_count": 160,
   "metadata": {},
   "outputs": [
    {
     "name": "stderr",
     "output_type": "stream",
     "text": [
      "/Users/produktmanagement/Python/github/backtesting-trading-strategies/.venv/lib/python3.12/site-packages/backtesting/backtesting.py:1375: UserWarning: For multiprocessing support in `Backtest.optimize()` set multiprocessing start method to 'fork'.\n",
      "  warnings.warn(\"For multiprocessing support in `Backtest.optimize()` \"\n"
     ]
    }
   ],
   "source": [
    "stats, heatmap = bt.optimize(\n",
    "    short_days=range(2, 6),\n",
    "    barsheld=range(2, 6),\n",
    "    lower_ibs=range(10, 40, 5),\n",
    "    maximize=\"Profit Factor\",  # \"Equity Final [$]\",\n",
    "    max_tries=200,\n",
    "    random_state=0,\n",
    "    return_heatmap=True,\n",
    ")"
   ]
  },
  {
   "cell_type": "code",
   "execution_count": 161,
   "metadata": {},
   "outputs": [
    {
     "data": {
      "text/plain": [
       "short_days  barsheld  lower_ibs\n",
       "4           5         10           3.037220\n",
       "5           5         10           3.259964\n",
       "                      15           3.381956\n",
       "            4         15           5.140518\n",
       "                      10           6.468479\n",
       "Name: Profit Factor, dtype: float64"
      ]
     },
     "execution_count": 161,
     "metadata": {},
     "output_type": "execute_result"
    }
   ],
   "source": [
    "# heatmap\n",
    "heatmap.sort_values().iloc[-5:]"
   ]
  },
  {
   "cell_type": "code",
   "execution_count": 162,
   "metadata": {},
   "outputs": [
    {
     "data": {
      "text/html": [
       "<div>\n",
       "<style scoped>\n",
       "    .dataframe tbody tr th:only-of-type {\n",
       "        vertical-align: middle;\n",
       "    }\n",
       "\n",
       "    .dataframe tbody tr th {\n",
       "        vertical-align: top;\n",
       "    }\n",
       "\n",
       "    .dataframe thead th {\n",
       "        text-align: right;\n",
       "    }\n",
       "</style>\n",
       "<table border=\"1\" class=\"dataframe\">\n",
       "  <thead>\n",
       "    <tr style=\"text-align: right;\">\n",
       "      <th></th>\n",
       "      <th>barsheld</th>\n",
       "      <th>2</th>\n",
       "      <th>3</th>\n",
       "      <th>4</th>\n",
       "      <th>5</th>\n",
       "    </tr>\n",
       "    <tr>\n",
       "      <th>short_days</th>\n",
       "      <th>lower_ibs</th>\n",
       "      <th></th>\n",
       "      <th></th>\n",
       "      <th></th>\n",
       "      <th></th>\n",
       "    </tr>\n",
       "  </thead>\n",
       "  <tbody>\n",
       "    <tr>\n",
       "      <th rowspan=\"6\" valign=\"top\">2</th>\n",
       "      <th>10</th>\n",
       "      <td>0.902813</td>\n",
       "      <td>0.991606</td>\n",
       "      <td>1.071304</td>\n",
       "      <td>1.389126</td>\n",
       "    </tr>\n",
       "    <tr>\n",
       "      <th>15</th>\n",
       "      <td>0.918322</td>\n",
       "      <td>1.091291</td>\n",
       "      <td>1.101948</td>\n",
       "      <td>1.312760</td>\n",
       "    </tr>\n",
       "    <tr>\n",
       "      <th>20</th>\n",
       "      <td>0.847065</td>\n",
       "      <td>0.985816</td>\n",
       "      <td>1.183126</td>\n",
       "      <td>1.459226</td>\n",
       "    </tr>\n",
       "    <tr>\n",
       "      <th>25</th>\n",
       "      <td>0.833249</td>\n",
       "      <td>0.949551</td>\n",
       "      <td>1.069493</td>\n",
       "      <td>1.385772</td>\n",
       "    </tr>\n",
       "    <tr>\n",
       "      <th>30</th>\n",
       "      <td>0.850460</td>\n",
       "      <td>0.892964</td>\n",
       "      <td>1.031381</td>\n",
       "      <td>1.216076</td>\n",
       "    </tr>\n",
       "    <tr>\n",
       "      <th>35</th>\n",
       "      <td>0.899739</td>\n",
       "      <td>0.933945</td>\n",
       "      <td>1.006154</td>\n",
       "      <td>1.328208</td>\n",
       "    </tr>\n",
       "    <tr>\n",
       "      <th rowspan=\"6\" valign=\"top\">3</th>\n",
       "      <th>10</th>\n",
       "      <td>1.165115</td>\n",
       "      <td>1.222414</td>\n",
       "      <td>1.031244</td>\n",
       "      <td>1.419021</td>\n",
       "    </tr>\n",
       "    <tr>\n",
       "      <th>15</th>\n",
       "      <td>1.177974</td>\n",
       "      <td>1.461911</td>\n",
       "      <td>1.230828</td>\n",
       "      <td>1.563431</td>\n",
       "    </tr>\n",
       "    <tr>\n",
       "      <th>20</th>\n",
       "      <td>1.024195</td>\n",
       "      <td>1.080719</td>\n",
       "      <td>1.109101</td>\n",
       "      <td>1.461689</td>\n",
       "    </tr>\n",
       "    <tr>\n",
       "      <th>25</th>\n",
       "      <td>1.011320</td>\n",
       "      <td>1.070208</td>\n",
       "      <td>1.047587</td>\n",
       "      <td>1.426071</td>\n",
       "    </tr>\n",
       "    <tr>\n",
       "      <th>30</th>\n",
       "      <td>1.023763</td>\n",
       "      <td>1.075123</td>\n",
       "      <td>1.094626</td>\n",
       "      <td>1.513635</td>\n",
       "    </tr>\n",
       "    <tr>\n",
       "      <th>35</th>\n",
       "      <td>0.979705</td>\n",
       "      <td>1.064037</td>\n",
       "      <td>1.026049</td>\n",
       "      <td>1.262832</td>\n",
       "    </tr>\n",
       "    <tr>\n",
       "      <th rowspan=\"6\" valign=\"top\">4</th>\n",
       "      <th>10</th>\n",
       "      <td>1.217359</td>\n",
       "      <td>1.718567</td>\n",
       "      <td>1.653364</td>\n",
       "      <td>3.037220</td>\n",
       "    </tr>\n",
       "    <tr>\n",
       "      <th>15</th>\n",
       "      <td>1.225879</td>\n",
       "      <td>1.557177</td>\n",
       "      <td>1.562109</td>\n",
       "      <td>2.548264</td>\n",
       "    </tr>\n",
       "    <tr>\n",
       "      <th>20</th>\n",
       "      <td>1.020238</td>\n",
       "      <td>1.316268</td>\n",
       "      <td>1.228490</td>\n",
       "      <td>1.572662</td>\n",
       "    </tr>\n",
       "    <tr>\n",
       "      <th>25</th>\n",
       "      <td>1.053310</td>\n",
       "      <td>1.362825</td>\n",
       "      <td>1.259988</td>\n",
       "      <td>1.525949</td>\n",
       "    </tr>\n",
       "    <tr>\n",
       "      <th>30</th>\n",
       "      <td>1.113839</td>\n",
       "      <td>1.427212</td>\n",
       "      <td>1.169813</td>\n",
       "      <td>1.675264</td>\n",
       "    </tr>\n",
       "    <tr>\n",
       "      <th>35</th>\n",
       "      <td>1.027469</td>\n",
       "      <td>1.284521</td>\n",
       "      <td>1.200279</td>\n",
       "      <td>1.420969</td>\n",
       "    </tr>\n",
       "    <tr>\n",
       "      <th rowspan=\"6\" valign=\"top\">5</th>\n",
       "      <th>10</th>\n",
       "      <td>1.588429</td>\n",
       "      <td>2.530857</td>\n",
       "      <td>6.468479</td>\n",
       "      <td>3.259964</td>\n",
       "    </tr>\n",
       "    <tr>\n",
       "      <th>15</th>\n",
       "      <td>1.632774</td>\n",
       "      <td>2.203336</td>\n",
       "      <td>5.140518</td>\n",
       "      <td>3.381956</td>\n",
       "    </tr>\n",
       "    <tr>\n",
       "      <th>20</th>\n",
       "      <td>1.419683</td>\n",
       "      <td>1.647649</td>\n",
       "      <td>1.780496</td>\n",
       "      <td>1.900927</td>\n",
       "    </tr>\n",
       "    <tr>\n",
       "      <th>25</th>\n",
       "      <td>1.499012</td>\n",
       "      <td>1.872712</td>\n",
       "      <td>2.318786</td>\n",
       "      <td>1.997614</td>\n",
       "    </tr>\n",
       "    <tr>\n",
       "      <th>30</th>\n",
       "      <td>1.631480</td>\n",
       "      <td>2.118690</td>\n",
       "      <td>1.641551</td>\n",
       "      <td>1.568951</td>\n",
       "    </tr>\n",
       "    <tr>\n",
       "      <th>35</th>\n",
       "      <td>1.757825</td>\n",
       "      <td>2.189244</td>\n",
       "      <td>2.311297</td>\n",
       "      <td>1.874283</td>\n",
       "    </tr>\n",
       "  </tbody>\n",
       "</table>\n",
       "</div>"
      ],
      "text/plain": [
       "barsheld                     2         3         4         5\n",
       "short_days lower_ibs                                        \n",
       "2          10         0.902813  0.991606  1.071304  1.389126\n",
       "           15         0.918322  1.091291  1.101948  1.312760\n",
       "           20         0.847065  0.985816  1.183126  1.459226\n",
       "           25         0.833249  0.949551  1.069493  1.385772\n",
       "           30         0.850460  0.892964  1.031381  1.216076\n",
       "           35         0.899739  0.933945  1.006154  1.328208\n",
       "3          10         1.165115  1.222414  1.031244  1.419021\n",
       "           15         1.177974  1.461911  1.230828  1.563431\n",
       "           20         1.024195  1.080719  1.109101  1.461689\n",
       "           25         1.011320  1.070208  1.047587  1.426071\n",
       "           30         1.023763  1.075123  1.094626  1.513635\n",
       "           35         0.979705  1.064037  1.026049  1.262832\n",
       "4          10         1.217359  1.718567  1.653364  3.037220\n",
       "           15         1.225879  1.557177  1.562109  2.548264\n",
       "           20         1.020238  1.316268  1.228490  1.572662\n",
       "           25         1.053310  1.362825  1.259988  1.525949\n",
       "           30         1.113839  1.427212  1.169813  1.675264\n",
       "           35         1.027469  1.284521  1.200279  1.420969\n",
       "5          10         1.588429  2.530857  6.468479  3.259964\n",
       "           15         1.632774  2.203336  5.140518  3.381956\n",
       "           20         1.419683  1.647649  1.780496  1.900927\n",
       "           25         1.499012  1.872712  2.318786  1.997614\n",
       "           30         1.631480  2.118690  1.641551  1.568951\n",
       "           35         1.757825  2.189244  2.311297  1.874283"
      ]
     },
     "execution_count": 162,
     "metadata": {},
     "output_type": "execute_result"
    }
   ],
   "source": [
    "heatmap.groupby([\"short_days\", \"lower_ibs\", \"barsheld\"]).mean().unstack()"
   ]
  },
  {
   "cell_type": "code",
   "execution_count": 163,
   "metadata": {},
   "outputs": [
    {
     "data": {
      "text/plain": [
       "Start                     2012-01-03 00:00:00\n",
       "End                       2024-04-17 00:00:00\n",
       "Duration                   4488 days 00:00:00\n",
       "Exposure Time [%]                    1.561483\n",
       "Equity Final [$]                119242.979107\n",
       "Equity Peak [$]                 119242.979107\n",
       "Return [%]                          19.242979\n",
       "Buy & Hold Return [%]              296.423531\n",
       "Return (Ann.) [%]                    1.453212\n",
       "Volatility (Ann.) [%]                3.471576\n",
       "Sharpe Ratio                         0.418603\n",
       "Sortino Ratio                         0.76517\n",
       "Calmar Ratio                         0.286242\n",
       "Max. Drawdown [%]                   -5.076863\n",
       "Avg. Drawdown [%]                    -2.50462\n",
       "Max. Drawdown Duration      960 days 00:00:00\n",
       "Avg. Drawdown Duration      377 days 00:00:00\n",
       "# Trades                                   12\n",
       "Win Rate [%]                             75.0\n",
       "Best Trade [%]                       6.200796\n",
       "Worst Trade [%]                     -1.571772\n",
       "Avg. Trade [%]                       1.478208\n",
       "Max. Trade Duration           6 days 00:00:00\n",
       "Avg. Trade Duration           5 days 00:00:00\n",
       "Profit Factor                        6.468479\n",
       "Expectancy [%]                       1.500321\n",
       "SQN                                  2.293589\n",
       "_strategy                 lower_days_rever...\n",
       "_equity_curve                             ...\n",
       "_trades                       Size  EntryB...\n",
       "dtype: object"
      ]
     },
     "execution_count": 163,
     "metadata": {},
     "output_type": "execute_result"
    }
   ],
   "source": [
    "stats"
   ]
  },
  {
   "cell_type": "markdown",
   "metadata": {},
   "source": [
    "## The Winner is ..."
   ]
  },
  {
   "cell_type": "code",
   "execution_count": 164,
   "metadata": {},
   "outputs": [
    {
     "data": {
      "text/plain": [
       "<Strategy lower_days_reversal(short_days=5,barsheld=4,lower_ibs=10)>"
      ]
     },
     "execution_count": 164,
     "metadata": {},
     "output_type": "execute_result"
    }
   ],
   "source": [
    "stats[\"_strategy\"]"
   ]
  },
  {
   "cell_type": "code",
   "execution_count": 165,
   "metadata": {},
   "outputs": [
    {
     "data": {
      "text/html": [
       "<div style=\"display: table;\"><div style=\"display: table-row;\"><div style=\"display: table-cell;\"><b title=\"bokeh.models.layouts.Row\">Row</b>(</div><div style=\"display: table-cell;\">id&nbsp;=&nbsp;'27621', <span id=\"28677\" style=\"cursor: pointer;\">&hellip;)</span></div></div><div class=\"28676\" style=\"display: none;\"><div style=\"display: table-cell;\"></div><div style=\"display: table-cell;\">align&nbsp;=&nbsp;'start',</div></div><div class=\"28676\" style=\"display: none;\"><div style=\"display: table-cell;\"></div><div style=\"display: table-cell;\">aspect_ratio&nbsp;=&nbsp;None,</div></div><div class=\"28676\" style=\"display: none;\"><div style=\"display: table-cell;\"></div><div style=\"display: table-cell;\">background&nbsp;=&nbsp;None,</div></div><div class=\"28676\" style=\"display: none;\"><div style=\"display: table-cell;\"></div><div style=\"display: table-cell;\">children&nbsp;=&nbsp;[GridBox(id='27618', ...), ToolbarBox(id='27620', ...)],</div></div><div class=\"28676\" style=\"display: none;\"><div style=\"display: table-cell;\"></div><div style=\"display: table-cell;\">cols&nbsp;=&nbsp;'auto',</div></div><div class=\"28676\" style=\"display: none;\"><div style=\"display: table-cell;\"></div><div style=\"display: table-cell;\">css_classes&nbsp;=&nbsp;[],</div></div><div class=\"28676\" style=\"display: none;\"><div style=\"display: table-cell;\"></div><div style=\"display: table-cell;\">disabled&nbsp;=&nbsp;False,</div></div><div class=\"28676\" style=\"display: none;\"><div style=\"display: table-cell;\"></div><div style=\"display: table-cell;\">height&nbsp;=&nbsp;None,</div></div><div class=\"28676\" style=\"display: none;\"><div style=\"display: table-cell;\"></div><div style=\"display: table-cell;\">height_policy&nbsp;=&nbsp;'auto',</div></div><div class=\"28676\" style=\"display: none;\"><div style=\"display: table-cell;\"></div><div style=\"display: table-cell;\">js_event_callbacks&nbsp;=&nbsp;{},</div></div><div class=\"28676\" style=\"display: none;\"><div style=\"display: table-cell;\"></div><div style=\"display: table-cell;\">js_property_callbacks&nbsp;=&nbsp;{},</div></div><div class=\"28676\" style=\"display: none;\"><div style=\"display: table-cell;\"></div><div style=\"display: table-cell;\">margin&nbsp;=&nbsp;(0, 0, 0, 0),</div></div><div class=\"28676\" style=\"display: none;\"><div style=\"display: table-cell;\"></div><div style=\"display: table-cell;\">max_height&nbsp;=&nbsp;None,</div></div><div class=\"28676\" style=\"display: none;\"><div style=\"display: table-cell;\"></div><div style=\"display: table-cell;\">max_width&nbsp;=&nbsp;None,</div></div><div class=\"28676\" style=\"display: none;\"><div style=\"display: table-cell;\"></div><div style=\"display: table-cell;\">min_height&nbsp;=&nbsp;None,</div></div><div class=\"28676\" style=\"display: none;\"><div style=\"display: table-cell;\"></div><div style=\"display: table-cell;\">min_width&nbsp;=&nbsp;None,</div></div><div class=\"28676\" style=\"display: none;\"><div style=\"display: table-cell;\"></div><div style=\"display: table-cell;\">name&nbsp;=&nbsp;None,</div></div><div class=\"28676\" style=\"display: none;\"><div style=\"display: table-cell;\"></div><div style=\"display: table-cell;\">sizing_mode&nbsp;=&nbsp;'stretch_width',</div></div><div class=\"28676\" style=\"display: none;\"><div style=\"display: table-cell;\"></div><div style=\"display: table-cell;\">spacing&nbsp;=&nbsp;0,</div></div><div class=\"28676\" style=\"display: none;\"><div style=\"display: table-cell;\"></div><div style=\"display: table-cell;\">subscribed_events&nbsp;=&nbsp;[],</div></div><div class=\"28676\" style=\"display: none;\"><div style=\"display: table-cell;\"></div><div style=\"display: table-cell;\">syncable&nbsp;=&nbsp;True,</div></div><div class=\"28676\" style=\"display: none;\"><div style=\"display: table-cell;\"></div><div style=\"display: table-cell;\">tags&nbsp;=&nbsp;[],</div></div><div class=\"28676\" style=\"display: none;\"><div style=\"display: table-cell;\"></div><div style=\"display: table-cell;\">visible&nbsp;=&nbsp;True,</div></div><div class=\"28676\" style=\"display: none;\"><div style=\"display: table-cell;\"></div><div style=\"display: table-cell;\">width&nbsp;=&nbsp;None,</div></div><div class=\"28676\" style=\"display: none;\"><div style=\"display: table-cell;\"></div><div style=\"display: table-cell;\">width_policy&nbsp;=&nbsp;'auto')</div></div></div>\n",
       "<script>\n",
       "(function() {\n",
       "  let expanded = false;\n",
       "  const ellipsis = document.getElementById(\"28677\");\n",
       "  ellipsis.addEventListener(\"click\", function() {\n",
       "    const rows = document.getElementsByClassName(\"28676\");\n",
       "    for (let i = 0; i < rows.length; i++) {\n",
       "      const el = rows[i];\n",
       "      el.style.display = expanded ? \"none\" : \"table-row\";\n",
       "    }\n",
       "    ellipsis.innerHTML = expanded ? \"&hellip;)\" : \"&lsaquo;&lsaquo;&lsaquo;\";\n",
       "    expanded = !expanded;\n",
       "  });\n",
       "})();\n",
       "</script>\n"
      ],
      "text/plain": [
       "Row(id='27621', ...)"
      ]
     },
     "execution_count": 165,
     "metadata": {},
     "output_type": "execute_result"
    }
   ],
   "source": [
    "# bt = Backtest(df[\"2012-01-01\":], end_of_month, cash=100_000, commission=0.002)\n",
    "stats = bt.run(short_days=5, barsheld=4, lower_ibs=15)\n",
    "bt.plot(superimpose=False)  # , open_browser=False)"
   ]
  },
  {
   "cell_type": "code",
   "execution_count": 166,
   "metadata": {},
   "outputs": [
    {
     "data": {
      "text/plain": [
       "Start                     2012-01-03 00:00:00\n",
       "End                       2024-04-17 00:00:00\n",
       "Duration                   4488 days 00:00:00\n",
       "Exposure Time [%]                    1.951854\n",
       "Equity Final [$]                118747.916987\n",
       "Equity Peak [$]                 118747.916987\n",
       "Return [%]                          18.747917\n",
       "Buy & Hold Return [%]              296.423531\n",
       "Return (Ann.) [%]                    1.418616\n",
       "Volatility (Ann.) [%]                3.493042\n",
       "Sharpe Ratio                         0.406126\n",
       "Sortino Ratio                        0.736673\n",
       "Calmar Ratio                         0.267094\n",
       "Max. Drawdown [%]                   -5.311296\n",
       "Avg. Drawdown [%]                   -2.676202\n",
       "Max. Drawdown Duration      960 days 00:00:00\n",
       "Avg. Drawdown Duration      483 days 00:00:00\n",
       "# Trades                                   15\n",
       "Win Rate [%]                        66.666667\n",
       "Best Trade [%]                       6.200796\n",
       "Worst Trade [%]                     -1.571772\n",
       "Avg. Trade [%]                       1.153504\n",
       "Max. Trade Duration           6 days 00:00:00\n",
       "Avg. Trade Duration           5 days 00:00:00\n",
       "Profit Factor                        5.140518\n",
       "Expectancy [%]                       1.173578\n",
       "SQN                                  2.138159\n",
       "_strategy                 lower_days_rever...\n",
       "_equity_curve                             ...\n",
       "_trades                       Size  EntryB...\n",
       "dtype: object"
      ]
     },
     "execution_count": 166,
     "metadata": {},
     "output_type": "execute_result"
    }
   ],
   "source": [
    "stats"
   ]
  },
  {
   "cell_type": "markdown",
   "metadata": {},
   "source": [
    "Die Win Rate beim Trading bezieht sich auf das Verhältnis der Anzahl der gewonnenen Trades zur Gesamtanzahl der Trades. \n",
    "Wenn jemand beispielsweise 70% seiner Trades gewinnt, beträgt seine Win Rate 70%."
   ]
  },
  {
   "cell_type": "code",
   "execution_count": 167,
   "metadata": {},
   "outputs": [
    {
     "data": {
      "text/plain": [
       "66.66666666666666"
      ]
     },
     "execution_count": 167,
     "metadata": {},
     "output_type": "execute_result"
    }
   ],
   "source": [
    "stats[\"Win Rate [%]\"]"
   ]
  },
  {
   "cell_type": "markdown",
   "metadata": {},
   "source": [
    "Durchschnittlicher Gewinn in Prozent. \n",
    "Wie viel Gewinn oder Verlust wurden im Durchschnitt pro Trade erzielt."
   ]
  },
  {
   "cell_type": "code",
   "execution_count": 168,
   "metadata": {},
   "outputs": [
    {
     "data": {
      "text/plain": [
       "1.1535044565326835"
      ]
     },
     "execution_count": 168,
     "metadata": {},
     "output_type": "execute_result"
    }
   ],
   "source": [
    "stats[\"Avg. Trade [%]\"]"
   ]
  },
  {
   "cell_type": "markdown",
   "metadata": {},
   "source": [
    "Der Profit-Faktor stellt die Verhältnisse zwischen Gewinnen und Verlusten dar.\n",
    "Der Profit-Faktor wird berechnet, indem die Summe aller Profite (Gewinne) durch die Summe aller Verluste (einschließlich Gebühren und Kommissionen) für den gesamten Handelszeitraum geteilt wird.\n",
    "Ein Profit-Faktor größer als 1 zeigt an, dass die Strategie profitabel ist. Je höher der Wert, desto besser.\n",
    "\n",
    "Ein guter Profit-Faktor liegt normalerweise zwischen 1,75 und 41.\n",
    "Ein Wert über 1,75 zeigt eine solide Strategie an, während Werte über 4 außergewöhnlich gut sind."
   ]
  },
  {
   "cell_type": "code",
   "execution_count": 169,
   "metadata": {},
   "outputs": [
    {
     "data": {
      "text/plain": [
       "5.140518115414496"
      ]
     },
     "execution_count": 169,
     "metadata": {},
     "output_type": "execute_result"
    }
   ],
   "source": [
    "stats[\"Profit Factor\"]"
   ]
  },
  {
   "cell_type": "code",
   "execution_count": 170,
   "metadata": {},
   "outputs": [],
   "source": [
    "trades = stats[\"_trades\"]\n",
    "\n",
    "for index, row in trades.iterrows():\n",
    "    start_range = stock[: row[\"EntryTime\"]]\n",
    "    trades.loc[index, \"SignalTime\"] = start_range.index.values[-2]\n",
    "\n",
    "merged = pd.merge(\n",
    "    trades,\n",
    "    df[\n",
    "        [\n",
    "            \"adx_10\",\n",
    "            \"adx_direction\",\n",
    "            \"rsi_3\",\n",
    "            \"rsi_7\",\n",
    "            \"rsi_10\",\n",
    "            \"sma_20\",\n",
    "            \"sma_50\",\n",
    "            \"sma_100\",\n",
    "            \"sma_200\",\n",
    "        ]\n",
    "    ],\n",
    "    left_on=\"SignalTime\",\n",
    "    right_index=True,\n",
    ")\n",
    "# merged[\"win\"] = np.where(merged.PnL > 0, 1, -1)\n",
    "# merged[\"win\"] = np.where(merged.PnL > 0, 1, -1)"
   ]
  },
  {
   "cell_type": "code",
   "execution_count": 171,
   "metadata": {},
   "outputs": [
    {
     "data": {
      "text/html": [
       "<div>\n",
       "<style scoped>\n",
       "    .dataframe tbody tr th:only-of-type {\n",
       "        vertical-align: middle;\n",
       "    }\n",
       "\n",
       "    .dataframe tbody tr th {\n",
       "        vertical-align: top;\n",
       "    }\n",
       "\n",
       "    .dataframe thead th {\n",
       "        text-align: right;\n",
       "    }\n",
       "</style>\n",
       "<table border=\"1\" class=\"dataframe\">\n",
       "  <thead>\n",
       "    <tr style=\"text-align: right;\">\n",
       "      <th></th>\n",
       "      <th>ReturnPct</th>\n",
       "    </tr>\n",
       "    <tr>\n",
       "      <th>ExitTime</th>\n",
       "      <th></th>\n",
       "    </tr>\n",
       "  </thead>\n",
       "  <tbody>\n",
       "    <tr>\n",
       "      <th>1</th>\n",
       "      <td>0.0570</td>\n",
       "    </tr>\n",
       "    <tr>\n",
       "      <th>3</th>\n",
       "      <td>-0.0254</td>\n",
       "    </tr>\n",
       "    <tr>\n",
       "      <th>4</th>\n",
       "      <td>0.0071</td>\n",
       "    </tr>\n",
       "    <tr>\n",
       "      <th>5</th>\n",
       "      <td>0.0082</td>\n",
       "    </tr>\n",
       "    <tr>\n",
       "      <th>6</th>\n",
       "      <td>-0.0015</td>\n",
       "    </tr>\n",
       "    <tr>\n",
       "      <th>8</th>\n",
       "      <td>0.0620</td>\n",
       "    </tr>\n",
       "    <tr>\n",
       "      <th>9</th>\n",
       "      <td>-0.0046</td>\n",
       "    </tr>\n",
       "    <tr>\n",
       "      <th>10</th>\n",
       "      <td>0.0447</td>\n",
       "    </tr>\n",
       "    <tr>\n",
       "      <th>12</th>\n",
       "      <td>0.0286</td>\n",
       "    </tr>\n",
       "  </tbody>\n",
       "</table>\n",
       "</div>"
      ],
      "text/plain": [
       "          ReturnPct\n",
       "ExitTime           \n",
       "1            0.0570\n",
       "3           -0.0254\n",
       "4            0.0071\n",
       "5            0.0082\n",
       "6           -0.0015\n",
       "8            0.0620\n",
       "9           -0.0046\n",
       "10           0.0447\n",
       "12           0.0286"
      ]
     },
     "execution_count": 171,
     "metadata": {},
     "output_type": "execute_result"
    }
   ],
   "source": [
    "# merged.set_index('EntryTime')\n",
    "monthly = pd.DataFrame(merged.groupby(merged.EntryTime.dt.month).ReturnPct.sum())\n",
    "# global skip_month\n",
    "skip_month = monthly[monthly[\"ReturnPct\"] < 0.05].index.to_list()\n",
    "pd.DataFrame(merged.groupby(merged.ExitTime.dt.month).ReturnPct.sum().round(4))"
   ]
  },
  {
   "cell_type": "code",
   "execution_count": 172,
   "metadata": {},
   "outputs": [
    {
     "data": {
      "text/plain": [
       "<Axes: title={'center': 'Gewinner Trades'}>"
      ]
     },
     "execution_count": 172,
     "metadata": {},
     "output_type": "execute_result"
    },
    {
     "data": {
      "image/png": "[encoded data removed]",
      "text/plain": [
       "<Figure size 640x480 with 1 Axes>"
      ]
     },
     "metadata": {},
     "output_type": "display_data"
    }
   ],
   "source": [
    "merged[merged.PnL > 0].ReturnPct.plot(title=\"Gewinner Trades\")"
   ]
  },
  {
   "cell_type": "code",
   "execution_count": 173,
   "metadata": {},
   "outputs": [
    {
     "data": {
      "text/plain": [
       "<Axes: title={'center': 'Verlierer Trades'}>"
      ]
     },
     "execution_count": 173,
     "metadata": {},
     "output_type": "execute_result"
    },
    {
     "data": {
      "image/png": "[encoded data removed]",
      "text/plain": [
       "<Figure size 640x480 with 1 Axes>"
      ]
     },
     "metadata": {},
     "output_type": "display_data"
    }
   ],
   "source": [
    "merged[merged.PnL < 0].ReturnPct.plot(title=\"Verlierer Trades\")"
   ]
  },
  {
   "cell_type": "code",
   "execution_count": 174,
   "metadata": {},
   "outputs": [
    {
     "data": {
      "text/html": [
       "<div>\n",
       "<style scoped>\n",
       "    .dataframe tbody tr th:only-of-type {\n",
       "        vertical-align: middle;\n",
       "    }\n",
       "\n",
       "    .dataframe tbody tr th {\n",
       "        vertical-align: top;\n",
       "    }\n",
       "\n",
       "    .dataframe thead th {\n",
       "        text-align: right;\n",
       "    }\n",
       "</style>\n",
       "<table border=\"1\" class=\"dataframe\">\n",
       "  <thead>\n",
       "    <tr style=\"text-align: right;\">\n",
       "      <th></th>\n",
       "      <th>Open</th>\n",
       "      <th>High</th>\n",
       "      <th>Low</th>\n",
       "      <th>Close</th>\n",
       "      <th>Adj Close</th>\n",
       "      <th>Volume</th>\n",
       "      <th>vix</th>\n",
       "      <th>yield_5yr</th>\n",
       "      <th>rsi_3</th>\n",
       "      <th>rsi_7</th>\n",
       "      <th>...</th>\n",
       "      <th>adx_direction</th>\n",
       "      <th>adx_10</th>\n",
       "      <th>sma</th>\n",
       "      <th>sma_20</th>\n",
       "      <th>sma_50</th>\n",
       "      <th>sma_100</th>\n",
       "      <th>sma_200</th>\n",
       "      <th>sma_pct</th>\n",
       "      <th>lower</th>\n",
       "      <th>ibs</th>\n",
       "    </tr>\n",
       "    <tr>\n",
       "      <th>Date</th>\n",
       "      <th></th>\n",
       "      <th></th>\n",
       "      <th></th>\n",
       "      <th></th>\n",
       "      <th></th>\n",
       "      <th></th>\n",
       "      <th></th>\n",
       "      <th></th>\n",
       "      <th></th>\n",
       "      <th></th>\n",
       "      <th></th>\n",
       "      <th></th>\n",
       "      <th></th>\n",
       "      <th></th>\n",
       "      <th></th>\n",
       "      <th></th>\n",
       "      <th></th>\n",
       "      <th></th>\n",
       "      <th></th>\n",
       "      <th></th>\n",
       "      <th></th>\n",
       "    </tr>\n",
       "  </thead>\n",
       "  <tbody>\n",
       "    <tr>\n",
       "      <th>1993-01-29</th>\n",
       "      <td>43.968750</td>\n",
       "      <td>43.968750</td>\n",
       "      <td>43.750000</td>\n",
       "      <td>43.937500</td>\n",
       "      <td>24.763746</td>\n",
       "      <td>1003200</td>\n",
       "      <td>12.420000</td>\n",
       "      <td>5.570</td>\n",
       "      <td>NaN</td>\n",
       "      <td>NaN</td>\n",
       "      <td>...</td>\n",
       "      <td>-1</td>\n",
       "      <td>NaN</td>\n",
       "      <td>NaN</td>\n",
       "      <td>NaN</td>\n",
       "      <td>NaN</td>\n",
       "      <td>NaN</td>\n",
       "      <td>NaN</td>\n",
       "      <td>NaN</td>\n",
       "      <td>0</td>\n",
       "      <td>0.857143</td>\n",
       "    </tr>\n",
       "    <tr>\n",
       "      <th>1993-02-01</th>\n",
       "      <td>43.968750</td>\n",
       "      <td>44.250000</td>\n",
       "      <td>43.968750</td>\n",
       "      <td>44.250000</td>\n",
       "      <td>24.939854</td>\n",
       "      <td>480500</td>\n",
       "      <td>12.330000</td>\n",
       "      <td>5.550</td>\n",
       "      <td>NaN</td>\n",
       "      <td>NaN</td>\n",
       "      <td>...</td>\n",
       "      <td>-1</td>\n",
       "      <td>NaN</td>\n",
       "      <td>NaN</td>\n",
       "      <td>NaN</td>\n",
       "      <td>NaN</td>\n",
       "      <td>NaN</td>\n",
       "      <td>NaN</td>\n",
       "      <td>NaN</td>\n",
       "      <td>0</td>\n",
       "      <td>1.000000</td>\n",
       "    </tr>\n",
       "    <tr>\n",
       "      <th>1993-02-02</th>\n",
       "      <td>44.218750</td>\n",
       "      <td>44.375000</td>\n",
       "      <td>44.125000</td>\n",
       "      <td>44.343750</td>\n",
       "      <td>24.992706</td>\n",
       "      <td>201300</td>\n",
       "      <td>12.250000</td>\n",
       "      <td>5.630</td>\n",
       "      <td>100.0</td>\n",
       "      <td>NaN</td>\n",
       "      <td>...</td>\n",
       "      <td>-1</td>\n",
       "      <td>NaN</td>\n",
       "      <td>NaN</td>\n",
       "      <td>NaN</td>\n",
       "      <td>NaN</td>\n",
       "      <td>NaN</td>\n",
       "      <td>NaN</td>\n",
       "      <td>NaN</td>\n",
       "      <td>0</td>\n",
       "      <td>0.875000</td>\n",
       "    </tr>\n",
       "    <tr>\n",
       "      <th>1993-02-03</th>\n",
       "      <td>44.406250</td>\n",
       "      <td>44.843750</td>\n",
       "      <td>44.375000</td>\n",
       "      <td>44.812500</td>\n",
       "      <td>25.256889</td>\n",
       "      <td>529400</td>\n",
       "      <td>12.120000</td>\n",
       "      <td>5.620</td>\n",
       "      <td>100.0</td>\n",
       "      <td>NaN</td>\n",
       "      <td>...</td>\n",
       "      <td>-1</td>\n",
       "      <td>NaN</td>\n",
       "      <td>NaN</td>\n",
       "      <td>NaN</td>\n",
       "      <td>NaN</td>\n",
       "      <td>NaN</td>\n",
       "      <td>NaN</td>\n",
       "      <td>NaN</td>\n",
       "      <td>0</td>\n",
       "      <td>0.933333</td>\n",
       "    </tr>\n",
       "    <tr>\n",
       "      <th>1993-02-04</th>\n",
       "      <td>44.968750</td>\n",
       "      <td>45.093750</td>\n",
       "      <td>44.468750</td>\n",
       "      <td>45.000000</td>\n",
       "      <td>25.362598</td>\n",
       "      <td>531500</td>\n",
       "      <td>12.290000</td>\n",
       "      <td>5.530</td>\n",
       "      <td>100.0</td>\n",
       "      <td>NaN</td>\n",
       "      <td>...</td>\n",
       "      <td>-1</td>\n",
       "      <td>NaN</td>\n",
       "      <td>NaN</td>\n",
       "      <td>NaN</td>\n",
       "      <td>NaN</td>\n",
       "      <td>NaN</td>\n",
       "      <td>NaN</td>\n",
       "      <td>NaN</td>\n",
       "      <td>0</td>\n",
       "      <td>0.850000</td>\n",
       "    </tr>\n",
       "    <tr>\n",
       "      <th>...</th>\n",
       "      <td>...</td>\n",
       "      <td>...</td>\n",
       "      <td>...</td>\n",
       "      <td>...</td>\n",
       "      <td>...</td>\n",
       "      <td>...</td>\n",
       "      <td>...</td>\n",
       "      <td>...</td>\n",
       "      <td>...</td>\n",
       "      <td>...</td>\n",
       "      <td>...</td>\n",
       "      <td>...</td>\n",
       "      <td>...</td>\n",
       "      <td>...</td>\n",
       "      <td>...</td>\n",
       "      <td>...</td>\n",
       "      <td>...</td>\n",
       "      <td>...</td>\n",
       "      <td>...</td>\n",
       "      <td>...</td>\n",
       "      <td>...</td>\n",
       "    </tr>\n",
       "    <tr>\n",
       "      <th>2024-04-11</th>\n",
       "      <td>515.679993</td>\n",
       "      <td>519.479980</td>\n",
       "      <td>512.080017</td>\n",
       "      <td>518.000000</td>\n",
       "      <td>518.000000</td>\n",
       "      <td>70099000</td>\n",
       "      <td>14.910000</td>\n",
       "      <td>4.623</td>\n",
       "      <td>54.0</td>\n",
       "      <td>51.0</td>\n",
       "      <td>...</td>\n",
       "      <td>1</td>\n",
       "      <td>20.357075</td>\n",
       "      <td>518.21</td>\n",
       "      <td>0.999595</td>\n",
       "      <td>1.017322</td>\n",
       "      <td>1.058872</td>\n",
       "      <td>1.115538</td>\n",
       "      <td>1.00</td>\n",
       "      <td>0</td>\n",
       "      <td>0.800002</td>\n",
       "    </tr>\n",
       "    <tr>\n",
       "      <th>2024-04-12</th>\n",
       "      <td>514.369995</td>\n",
       "      <td>515.820007</td>\n",
       "      <td>509.079987</td>\n",
       "      <td>510.850006</td>\n",
       "      <td>510.850006</td>\n",
       "      <td>92469100</td>\n",
       "      <td>17.309999</td>\n",
       "      <td>4.533</td>\n",
       "      <td>26.0</td>\n",
       "      <td>36.0</td>\n",
       "      <td>...</td>\n",
       "      <td>-1</td>\n",
       "      <td>20.947529</td>\n",
       "      <td>518.00</td>\n",
       "      <td>0.986197</td>\n",
       "      <td>1.002178</td>\n",
       "      <td>1.042977</td>\n",
       "      <td>1.099264</td>\n",
       "      <td>0.99</td>\n",
       "      <td>1</td>\n",
       "      <td>0.262613</td>\n",
       "    </tr>\n",
       "    <tr>\n",
       "      <th>2024-04-15</th>\n",
       "      <td>515.130005</td>\n",
       "      <td>515.299988</td>\n",
       "      <td>503.579987</td>\n",
       "      <td>504.450012</td>\n",
       "      <td>504.450012</td>\n",
       "      <td>92101400</td>\n",
       "      <td>19.230000</td>\n",
       "      <td>4.645</td>\n",
       "      <td>15.0</td>\n",
       "      <td>28.0</td>\n",
       "      <td>...</td>\n",
       "      <td>-1</td>\n",
       "      <td>22.939867</td>\n",
       "      <td>517.73</td>\n",
       "      <td>0.974350</td>\n",
       "      <td>0.989021</td>\n",
       "      <td>1.028776</td>\n",
       "      <td>1.084699</td>\n",
       "      <td>0.97</td>\n",
       "      <td>1</td>\n",
       "      <td>0.074234</td>\n",
       "    </tr>\n",
       "    <tr>\n",
       "      <th>2024-04-16</th>\n",
       "      <td>504.940002</td>\n",
       "      <td>506.500000</td>\n",
       "      <td>502.209991</td>\n",
       "      <td>503.529999</td>\n",
       "      <td>503.529999</td>\n",
       "      <td>73320600</td>\n",
       "      <td>18.400000</td>\n",
       "      <td>4.682</td>\n",
       "      <td>14.0</td>\n",
       "      <td>26.0</td>\n",
       "      <td>...</td>\n",
       "      <td>-1</td>\n",
       "      <td>25.040345</td>\n",
       "      <td>517.27</td>\n",
       "      <td>0.973437</td>\n",
       "      <td>0.986869</td>\n",
       "      <td>1.025875</td>\n",
       "      <td>1.081953</td>\n",
       "      <td>0.97</td>\n",
       "      <td>1</td>\n",
       "      <td>0.307693</td>\n",
       "    </tr>\n",
       "    <tr>\n",
       "      <th>2024-04-17</th>\n",
       "      <td>506.049988</td>\n",
       "      <td>506.220001</td>\n",
       "      <td>505.040009</td>\n",
       "      <td>505.440002</td>\n",
       "      <td>505.440002</td>\n",
       "      <td>7448176</td>\n",
       "      <td>17.820000</td>\n",
       "      <td>4.651</td>\n",
       "      <td>32.0</td>\n",
       "      <td>33.0</td>\n",
       "      <td>...</td>\n",
       "      <td>-1</td>\n",
       "      <td>26.930776</td>\n",
       "      <td>516.75</td>\n",
       "      <td>0.978113</td>\n",
       "      <td>0.990108</td>\n",
       "      <td>1.028676</td>\n",
       "      <td>1.085334</td>\n",
       "      <td>0.98</td>\n",
       "      <td>0</td>\n",
       "      <td>0.338980</td>\n",
       "    </tr>\n",
       "  </tbody>\n",
       "</table>\n",
       "<p>7776 rows × 23 columns</p>\n",
       "</div>"
      ],
      "text/plain": [
       "                  Open        High         Low       Close   Adj Close  \\\n",
       "Date                                                                     \n",
       "1993-01-29   43.968750   43.968750   43.750000   43.937500   24.763746   \n",
       "1993-02-01   43.968750   44.250000   43.968750   44.250000   24.939854   \n",
       "1993-02-02   44.218750   44.375000   44.125000   44.343750   24.992706   \n",
       "1993-02-03   44.406250   44.843750   44.375000   44.812500   25.256889   \n",
       "1993-02-04   44.968750   45.093750   44.468750   45.000000   25.362598   \n",
       "...                ...         ...         ...         ...         ...   \n",
       "2024-04-11  515.679993  519.479980  512.080017  518.000000  518.000000   \n",
       "2024-04-12  514.369995  515.820007  509.079987  510.850006  510.850006   \n",
       "2024-04-15  515.130005  515.299988  503.579987  504.450012  504.450012   \n",
       "2024-04-16  504.940002  506.500000  502.209991  503.529999  503.529999   \n",
       "2024-04-17  506.049988  506.220001  505.040009  505.440002  505.440002   \n",
       "\n",
       "              Volume        vix  yield_5yr  rsi_3  rsi_7  ...  adx_direction  \\\n",
       "Date                                                      ...                  \n",
       "1993-01-29   1003200  12.420000      5.570    NaN    NaN  ...             -1   \n",
       "1993-02-01    480500  12.330000      5.550    NaN    NaN  ...             -1   \n",
       "1993-02-02    201300  12.250000      5.630  100.0    NaN  ...             -1   \n",
       "1993-02-03    529400  12.120000      5.620  100.0    NaN  ...             -1   \n",
       "1993-02-04    531500  12.290000      5.530  100.0    NaN  ...             -1   \n",
       "...              ...        ...        ...    ...    ...  ...            ...   \n",
       "2024-04-11  70099000  14.910000      4.623   54.0   51.0  ...              1   \n",
       "2024-04-12  92469100  17.309999      4.533   26.0   36.0  ...             -1   \n",
       "2024-04-15  92101400  19.230000      4.645   15.0   28.0  ...             -1   \n",
       "2024-04-16  73320600  18.400000      4.682   14.0   26.0  ...             -1   \n",
       "2024-04-17   7448176  17.820000      4.651   32.0   33.0  ...             -1   \n",
       "\n",
       "               adx_10     sma    sma_20    sma_50   sma_100   sma_200  \\\n",
       "Date                                                                    \n",
       "1993-01-29        NaN     NaN       NaN       NaN       NaN       NaN   \n",
       "1993-02-01        NaN     NaN       NaN       NaN       NaN       NaN   \n",
       "1993-02-02        NaN     NaN       NaN       NaN       NaN       NaN   \n",
       "1993-02-03        NaN     NaN       NaN       NaN       NaN       NaN   \n",
       "1993-02-04        NaN     NaN       NaN       NaN       NaN       NaN   \n",
       "...               ...     ...       ...       ...       ...       ...   \n",
       "2024-04-11  20.357075  518.21  0.999595  1.017322  1.058872  1.115538   \n",
       "2024-04-12  20.947529  518.00  0.986197  1.002178  1.042977  1.099264   \n",
       "2024-04-15  22.939867  517.73  0.974350  0.989021  1.028776  1.084699   \n",
       "2024-04-16  25.040345  517.27  0.973437  0.986869  1.025875  1.081953   \n",
       "2024-04-17  26.930776  516.75  0.978113  0.990108  1.028676  1.085334   \n",
       "\n",
       "            sma_pct  lower       ibs  \n",
       "Date                                  \n",
       "1993-01-29      NaN      0  0.857143  \n",
       "1993-02-01      NaN      0  1.000000  \n",
       "1993-02-02      NaN      0  0.875000  \n",
       "1993-02-03      NaN      0  0.933333  \n",
       "1993-02-04      NaN      0  0.850000  \n",
       "...             ...    ...       ...  \n",
       "2024-04-11     1.00      0  0.800002  \n",
       "2024-04-12     0.99      1  0.262613  \n",
       "2024-04-15     0.97      1  0.074234  \n",
       "2024-04-16     0.97      1  0.307693  \n",
       "2024-04-17     0.98      0  0.338980  \n",
       "\n",
       "[7776 rows x 23 columns]"
      ]
     },
     "execution_count": 174,
     "metadata": {},
     "output_type": "execute_result"
    }
   ],
   "source": [
    "df"
   ]
  },
  {
   "cell_type": "code",
   "execution_count": 175,
   "metadata": {},
   "outputs": [
    {
     "data": {
      "text/plain": [
       "Start                     2012-01-03 00:00:00\n",
       "End                       2024-04-17 00:00:00\n",
       "Duration                   4488 days 00:00:00\n",
       "Exposure Time [%]                    1.951854\n",
       "Equity Final [$]                118747.916987\n",
       "Equity Peak [$]                 118747.916987\n",
       "Return [%]                          18.747917\n",
       "Buy & Hold Return [%]              296.423531\n",
       "Return (Ann.) [%]                    1.418616\n",
       "Volatility (Ann.) [%]                3.493042\n",
       "Sharpe Ratio                         0.406126\n",
       "Sortino Ratio                        0.736673\n",
       "Calmar Ratio                         0.267094\n",
       "Max. Drawdown [%]                   -5.311296\n",
       "Avg. Drawdown [%]                   -2.676202\n",
       "Max. Drawdown Duration      960 days 00:00:00\n",
       "Avg. Drawdown Duration      483 days 00:00:00\n",
       "# Trades                                   15\n",
       "Win Rate [%]                        66.666667\n",
       "Best Trade [%]                       6.200796\n",
       "Worst Trade [%]                     -1.571772\n",
       "Avg. Trade [%]                       1.153504\n",
       "Max. Trade Duration           6 days 00:00:00\n",
       "Avg. Trade Duration           5 days 00:00:00\n",
       "Profit Factor                        5.140518\n",
       "Expectancy [%]                       1.173578\n",
       "SQN                                  2.138159\n",
       "_strategy                 lower_days_rever...\n",
       "_equity_curve                             ...\n",
       "_trades                       Size  EntryB...\n",
       "dtype: object"
      ]
     },
     "execution_count": 175,
     "metadata": {},
     "output_type": "execute_result"
    }
   ],
   "source": [
    "stats"
   ]
  },
  {
   "cell_type": "code",
   "execution_count": 176,
   "metadata": {},
   "outputs": [
    {
     "data": {
      "text/html": [
       "<div>\n",
       "<style scoped>\n",
       "    .dataframe tbody tr th:only-of-type {\n",
       "        vertical-align: middle;\n",
       "    }\n",
       "\n",
       "    .dataframe tbody tr th {\n",
       "        vertical-align: top;\n",
       "    }\n",
       "\n",
       "    .dataframe thead th {\n",
       "        text-align: right;\n",
       "    }\n",
       "</style>\n",
       "<table border=\"1\" class=\"dataframe\">\n",
       "  <thead>\n",
       "    <tr style=\"text-align: right;\">\n",
       "      <th></th>\n",
       "      <th>ReturnPct</th>\n",
       "    </tr>\n",
       "    <tr>\n",
       "      <th>ExitTime</th>\n",
       "      <th></th>\n",
       "    </tr>\n",
       "  </thead>\n",
       "  <tbody>\n",
       "    <tr>\n",
       "      <th>1</th>\n",
       "      <td>0.0570</td>\n",
       "    </tr>\n",
       "    <tr>\n",
       "      <th>3</th>\n",
       "      <td>-0.0254</td>\n",
       "    </tr>\n",
       "    <tr>\n",
       "      <th>4</th>\n",
       "      <td>0.0071</td>\n",
       "    </tr>\n",
       "    <tr>\n",
       "      <th>5</th>\n",
       "      <td>0.0082</td>\n",
       "    </tr>\n",
       "    <tr>\n",
       "      <th>6</th>\n",
       "      <td>-0.0015</td>\n",
       "    </tr>\n",
       "    <tr>\n",
       "      <th>8</th>\n",
       "      <td>0.0620</td>\n",
       "    </tr>\n",
       "    <tr>\n",
       "      <th>9</th>\n",
       "      <td>-0.0046</td>\n",
       "    </tr>\n",
       "    <tr>\n",
       "      <th>10</th>\n",
       "      <td>0.0447</td>\n",
       "    </tr>\n",
       "    <tr>\n",
       "      <th>12</th>\n",
       "      <td>0.0286</td>\n",
       "    </tr>\n",
       "  </tbody>\n",
       "</table>\n",
       "</div>"
      ],
      "text/plain": [
       "          ReturnPct\n",
       "ExitTime           \n",
       "1            0.0570\n",
       "3           -0.0254\n",
       "4            0.0071\n",
       "5            0.0082\n",
       "6           -0.0015\n",
       "8            0.0620\n",
       "9           -0.0046\n",
       "10           0.0447\n",
       "12           0.0286"
      ]
     },
     "execution_count": 176,
     "metadata": {},
     "output_type": "execute_result"
    }
   ],
   "source": [
    "pd.DataFrame(merged.groupby(merged.ExitTime.dt.month).ReturnPct.sum().round(4))"
   ]
  },
  {
   "cell_type": "code",
   "execution_count": 177,
   "metadata": {},
   "outputs": [
    {
     "data": {
      "text/html": [
       "<div>\n",
       "<style scoped>\n",
       "    .dataframe tbody tr th:only-of-type {\n",
       "        vertical-align: middle;\n",
       "    }\n",
       "\n",
       "    .dataframe tbody tr th {\n",
       "        vertical-align: top;\n",
       "    }\n",
       "\n",
       "    .dataframe thead th {\n",
       "        text-align: right;\n",
       "    }\n",
       "</style>\n",
       "<table border=\"1\" class=\"dataframe\">\n",
       "  <thead>\n",
       "    <tr style=\"text-align: right;\">\n",
       "      <th></th>\n",
       "      <th>PnL</th>\n",
       "    </tr>\n",
       "    <tr>\n",
       "      <th>ExitTime</th>\n",
       "      <th></th>\n",
       "    </tr>\n",
       "  </thead>\n",
       "  <tbody>\n",
       "    <tr>\n",
       "      <th>2012</th>\n",
       "      <td>1538.8</td>\n",
       "    </tr>\n",
       "    <tr>\n",
       "      <th>2013</th>\n",
       "      <td>3067.7</td>\n",
       "    </tr>\n",
       "    <tr>\n",
       "      <th>2015</th>\n",
       "      <td>10762.6</td>\n",
       "    </tr>\n",
       "    <tr>\n",
       "      <th>2016</th>\n",
       "      <td>-174.8</td>\n",
       "    </tr>\n",
       "    <tr>\n",
       "      <th>2018</th>\n",
       "      <td>552.7</td>\n",
       "    </tr>\n",
       "    <tr>\n",
       "      <th>2020</th>\n",
       "      <td>-482.3</td>\n",
       "    </tr>\n",
       "    <tr>\n",
       "      <th>2021</th>\n",
       "      <td>399.7</td>\n",
       "    </tr>\n",
       "    <tr>\n",
       "      <th>2022</th>\n",
       "      <td>3083.6</td>\n",
       "    </tr>\n",
       "  </tbody>\n",
       "</table>\n",
       "</div>"
      ],
      "text/plain": [
       "              PnL\n",
       "ExitTime         \n",
       "2012       1538.8\n",
       "2013       3067.7\n",
       "2015      10762.6\n",
       "2016       -174.8\n",
       "2018        552.7\n",
       "2020       -482.3\n",
       "2021        399.7\n",
       "2022       3083.6"
      ]
     },
     "execution_count": 177,
     "metadata": {},
     "output_type": "execute_result"
    }
   ],
   "source": [
    "pd.DataFrame(merged.groupby(merged.ExitTime.dt.year).PnL.sum().round(1))"
   ]
  },
  {
   "cell_type": "code",
   "execution_count": 178,
   "metadata": {},
   "outputs": [
    {
     "data": {
      "text/plain": [
       "2012    103057.0\n",
       "2013    104606.4\n",
       "2014    104606.4\n",
       "2015    115369.0\n",
       "2016    115194.2\n",
       "2017    115194.2\n",
       "2018    115746.9\n",
       "2019    115746.9\n",
       "2020    115264.6\n",
       "2021    115664.3\n",
       "2022    118747.9\n",
       "2023    118747.9\n",
       "2024    118747.9\n",
       "Name: Equity, dtype: float64"
      ]
     },
     "execution_count": 178,
     "metadata": {},
     "output_type": "execute_result"
    }
   ],
   "source": [
    "equity = stats[\"_equity_curve\"]\n",
    "equity.groupby(equity.index.year).Equity.last().round(1)"
   ]
  }
 ],
 "metadata": {
  "kernelspec": {
   "display_name": "Python 3",
   "language": "python",
   "name": "python3"
  },
  "language_info": {
   "codemirror_mode": {
    "name": "ipython",
    "version": 3
   },
   "file_extension": ".py",
   "mimetype": "text/x-python",
   "name": "python",
   "nbconvert_exporter": "python",
   "pygments_lexer": "ipython3",
   "version": "3.12.0"
  }
 },
 "nbformat": 4,
 "nbformat_minor": 2
}
