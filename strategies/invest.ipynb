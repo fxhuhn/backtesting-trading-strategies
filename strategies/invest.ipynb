{
 "cells": [
  {
   "cell_type": "code",
   "execution_count": 92,
   "metadata": {},
   "outputs": [],
   "source": [
    "import operator\n",
    "from typing import Dict, List\n",
    "\n",
    "import pandas as pd\n",
    "import yfinance as yf\n",
    "from tools import roc, sma"
   ]
  },
  {
   "cell_type": "code",
   "execution_count": 93,
   "metadata": {},
   "outputs": [],
   "source": [
    "INIT_DEPOT = 10_000\n",
    "START_DATE = \"2021-01-01\""
   ]
  },
  {
   "cell_type": "code",
   "execution_count": 94,
   "metadata": {},
   "outputs": [],
   "source": [
    "def ndx100_list():\n",
    "    table = pd.read_html(\"https://en.wikipedia.org/wiki/Nasdaq-100#Components\")[4]\n",
    "    return list(table.Ticker)"
   ]
  },
  {
   "cell_type": "code",
   "execution_count": 95,
   "metadata": {},
   "outputs": [],
   "source": [
    "def stock_score(data: pd.DataFrame) -> pd.Series:\n",
    "    return roc(data.Close, 100)"
   ]
  },
  {
   "cell_type": "code",
   "execution_count": 96,
   "metadata": {},
   "outputs": [],
   "source": [
    "def resample_index_to_month(df: pd.DataFrame) -> pd.DataFrame:\n",
    "    df[\"Date\"] = df.index\n",
    "    df[\"month\"] = df[\"Date\"].dt.strftime(\"%y-%m\")\n",
    "\n",
    "    df = df.groupby(\"month\").agg(\n",
    "        Date=(\"Date\", \"last\"),\n",
    "        Close=(\"Close\", \"last\"),\n",
    "        above_sma=(\"above_sma\", \"last\"),\n",
    "    )\n",
    "    return df.reset_index().set_index(\"Date\").sort_index()"
   ]
  },
  {
   "cell_type": "code",
   "execution_count": 97,
   "metadata": {},
   "outputs": [],
   "source": [
    "def resample_stocks_to_month(df: pd.DataFrame) -> pd.DataFrame:\n",
    "    df[\"Date\"] = df.index\n",
    "    df[\"month\"] = df[\"Date\"].dt.strftime(\"%y-%m\")\n",
    "\n",
    "    df = df.groupby(\"month\").agg(\n",
    "        Date=(\"Date\", \"last\"),\n",
    "        Open=(\"Open\", \"first\"),\n",
    "        Close=(\"Close\", \"last\"),\n",
    "        score=(\"score\", \"last\"),\n",
    "    )\n",
    "    return df.reset_index().set_index(\"Date\").sort_index()"
   ]
  },
  {
   "cell_type": "code",
   "execution_count": 98,
   "metadata": {},
   "outputs": [],
   "source": [
    "def get_stocks(symbols: List[str]) -> Dict[str, pd.DataFrame]:\n",
    "    \"\"\"_summary_\n",
    "\n",
    "    Args:\n",
    "        symbols (List[str]): _description_\n",
    "\n",
    "    Returns:\n",
    "        Dict[str, pd.DataFrame]: _description_\n",
    "    \"\"\"\n",
    "\n",
    "    dfs = {}\n",
    "    stock_data = yf.download(\n",
    "        symbols,\n",
    "        rounding=2,\n",
    "        progress=False,\n",
    "        group_by=\"ticker\",\n",
    "    )\n",
    "\n",
    "    # perform some pre preparation\n",
    "    for symbol in stock_data.columns.get_level_values(0).unique():\n",
    "        # drop unclear items\n",
    "        df = stock_data[symbol]\n",
    "        df = df[~(df.High == df.Low)]\n",
    "        df = df.dropna()\n",
    "        df.index = pd.to_datetime(df.index)\n",
    "\n",
    "        dfs[symbol.lower()] = df\n",
    "\n",
    "    return dfs"
   ]
  },
  {
   "cell_type": "code",
   "execution_count": 99,
   "metadata": {},
   "outputs": [
    {
     "name": "stderr",
     "output_type": "stream",
     "text": [
      "[*********************100%%**********************]  1 of 1 completed\n",
      "[*********************100%%**********************]  1 of 1 completed\n"
     ]
    }
   ],
   "source": [
    "sp_500 = yf.download(\"^GSPC\")\n",
    "ndx_100 = yf.download(\"^NDX\")\n",
    "\n",
    "sp_500 = sp_500[START_DATE:]\n",
    "ndx_100 = ndx_100[START_DATE:]"
   ]
  },
  {
   "cell_type": "code",
   "execution_count": 100,
   "metadata": {},
   "outputs": [],
   "source": [
    "sp_500[\"above_sma\"] = sp_500.Close > sma(sp_500.Close, 275)"
   ]
  },
  {
   "cell_type": "code",
   "execution_count": 101,
   "metadata": {},
   "outputs": [],
   "source": [
    "sp_500 = resample_index_to_month(sp_500)"
   ]
  },
  {
   "cell_type": "code",
   "execution_count": 102,
   "metadata": {},
   "outputs": [],
   "source": [
    "stocks = get_stocks(ndx100_list())"
   ]
  },
  {
   "cell_type": "code",
   "execution_count": 103,
   "metadata": {},
   "outputs": [],
   "source": [
    "tracker = sp_500[[\"above_sma\", \"month\"]]\n",
    "\n",
    "for symbol, df in stocks.items():\n",
    "    df[\"score\"] = stock_score(df)\n",
    "    df = resample_stocks_to_month(df)\n",
    "    df[symbol] = df[\"score\"]\n",
    "\n",
    "    # Add score to tracker\n",
    "    tracker = pd.merge(\n",
    "        tracker, df[[symbol]], left_index=True, right_index=True, how=\"left\"\n",
    "    )\n",
    "    tracker[\"next\"] = tracker.month"
   ]
  },
  {
   "cell_type": "code",
   "execution_count": 109,
   "metadata": {},
   "outputs": [],
   "source": [
    "start_depot = INIT_DEPOT\n",
    "depot_development = []\n",
    "MAX_STOCKS = 10\n",
    "transactions = []\n",
    "\n",
    "for index, row in tracker[tracker.above_sma == 1].iterrows():\n",
    "    active_period = row[\"next\"]\n",
    "    current_symbols = dict(row)\n",
    "    current_symbols.pop(\"above_sma\")\n",
    "    current_symbols.pop(\"next\")\n",
    "    current_symbols.pop(\"month\")\n",
    "\n",
    "    montly_basket = {}\n",
    "    symbols = []\n",
    "    monthly_investment = 0\n",
    "\n",
    "    transactions.append(\n",
    "        {\"month\": active_period, \"symbol\": \"CASH\", \"qty\": 1, \"price\": start_depot}\n",
    "    )\n",
    "\n",
    "    # current month symbols\n",
    "    active_symbols = list(\n",
    "        set(tracker.columns).intersection([x.lower() for x in ndx100_list()])\n",
    "    )\n",
    "\n",
    "    current_symbols = {k: v for (k, v) in current_symbols.items() if v > 0}\n",
    "\n",
    "    # Sort the symbols by their score\n",
    "    top_stocks = sorted(current_symbols.items(), key=operator.itemgetter(1))\n",
    "\n",
    "    for symbol in [ticker for (ticker, _) in top_stocks[-MAX_STOCKS:]]:\n",
    "        df = stocks[symbol]\n",
    "\n",
    "        buy_price = df[df.month == active_period].Open.values[0]\n",
    "        sell_price = df[df.month == active_period].Close.values[-1]\n",
    "\n",
    "        qty = (start_depot / MAX_STOCKS) // buy_price\n",
    "        monthly_investment += qty * -buy_price\n",
    "        monthly_investment += qty * sell_price\n",
    "\n",
    "        transactions.append(\n",
    "            {\n",
    "                \"month\": active_period,\n",
    "                \"symbol\": symbol,\n",
    "                \"qty\": (start_depot / MAX_STOCKS) // buy_price,\n",
    "                \"price\": -buy_price,\n",
    "            }\n",
    "        )\n",
    "        transactions.append(\n",
    "            {\n",
    "                \"month\": active_period,\n",
    "                \"symbol\": symbol,\n",
    "                \"qty\": (start_depot / MAX_STOCKS) // buy_price,\n",
    "                \"price\": sell_price,\n",
    "            }\n",
    "        )\n",
    "        symbols.append(symbol)\n",
    "\n",
    "    start_depot = round(start_depot + monthly_investment, 2)\n",
    "    depot_development.append({\"month\": active_period, \"Total_mix\": start_depot})\n",
    "\n",
    "    # print(symbols)"
   ]
  },
  {
   "cell_type": "code",
   "execution_count": 111,
   "metadata": {},
   "outputs": [
    {
     "data": {
      "text/html": [
       "<div>\n",
       "<style scoped>\n",
       "    .dataframe tbody tr th:only-of-type {\n",
       "        vertical-align: middle;\n",
       "    }\n",
       "\n",
       "    .dataframe tbody tr th {\n",
       "        vertical-align: top;\n",
       "    }\n",
       "\n",
       "    .dataframe thead th {\n",
       "        text-align: right;\n",
       "    }\n",
       "</style>\n",
       "<table border=\"1\" class=\"dataframe\">\n",
       "  <thead>\n",
       "    <tr style=\"text-align: right;\">\n",
       "      <th></th>\n",
       "      <th>month</th>\n",
       "      <th>symbol</th>\n",
       "      <th>qty</th>\n",
       "      <th>price</th>\n",
       "      <th>sum</th>\n",
       "    </tr>\n",
       "  </thead>\n",
       "  <tbody>\n",
       "    <tr>\n",
       "      <th>0</th>\n",
       "      <td>22-02</td>\n",
       "      <td>CASH</td>\n",
       "      <td>1.0</td>\n",
       "      <td>10000.00</td>\n",
       "      <td>10000.00</td>\n",
       "    </tr>\n",
       "    <tr>\n",
       "      <th>1</th>\n",
       "      <td>22-02</td>\n",
       "      <td>avgo</td>\n",
       "      <td>1.0</td>\n",
       "      <td>-585.87</td>\n",
       "      <td>-585.87</td>\n",
       "    </tr>\n",
       "    <tr>\n",
       "      <th>2</th>\n",
       "      <td>22-02</td>\n",
       "      <td>avgo</td>\n",
       "      <td>1.0</td>\n",
       "      <td>587.44</td>\n",
       "      <td>587.44</td>\n",
       "    </tr>\n",
       "    <tr>\n",
       "      <th>3</th>\n",
       "      <td>22-02</td>\n",
       "      <td>exc</td>\n",
       "      <td>24.0</td>\n",
       "      <td>-41.13</td>\n",
       "      <td>-987.12</td>\n",
       "    </tr>\n",
       "    <tr>\n",
       "      <th>4</th>\n",
       "      <td>22-02</td>\n",
       "      <td>exc</td>\n",
       "      <td>24.0</td>\n",
       "      <td>42.56</td>\n",
       "      <td>1021.44</td>\n",
       "    </tr>\n",
       "    <tr>\n",
       "      <th>...</th>\n",
       "      <td>...</td>\n",
       "      <td>...</td>\n",
       "      <td>...</td>\n",
       "      <td>...</td>\n",
       "      <td>...</td>\n",
       "    </tr>\n",
       "    <tr>\n",
       "      <th>331</th>\n",
       "      <td>24-04</td>\n",
       "      <td>meta</td>\n",
       "      <td>6.0</td>\n",
       "      <td>481.07</td>\n",
       "      <td>2886.42</td>\n",
       "    </tr>\n",
       "    <tr>\n",
       "      <th>332</th>\n",
       "      <td>24-04</td>\n",
       "      <td>ceg</td>\n",
       "      <td>17.0</td>\n",
       "      <td>-186.03</td>\n",
       "      <td>-3162.51</td>\n",
       "    </tr>\n",
       "    <tr>\n",
       "      <th>333</th>\n",
       "      <td>24-04</td>\n",
       "      <td>ceg</td>\n",
       "      <td>17.0</td>\n",
       "      <td>180.90</td>\n",
       "      <td>3075.30</td>\n",
       "    </tr>\n",
       "    <tr>\n",
       "      <th>334</th>\n",
       "      <td>24-04</td>\n",
       "      <td>nvda</td>\n",
       "      <td>3.0</td>\n",
       "      <td>-902.99</td>\n",
       "      <td>-2708.97</td>\n",
       "    </tr>\n",
       "    <tr>\n",
       "      <th>335</th>\n",
       "      <td>24-04</td>\n",
       "      <td>nvda</td>\n",
       "      <td>3.0</td>\n",
       "      <td>762.00</td>\n",
       "      <td>2286.00</td>\n",
       "    </tr>\n",
       "  </tbody>\n",
       "</table>\n",
       "<p>336 rows × 5 columns</p>\n",
       "</div>"
      ],
      "text/plain": [
       "     month symbol   qty     price       sum\n",
       "0    22-02   CASH   1.0  10000.00  10000.00\n",
       "1    22-02   avgo   1.0   -585.87   -585.87\n",
       "2    22-02   avgo   1.0    587.44    587.44\n",
       "3    22-02    exc  24.0    -41.13   -987.12\n",
       "4    22-02    exc  24.0     42.56   1021.44\n",
       "..     ...    ...   ...       ...       ...\n",
       "331  24-04   meta   6.0    481.07   2886.42\n",
       "332  24-04    ceg  17.0   -186.03  -3162.51\n",
       "333  24-04    ceg  17.0    180.90   3075.30\n",
       "334  24-04   nvda   3.0   -902.99  -2708.97\n",
       "335  24-04   nvda   3.0    762.00   2286.00\n",
       "\n",
       "[336 rows x 5 columns]"
      ]
     },
     "execution_count": 111,
     "metadata": {},
     "output_type": "execute_result"
    }
   ],
   "source": [
    "transactions = pd.DataFrame(transactions)\n",
    "transactions[\"sum\"] = transactions.qty * transactions.price\n",
    "transactions.groupby(\"month\").agg(\n",
    "    sum=(\"sum\", \"sum\"),\n",
    ")"
   ]
  },
  {
   "cell_type": "code",
   "execution_count": 106,
   "metadata": {},
   "outputs": [],
   "source": [
    "depot_development = pd.DataFrame(depot_development)\n",
    "depot_development = pd.merge(\n",
    "    sp_500[[\"month\"]].copy().reset_index(), depot_development, on=\"month\", how=\"left\"\n",
    ").set_index(\"Date\")\n",
    "\n",
    "depot_development.loc[depot_development.iloc[0].name, \"Total_mix\"] = INIT_DEPOT\n",
    "depot_development[\"Total_mix\"] = depot_development[\"Total_mix\"].ffill()"
   ]
  },
  {
   "cell_type": "code",
   "execution_count": 107,
   "metadata": {},
   "outputs": [],
   "source": [
    "sp_500[\"Cum Return\"] = sp_500[\"Close\"] / sp_500.iloc[0].Close\n",
    "sp_500[\"Cum Return %\"] = (sp_500[\"Cum Return\"] - 1) * 100\n",
    "sp_500[\"Total\"] = (sp_500[\"Cum Return\"] * INIT_DEPOT).round()\n",
    "\n",
    "ndx_100[\"Cum Return\"] = ndx_100[\"Close\"] / ndx_100.iloc[0].Close\n",
    "ndx_100[\"Cum Return %\"] = (ndx_100[\"Cum Return\"] - 1) * 100\n",
    "ndx_100[\"Total\"] = (ndx_100[\"Cum Return\"] * INIT_DEPOT).round()"
   ]
  },
  {
   "cell_type": "code",
   "execution_count": 108,
   "metadata": {},
   "outputs": [
    {
     "data": {
      "text/plain": [
       "<Axes: title={'center': 'Portfolio'}, xlabel='Date'>"
      ]
     },
     "execution_count": 108,
     "metadata": {},
     "output_type": "execute_result"
    },
    {
     "data": {
      "image/png": "[encoded data removed]",
      "text/plain": [
       "<Figure size 1600x900 with 1 Axes>"
      ]
     },
     "metadata": {},
     "output_type": "display_data"
    }
   ],
   "source": [
    "portfolio = pd.merge(\n",
    "    sp_500[[\"Total\", \"month\"]],\n",
    "    ndx_100[[\"Total\"]],\n",
    "    left_index=True,\n",
    "    right_index=True,\n",
    "    suffixes=(\"_sp\", \"_ndx\"),\n",
    ")\n",
    "\n",
    "portfolio = pd.merge(\n",
    "    portfolio,\n",
    "    depot_development[\"Total_mix\"],\n",
    "    left_index=True,\n",
    "    right_index=True,\n",
    ")\n",
    "\n",
    "portfolio.plot(title=\"Portfolio\", figsize=(16, 9))"
   ]
  }
 ],
 "metadata": {
  "kernelspec": {
   "display_name": ".venv",
   "language": "python",
   "name": "python3"
  },
  "language_info": {
   "codemirror_mode": {
    "name": "ipython",
    "version": 3
   },
   "file_extension": ".py",
   "mimetype": "text/x-python",
   "name": "python",
   "nbconvert_exporter": "python",
   "pygments_lexer": "ipython3",
   "version": "3.12.0"
  }
 },
 "nbformat": 4,
 "nbformat_minor": 2
}
