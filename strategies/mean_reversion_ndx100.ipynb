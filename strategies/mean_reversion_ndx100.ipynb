{
 "cells": [
  {
   "cell_type": "code",
   "execution_count": 75,
   "metadata": {},
   "outputs": [],
   "source": [
    "import pandas as pd\n",
    "import yfinance as yf\n",
    "from tools import sma"
   ]
  },
  {
   "cell_type": "markdown",
   "metadata": {},
   "source": [
    "Sources:\n",
    "- https://www.reddit.com/r/algotrading/comments/1cwsco8/a_mean_reversion_strategy_with_211_sharpe/?share_id=CqahUjPGDToYrn9c78uEf&utm_content=1&utm_medium=ios_app&utm_name=ioscss&utm_source=share&utm_term=1\n",
    "\n",
    "- https://quantitativo.substack.com/p/a-mean-reversion-strategy-with-211"
   ]
  },
  {
   "cell_type": "code",
   "execution_count": 76,
   "metadata": {},
   "outputs": [
    {
     "name": "stderr",
     "output_type": "stream",
     "text": [
      "[*********************100%%**********************]  1 of 1 completed\n"
     ]
    }
   ],
   "source": [
    "# SYMBOL = \"^GSPC\"\n",
    "# SYMBOL = \"SPY\"\n",
    "\n",
    "# SYMBOL = \"^NDX\"\n",
    "SYMBOL = \"QQQ\"\n",
    "\n",
    "stock = yf.download(SYMBOL)\n",
    "\n",
    "# some data cleaning\n",
    "stock = stock[~(stock.High == stock.Low) & ~(stock.Open == stock.Close)]\n",
    "stock = stock.dropna()"
   ]
  },
  {
   "cell_type": "code",
   "execution_count": 77,
   "metadata": {},
   "outputs": [],
   "source": [
    "def high_low_mean(high: pd.Series, low: pd.Series, intervall: int) -> pd.Series:\n",
    "    return (high - low).rolling(intervall).mean()"
   ]
  },
  {
   "cell_type": "code",
   "execution_count": 78,
   "metadata": {},
   "outputs": [],
   "source": [
    "def lower_band(high: pd.Series, hl: pd.Series, factor: float) -> pd.Series:\n",
    "    return high.rolling(10).max() - factor * hl"
   ]
  },
  {
   "cell_type": "code",
   "execution_count": 79,
   "metadata": {},
   "outputs": [],
   "source": [
    "# Compute the IBS indicator: (Close - Low) / (High - Low)\n",
    "stock[\"ibs\"] = (stock.Close - stock.Low) / (stock.High - stock.Low)\n",
    "\n",
    "\n",
    "stock[\"sma\"] = sma(stock.Close, 300)"
   ]
  },
  {
   "cell_type": "code",
   "execution_count": 80,
   "metadata": {},
   "outputs": [],
   "source": [
    "from backtesting import Strategy\n",
    "\n",
    "\n",
    "class mean_reversion(Strategy):\n",
    "    \"\"\"\n",
    "    strategy for trend_trading\n",
    "    \"\"\"\n",
    "\n",
    "    sma_interval = 300\n",
    "    hl_interval = 25\n",
    "    factor = 2.5\n",
    "    ibs_low = 0.3\n",
    "\n",
    "    def ohlc(self, pos=-1) -> tuple:\n",
    "        \"\"\"\n",
    "        helper function for ohlc data\n",
    "        \"\"\"\n",
    "        return (\n",
    "            self.data.Open[pos],\n",
    "            self.data.High[pos],\n",
    "            self.data.Low[pos],\n",
    "            self.data.Close[pos],\n",
    "        )\n",
    "\n",
    "    def init(self):\n",
    "        super().init()\n",
    "\n",
    "        self.ibs = self.I(lambda: self.data.ibs, name=\"ibs\")\n",
    "\n",
    "        # Compute the rolling mean of High minus Low over the last 25 days\n",
    "        self.hl_sma = self.I(\n",
    "            high_low_mean, self.data.High.s, self.data.Low.s, self.hl_interval\n",
    "        )\n",
    "\n",
    "        # Compute a lower band as the rolling High over the last 10 days minus 2.5 x the rolling mean of High mins Low (first bullet)\n",
    "        self.lower_band = self.I(\n",
    "            lower_band, self.data.High.s, self.hl_sma.s, self.factor\n",
    "        )\n",
    "\n",
    "        # regime filter\n",
    "        self.sma = self.I(sma, self.data.Close.s, self.sma_interval)\n",
    "\n",
    "    def next(self):\n",
    "        # super().next()\n",
    "\n",
    "        _open, _high, _low, _close = self.ohlc()\n",
    "\n",
    "        # trade management for existing trade\n",
    "        for trade in self.trades:\n",
    "            if trade.is_long:\n",
    "                # update trailing stop\n",
    "                trade.sl = max(trade.sl, self.sma[-1])\n",
    "\n",
    "                # close on next day open\n",
    "                if _close > self.data.High[-2]:\n",
    "                    trade.close()\n",
    "\n",
    "        if len(self.trades) == 0:\n",
    "            if (\n",
    "                (_close < self.lower_band[-1])\n",
    "                and (self.ibs[-1] < self.ibs_low)\n",
    "                and (_low > self.sma[-1])\n",
    "            ):\n",
    "                self.buy(sl=self.sma[-1])"
   ]
  },
  {
   "cell_type": "code",
   "execution_count": 81,
   "metadata": {},
   "outputs": [
    {
     "data": {
      "text/plain": [
       "Start                     2000-01-03 00:00:00\n",
       "End                       2024-05-21 00:00:00\n",
       "Duration                   8905 days 00:00:00\n",
       "Exposure Time [%]                    13.90304\n",
       "Equity Final [$]                232049.065423\n",
       "Equity Peak [$]                 235783.465498\n",
       "Return [%]                         132.049065\n",
       "Buy & Hold Return [%]              381.055396\n",
       "Return (Ann.) [%]                     3.54756\n",
       "Volatility (Ann.) [%]                7.701678\n",
       "Sharpe Ratio                         0.460622\n",
       "Sortino Ratio                         0.69315\n",
       "Calmar Ratio                          0.21134\n",
       "Max. Drawdown [%]                  -16.786003\n",
       "Avg. Drawdown [%]                    -2.48917\n",
       "Max. Drawdown Duration     1134 days 00:00:00\n",
       "Avg. Drawdown Duration      108 days 00:00:00\n",
       "# Trades                                  185\n",
       "Win Rate [%]                        69.189189\n",
       "Best Trade [%]                        3.62981\n",
       "Worst Trade [%]                     -7.897493\n",
       "Avg. Trade [%]                       0.456151\n",
       "Max. Trade Duration          20 days 00:00:00\n",
       "Avg. Trade Duration           6 days 00:00:00\n",
       "Profit Factor                        1.818607\n",
       "Expectancy [%]                       0.476756\n",
       "SQN                                  2.693995\n",
       "_strategy                      mean_reversion\n",
       "_equity_curve                             ...\n",
       "_trades                        Size  Entry...\n",
       "dtype: object"
      ]
     },
     "execution_count": 81,
     "metadata": {},
     "output_type": "execute_result"
    }
   ],
   "source": [
    "from backtesting import Backtest\n",
    "\n",
    "bt = Backtest(\n",
    "    stock[\"2000-01-01\":],\n",
    "    mean_reversion,\n",
    "    cash=100_000,\n",
    "    commission=0.002,\n",
    "    trade_on_close=True,\n",
    ")\n",
    "stats = bt.run()\n",
    "bt.plot(superimpose=False)\n",
    "stats"
   ]
  },
  {
   "cell_type": "code",
   "execution_count": 82,
   "metadata": {},
   "outputs": [
    {
     "name": "stderr",
     "output_type": "stream",
     "text": [
      "/Users/produktmanagement/Python/github/backtesting-trading-strategies/.venv/lib/python3.12/site-packages/backtesting/backtesting.py:1375: UserWarning: For multiprocessing support in `Backtest.optimize()` set multiprocessing start method to 'fork'.\n",
      "  warnings.warn(\"For multiprocessing support in `Backtest.optimize()` \"\n"
     ]
    }
   ],
   "source": [
    "stats, heatmap = bt.optimize(\n",
    "    sma_interval=range(50, 400, 25),\n",
    "    hl_interval=range(5, 50, 5),\n",
    "    maximize=\"Equity Final [$]\",  # \"Profit Factor\"\n",
    "    max_tries=500,\n",
    "    random_state=0,\n",
    "    return_heatmap=True,\n",
    ")"
   ]
  },
  {
   "cell_type": "code",
   "execution_count": 83,
   "metadata": {},
   "outputs": [
    {
     "data": {
      "text/plain": [
       "sma_interval  hl_interval\n",
       "250           45             243785.039899\n",
       "175           45             244000.995377\n",
       "250           10             245568.536210\n",
       "200           45             245980.364250\n",
       "225           10             246108.046910\n",
       "175           10             246801.869067\n",
       "250           40             247500.675844\n",
       "175           40             247757.881091\n",
       "200           10             249303.996484\n",
       "              40             249757.293097\n",
       "Name: Equity Final [$], dtype: float64"
      ]
     },
     "execution_count": 83,
     "metadata": {},
     "output_type": "execute_result"
    }
   ],
   "source": [
    "# heatmap\n",
    "heatmap.sort_values().iloc[-10:]"
   ]
  },
  {
   "cell_type": "code",
   "execution_count": 84,
   "metadata": {},
   "outputs": [
    {
     "data": {
      "text/plain": [
       "<Strategy mean_reversion(sma_interval=200,hl_interval=40)>"
      ]
     },
     "execution_count": 84,
     "metadata": {},
     "output_type": "execute_result"
    }
   ],
   "source": [
    "# Recommendation\n",
    "stats[\"_strategy\"]"
   ]
  },
  {
   "cell_type": "code",
   "execution_count": 85,
   "metadata": {},
   "outputs": [
    {
     "data": {
      "text/plain": [
       "Start                     2000-01-03 00:00:00\n",
       "End                       2024-05-21 00:00:00\n",
       "Duration                   8905 days 00:00:00\n",
       "Exposure Time [%]                   13.147083\n",
       "Equity Final [$]                249757.293097\n",
       "Equity Peak [$]                 265020.024061\n",
       "Return [%]                         149.757293\n",
       "Buy & Hold Return [%]              381.055396\n",
       "Return (Ann.) [%]                    3.863402\n",
       "Volatility (Ann.) [%]                7.149616\n",
       "Sharpe Ratio                         0.540365\n",
       "Sortino Ratio                        0.798855\n",
       "Calmar Ratio                         0.185758\n",
       "Max. Drawdown [%]                  -20.798048\n",
       "Avg. Drawdown [%]                   -2.066313\n",
       "Max. Drawdown Duration     1551 days 00:00:00\n",
       "Avg. Drawdown Duration       83 days 00:00:00\n",
       "# Trades                                  183\n",
       "Win Rate [%]                        71.584699\n",
       "Best Trade [%]                        3.62981\n",
       "Worst Trade [%]                    -14.046924\n",
       "Avg. Trade [%]                       0.501517\n",
       "Max. Trade Duration          20 days 00:00:00\n",
       "Avg. Trade Duration           5 days 00:00:00\n",
       "Profit Factor                        1.937578\n",
       "Expectancy [%]                       0.527003\n",
       "SQN                                  2.390118\n",
       "_strategy                 mean_reversion(s...\n",
       "_equity_curve                             ...\n",
       "_trades                        Size  Entry...\n",
       "dtype: object"
      ]
     },
     "execution_count": 85,
     "metadata": {},
     "output_type": "execute_result"
    }
   ],
   "source": [
    "stats = bt.run(**stats._strategy._params)\n",
    "bt.plot(superimpose=False, open_browser=True)\n",
    "stats"
   ]
  }
 ],
 "metadata": {
  "kernelspec": {
   "display_name": "Python 3",
   "language": "python",
   "name": "python3"
  },
  "language_info": {
   "codemirror_mode": {
    "name": "ipython",
    "version": 3
   },
   "file_extension": ".py",
   "mimetype": "text/x-python",
   "name": "python",
   "nbconvert_exporter": "python",
   "pygments_lexer": "ipython3",
   "version": "3.12.0"
  }
 },
 "nbformat": 4,
 "nbformat_minor": 2
}
