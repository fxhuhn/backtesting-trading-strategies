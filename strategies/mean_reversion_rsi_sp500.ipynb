{
 "cells": [
  {
   "cell_type": "code",
   "execution_count": 1,
   "metadata": {},
   "outputs": [],
   "source": [
    "import yfinance as yf\n",
    "from tools import rsi, sma"
   ]
  },
  {
   "cell_type": "markdown",
   "metadata": {},
   "source": [
    "Source: https://www.youtube.com/watch?v=W8ENIXvcGlQ&t=0s"
   ]
  },
  {
   "cell_type": "code",
   "execution_count": 2,
   "metadata": {},
   "outputs": [
    {
     "name": "stderr",
     "output_type": "stream",
     "text": [
      "[*********************100%%**********************]  1 of 1 completed\n"
     ]
    }
   ],
   "source": [
    "SYMBOL = \"^GSPC\"\n",
    "# SYMBOL = \"SPY\"\n",
    "\n",
    "# SYMBOL = \"^NDX\"\n",
    "# SYMBOL = \"QQQ\"\n",
    "\n",
    "stock = yf.download(SYMBOL)\n",
    "\n",
    "# some data cleaning\n",
    "stock = stock[~(stock.High == stock.Low) & ~(stock.Open == stock.Close)]\n",
    "stock = stock.dropna()"
   ]
  },
  {
   "cell_type": "code",
   "execution_count": 23,
   "metadata": {},
   "outputs": [],
   "source": [
    "from backtesting import Strategy\n",
    "\n",
    "\n",
    "class mean_reversion(Strategy):\n",
    "    \"\"\"\n",
    "    strategy for trend_trading\n",
    "    \"\"\"\n",
    "\n",
    "    sma_interval = 200\n",
    "    rsi_interval = 10\n",
    "    days = 10\n",
    "    rsi_buy = 30\n",
    "    rsi_sell = 40\n",
    "\n",
    "    def ohlc(self, pos=-1) -> tuple:\n",
    "        \"\"\"\n",
    "        helper function for ohlc data\n",
    "        \"\"\"\n",
    "        return (\n",
    "            self.data.Open[pos],\n",
    "            self.data.High[pos],\n",
    "            self.data.Low[pos],\n",
    "            self.data.Close[pos],\n",
    "        )\n",
    "\n",
    "    def init(self):\n",
    "        super().init()\n",
    "\n",
    "        self.rsi = self.I(rsi, self.data.Close.s, self.rsi_interval)\n",
    "\n",
    "        # regime filter\n",
    "        self.sma = self.I(sma, self.data.Close.s, self.sma_interval)\n",
    "\n",
    "    def next(self):\n",
    "        # super().next()\n",
    "\n",
    "        _open, _high, _low, _close = self.ohlc()\n",
    "\n",
    "        # trade management for existing trade\n",
    "        for trade in self.trades:\n",
    "            if trade.is_long:\n",
    "                duration = len(self.data) - trade.entry_bar\n",
    "\n",
    "                if duration >= self.days:\n",
    "                    trade.close()\n",
    "                elif self.rsi[-1] > self.rsi_sell:\n",
    "                    trade.close()\n",
    "\n",
    "        if len(self.trades) == 0:\n",
    "            if _close < self.sma[-1] and self.rsi[-1] < self.rsi_buy:\n",
    "                self.buy()"
   ]
  },
  {
   "cell_type": "code",
   "execution_count": 24,
   "metadata": {},
   "outputs": [
    {
     "data": {
      "text/plain": [
       "Start                     2000-01-03 00:00:00\n",
       "End                       2024-05-23 00:00:00\n",
       "Duration                   8907 days 00:00:00\n",
       "Exposure Time [%]                    5.477665\n",
       "Equity Final [$]                135823.739236\n",
       "Equity Peak [$]                 135823.739236\n",
       "Return [%]                          35.823739\n",
       "Buy & Hold Return [%]              261.996121\n",
       "Return (Ann.) [%]                    1.265841\n",
       "Volatility (Ann.) [%]                8.803788\n",
       "Sharpe Ratio                         0.143784\n",
       "Sortino Ratio                        0.214326\n",
       "Calmar Ratio                         0.059568\n",
       "Max. Drawdown [%]                  -21.250261\n",
       "Avg. Drawdown [%]                   -8.413343\n",
       "Max. Drawdown Duration     3521 days 00:00:00\n",
       "Avg. Drawdown Duration      860 days 00:00:00\n",
       "# Trades                                   58\n",
       "Win Rate [%]                        79.310345\n",
       "Best Trade [%]                      12.980407\n",
       "Worst Trade [%]                    -16.247261\n",
       "Avg. Trade [%]                        0.53571\n",
       "Max. Trade Duration          20 days 00:00:00\n",
       "Avg. Trade Duration           8 days 00:00:00\n",
       "Profit Factor                        1.501467\n",
       "Expectancy [%]                       0.647576\n",
       "SQN                                  0.932167\n",
       "_strategy                      mean_reversion\n",
       "_equity_curve                             ...\n",
       "_trades                       Size  EntryB...\n",
       "dtype: object"
      ]
     },
     "execution_count": 24,
     "metadata": {},
     "output_type": "execute_result"
    }
   ],
   "source": [
    "from backtesting import Backtest\n",
    "\n",
    "bt = Backtest(\n",
    "    stock[\"2000-01-01\":],\n",
    "    mean_reversion,\n",
    "    cash=100_000,\n",
    "    commission=0.002,\n",
    "    trade_on_close=True,\n",
    ")\n",
    "stats = bt.run()\n",
    "bt.plot(superimpose=False)\n",
    "stats"
   ]
  },
  {
   "cell_type": "code",
   "execution_count": 44,
   "metadata": {},
   "outputs": [
    {
     "name": "stderr",
     "output_type": "stream",
     "text": [
      "/Users/produktmanagement/Python/github/backtesting-trading-strategies/.venv/lib/python3.12/site-packages/backtesting/backtesting.py:1488: UserWarning: Searching for best of 384 configurations.\n",
      "  output = _optimize_grid()\n",
      "/Users/produktmanagement/Python/github/backtesting-trading-strategies/.venv/lib/python3.12/site-packages/backtesting/backtesting.py:1375: UserWarning: For multiprocessing support in `Backtest.optimize()` set multiprocessing start method to 'fork'.\n",
      "  warnings.warn(\"For multiprocessing support in `Backtest.optimize()` \"\n",
      "/Users/produktmanagement/Python/github/backtesting-trading-strategies/.venv/lib/python3.12/site-packages/backtesting/_stats.py:122: RuntimeWarning: divide by zero encountered in scalar divide\n",
      "  s.loc['Sortino Ratio'] = np.clip((annualized_return - risk_free_rate) / (np.sqrt(np.mean(day_returns.clip(-np.inf, 0)**2)) * np.sqrt(annual_trading_days)), 0, np.inf)  # noqa: E501\n"
     ]
    }
   ],
   "source": [
    "stats, heatmap = bt.optimize(\n",
    "    sma_interval=range(50, 300, 25),\n",
    "    rsi_interval=range(2, 20, 2),\n",
    "    # days=range(1, 15, 1),\n",
    "    rsi_buy=range(10, 40, 2),\n",
    "    rsi_sell=range(10, 80, 3),\n",
    "    constraint=lambda p: p.rsi_buy < p.rsi_sell,\n",
    "    maximize=\"Equity Final [$]\",  # \"Profit Factor\"\n",
    "    max_tries=500,\n",
    "    random_state=0,\n",
    "    return_heatmap=True,\n",
    ")"
   ]
  },
  {
   "cell_type": "code",
   "execution_count": 45,
   "metadata": {},
   "outputs": [
    {
     "data": {
      "text/plain": [
       "sma_interval  rsi_interval  rsi_buy  rsi_sell\n",
       "250           4             22       25          200536.107450\n",
       "150           2             18       19          201257.516244\n",
       "200           2             18       22          204337.754807\n",
       "150           2             26       67          205234.829599\n",
       "50            6             30       73          210216.325249\n",
       "150           18            38       40          211413.011186\n",
       "50            12            38       76          213771.207589\n",
       "150           6             24       25          220095.095661\n",
       "100           4             28       76          233298.300480\n",
       "50            10            32       46          265326.171292\n",
       "Name: Equity Final [$], dtype: float64"
      ]
     },
     "execution_count": 45,
     "metadata": {},
     "output_type": "execute_result"
    }
   ],
   "source": [
    "# heatmap\n",
    "heatmap.sort_values().dropna().iloc[-10:]"
   ]
  },
  {
   "cell_type": "code",
   "execution_count": 46,
   "metadata": {},
   "outputs": [
    {
     "data": {
      "text/plain": [
       "<Strategy mean_reversion(sma_interval=50,rsi_interval=10,rsi_buy=32,rsi_sell=46)>"
      ]
     },
     "execution_count": 46,
     "metadata": {},
     "output_type": "execute_result"
    }
   ],
   "source": [
    "# Recommendation\n",
    "stats[\"_strategy\"]"
   ]
  },
  {
   "cell_type": "code",
   "execution_count": 47,
   "metadata": {},
   "outputs": [
    {
     "data": {
      "text/plain": [
       "Start                     2000-01-03 00:00:00\n",
       "End                       2024-05-23 00:00:00\n",
       "Duration                   8907 days 00:00:00\n",
       "Exposure Time [%]                    12.84643\n",
       "Equity Final [$]                265326.171292\n",
       "Equity Peak [$]                 265326.171292\n",
       "Return [%]                         165.326171\n",
       "Buy & Hold Return [%]              261.996121\n",
       "Return (Ann.) [%]                    4.090224\n",
       "Volatility (Ann.) [%]               11.147866\n",
       "Sharpe Ratio                         0.366906\n",
       "Sortino Ratio                        0.586829\n",
       "Calmar Ratio                         0.179461\n",
       "Max. Drawdown [%]                  -22.791739\n",
       "Avg. Drawdown [%]                   -3.479179\n",
       "Max. Drawdown Duration     2768 days 00:00:00\n",
       "Avg. Drawdown Duration      113 days 00:00:00\n",
       "# Trades                                  108\n",
       "Win Rate [%]                        69.444444\n",
       "Best Trade [%]                      17.315658\n",
       "Worst Trade [%]                    -16.247261\n",
       "Avg. Trade [%]                        0.90982\n",
       "Max. Trade Duration          20 days 00:00:00\n",
       "Avg. Trade Duration          10 days 00:00:00\n",
       "Profit Factor                        1.894816\n",
       "Expectancy [%]                        1.01722\n",
       "SQN                                  2.152618\n",
       "_strategy                 mean_reversion(s...\n",
       "_equity_curve                             ...\n",
       "_trades                        Size  Entry...\n",
       "dtype: object"
      ]
     },
     "execution_count": 47,
     "metadata": {},
     "output_type": "execute_result"
    }
   ],
   "source": [
    "stats = bt.run(**stats._strategy._params)\n",
    "bt.plot(superimpose=False, open_browser=True)\n",
    "stats"
   ]
  }
 ],
 "metadata": {
  "kernelspec": {
   "display_name": "Python 3",
   "language": "python",
   "name": "python3"
  },
  "language_info": {
   "codemirror_mode": {
    "name": "ipython",
    "version": 3
   },
   "file_extension": ".py",
   "mimetype": "text/x-python",
   "name": "python",
   "nbconvert_exporter": "python",
   "pygments_lexer": "ipython3",
   "version": "3.12.0"
  }
 },
 "nbformat": 4,
 "nbformat_minor": 2
}
