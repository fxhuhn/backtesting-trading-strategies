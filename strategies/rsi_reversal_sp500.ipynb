{
 "cells": [
  {
   "cell_type": "code",
   "execution_count": 158,
   "metadata": {},
   "outputs": [],
   "source": [
    "import numpy as np\n",
    "import pandas as pd\n",
    "import pandas_ta as ta\n",
    "import yfinance as yf\n",
    "from tiny_ta import atr, rsi, sma"
   ]
  },
  {
   "cell_type": "markdown",
   "metadata": {},
   "source": [
    "# RSI Reversal - Mean Reversal Strategie im S&P 500"
   ]
  },
  {
   "cell_type": "markdown",
   "metadata": {},
   "source": [
    "Zunächst werden die Kursdaten für den S&P 500 geladen und bereinigt"
   ]
  },
  {
   "cell_type": "code",
   "execution_count": 159,
   "metadata": {},
   "outputs": [
    {
     "name": "stderr",
     "output_type": "stream",
     "text": [
      "[*********************100%%**********************]  1 of 1 completed\n"
     ]
    }
   ],
   "source": [
    "SYMBOL = \"^GSPC\"\n",
    "SYMBOL = \"SPY\"\n",
    "\n",
    "stock = yf.download(SYMBOL)\n",
    "\n",
    "stock = stock[~(stock.High == stock.Low) & ~(stock.Open == stock.Close)]\n",
    "stock = stock.dropna()"
   ]
  },
  {
   "cell_type": "markdown",
   "metadata": {},
   "source": [
    "Der VIX für die Volatilität wird als externer Indikator mit betrachtet"
   ]
  },
  {
   "cell_type": "code",
   "execution_count": 160,
   "metadata": {},
   "outputs": [
    {
     "name": "stderr",
     "output_type": "stream",
     "text": [
      "[*********************100%%**********************]  1 of 1 completed\n"
     ]
    }
   ],
   "source": [
    "vix = yf.download(\"^VIX\")\n",
    "vix[\"vix\"] = vix[\"Close\"]\n",
    "stock = pd.merge(\n",
    "    stock,\n",
    "    vix[\n",
    "        [\n",
    "            \"vix\",\n",
    "        ]\n",
    "    ],\n",
    "    left_index=True,\n",
    "    right_index=True,\n",
    "    how=\"left\",\n",
    ")"
   ]
  },
  {
   "cell_type": "markdown",
   "metadata": {},
   "source": [
    "Die 5 jährigen Staatsanleihen werden ebenfalls mit betrachtet"
   ]
  },
  {
   "cell_type": "code",
   "execution_count": 161,
   "metadata": {},
   "outputs": [
    {
     "name": "stderr",
     "output_type": "stream",
     "text": [
      "[*********************100%%**********************]  1 of 1 completed\n"
     ]
    }
   ],
   "source": [
    "yield_5_years = yf.download(\"^FVX\")\n",
    "\n",
    "yield_5_years[\"yield_5yr\"] = yield_5_years[\"Close\"]\n",
    "stock = pd.merge(\n",
    "    stock,\n",
    "    yield_5_years[\n",
    "        [\n",
    "            \"yield_5yr\",\n",
    "        ]\n",
    "    ],\n",
    "    left_index=True,\n",
    "    right_index=True,\n",
    "    how=\"left\",\n",
    ")"
   ]
  },
  {
   "cell_type": "markdown",
   "metadata": {},
   "source": [
    "Ein paar Indikatoren für spätere Auswertungen"
   ]
  },
  {
   "cell_type": "code",
   "execution_count": 162,
   "metadata": {},
   "outputs": [],
   "source": [
    "def internal_bar_strength(df: pd.DataFrame) -> pd.Series:\n",
    "    return (df.Close - df.Low) / (df.High - df.Low)\n",
    "\n",
    "\n",
    "stock[\"rsi_3\"] = rsi(stock.Close, 3)\n",
    "stock[\"rsi_4\"] = rsi(stock.Close, 4)\n",
    "stock[\"rsi_7\"] = rsi(stock.Close, 7)\n",
    "stock[\"rsi_10\"] = rsi(stock.Close, 10)\n",
    "\n",
    "stock[\"atr_10\"] = atr(stock, 10, smoothing=\"rma\") / stock.Close * 100\n",
    "\n",
    "adx_intervall = 21\n",
    "adx = ta.adx(stock.High, stock.Low, stock.Close, adx_intervall)\n",
    "stock[\"adx\"] = adx[f\"ADX_{adx_intervall}\"]\n",
    "stock[\"adx_direction\"] = np.where(\n",
    "    adx[f\"DMP_{adx_intervall}\"] > adx[f\"DMN_{adx_intervall}\"], 1, -1\n",
    ")\n",
    "\n",
    "stock[\"adx_10\"] = ta.adx(stock.High, stock.Low, stock.Close, 10, 10)[\"ADX_10\"]\n",
    "\n",
    "\n",
    "stock[\"sma\"] = sma(stock.Close, 20)\n",
    "stock[\"sma_10\"] = sma(stock.Close, 10)\n",
    "stock[\"sma_20\"] = stock.Close / sma(stock.Close, 20)\n",
    "stock[\"sma_50\"] = stock.Close / sma(stock.Close, 50)\n",
    "stock[\"sma_100\"] = stock.Close / sma(stock.Close, 100)\n",
    "stock[\"sma_200\"] = sma(stock.Close, 200)\n",
    "\n",
    "stock[\"sma_pct\"] = (stock.Close / stock.sma).round(2)\n",
    "\n",
    "df = stock"
   ]
  },
  {
   "cell_type": "markdown",
   "metadata": {},
   "source": [
    "## Jetzt zur Strategie\n",
    "Sobald der RSI unter ein Limit gefallen ist und der Kurs weiterhin über dem SMA 200 liegt, wird gekauft. Die Position wird verkauft, wenn der Kurs wieder über dem SMA 10 ist."
   ]
  },
  {
   "cell_type": "code",
   "execution_count": 163,
   "metadata": {},
   "outputs": [],
   "source": [
    "from backtesting import Strategy\n",
    "\n",
    "\n",
    "class rsi_reversal(Strategy):\n",
    "    \"\"\"\n",
    "    strategy for trend_trading\n",
    "    \"\"\"\n",
    "\n",
    "    rsi_min = 30\n",
    "\n",
    "    def ohlc(self, pos=-1) -> tuple:\n",
    "        \"\"\"\n",
    "        helper function for ohlc data\n",
    "        \"\"\"\n",
    "        return (\n",
    "            self.data.Open[pos],\n",
    "            self.data.High[pos],\n",
    "            self.data.Low[pos],\n",
    "            self.data.Close[pos],\n",
    "        )\n",
    "\n",
    "    def init(self):\n",
    "        super().init()\n",
    "\n",
    "        self.sma_200 = self.I(lambda: self.data.sma_200, name=\"SMA(200)\", overlay=True)\n",
    "        self.sma_10 = self.I(lambda: self.data.sma_10, name=\"SMA(10)\", overlay=True)\n",
    "\n",
    "        # self.rsi = self.I(lambda: self.data.rsi, name=\"RSI\", overlay=False)\n",
    "        self.rsi = self.I(lambda: self.data.rsi_4, name=\"RSI\", overlay=False)\n",
    "        self.atr_10 = self.I(lambda: self.data.atr_10, name=\"ATR\", overlay=False)\n",
    "\n",
    "        self.vix = self.I(lambda: self.data.vix, name=\"VIX\", overlay=False)\n",
    "        self.yield_5yr = self.I(\n",
    "            lambda: self.data.yield_5yr, name=\"Yield 5\", overlay=False\n",
    "        )\n",
    "\n",
    "    def next(self):\n",
    "        # super().next()\n",
    "\n",
    "        _open, _high, _low, _close = self.ohlc()\n",
    "\n",
    "        # trade management for an existing trade\n",
    "        for trade in self.trades:\n",
    "            if trade.pl_pct < -0.04:\n",
    "                trade.close()\n",
    "\n",
    "            if trade.is_long:\n",
    "                if _close > self.sma_10[-1]:\n",
    "                    trade.close()\n",
    "\n",
    "        if (self.rsi[-1] < self.rsi_min) and (_close > self.sma_200[-1]):\n",
    "            self.buy()"
   ]
  },
  {
   "cell_type": "code",
   "execution_count": 164,
   "metadata": {},
   "outputs": [
    {
     "data": {
      "text/plain": [
       "Start                     2012-01-03 00:00:00\n",
       "End                       2024-04-17 00:00:00\n",
       "Duration                   4488 days 00:00:00\n",
       "Exposure Time [%]                   20.006506\n",
       "Equity Final [$]                151578.381147\n",
       "Equity Peak [$]                 161828.862721\n",
       "Return [%]                          51.578381\n",
       "Buy & Hold Return [%]               295.17255\n",
       "Return (Ann.) [%]                    3.468525\n",
       "Volatility (Ann.) [%]                7.410869\n",
       "Sharpe Ratio                         0.468032\n",
       "Sortino Ratio                        0.682704\n",
       "Calmar Ratio                         0.166766\n",
       "Max. Drawdown [%]                  -20.798743\n",
       "Avg. Drawdown [%]                   -2.111542\n",
       "Max. Drawdown Duration     1418 days 00:00:00\n",
       "Avg. Drawdown Duration       69 days 00:00:00\n",
       "# Trades                                  108\n",
       "Win Rate [%]                         79.62963\n",
       "Best Trade [%]                       2.870146\n",
       "Worst Trade [%]                     -7.910128\n",
       "Avg. Trade [%]                       0.401661\n",
       "Max. Trade Duration          21 days 00:00:00\n",
       "Avg. Trade Duration           7 days 00:00:00\n",
       "Profit Factor                        1.795331\n",
       "Expectancy [%]                       0.419895\n",
       "SQN                                  1.855785\n",
       "_strategy                        rsi_reversal\n",
       "_equity_curve                             ...\n",
       "_trades                        Size  Entry...\n",
       "dtype: object"
      ]
     },
     "execution_count": 164,
     "metadata": {},
     "output_type": "execute_result"
    }
   ],
   "source": [
    "from backtesting import Backtest\n",
    "\n",
    "bt = Backtest(\n",
    "    df[\"2012-01-01\":],\n",
    "    rsi_reversal,\n",
    "    cash=100_000,\n",
    "    commission=0.002,\n",
    "    trade_on_close=True,\n",
    ")\n",
    "stats = bt.run()\n",
    "bt.plot(superimpose=False)  # , open_browser=False)\n",
    "stats"
   ]
  },
  {
   "cell_type": "code",
   "execution_count": 165,
   "metadata": {},
   "outputs": [
    {
     "data": {
      "text/plain": [
       "<Axes: xlabel='EntryTime', ylabel='ReturnPct'>"
      ]
     },
     "execution_count": 165,
     "metadata": {},
     "output_type": "execute_result"
    },
    {
     "data": {
      "image/png": "[encoded data removed]",
      "text/plain": [
       "<Figure size 640x480 with 1 Axes>"
      ]
     },
     "metadata": {},
     "output_type": "display_data"
    }
   ],
   "source": [
    "trades = stats[\"_trades\"]\n",
    "trades.plot.scatter(y=\"ReturnPct\", x=\"EntryTime\")"
   ]
  },
  {
   "cell_type": "markdown",
   "metadata": {},
   "source": [
    "jetzt wird überprüft welche Tage für die Ein- und Ausstiege besser sein könnten."
   ]
  },
  {
   "cell_type": "code",
   "execution_count": 166,
   "metadata": {},
   "outputs": [
    {
     "name": "stderr",
     "output_type": "stream",
     "text": [
      "/Users/produktmanagement/Python/github/backtesting-trading-strategies/.venv/lib/python3.12/site-packages/backtesting/backtesting.py:1375: UserWarning: For multiprocessing support in `Backtest.optimize()` set multiprocessing start method to 'fork'.\n",
      "  warnings.warn(\"For multiprocessing support in `Backtest.optimize()` \"\n"
     ]
    }
   ],
   "source": [
    "stats, heatmap = bt.optimize(\n",
    "    rsi_min=range(5, 40, 5),\n",
    "    maximize=\"Profit Factor\",  # \"Equity Final [$]\",\n",
    "    max_tries=200,\n",
    "    random_state=0,\n",
    "    return_heatmap=True,\n",
    ")"
   ]
  },
  {
   "cell_type": "code",
   "execution_count": 167,
   "metadata": {},
   "outputs": [
    {
     "data": {
      "text/plain": [
       "rsi_min\n",
       "10         1.497424\n",
       "20         1.506524\n",
       "35         1.537621\n",
       "25         1.709327\n",
       "30         1.795331\n",
       "Name: Profit Factor, dtype: float64"
      ]
     },
     "execution_count": 167,
     "metadata": {},
     "output_type": "execute_result"
    }
   ],
   "source": [
    "# heatmap\n",
    "heatmap.sort_values().iloc[-5:]"
   ]
  },
  {
   "cell_type": "code",
   "execution_count": 168,
   "metadata": {},
   "outputs": [],
   "source": [
    "# heatmap.groupby([\"short_days\", \"lower_ibs\", \"barsheld\"]).mean().unstack()"
   ]
  },
  {
   "cell_type": "code",
   "execution_count": 169,
   "metadata": {},
   "outputs": [
    {
     "data": {
      "text/plain": [
       "Start                     2012-01-03 00:00:00\n",
       "End                       2024-04-17 00:00:00\n",
       "Duration                   4488 days 00:00:00\n",
       "Exposure Time [%]                   20.006506\n",
       "Equity Final [$]                151578.381147\n",
       "Equity Peak [$]                 161828.862721\n",
       "Return [%]                          51.578381\n",
       "Buy & Hold Return [%]               295.17255\n",
       "Return (Ann.) [%]                    3.468525\n",
       "Volatility (Ann.) [%]                7.410869\n",
       "Sharpe Ratio                         0.468032\n",
       "Sortino Ratio                        0.682704\n",
       "Calmar Ratio                         0.166766\n",
       "Max. Drawdown [%]                  -20.798743\n",
       "Avg. Drawdown [%]                   -2.111542\n",
       "Max. Drawdown Duration     1418 days 00:00:00\n",
       "Avg. Drawdown Duration       69 days 00:00:00\n",
       "# Trades                                  108\n",
       "Win Rate [%]                         79.62963\n",
       "Best Trade [%]                       2.870146\n",
       "Worst Trade [%]                     -7.910128\n",
       "Avg. Trade [%]                       0.401661\n",
       "Max. Trade Duration          21 days 00:00:00\n",
       "Avg. Trade Duration           7 days 00:00:00\n",
       "Profit Factor                        1.795331\n",
       "Expectancy [%]                       0.419895\n",
       "SQN                                  1.855785\n",
       "_strategy                 rsi_reversal(rsi...\n",
       "_equity_curve                             ...\n",
       "_trades                        Size  Entry...\n",
       "dtype: object"
      ]
     },
     "execution_count": 169,
     "metadata": {},
     "output_type": "execute_result"
    }
   ],
   "source": [
    "stats"
   ]
  },
  {
   "cell_type": "markdown",
   "metadata": {},
   "source": [
    "## The Winner is ..."
   ]
  },
  {
   "cell_type": "code",
   "execution_count": 170,
   "metadata": {},
   "outputs": [
    {
     "data": {
      "text/plain": [
       "<Strategy rsi_reversal(rsi_min=30)>"
      ]
     },
     "execution_count": 170,
     "metadata": {},
     "output_type": "execute_result"
    }
   ],
   "source": [
    "stats[\"_strategy\"]"
   ]
  },
  {
   "cell_type": "code",
   "execution_count": 171,
   "metadata": {},
   "outputs": [
    {
     "data": {
      "text/html": [
       "<div style=\"display: table;\"><div style=\"display: table-row;\"><div style=\"display: table-cell;\"><b title=\"bokeh.models.layouts.Row\">Row</b>(</div><div style=\"display: table-cell;\">id&nbsp;=&nbsp;'34917', <span id=\"35973\" style=\"cursor: pointer;\">&hellip;)</span></div></div><div class=\"35972\" style=\"display: none;\"><div style=\"display: table-cell;\"></div><div style=\"display: table-cell;\">align&nbsp;=&nbsp;'start',</div></div><div class=\"35972\" style=\"display: none;\"><div style=\"display: table-cell;\"></div><div style=\"display: table-cell;\">aspect_ratio&nbsp;=&nbsp;None,</div></div><div class=\"35972\" style=\"display: none;\"><div style=\"display: table-cell;\"></div><div style=\"display: table-cell;\">background&nbsp;=&nbsp;None,</div></div><div class=\"35972\" style=\"display: none;\"><div style=\"display: table-cell;\"></div><div style=\"display: table-cell;\">children&nbsp;=&nbsp;[GridBox(id='34914', ...), ToolbarBox(id='34916', ...)],</div></div><div class=\"35972\" style=\"display: none;\"><div style=\"display: table-cell;\"></div><div style=\"display: table-cell;\">cols&nbsp;=&nbsp;'auto',</div></div><div class=\"35972\" style=\"display: none;\"><div style=\"display: table-cell;\"></div><div style=\"display: table-cell;\">css_classes&nbsp;=&nbsp;[],</div></div><div class=\"35972\" style=\"display: none;\"><div style=\"display: table-cell;\"></div><div style=\"display: table-cell;\">disabled&nbsp;=&nbsp;False,</div></div><div class=\"35972\" style=\"display: none;\"><div style=\"display: table-cell;\"></div><div style=\"display: table-cell;\">height&nbsp;=&nbsp;None,</div></div><div class=\"35972\" style=\"display: none;\"><div style=\"display: table-cell;\"></div><div style=\"display: table-cell;\">height_policy&nbsp;=&nbsp;'auto',</div></div><div class=\"35972\" style=\"display: none;\"><div style=\"display: table-cell;\"></div><div style=\"display: table-cell;\">js_event_callbacks&nbsp;=&nbsp;{},</div></div><div class=\"35972\" style=\"display: none;\"><div style=\"display: table-cell;\"></div><div style=\"display: table-cell;\">js_property_callbacks&nbsp;=&nbsp;{},</div></div><div class=\"35972\" style=\"display: none;\"><div style=\"display: table-cell;\"></div><div style=\"display: table-cell;\">margin&nbsp;=&nbsp;(0, 0, 0, 0),</div></div><div class=\"35972\" style=\"display: none;\"><div style=\"display: table-cell;\"></div><div style=\"display: table-cell;\">max_height&nbsp;=&nbsp;None,</div></div><div class=\"35972\" style=\"display: none;\"><div style=\"display: table-cell;\"></div><div style=\"display: table-cell;\">max_width&nbsp;=&nbsp;None,</div></div><div class=\"35972\" style=\"display: none;\"><div style=\"display: table-cell;\"></div><div style=\"display: table-cell;\">min_height&nbsp;=&nbsp;None,</div></div><div class=\"35972\" style=\"display: none;\"><div style=\"display: table-cell;\"></div><div style=\"display: table-cell;\">min_width&nbsp;=&nbsp;None,</div></div><div class=\"35972\" style=\"display: none;\"><div style=\"display: table-cell;\"></div><div style=\"display: table-cell;\">name&nbsp;=&nbsp;None,</div></div><div class=\"35972\" style=\"display: none;\"><div style=\"display: table-cell;\"></div><div style=\"display: table-cell;\">sizing_mode&nbsp;=&nbsp;'stretch_width',</div></div><div class=\"35972\" style=\"display: none;\"><div style=\"display: table-cell;\"></div><div style=\"display: table-cell;\">spacing&nbsp;=&nbsp;0,</div></div><div class=\"35972\" style=\"display: none;\"><div style=\"display: table-cell;\"></div><div style=\"display: table-cell;\">subscribed_events&nbsp;=&nbsp;[],</div></div><div class=\"35972\" style=\"display: none;\"><div style=\"display: table-cell;\"></div><div style=\"display: table-cell;\">syncable&nbsp;=&nbsp;True,</div></div><div class=\"35972\" style=\"display: none;\"><div style=\"display: table-cell;\"></div><div style=\"display: table-cell;\">tags&nbsp;=&nbsp;[],</div></div><div class=\"35972\" style=\"display: none;\"><div style=\"display: table-cell;\"></div><div style=\"display: table-cell;\">visible&nbsp;=&nbsp;True,</div></div><div class=\"35972\" style=\"display: none;\"><div style=\"display: table-cell;\"></div><div style=\"display: table-cell;\">width&nbsp;=&nbsp;None,</div></div><div class=\"35972\" style=\"display: none;\"><div style=\"display: table-cell;\"></div><div style=\"display: table-cell;\">width_policy&nbsp;=&nbsp;'auto')</div></div></div>\n",
       "<script>\n",
       "(function() {\n",
       "  let expanded = false;\n",
       "  const ellipsis = document.getElementById(\"35973\");\n",
       "  ellipsis.addEventListener(\"click\", function() {\n",
       "    const rows = document.getElementsByClassName(\"35972\");\n",
       "    for (let i = 0; i < rows.length; i++) {\n",
       "      const el = rows[i];\n",
       "      el.style.display = expanded ? \"none\" : \"table-row\";\n",
       "    }\n",
       "    ellipsis.innerHTML = expanded ? \"&hellip;)\" : \"&lsaquo;&lsaquo;&lsaquo;\";\n",
       "    expanded = !expanded;\n",
       "  });\n",
       "})();\n",
       "</script>\n"
      ],
      "text/plain": [
       "Row(id='34917', ...)"
      ]
     },
     "execution_count": 171,
     "metadata": {},
     "output_type": "execute_result"
    }
   ],
   "source": [
    "# bt = Backtest(df[\"2012-01-01\":], end_of_month, cash=100_000, commission=0.002)\n",
    "stats = bt.run(rsi_min=30)\n",
    "bt.plot(superimpose=False)  # , open_browser=False)"
   ]
  },
  {
   "cell_type": "code",
   "execution_count": 172,
   "metadata": {},
   "outputs": [
    {
     "data": {
      "text/plain": [
       "Start                     2012-01-03 00:00:00\n",
       "End                       2024-04-17 00:00:00\n",
       "Duration                   4488 days 00:00:00\n",
       "Exposure Time [%]                   20.006506\n",
       "Equity Final [$]                151578.381147\n",
       "Equity Peak [$]                 161828.862721\n",
       "Return [%]                          51.578381\n",
       "Buy & Hold Return [%]               295.17255\n",
       "Return (Ann.) [%]                    3.468525\n",
       "Volatility (Ann.) [%]                7.410869\n",
       "Sharpe Ratio                         0.468032\n",
       "Sortino Ratio                        0.682704\n",
       "Calmar Ratio                         0.166766\n",
       "Max. Drawdown [%]                  -20.798743\n",
       "Avg. Drawdown [%]                   -2.111542\n",
       "Max. Drawdown Duration     1418 days 00:00:00\n",
       "Avg. Drawdown Duration       69 days 00:00:00\n",
       "# Trades                                  108\n",
       "Win Rate [%]                         79.62963\n",
       "Best Trade [%]                       2.870146\n",
       "Worst Trade [%]                     -7.910128\n",
       "Avg. Trade [%]                       0.401661\n",
       "Max. Trade Duration          21 days 00:00:00\n",
       "Avg. Trade Duration           7 days 00:00:00\n",
       "Profit Factor                        1.795331\n",
       "Expectancy [%]                       0.419895\n",
       "SQN                                  1.855785\n",
       "_strategy                 rsi_reversal(rsi...\n",
       "_equity_curve                             ...\n",
       "_trades                        Size  Entry...\n",
       "dtype: object"
      ]
     },
     "execution_count": 172,
     "metadata": {},
     "output_type": "execute_result"
    }
   ],
   "source": [
    "stats"
   ]
  },
  {
   "cell_type": "markdown",
   "metadata": {},
   "source": [
    "Die Win Rate beim Trading bezieht sich auf das Verhältnis der Anzahl der gewonnenen Trades zur Gesamtanzahl der Trades. \n",
    "Wenn jemand beispielsweise 70% seiner Trades gewinnt, beträgt seine Win Rate 70%."
   ]
  },
  {
   "cell_type": "code",
   "execution_count": 173,
   "metadata": {},
   "outputs": [
    {
     "data": {
      "text/plain": [
       "79.62962962962963"
      ]
     },
     "execution_count": 173,
     "metadata": {},
     "output_type": "execute_result"
    }
   ],
   "source": [
    "stats[\"Win Rate [%]\"]"
   ]
  },
  {
   "cell_type": "markdown",
   "metadata": {},
   "source": [
    "Durchschnittlicher Gewinn in Prozent. \n",
    "Wie viel Gewinn oder Verlust wurden im Durchschnitt pro Trade erzielt."
   ]
  },
  {
   "cell_type": "code",
   "execution_count": 174,
   "metadata": {},
   "outputs": [
    {
     "data": {
      "text/plain": [
       "0.4016611044667995"
      ]
     },
     "execution_count": 174,
     "metadata": {},
     "output_type": "execute_result"
    }
   ],
   "source": [
    "stats[\"Avg. Trade [%]\"]"
   ]
  },
  {
   "cell_type": "markdown",
   "metadata": {},
   "source": [
    "Der Profit-Faktor stellt die Verhältnisse zwischen Gewinnen und Verlusten dar.\n",
    "Der Profit-Faktor wird berechnet, indem die Summe aller Profite (Gewinne) durch die Summe aller Verluste (einschließlich Gebühren und Kommissionen) für den gesamten Handelszeitraum geteilt wird.\n",
    "Ein Profit-Faktor größer als 1 zeigt an, dass die Strategie profitabel ist. Je höher der Wert, desto besser.\n",
    "\n",
    "Ein guter Profit-Faktor liegt normalerweise zwischen 1,75 und 41.\n",
    "Ein Wert über 1,75 zeigt eine solide Strategie an, während Werte über 4 außergewöhnlich gut sind."
   ]
  },
  {
   "cell_type": "code",
   "execution_count": 175,
   "metadata": {},
   "outputs": [
    {
     "data": {
      "text/plain": [
       "1.7953309974366831"
      ]
     },
     "execution_count": 175,
     "metadata": {},
     "output_type": "execute_result"
    }
   ],
   "source": [
    "stats[\"Profit Factor\"]"
   ]
  },
  {
   "cell_type": "code",
   "execution_count": 176,
   "metadata": {},
   "outputs": [],
   "source": [
    "trades = stats[\"_trades\"]\n",
    "\n",
    "for index, row in trades.iterrows():\n",
    "    start_range = stock[: row[\"EntryTime\"]]\n",
    "    trades.loc[index, \"SignalTime\"] = start_range.index.values[-2]\n",
    "\n",
    "merged = pd.merge(\n",
    "    trades,\n",
    "    df[\n",
    "        [\n",
    "            \"adx_10\",\n",
    "            \"adx_direction\",\n",
    "            \"rsi_3\",\n",
    "            \"rsi_7\",\n",
    "            \"rsi_10\",\n",
    "            \"sma_20\",\n",
    "            \"sma_50\",\n",
    "            \"sma_100\",\n",
    "            \"sma_200\",\n",
    "        ]\n",
    "    ],\n",
    "    left_on=\"SignalTime\",\n",
    "    right_index=True,\n",
    ")\n",
    "# merged[\"win\"] = np.where(merged.PnL > 0, 1, -1)\n",
    "# merged[\"win\"] = np.where(merged.PnL > 0, 1, -1)"
   ]
  },
  {
   "cell_type": "code",
   "execution_count": 177,
   "metadata": {},
   "outputs": [
    {
     "data": {
      "text/html": [
       "<div>\n",
       "<style scoped>\n",
       "    .dataframe tbody tr th:only-of-type {\n",
       "        vertical-align: middle;\n",
       "    }\n",
       "\n",
       "    .dataframe tbody tr th {\n",
       "        vertical-align: top;\n",
       "    }\n",
       "\n",
       "    .dataframe thead th {\n",
       "        text-align: right;\n",
       "    }\n",
       "</style>\n",
       "<table border=\"1\" class=\"dataframe\">\n",
       "  <thead>\n",
       "    <tr style=\"text-align: right;\">\n",
       "      <th></th>\n",
       "      <th>ReturnPct</th>\n",
       "    </tr>\n",
       "    <tr>\n",
       "      <th>ExitTime</th>\n",
       "      <th></th>\n",
       "    </tr>\n",
       "  </thead>\n",
       "  <tbody>\n",
       "    <tr>\n",
       "      <th>1</th>\n",
       "      <td>0.0532</td>\n",
       "    </tr>\n",
       "    <tr>\n",
       "      <th>2</th>\n",
       "      <td>-0.0415</td>\n",
       "    </tr>\n",
       "    <tr>\n",
       "      <th>3</th>\n",
       "      <td>0.0676</td>\n",
       "    </tr>\n",
       "    <tr>\n",
       "      <th>4</th>\n",
       "      <td>0.0692</td>\n",
       "    </tr>\n",
       "    <tr>\n",
       "      <th>5</th>\n",
       "      <td>0.0813</td>\n",
       "    </tr>\n",
       "    <tr>\n",
       "      <th>6</th>\n",
       "      <td>0.0778</td>\n",
       "    </tr>\n",
       "    <tr>\n",
       "      <th>7</th>\n",
       "      <td>0.0689</td>\n",
       "    </tr>\n",
       "    <tr>\n",
       "      <th>8</th>\n",
       "      <td>0.0232</td>\n",
       "    </tr>\n",
       "    <tr>\n",
       "      <th>9</th>\n",
       "      <td>0.0285</td>\n",
       "    </tr>\n",
       "    <tr>\n",
       "      <th>10</th>\n",
       "      <td>-0.0936</td>\n",
       "    </tr>\n",
       "    <tr>\n",
       "      <th>11</th>\n",
       "      <td>0.0085</td>\n",
       "    </tr>\n",
       "    <tr>\n",
       "      <th>12</th>\n",
       "      <td>0.1104</td>\n",
       "    </tr>\n",
       "  </tbody>\n",
       "</table>\n",
       "</div>"
      ],
      "text/plain": [
       "          ReturnPct\n",
       "ExitTime           \n",
       "1            0.0532\n",
       "2           -0.0415\n",
       "3            0.0676\n",
       "4            0.0692\n",
       "5            0.0813\n",
       "6            0.0778\n",
       "7            0.0689\n",
       "8            0.0232\n",
       "9            0.0285\n",
       "10          -0.0936\n",
       "11           0.0085\n",
       "12           0.1104"
      ]
     },
     "execution_count": 177,
     "metadata": {},
     "output_type": "execute_result"
    }
   ],
   "source": [
    "# merged.set_index('EntryTime')\n",
    "monthly = pd.DataFrame(merged.groupby(merged.EntryTime.dt.month).ReturnPct.sum())\n",
    "# global skip_month\n",
    "skip_month = monthly[monthly[\"ReturnPct\"] < 0.05].index.to_list()\n",
    "pd.DataFrame(merged.groupby(merged.ExitTime.dt.month).ReturnPct.sum().round(4))"
   ]
  },
  {
   "cell_type": "code",
   "execution_count": 178,
   "metadata": {},
   "outputs": [
    {
     "data": {
      "text/plain": [
       "<Axes: title={'center': 'Gewinner Trades'}>"
      ]
     },
     "execution_count": 178,
     "metadata": {},
     "output_type": "execute_result"
    },
    {
     "data": {
      "image/png": "[encoded data removed]",
      "text/plain": [
       "<Figure size 640x480 with 1 Axes>"
      ]
     },
     "metadata": {},
     "output_type": "display_data"
    }
   ],
   "source": [
    "merged[merged.PnL > 0].ReturnPct.plot(title=\"Gewinner Trades\")"
   ]
  },
  {
   "cell_type": "code",
   "execution_count": 179,
   "metadata": {},
   "outputs": [
    {
     "data": {
      "text/plain": [
       "<Axes: title={'center': 'Verlierer Trades'}>"
      ]
     },
     "execution_count": 179,
     "metadata": {},
     "output_type": "execute_result"
    },
    {
     "data": {
      "image/png": "[encoded data removed]",
      "text/plain": [
       "<Figure size 640x480 with 1 Axes>"
      ]
     },
     "metadata": {},
     "output_type": "display_data"
    }
   ],
   "source": [
    "merged[merged.PnL < 0].ReturnPct.plot(title=\"Verlierer Trades\")"
   ]
  },
  {
   "cell_type": "code",
   "execution_count": 180,
   "metadata": {},
   "outputs": [
    {
     "data": {
      "text/html": [
       "<div>\n",
       "<style scoped>\n",
       "    .dataframe tbody tr th:only-of-type {\n",
       "        vertical-align: middle;\n",
       "    }\n",
       "\n",
       "    .dataframe tbody tr th {\n",
       "        vertical-align: top;\n",
       "    }\n",
       "\n",
       "    .dataframe thead th {\n",
       "        text-align: right;\n",
       "    }\n",
       "</style>\n",
       "<table border=\"1\" class=\"dataframe\">\n",
       "  <thead>\n",
       "    <tr style=\"text-align: right;\">\n",
       "      <th></th>\n",
       "      <th>Open</th>\n",
       "      <th>High</th>\n",
       "      <th>Low</th>\n",
       "      <th>Close</th>\n",
       "      <th>Adj Close</th>\n",
       "      <th>Volume</th>\n",
       "      <th>vix</th>\n",
       "      <th>yield_5yr</th>\n",
       "      <th>rsi_3</th>\n",
       "      <th>rsi_4</th>\n",
       "      <th>...</th>\n",
       "      <th>adx</th>\n",
       "      <th>adx_direction</th>\n",
       "      <th>adx_10</th>\n",
       "      <th>sma</th>\n",
       "      <th>sma_10</th>\n",
       "      <th>sma_20</th>\n",
       "      <th>sma_50</th>\n",
       "      <th>sma_100</th>\n",
       "      <th>sma_200</th>\n",
       "      <th>sma_pct</th>\n",
       "    </tr>\n",
       "    <tr>\n",
       "      <th>Date</th>\n",
       "      <th></th>\n",
       "      <th></th>\n",
       "      <th></th>\n",
       "      <th></th>\n",
       "      <th></th>\n",
       "      <th></th>\n",
       "      <th></th>\n",
       "      <th></th>\n",
       "      <th></th>\n",
       "      <th></th>\n",
       "      <th></th>\n",
       "      <th></th>\n",
       "      <th></th>\n",
       "      <th></th>\n",
       "      <th></th>\n",
       "      <th></th>\n",
       "      <th></th>\n",
       "      <th></th>\n",
       "      <th></th>\n",
       "      <th></th>\n",
       "      <th></th>\n",
       "    </tr>\n",
       "  </thead>\n",
       "  <tbody>\n",
       "    <tr>\n",
       "      <th>1993-01-29</th>\n",
       "      <td>43.968750</td>\n",
       "      <td>43.968750</td>\n",
       "      <td>43.750000</td>\n",
       "      <td>43.937500</td>\n",
       "      <td>24.763752</td>\n",
       "      <td>1003200</td>\n",
       "      <td>12.420000</td>\n",
       "      <td>5.570</td>\n",
       "      <td>NaN</td>\n",
       "      <td>NaN</td>\n",
       "      <td>...</td>\n",
       "      <td>NaN</td>\n",
       "      <td>-1</td>\n",
       "      <td>NaN</td>\n",
       "      <td>NaN</td>\n",
       "      <td>NaN</td>\n",
       "      <td>NaN</td>\n",
       "      <td>NaN</td>\n",
       "      <td>NaN</td>\n",
       "      <td>NaN</td>\n",
       "      <td>NaN</td>\n",
       "    </tr>\n",
       "    <tr>\n",
       "      <th>1993-02-01</th>\n",
       "      <td>43.968750</td>\n",
       "      <td>44.250000</td>\n",
       "      <td>43.968750</td>\n",
       "      <td>44.250000</td>\n",
       "      <td>24.939878</td>\n",
       "      <td>480500</td>\n",
       "      <td>12.330000</td>\n",
       "      <td>5.550</td>\n",
       "      <td>NaN</td>\n",
       "      <td>NaN</td>\n",
       "      <td>...</td>\n",
       "      <td>NaN</td>\n",
       "      <td>-1</td>\n",
       "      <td>NaN</td>\n",
       "      <td>NaN</td>\n",
       "      <td>NaN</td>\n",
       "      <td>NaN</td>\n",
       "      <td>NaN</td>\n",
       "      <td>NaN</td>\n",
       "      <td>NaN</td>\n",
       "      <td>NaN</td>\n",
       "    </tr>\n",
       "    <tr>\n",
       "      <th>1993-02-02</th>\n",
       "      <td>44.218750</td>\n",
       "      <td>44.375000</td>\n",
       "      <td>44.125000</td>\n",
       "      <td>44.343750</td>\n",
       "      <td>24.992697</td>\n",
       "      <td>201300</td>\n",
       "      <td>12.250000</td>\n",
       "      <td>5.630</td>\n",
       "      <td>100.0</td>\n",
       "      <td>NaN</td>\n",
       "      <td>...</td>\n",
       "      <td>NaN</td>\n",
       "      <td>-1</td>\n",
       "      <td>NaN</td>\n",
       "      <td>NaN</td>\n",
       "      <td>NaN</td>\n",
       "      <td>NaN</td>\n",
       "      <td>NaN</td>\n",
       "      <td>NaN</td>\n",
       "      <td>NaN</td>\n",
       "      <td>NaN</td>\n",
       "    </tr>\n",
       "    <tr>\n",
       "      <th>1993-02-03</th>\n",
       "      <td>44.406250</td>\n",
       "      <td>44.843750</td>\n",
       "      <td>44.375000</td>\n",
       "      <td>44.812500</td>\n",
       "      <td>25.256893</td>\n",
       "      <td>529400</td>\n",
       "      <td>12.120000</td>\n",
       "      <td>5.620</td>\n",
       "      <td>100.0</td>\n",
       "      <td>100.0</td>\n",
       "      <td>...</td>\n",
       "      <td>NaN</td>\n",
       "      <td>-1</td>\n",
       "      <td>NaN</td>\n",
       "      <td>NaN</td>\n",
       "      <td>NaN</td>\n",
       "      <td>NaN</td>\n",
       "      <td>NaN</td>\n",
       "      <td>NaN</td>\n",
       "      <td>NaN</td>\n",
       "      <td>NaN</td>\n",
       "    </tr>\n",
       "    <tr>\n",
       "      <th>1993-02-04</th>\n",
       "      <td>44.968750</td>\n",
       "      <td>45.093750</td>\n",
       "      <td>44.468750</td>\n",
       "      <td>45.000000</td>\n",
       "      <td>25.362570</td>\n",
       "      <td>531500</td>\n",
       "      <td>12.290000</td>\n",
       "      <td>5.530</td>\n",
       "      <td>100.0</td>\n",
       "      <td>100.0</td>\n",
       "      <td>...</td>\n",
       "      <td>NaN</td>\n",
       "      <td>-1</td>\n",
       "      <td>NaN</td>\n",
       "      <td>NaN</td>\n",
       "      <td>NaN</td>\n",
       "      <td>NaN</td>\n",
       "      <td>NaN</td>\n",
       "      <td>NaN</td>\n",
       "      <td>NaN</td>\n",
       "      <td>NaN</td>\n",
       "    </tr>\n",
       "    <tr>\n",
       "      <th>...</th>\n",
       "      <td>...</td>\n",
       "      <td>...</td>\n",
       "      <td>...</td>\n",
       "      <td>...</td>\n",
       "      <td>...</td>\n",
       "      <td>...</td>\n",
       "      <td>...</td>\n",
       "      <td>...</td>\n",
       "      <td>...</td>\n",
       "      <td>...</td>\n",
       "      <td>...</td>\n",
       "      <td>...</td>\n",
       "      <td>...</td>\n",
       "      <td>...</td>\n",
       "      <td>...</td>\n",
       "      <td>...</td>\n",
       "      <td>...</td>\n",
       "      <td>...</td>\n",
       "      <td>...</td>\n",
       "      <td>...</td>\n",
       "      <td>...</td>\n",
       "    </tr>\n",
       "    <tr>\n",
       "      <th>2024-04-11</th>\n",
       "      <td>515.679993</td>\n",
       "      <td>519.479980</td>\n",
       "      <td>512.080017</td>\n",
       "      <td>518.000000</td>\n",
       "      <td>518.000000</td>\n",
       "      <td>70099000</td>\n",
       "      <td>14.910000</td>\n",
       "      <td>4.623</td>\n",
       "      <td>54.0</td>\n",
       "      <td>52.0</td>\n",
       "      <td>...</td>\n",
       "      <td>19.687082</td>\n",
       "      <td>1</td>\n",
       "      <td>20.357075</td>\n",
       "      <td>518.21</td>\n",
       "      <td>518.51</td>\n",
       "      <td>0.999595</td>\n",
       "      <td>1.017322</td>\n",
       "      <td>1.058872</td>\n",
       "      <td>464.35</td>\n",
       "      <td>1.00</td>\n",
       "    </tr>\n",
       "    <tr>\n",
       "      <th>2024-04-12</th>\n",
       "      <td>514.369995</td>\n",
       "      <td>515.820007</td>\n",
       "      <td>509.079987</td>\n",
       "      <td>510.850006</td>\n",
       "      <td>510.850006</td>\n",
       "      <td>92469100</td>\n",
       "      <td>17.309999</td>\n",
       "      <td>4.533</td>\n",
       "      <td>26.0</td>\n",
       "      <td>30.0</td>\n",
       "      <td>...</td>\n",
       "      <td>19.014771</td>\n",
       "      <td>-1</td>\n",
       "      <td>20.947529</td>\n",
       "      <td>518.00</td>\n",
       "      <td>517.29</td>\n",
       "      <td>0.986197</td>\n",
       "      <td>1.002178</td>\n",
       "      <td>1.042977</td>\n",
       "      <td>464.72</td>\n",
       "      <td>0.99</td>\n",
       "    </tr>\n",
       "    <tr>\n",
       "      <th>2024-04-15</th>\n",
       "      <td>515.130005</td>\n",
       "      <td>515.299988</td>\n",
       "      <td>503.579987</td>\n",
       "      <td>504.450012</td>\n",
       "      <td>504.450012</td>\n",
       "      <td>92101400</td>\n",
       "      <td>19.230000</td>\n",
       "      <td>4.645</td>\n",
       "      <td>15.0</td>\n",
       "      <td>20.0</td>\n",
       "      <td>...</td>\n",
       "      <td>18.816959</td>\n",
       "      <td>-1</td>\n",
       "      <td>22.939867</td>\n",
       "      <td>517.73</td>\n",
       "      <td>515.52</td>\n",
       "      <td>0.974350</td>\n",
       "      <td>0.989021</td>\n",
       "      <td>1.028776</td>\n",
       "      <td>465.06</td>\n",
       "      <td>0.97</td>\n",
       "    </tr>\n",
       "    <tr>\n",
       "      <th>2024-04-16</th>\n",
       "      <td>504.940002</td>\n",
       "      <td>506.500000</td>\n",
       "      <td>502.209991</td>\n",
       "      <td>503.529999</td>\n",
       "      <td>503.529999</td>\n",
       "      <td>73320600</td>\n",
       "      <td>18.400000</td>\n",
       "      <td>4.682</td>\n",
       "      <td>14.0</td>\n",
       "      <td>18.0</td>\n",
       "      <td>...</td>\n",
       "      <td>18.730290</td>\n",
       "      <td>-1</td>\n",
       "      <td>25.040345</td>\n",
       "      <td>517.27</td>\n",
       "      <td>513.99</td>\n",
       "      <td>0.973437</td>\n",
       "      <td>0.986869</td>\n",
       "      <td>1.025875</td>\n",
       "      <td>465.39</td>\n",
       "      <td>0.97</td>\n",
       "    </tr>\n",
       "    <tr>\n",
       "      <th>2024-04-17</th>\n",
       "      <td>506.049988</td>\n",
       "      <td>506.220001</td>\n",
       "      <td>503.459412</td>\n",
       "      <td>503.845001</td>\n",
       "      <td>503.845001</td>\n",
       "      <td>13660069</td>\n",
       "      <td>17.959999</td>\n",
       "      <td>4.660</td>\n",
       "      <td>18.0</td>\n",
       "      <td>21.0</td>\n",
       "      <td>...</td>\n",
       "      <td>18.647748</td>\n",
       "      <td>-1</td>\n",
       "      <td>26.930776</td>\n",
       "      <td>516.67</td>\n",
       "      <td>512.43</td>\n",
       "      <td>0.975178</td>\n",
       "      <td>0.987041</td>\n",
       "      <td>1.025451</td>\n",
       "      <td>465.69</td>\n",
       "      <td>0.98</td>\n",
       "    </tr>\n",
       "  </tbody>\n",
       "</table>\n",
       "<p>7776 rows × 23 columns</p>\n",
       "</div>"
      ],
      "text/plain": [
       "                  Open        High         Low       Close   Adj Close  \\\n",
       "Date                                                                     \n",
       "1993-01-29   43.968750   43.968750   43.750000   43.937500   24.763752   \n",
       "1993-02-01   43.968750   44.250000   43.968750   44.250000   24.939878   \n",
       "1993-02-02   44.218750   44.375000   44.125000   44.343750   24.992697   \n",
       "1993-02-03   44.406250   44.843750   44.375000   44.812500   25.256893   \n",
       "1993-02-04   44.968750   45.093750   44.468750   45.000000   25.362570   \n",
       "...                ...         ...         ...         ...         ...   \n",
       "2024-04-11  515.679993  519.479980  512.080017  518.000000  518.000000   \n",
       "2024-04-12  514.369995  515.820007  509.079987  510.850006  510.850006   \n",
       "2024-04-15  515.130005  515.299988  503.579987  504.450012  504.450012   \n",
       "2024-04-16  504.940002  506.500000  502.209991  503.529999  503.529999   \n",
       "2024-04-17  506.049988  506.220001  503.459412  503.845001  503.845001   \n",
       "\n",
       "              Volume        vix  yield_5yr  rsi_3  rsi_4  ...        adx  \\\n",
       "Date                                                      ...              \n",
       "1993-01-29   1003200  12.420000      5.570    NaN    NaN  ...        NaN   \n",
       "1993-02-01    480500  12.330000      5.550    NaN    NaN  ...        NaN   \n",
       "1993-02-02    201300  12.250000      5.630  100.0    NaN  ...        NaN   \n",
       "1993-02-03    529400  12.120000      5.620  100.0  100.0  ...        NaN   \n",
       "1993-02-04    531500  12.290000      5.530  100.0  100.0  ...        NaN   \n",
       "...              ...        ...        ...    ...    ...  ...        ...   \n",
       "2024-04-11  70099000  14.910000      4.623   54.0   52.0  ...  19.687082   \n",
       "2024-04-12  92469100  17.309999      4.533   26.0   30.0  ...  19.014771   \n",
       "2024-04-15  92101400  19.230000      4.645   15.0   20.0  ...  18.816959   \n",
       "2024-04-16  73320600  18.400000      4.682   14.0   18.0  ...  18.730290   \n",
       "2024-04-17  13660069  17.959999      4.660   18.0   21.0  ...  18.647748   \n",
       "\n",
       "            adx_direction     adx_10     sma  sma_10    sma_20    sma_50  \\\n",
       "Date                                                                       \n",
       "1993-01-29             -1        NaN     NaN     NaN       NaN       NaN   \n",
       "1993-02-01             -1        NaN     NaN     NaN       NaN       NaN   \n",
       "1993-02-02             -1        NaN     NaN     NaN       NaN       NaN   \n",
       "1993-02-03             -1        NaN     NaN     NaN       NaN       NaN   \n",
       "1993-02-04             -1        NaN     NaN     NaN       NaN       NaN   \n",
       "...                   ...        ...     ...     ...       ...       ...   \n",
       "2024-04-11              1  20.357075  518.21  518.51  0.999595  1.017322   \n",
       "2024-04-12             -1  20.947529  518.00  517.29  0.986197  1.002178   \n",
       "2024-04-15             -1  22.939867  517.73  515.52  0.974350  0.989021   \n",
       "2024-04-16             -1  25.040345  517.27  513.99  0.973437  0.986869   \n",
       "2024-04-17             -1  26.930776  516.67  512.43  0.975178  0.987041   \n",
       "\n",
       "             sma_100  sma_200  sma_pct  \n",
       "Date                                    \n",
       "1993-01-29       NaN      NaN      NaN  \n",
       "1993-02-01       NaN      NaN      NaN  \n",
       "1993-02-02       NaN      NaN      NaN  \n",
       "1993-02-03       NaN      NaN      NaN  \n",
       "1993-02-04       NaN      NaN      NaN  \n",
       "...              ...      ...      ...  \n",
       "2024-04-11  1.058872   464.35     1.00  \n",
       "2024-04-12  1.042977   464.72     0.99  \n",
       "2024-04-15  1.028776   465.06     0.97  \n",
       "2024-04-16  1.025875   465.39     0.97  \n",
       "2024-04-17  1.025451   465.69     0.98  \n",
       "\n",
       "[7776 rows x 23 columns]"
      ]
     },
     "execution_count": 180,
     "metadata": {},
     "output_type": "execute_result"
    }
   ],
   "source": [
    "df"
   ]
  },
  {
   "cell_type": "code",
   "execution_count": 181,
   "metadata": {},
   "outputs": [
    {
     "data": {
      "text/plain": [
       "Start                     2012-01-03 00:00:00\n",
       "End                       2024-04-17 00:00:00\n",
       "Duration                   4488 days 00:00:00\n",
       "Exposure Time [%]                   20.006506\n",
       "Equity Final [$]                151578.381147\n",
       "Equity Peak [$]                 161828.862721\n",
       "Return [%]                          51.578381\n",
       "Buy & Hold Return [%]               295.17255\n",
       "Return (Ann.) [%]                    3.468525\n",
       "Volatility (Ann.) [%]                7.410869\n",
       "Sharpe Ratio                         0.468032\n",
       "Sortino Ratio                        0.682704\n",
       "Calmar Ratio                         0.166766\n",
       "Max. Drawdown [%]                  -20.798743\n",
       "Avg. Drawdown [%]                   -2.111542\n",
       "Max. Drawdown Duration     1418 days 00:00:00\n",
       "Avg. Drawdown Duration       69 days 00:00:00\n",
       "# Trades                                  108\n",
       "Win Rate [%]                         79.62963\n",
       "Best Trade [%]                       2.870146\n",
       "Worst Trade [%]                     -7.910128\n",
       "Avg. Trade [%]                       0.401661\n",
       "Max. Trade Duration          21 days 00:00:00\n",
       "Avg. Trade Duration           7 days 00:00:00\n",
       "Profit Factor                        1.795331\n",
       "Expectancy [%]                       0.419895\n",
       "SQN                                  1.855785\n",
       "_strategy                 rsi_reversal(rsi...\n",
       "_equity_curve                             ...\n",
       "_trades                        Size  Entry...\n",
       "dtype: object"
      ]
     },
     "execution_count": 181,
     "metadata": {},
     "output_type": "execute_result"
    }
   ],
   "source": [
    "stats"
   ]
  },
  {
   "cell_type": "code",
   "execution_count": 182,
   "metadata": {},
   "outputs": [
    {
     "data": {
      "text/html": [
       "<div>\n",
       "<style scoped>\n",
       "    .dataframe tbody tr th:only-of-type {\n",
       "        vertical-align: middle;\n",
       "    }\n",
       "\n",
       "    .dataframe tbody tr th {\n",
       "        vertical-align: top;\n",
       "    }\n",
       "\n",
       "    .dataframe thead th {\n",
       "        text-align: right;\n",
       "    }\n",
       "</style>\n",
       "<table border=\"1\" class=\"dataframe\">\n",
       "  <thead>\n",
       "    <tr style=\"text-align: right;\">\n",
       "      <th></th>\n",
       "      <th>ReturnPct</th>\n",
       "    </tr>\n",
       "    <tr>\n",
       "      <th>ExitTime</th>\n",
       "      <th></th>\n",
       "    </tr>\n",
       "  </thead>\n",
       "  <tbody>\n",
       "    <tr>\n",
       "      <th>1</th>\n",
       "      <td>0.0532</td>\n",
       "    </tr>\n",
       "    <tr>\n",
       "      <th>2</th>\n",
       "      <td>-0.0415</td>\n",
       "    </tr>\n",
       "    <tr>\n",
       "      <th>3</th>\n",
       "      <td>0.0676</td>\n",
       "    </tr>\n",
       "    <tr>\n",
       "      <th>4</th>\n",
       "      <td>0.0692</td>\n",
       "    </tr>\n",
       "    <tr>\n",
       "      <th>5</th>\n",
       "      <td>0.0813</td>\n",
       "    </tr>\n",
       "    <tr>\n",
       "      <th>6</th>\n",
       "      <td>0.0778</td>\n",
       "    </tr>\n",
       "    <tr>\n",
       "      <th>7</th>\n",
       "      <td>0.0689</td>\n",
       "    </tr>\n",
       "    <tr>\n",
       "      <th>8</th>\n",
       "      <td>0.0232</td>\n",
       "    </tr>\n",
       "    <tr>\n",
       "      <th>9</th>\n",
       "      <td>0.0285</td>\n",
       "    </tr>\n",
       "    <tr>\n",
       "      <th>10</th>\n",
       "      <td>-0.0936</td>\n",
       "    </tr>\n",
       "    <tr>\n",
       "      <th>11</th>\n",
       "      <td>0.0085</td>\n",
       "    </tr>\n",
       "    <tr>\n",
       "      <th>12</th>\n",
       "      <td>0.1104</td>\n",
       "    </tr>\n",
       "  </tbody>\n",
       "</table>\n",
       "</div>"
      ],
      "text/plain": [
       "          ReturnPct\n",
       "ExitTime           \n",
       "1            0.0532\n",
       "2           -0.0415\n",
       "3            0.0676\n",
       "4            0.0692\n",
       "5            0.0813\n",
       "6            0.0778\n",
       "7            0.0689\n",
       "8            0.0232\n",
       "9            0.0285\n",
       "10          -0.0936\n",
       "11           0.0085\n",
       "12           0.1104"
      ]
     },
     "execution_count": 182,
     "metadata": {},
     "output_type": "execute_result"
    }
   ],
   "source": [
    "pd.DataFrame(merged.groupby(merged.ExitTime.dt.month).ReturnPct.sum().round(4))"
   ]
  },
  {
   "cell_type": "code",
   "execution_count": 183,
   "metadata": {},
   "outputs": [
    {
     "data": {
      "text/html": [
       "<div>\n",
       "<style scoped>\n",
       "    .dataframe tbody tr th:only-of-type {\n",
       "        vertical-align: middle;\n",
       "    }\n",
       "\n",
       "    .dataframe tbody tr th {\n",
       "        vertical-align: top;\n",
       "    }\n",
       "\n",
       "    .dataframe thead th {\n",
       "        text-align: right;\n",
       "    }\n",
       "</style>\n",
       "<table border=\"1\" class=\"dataframe\">\n",
       "  <thead>\n",
       "    <tr style=\"text-align: right;\">\n",
       "      <th></th>\n",
       "      <th>PnL</th>\n",
       "    </tr>\n",
       "    <tr>\n",
       "      <th>ExitTime</th>\n",
       "      <th></th>\n",
       "    </tr>\n",
       "  </thead>\n",
       "  <tbody>\n",
       "    <tr>\n",
       "      <th>2012</th>\n",
       "      <td>6734.5</td>\n",
       "    </tr>\n",
       "    <tr>\n",
       "      <th>2013</th>\n",
       "      <td>9772.4</td>\n",
       "    </tr>\n",
       "    <tr>\n",
       "      <th>2014</th>\n",
       "      <td>6136.0</td>\n",
       "    </tr>\n",
       "    <tr>\n",
       "      <th>2015</th>\n",
       "      <td>15933.2</td>\n",
       "    </tr>\n",
       "    <tr>\n",
       "      <th>2016</th>\n",
       "      <td>7460.3</td>\n",
       "    </tr>\n",
       "    <tr>\n",
       "      <th>2017</th>\n",
       "      <td>11004.7</td>\n",
       "    </tr>\n",
       "    <tr>\n",
       "      <th>2018</th>\n",
       "      <td>-16103.1</td>\n",
       "    </tr>\n",
       "    <tr>\n",
       "      <th>2019</th>\n",
       "      <td>-4179.5</td>\n",
       "    </tr>\n",
       "    <tr>\n",
       "      <th>2020</th>\n",
       "      <td>-4416.1</td>\n",
       "    </tr>\n",
       "    <tr>\n",
       "      <th>2021</th>\n",
       "      <td>26955.4</td>\n",
       "    </tr>\n",
       "    <tr>\n",
       "      <th>2022</th>\n",
       "      <td>-6884.1</td>\n",
       "    </tr>\n",
       "    <tr>\n",
       "      <th>2023</th>\n",
       "      <td>964.3</td>\n",
       "    </tr>\n",
       "    <tr>\n",
       "      <th>2024</th>\n",
       "      <td>-1592.0</td>\n",
       "    </tr>\n",
       "  </tbody>\n",
       "</table>\n",
       "</div>"
      ],
      "text/plain": [
       "              PnL\n",
       "ExitTime         \n",
       "2012       6734.5\n",
       "2013       9772.4\n",
       "2014       6136.0\n",
       "2015      15933.2\n",
       "2016       7460.3\n",
       "2017      11004.7\n",
       "2018     -16103.1\n",
       "2019      -4179.5\n",
       "2020      -4416.1\n",
       "2021      26955.4\n",
       "2022      -6884.1\n",
       "2023        964.3\n",
       "2024      -1592.0"
      ]
     },
     "execution_count": 183,
     "metadata": {},
     "output_type": "execute_result"
    }
   ],
   "source": [
    "pd.DataFrame(merged.groupby(merged.ExitTime.dt.year).PnL.sum().round(1))"
   ]
  },
  {
   "cell_type": "code",
   "execution_count": 184,
   "metadata": {},
   "outputs": [
    {
     "data": {
      "text/plain": [
       "2012    107017.3\n",
       "2013    116506.9\n",
       "2014    122642.9\n",
       "2015    138576.1\n",
       "2016    146036.4\n",
       "2017    157041.1\n",
       "2018    140938.0\n",
       "2019    136758.5\n",
       "2020    132342.4\n",
       "2021    159297.8\n",
       "2022    152413.7\n",
       "2023    153378.0\n",
       "2024    151578.4\n",
       "Name: Equity, dtype: float64"
      ]
     },
     "execution_count": 184,
     "metadata": {},
     "output_type": "execute_result"
    }
   ],
   "source": [
    "equity = stats[\"_equity_curve\"]\n",
    "equity.groupby(equity.index.year).Equity.last().round(1)"
   ]
  }
 ],
 "metadata": {
  "kernelspec": {
   "display_name": "Python 3",
   "language": "python",
   "name": "python3"
  },
  "language_info": {
   "codemirror_mode": {
    "name": "ipython",
    "version": 3
   },
   "file_extension": ".py",
   "mimetype": "text/x-python",
   "name": "python",
   "nbconvert_exporter": "python",
   "pygments_lexer": "ipython3",
   "version": "3.12.0"
  }
 },
 "nbformat": 4,
 "nbformat_minor": 2
}
