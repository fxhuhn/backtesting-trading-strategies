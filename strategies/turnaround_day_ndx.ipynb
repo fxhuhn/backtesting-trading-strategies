{
 "cells": [
  {
   "cell_type": "code",
   "execution_count": 209,
   "metadata": {},
   "outputs": [],
   "source": [
    "import numpy as np\n",
    "import pandas as pd\n",
    "import yfinance as yf\n",
    "from tools import sma"
   ]
  },
  {
   "cell_type": "markdown",
   "metadata": {},
   "source": [
    "# Turnaround Tuesday - Strategie im NASDAQ 100"
   ]
  },
  {
   "cell_type": "markdown",
   "metadata": {},
   "source": [
    "Zunächst werden die Kursdaten für den NASDAQ 100 geladen und bereinigt"
   ]
  },
  {
   "cell_type": "code",
   "execution_count": 210,
   "metadata": {},
   "outputs": [
    {
     "name": "stderr",
     "output_type": "stream",
     "text": [
      "[*********************100%%**********************]  1 of 1 completed\n"
     ]
    }
   ],
   "source": [
    "SYMBOL = \"^NDX\"\n",
    "SYMBOL = \"QQQ\"\n",
    "\n",
    "\n",
    "stock = yf.download(SYMBOL)\n",
    "\n",
    "stock = stock[~(stock.High == stock.Low) & ~(stock.Open == stock.Close)]\n",
    "stock = stock.dropna()\n",
    "\n",
    "df = stock\n"
   ]
  },
  {
   "cell_type": "markdown",
   "metadata": {},
   "source": [
    "Ein paar Indikatoren für spätere Auswertungen"
   ]
  },
  {
   "cell_type": "markdown",
   "metadata": {},
   "source": [
    "## Jetzt zur Strategie\n",
    "..."
   ]
  },
  {
   "cell_type": "code",
   "execution_count": 211,
   "metadata": {},
   "outputs": [],
   "source": [
    "from backtesting import Strategy\n",
    "\n",
    "\n",
    "class turnaround_day(Strategy):\n",
    "    \"\"\"\n",
    "    strategy for trend_trading\n",
    "    \"\"\"\n",
    "    \n",
    "    sma_interval = 5\n",
    "    turnaround_day = 0 # Monday\n",
    "\n",
    "    def ohlc(self, pos=-1) -> tuple:\n",
    "        \"\"\"\n",
    "        helper function for ohlc data\n",
    "        \"\"\"\n",
    "        return (\n",
    "            self.data.Open[pos],\n",
    "            self.data.High[pos],\n",
    "            self.data.Low[pos],\n",
    "            self.data.Close[pos],\n",
    "        )\n",
    "\n",
    "\n",
    "    def init(self):\n",
    "        super().init()\n",
    "\n",
    "        self.sma = self.I(sma, self.data.Close.s, self.sma_interval)\n",
    "\n",
    "\n",
    "    def next(self):\n",
    "        # super().next()\n",
    "\n",
    "        _open, _high, _low, _close = self.ohlc()\n",
    "\n",
    "        # trade management for an existing trade\n",
    "        for trade in self.trades:\n",
    "            if trade.is_long:\n",
    "                if len(self.data) - self.trades[-1].entry_bar >1:\n",
    "\n",
    "                    if self.data.Close[-1] > self.data.Close[-2]:\n",
    "                        trade.close()\n",
    "\n",
    "        if self.data.df.iloc[-1].name.dayofweek == self.turnaround_day: # Monday\n",
    "            if self.data.Close[-2] > self.data.Close[-1] and self.data.Close[-3] > self.data.Close[-2]:\n",
    "                if _close > self.sma[-1] : \n",
    "                    self.buy()"
   ]
  },
  {
   "cell_type": "code",
   "execution_count": 212,
   "metadata": {},
   "outputs": [
    {
     "data": {
      "text/plain": [
       "Start                     2000-01-03 00:00:00\n",
       "End                       2024-05-24 00:00:00\n",
       "Duration                   8908 days 00:00:00\n",
       "Exposure Time [%]                      1.0841\n",
       "Equity Final [$]                 94961.391045\n",
       "Equity Peak [$]                 105378.585768\n",
       "Return [%]                          -5.038609\n",
       "Buy & Hold Return [%]              383.324551\n",
       "Return (Ann.) [%]                   -0.213772\n",
       "Volatility (Ann.) [%]                2.622298\n",
       "Sharpe Ratio                              0.0\n",
       "Sortino Ratio                             0.0\n",
       "Calmar Ratio                              0.0\n",
       "Max. Drawdown [%]                  -12.915526\n",
       "Avg. Drawdown [%]                  -12.915526\n",
       "Max. Drawdown Duration     8347 days 00:00:00\n",
       "Avg. Drawdown Duration     8347 days 00:00:00\n",
       "# Trades                                   17\n",
       "Win Rate [%]                        52.941176\n",
       "Best Trade [%]                       2.351583\n",
       "Worst Trade [%]                     -7.138017\n",
       "Avg. Trade [%]                      -0.303511\n",
       "Max. Trade Duration          14 days 00:00:00\n",
       "Avg. Trade Duration           4 days 00:00:00\n",
       "Profit Factor                         0.72499\n",
       "Expectancy [%]                       -0.27225\n",
       "SQN                                 -0.483944\n",
       "_strategy                      turnaround_day\n",
       "_equity_curve                             ...\n",
       "_trades                       Size  EntryB...\n",
       "dtype: object"
      ]
     },
     "execution_count": 212,
     "metadata": {},
     "output_type": "execute_result"
    }
   ],
   "source": [
    "from backtesting import Backtest\n",
    "\n",
    "bt = Backtest(\n",
    "    df[\"2000-01-01\":], turnaround_day, cash=100_000, commission=0.002, trade_on_close=False\n",
    ")\n",
    "\n",
    "stats = bt.run()\n",
    "bt.plot(superimpose=False, open_browser=False)\n",
    "stats"
   ]
  },
  {
   "cell_type": "code",
   "execution_count": 213,
   "metadata": {},
   "outputs": [
    {
     "name": "stderr",
     "output_type": "stream",
     "text": [
      "/Users/produktmanagement/Python/github/backtesting-trading-strategies/.venv/lib/python3.12/site-packages/backtesting/backtesting.py:1375: UserWarning: For multiprocessing support in `Backtest.optimize()` set multiprocessing start method to 'fork'.\n",
      "  warnings.warn(\"For multiprocessing support in `Backtest.optimize()` \"\n"
     ]
    },
    {
     "data": {
      "text/plain": [
       "Start                     2000-01-03 00:00:00\n",
       "End                       2024-05-24 00:00:00\n",
       "Duration                   8908 days 00:00:00\n",
       "Exposure Time [%]                    6.833114\n",
       "Equity Final [$]                169953.345591\n",
       "Equity Peak [$]                 172752.963398\n",
       "Return [%]                          69.953346\n",
       "Buy & Hold Return [%]              383.324551\n",
       "Return (Ann.) [%]                    2.219562\n",
       "Volatility (Ann.) [%]                5.155322\n",
       "Sharpe Ratio                         0.430538\n",
       "Sortino Ratio                        0.718313\n",
       "Calmar Ratio                         0.120558\n",
       "Max. Drawdown [%]                  -18.410777\n",
       "Avg. Drawdown [%]                   -2.211133\n",
       "Max. Drawdown Duration     2892 days 00:00:00\n",
       "Avg. Drawdown Duration      259 days 00:00:00\n",
       "# Trades                                  113\n",
       "Win Rate [%]                        69.911504\n",
       "Best Trade [%]                       8.054879\n",
       "Worst Trade [%]                     -6.892339\n",
       "Avg. Trade [%]                       0.470655\n",
       "Max. Trade Duration           8 days 00:00:00\n",
       "Avg. Trade Duration           4 days 00:00:00\n",
       "Profit Factor                        2.041053\n",
       "Expectancy [%]                       0.489936\n",
       "SQN                                  2.507234\n",
       "_strategy                 turnaround_day(t...\n",
       "_equity_curve                             ...\n",
       "_trades                        Size  Entry...\n",
       "dtype: object"
      ]
     },
     "execution_count": 213,
     "metadata": {},
     "output_type": "execute_result"
    }
   ],
   "source": [
    "stats, heatmap = bt.optimize(\n",
    "    turnaround_day=range(0, 5,1),\n",
    "    sma_interval=range(20, 50,5),\n",
    "    maximize=\"Equity Final [$]\",#\"Profit Factor\",  \n",
    "    max_tries=500,\n",
    "    random_state=0,\n",
    "    return_heatmap=True,\n",
    ")\n",
    "\n",
    "stats = bt.run(**stats._strategy._params)\n",
    "bt.plot(superimpose=False, open_browser=True)\n",
    "stats\n"
   ]
  },
  {
   "cell_type": "code",
   "execution_count": 214,
   "metadata": {},
   "outputs": [
    {
     "data": {
      "text/plain": [
       "turnaround_day  sma_interval\n",
       "0               40              124477.879467\n",
       "1               20              124481.932225\n",
       "0               30              125279.234671\n",
       "1               25              125453.641953\n",
       "0               45              129068.855887\n",
       "                35              129752.724963\n",
       "1               30              142088.469103\n",
       "                35              144028.581421\n",
       "                40              163375.011590\n",
       "                45              169953.345591\n",
       "Name: Equity Final [$], dtype: float64"
      ]
     },
     "execution_count": 214,
     "metadata": {},
     "output_type": "execute_result"
    }
   ],
   "source": [
    "heatmap.sort_values().iloc[-10:]"
   ]
  },
  {
   "cell_type": "code",
   "execution_count": 215,
   "metadata": {},
   "outputs": [],
   "source": [
    "trades = stats[\"_trades\"]"
   ]
  },
  {
   "cell_type": "markdown",
   "metadata": {},
   "source": [
    "jetzt wird überprüft welche Tage für die Ein- und Ausstiege besser sein könnten."
   ]
  },
  {
   "cell_type": "markdown",
   "metadata": {},
   "source": [
    "The Winner is ..."
   ]
  },
  {
   "cell_type": "code",
   "execution_count": 216,
   "metadata": {},
   "outputs": [
    {
     "data": {
      "text/plain": [
       "<Strategy turnaround_day(turnaround_day=1,sma_interval=45)>"
      ]
     },
     "execution_count": 216,
     "metadata": {},
     "output_type": "execute_result"
    }
   ],
   "source": [
    "stats[\"_strategy\"]"
   ]
  },
  {
   "cell_type": "markdown",
   "metadata": {},
   "source": [
    "Die Win Rate beim Trading bezieht sich auf das Verhältnis der Anzahl der gewonnenen Trades zur Gesamtanzahl der Trades. \n",
    "Wenn jemand beispielsweise 70% seiner Trades gewinnt, beträgt seine Win Rate 70%."
   ]
  },
  {
   "cell_type": "code",
   "execution_count": 217,
   "metadata": {},
   "outputs": [
    {
     "data": {
      "text/plain": [
       "69.91150442477876"
      ]
     },
     "execution_count": 217,
     "metadata": {},
     "output_type": "execute_result"
    }
   ],
   "source": [
    "stats[\"Win Rate [%]\"]"
   ]
  },
  {
   "cell_type": "markdown",
   "metadata": {},
   "source": [
    "Durchschnittlicher Gewinn in Prozent. \n",
    "Wie viel Gewinn oder Verlust wurden im Durchschnitt pro Trade erzielt."
   ]
  },
  {
   "cell_type": "code",
   "execution_count": 218,
   "metadata": {},
   "outputs": [
    {
     "data": {
      "text/plain": [
       "0.4706553160297222"
      ]
     },
     "execution_count": 218,
     "metadata": {},
     "output_type": "execute_result"
    }
   ],
   "source": [
    "stats[\"Avg. Trade [%]\"]"
   ]
  },
  {
   "cell_type": "markdown",
   "metadata": {},
   "source": [
    "Der Profit-Faktor stellt die Verhältnisse zwischen Gewinnen und Verlusten dar.\n",
    "Der Profit-Faktor wird berechnet, indem die Summe aller Profite (Gewinne) durch die Summe aller Verluste (einschließlich Gebühren und Kommissionen) für den gesamten Handelszeitraum geteilt wird.\n",
    "Ein Profit-Faktor größer als 1 zeigt an, dass die Strategie profitabel ist. Je höher der Wert, desto besser.\n",
    "\n",
    "Ein guter Profit-Faktor liegt normalerweise zwischen 1,75 und 41.\n",
    "Ein Wert über 1,75 zeigt eine solide Strategie an, während Werte über 4 außergewöhnlich gut sind."
   ]
  },
  {
   "cell_type": "code",
   "execution_count": 219,
   "metadata": {},
   "outputs": [
    {
     "data": {
      "text/plain": [
       "2.041052872991066"
      ]
     },
     "execution_count": 219,
     "metadata": {},
     "output_type": "execute_result"
    }
   ],
   "source": [
    "stats[\"Profit Factor\"]"
   ]
  },
  {
   "cell_type": "code",
   "execution_count": 220,
   "metadata": {},
   "outputs": [],
   "source": [
    "from backtesting import Strategy\n",
    "\n",
    "class turnaround_day_optimized(Strategy):\n",
    "    \"\"\"\n",
    "    strategy for trend_trading\n",
    "    \"\"\"\n",
    "    \n",
    "    sma_interval = 40\n",
    "\n",
    "    def ohlc(self, pos=-1) -> tuple:\n",
    "        \"\"\"\n",
    "        helper function for ohlc data\n",
    "        \"\"\"\n",
    "        return (\n",
    "            self.data.Open[pos],\n",
    "            self.data.High[pos],\n",
    "            self.data.Low[pos],\n",
    "            self.data.Close[pos],\n",
    "        )\n",
    "\n",
    "\n",
    "    def init(self):\n",
    "        super().init()\n",
    "\n",
    "        self.sma = self.I(sma, self.data.Close.s, self.sma_interval)\n",
    "\n",
    "\n",
    "    def next(self):\n",
    "        # super().next()\n",
    "\n",
    "        _open, _high, _low, _close = self.ohlc()\n",
    "\n",
    "        # trade management for an existing trade\n",
    "        for trade in self.trades:\n",
    "            if trade.is_long:\n",
    "                if len(self.data) - self.trades[-1].entry_bar >1:\n",
    "\n",
    "                    if self.data.Close[-1] > self.data.Close[-2]:\n",
    "                        trade.close()\n",
    "\n",
    "        if self.data.df.iloc[-1].name.dayofweek == 0 or self.data.df.iloc[-1].name.dayofweek == 1:\n",
    "            if self.data.Close[-2] > self.data.Close[-1] and self.data.Close[-3] > self.data.Close[-2]:\n",
    "                #if _close > self.sma[-1] : \n",
    "                self.buy()"
   ]
  },
  {
   "cell_type": "code",
   "execution_count": 221,
   "metadata": {},
   "outputs": [
    {
     "data": {
      "text/plain": [
       "Start                     2000-01-03 00:00:00\n",
       "End                       2024-05-24 00:00:00\n",
       "Duration                   8908 days 00:00:00\n",
       "Exposure Time [%]                   23.111038\n",
       "Equity Final [$]                291532.819692\n",
       "Equity Peak [$]                 309794.438997\n",
       "Return [%]                          191.53282\n",
       "Buy & Hold Return [%]              383.324551\n",
       "Return (Ann.) [%]                    4.528511\n",
       "Volatility (Ann.) [%]               15.301742\n",
       "Sharpe Ratio                         0.295947\n",
       "Sortino Ratio                        0.484224\n",
       "Calmar Ratio                         0.207318\n",
       "Max. Drawdown [%]                  -21.843286\n",
       "Avg. Drawdown [%]                    -4.47789\n",
       "Max. Drawdown Duration     2080 days 00:00:00\n",
       "Avg. Drawdown Duration      135 days 00:00:00\n",
       "# Trades                                  370\n",
       "Win Rate [%]                        61.621622\n",
       "Best Trade [%]                        12.4002\n",
       "Worst Trade [%]                    -13.578445\n",
       "Avg. Trade [%]                       0.305583\n",
       "Max. Trade Duration          15 days 00:00:00\n",
       "Avg. Trade Duration           4 days 00:00:00\n",
       "Profit Factor                        1.410178\n",
       "Expectancy [%]                       0.347756\n",
       "SQN                                  1.954946\n",
       "_strategy                 turnaround_day_o...\n",
       "_equity_curve                             ...\n",
       "_trades                        Size  Entry...\n",
       "dtype: object"
      ]
     },
     "execution_count": 221,
     "metadata": {},
     "output_type": "execute_result"
    }
   ],
   "source": [
    "from backtesting import Backtest\n",
    "\n",
    "bt = Backtest(\n",
    "    df[\"2000-01-01\":], turnaround_day_optimized, cash=100_000, commission=0.002, trade_on_close=False\n",
    ")\n",
    "\n",
    "stats = bt.run()\n",
    "bt.plot(superimpose=False, open_browser=True)\n",
    "stats"
   ]
  },
  {
   "cell_type": "code",
   "execution_count": 222,
   "metadata": {},
   "outputs": [
    {
     "data": {
      "text/html": [
       "<div>\n",
       "<style scoped>\n",
       "    .dataframe tbody tr th:only-of-type {\n",
       "        vertical-align: middle;\n",
       "    }\n",
       "\n",
       "    .dataframe tbody tr th {\n",
       "        vertical-align: top;\n",
       "    }\n",
       "\n",
       "    .dataframe thead th {\n",
       "        text-align: right;\n",
       "    }\n",
       "</style>\n",
       "<table border=\"1\" class=\"dataframe\">\n",
       "  <thead>\n",
       "    <tr style=\"text-align: right;\">\n",
       "      <th></th>\n",
       "      <th>Size</th>\n",
       "      <th>EntryBar</th>\n",
       "      <th>ExitBar</th>\n",
       "      <th>EntryPrice</th>\n",
       "      <th>ExitPrice</th>\n",
       "      <th>PnL</th>\n",
       "      <th>ReturnPct</th>\n",
       "      <th>EntryTime</th>\n",
       "      <th>ExitTime</th>\n",
       "      <th>Duration</th>\n",
       "    </tr>\n",
       "  </thead>\n",
       "  <tbody>\n",
       "    <tr>\n",
       "      <th>0</th>\n",
       "      <td>937</td>\n",
       "      <td>50</td>\n",
       "      <td>52</td>\n",
       "      <td>106.713000</td>\n",
       "      <td>108.000000</td>\n",
       "      <td>1205.919000</td>\n",
       "      <td>0.012060</td>\n",
       "      <td>2000-03-15</td>\n",
       "      <td>2000-03-17</td>\n",
       "      <td>2 days</td>\n",
       "    </tr>\n",
       "    <tr>\n",
       "      <th>1</th>\n",
       "      <td>2300</td>\n",
       "      <td>326</td>\n",
       "      <td>329</td>\n",
       "      <td>43.987802</td>\n",
       "      <td>46.200001</td>\n",
       "      <td>5088.058238</td>\n",
       "      <td>0.050291</td>\n",
       "      <td>2001-04-25</td>\n",
       "      <td>2001-05-01</td>\n",
       "      <td>6 days</td>\n",
       "    </tr>\n",
       "    <tr>\n",
       "      <th>2</th>\n",
       "      <td>2335</td>\n",
       "      <td>349</td>\n",
       "      <td>351</td>\n",
       "      <td>45.520860</td>\n",
       "      <td>45.540001</td>\n",
       "      <td>44.693324</td>\n",
       "      <td>0.000420</td>\n",
       "      <td>2001-05-30</td>\n",
       "      <td>2001-06-01</td>\n",
       "      <td>2 days</td>\n",
       "    </tr>\n",
       "    <tr>\n",
       "      <th>3</th>\n",
       "      <td>3117</td>\n",
       "      <td>453</td>\n",
       "      <td>455</td>\n",
       "      <td>34.108081</td>\n",
       "      <td>35.270000</td>\n",
       "      <td>3621.703207</td>\n",
       "      <td>0.034066</td>\n",
       "      <td>2001-10-31</td>\n",
       "      <td>2001-11-02</td>\n",
       "      <td>2 days</td>\n",
       "    </tr>\n",
       "    <tr>\n",
       "      <th>4</th>\n",
       "      <td>2933</td>\n",
       "      <td>542</td>\n",
       "      <td>545</td>\n",
       "      <td>37.484820</td>\n",
       "      <td>37.630001</td>\n",
       "      <td>425.816521</td>\n",
       "      <td>0.003873</td>\n",
       "      <td>2002-03-13</td>\n",
       "      <td>2002-03-18</td>\n",
       "      <td>5 days</td>\n",
       "    </tr>\n",
       "    <tr>\n",
       "      <th>...</th>\n",
       "      <td>...</td>\n",
       "      <td>...</td>\n",
       "      <td>...</td>\n",
       "      <td>...</td>\n",
       "      <td>...</td>\n",
       "      <td>...</td>\n",
       "      <td>...</td>\n",
       "      <td>...</td>\n",
       "      <td>...</td>\n",
       "      <td>...</td>\n",
       "    </tr>\n",
       "    <tr>\n",
       "      <th>108</th>\n",
       "      <td>378</td>\n",
       "      <td>6012</td>\n",
       "      <td>6014</td>\n",
       "      <td>431.270824</td>\n",
       "      <td>433.940002</td>\n",
       "      <td>1008.949576</td>\n",
       "      <td>0.006189</td>\n",
       "      <td>2024-02-07</td>\n",
       "      <td>2024-02-09</td>\n",
       "      <td>2 days</td>\n",
       "    </tr>\n",
       "    <tr>\n",
       "      <th>109</th>\n",
       "      <td>380</td>\n",
       "      <td>6017</td>\n",
       "      <td>6019</td>\n",
       "      <td>432.122530</td>\n",
       "      <td>434.890015</td>\n",
       "      <td>1051.644248</td>\n",
       "      <td>0.006404</td>\n",
       "      <td>2024-02-14</td>\n",
       "      <td>2024-02-16</td>\n",
       "      <td>2 days</td>\n",
       "    </tr>\n",
       "    <tr>\n",
       "      <th>110</th>\n",
       "      <td>388</td>\n",
       "      <td>6021</td>\n",
       "      <td>6023</td>\n",
       "      <td>425.399088</td>\n",
       "      <td>439.649994</td>\n",
       "      <td>5529.351578</td>\n",
       "      <td>0.033500</td>\n",
       "      <td>2024-02-21</td>\n",
       "      <td>2024-02-23</td>\n",
       "      <td>2 days</td>\n",
       "    </tr>\n",
       "    <tr>\n",
       "      <th>111</th>\n",
       "      <td>387</td>\n",
       "      <td>6031</td>\n",
       "      <td>6033</td>\n",
       "      <td>441.200647</td>\n",
       "      <td>445.809998</td>\n",
       "      <td>1783.818535</td>\n",
       "      <td>0.010447</td>\n",
       "      <td>2024-03-06</td>\n",
       "      <td>2024-03-08</td>\n",
       "      <td>2 days</td>\n",
       "    </tr>\n",
       "    <tr>\n",
       "      <th>112</th>\n",
       "      <td>386</td>\n",
       "      <td>6046</td>\n",
       "      <td>6049</td>\n",
       "      <td>447.332882</td>\n",
       "      <td>440.079987</td>\n",
       "      <td>-2799.617807</td>\n",
       "      <td>-0.016214</td>\n",
       "      <td>2024-03-27</td>\n",
       "      <td>2024-04-02</td>\n",
       "      <td>6 days</td>\n",
       "    </tr>\n",
       "  </tbody>\n",
       "</table>\n",
       "<p>113 rows × 10 columns</p>\n",
       "</div>"
      ],
      "text/plain": [
       "     Size  EntryBar  ExitBar  EntryPrice   ExitPrice          PnL  ReturnPct  \\\n",
       "0     937        50       52  106.713000  108.000000  1205.919000   0.012060   \n",
       "1    2300       326      329   43.987802   46.200001  5088.058238   0.050291   \n",
       "2    2335       349      351   45.520860   45.540001    44.693324   0.000420   \n",
       "3    3117       453      455   34.108081   35.270000  3621.703207   0.034066   \n",
       "4    2933       542      545   37.484820   37.630001   425.816521   0.003873   \n",
       "..    ...       ...      ...         ...         ...          ...        ...   \n",
       "108   378      6012     6014  431.270824  433.940002  1008.949576   0.006189   \n",
       "109   380      6017     6019  432.122530  434.890015  1051.644248   0.006404   \n",
       "110   388      6021     6023  425.399088  439.649994  5529.351578   0.033500   \n",
       "111   387      6031     6033  441.200647  445.809998  1783.818535   0.010447   \n",
       "112   386      6046     6049  447.332882  440.079987 -2799.617807  -0.016214   \n",
       "\n",
       "     EntryTime   ExitTime Duration  \n",
       "0   2000-03-15 2000-03-17   2 days  \n",
       "1   2001-04-25 2001-05-01   6 days  \n",
       "2   2001-05-30 2001-06-01   2 days  \n",
       "3   2001-10-31 2001-11-02   2 days  \n",
       "4   2002-03-13 2002-03-18   5 days  \n",
       "..         ...        ...      ...  \n",
       "108 2024-02-07 2024-02-09   2 days  \n",
       "109 2024-02-14 2024-02-16   2 days  \n",
       "110 2024-02-21 2024-02-23   2 days  \n",
       "111 2024-03-06 2024-03-08   2 days  \n",
       "112 2024-03-27 2024-04-02   6 days  \n",
       "\n",
       "[113 rows x 10 columns]"
      ]
     },
     "execution_count": 222,
     "metadata": {},
     "output_type": "execute_result"
    }
   ],
   "source": [
    "trades"
   ]
  }
 ],
 "metadata": {
  "kernelspec": {
   "display_name": "Python 3",
   "language": "python",
   "name": "python3"
  },
  "language_info": {
   "codemirror_mode": {
    "name": "ipython",
    "version": 3
   },
   "file_extension": ".py",
   "mimetype": "text/x-python",
   "name": "python",
   "nbconvert_exporter": "python",
   "pygments_lexer": "ipython3",
   "version": "3.12.0"
  }
 },
 "nbformat": 4,
 "nbformat_minor": 2
}
